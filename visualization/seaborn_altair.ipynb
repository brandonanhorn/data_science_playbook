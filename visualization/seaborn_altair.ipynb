{
 "cells": [
  {
   "cell_type": "code",
   "execution_count": 1,
   "metadata": {},
   "outputs": [],
   "source": [
    "#!conda install -c conda-forge altair vega_datasets"
   ]
  },
  {
   "cell_type": "code",
   "execution_count": 2,
   "metadata": {},
   "outputs": [],
   "source": [
    "#!conda update -n base conda"
   ]
  },
  {
   "cell_type": "code",
   "execution_count": 8,
   "metadata": {},
   "outputs": [],
   "source": [
    "import numpy as np\n",
    "import pandas as pd"
   ]
  },
  {
   "cell_type": "markdown",
   "metadata": {},
   "source": [
    "# Seaborn"
   ]
  },
  {
   "cell_type": "code",
   "execution_count": 4,
   "metadata": {},
   "outputs": [],
   "source": [
    "import seaborn as sns\n",
    "\n",
    "\n",
    "df = np.random.randn(10, 12)"
   ]
  },
  {
   "cell_type": "code",
   "execution_count": 5,
   "metadata": {},
   "outputs": [
    {
     "data": {
      "image/png": "[encoded data removed]",
      "text/plain": [
       "<matplotlib.figure.Figure at 0x7fd0f93dbf60>"
      ]
     },
     "metadata": {},
     "output_type": "display_data"
    }
   ],
   "source": [
    "sns.heatmap(df);"
   ]
  },
  {
   "cell_type": "markdown",
   "metadata": {},
   "source": [
    "# Altair"
   ]
  },
  {
   "cell_type": "code",
   "execution_count": 9,
   "metadata": {},
   "outputs": [],
   "source": [
    "import altair as alt"
   ]
  },
  {
   "cell_type": "code",
   "execution_count": 10,
   "metadata": {},
   "outputs": [],
   "source": [
    "df_xmas = pd.DataFrame([\n",
    "    ['1' , 'Pear Tree', 2_522, 'Other'],\n",
    "    ['2' , 'Turtle Doves', 3_300, 'Animal'],\n",
    "    ['3' , 'French Hens', 1_1815, 'Animal'],\n",
    "    ['4' , 'Calling Birds', 5_400, 'Animal'],\n",
    "    ['5' , 'Rings', 6_600, 'Other'],\n",
    "    ['6' , 'Geese', 2_940, 'Animal'],\n",
    "    ['7' , 'Swans', 78_750, 'Animal'],\n",
    "    ['8' , 'Milking Maids', 290, 'Human'],\n",
    "    ['9' , 'Dancing Ladies', 30_211, 'Human'],\n",
    "    ['10' , 'Lords', 30_000, 'Human'],\n",
    "    ['11' , 'Pipers', 5_498, 'Human'],\n",
    "    ['12' , 'Drummers', 2_972, 'Human'],\n",
    "],\n",
    "columns=['Day',\"Gifts\", 'price', 'category'])"
   ]
  },
  {
   "cell_type": "code",
   "execution_count": 14,
   "metadata": {},
   "outputs": [],
   "source": [
    "## Altair having issues"
   ]
  },
  {
   "cell_type": "code",
   "execution_count": 13,
   "metadata": {},
   "outputs": [
    {
     "data": {
      "text/html": [
       "\n",
       "<div id=\"altair-viz-5c44df0fc8aa49fc8db6040bfefcaf94\"></div>\n",
       "<script type=\"text/javascript\">\n",
       "  (function(spec, embedOpt){\n",
       "    let outputDiv = document.currentScript.previousElementSibling;\n",
       "    if (outputDiv.id !== \"altair-viz-5c44df0fc8aa49fc8db6040bfefcaf94\") {\n",
       "      outputDiv = document.getElementById(\"altair-viz-5c44df0fc8aa49fc8db6040bfefcaf94\");\n",
       "    }\n",
       "    const paths = {\n",
       "      \"vega\": \"https://cdn.jsdelivr.net/npm//vega@5?noext\",\n",
       "      \"vega-lib\": \"https://cdn.jsdelivr.net/npm//vega-lib?noext\",\n",
       "      \"vega-lite\": \"https://cdn.jsdelivr.net/npm//vega-lite@4.8.1?noext\",\n",
       "      \"vega-embed\": \"https://cdn.jsdelivr.net/npm//vega-embed@6?noext\",\n",
       "    };\n",
       "\n",
       "    function loadScript(lib) {\n",
       "      return new Promise(function(resolve, reject) {\n",
       "        var s = document.createElement('script');\n",
       "        s.src = paths[lib];\n",
       "        s.async = true;\n",
       "        s.onload = () => resolve(paths[lib]);\n",
       "        s.onerror = () => reject(`Error loading script: ${paths[lib]}`);\n",
       "        document.getElementsByTagName(\"head\")[0].appendChild(s);\n",
       "      });\n",
       "    }\n",
       "\n",
       "    function showError(err) {\n",
       "      outputDiv.innerHTML = `<div class=\"error\" style=\"color:red;\">${err}</div>`;\n",
       "      throw err;\n",
       "    }\n",
       "\n",
       "    function displayChart(vegaEmbed) {\n",
       "      vegaEmbed(outputDiv, spec, embedOpt)\n",
       "        .catch(err => showError(`Javascript Error: ${err.message}<br>This usually means there's a typo in your chart specification. See the javascript console for the full traceback.`));\n",
       "    }\n",
       "\n",
       "    if(typeof define === \"function\" && define.amd) {\n",
       "      requirejs.config({paths});\n",
       "      require([\"vega-embed\"], displayChart, err => showError(`Error loading script: ${err.message}`));\n",
       "    } else if (typeof vegaEmbed === \"function\") {\n",
       "      displayChart(vegaEmbed);\n",
       "    } else {\n",
       "      loadScript(\"vega\")\n",
       "        .then(() => loadScript(\"vega-lite\"))\n",
       "        .then(() => loadScript(\"vega-embed\"))\n",
       "        .catch(showError)\n",
       "        .then(() => displayChart(vegaEmbed));\n",
       "    }\n",
       "  })({\"config\": {\"view\": {\"continuousWidth\": 400, \"continuousHeight\": 300}}, \"data\": {\"name\": \"data-876a527ac9fbc44c5ec51da67bc00ec0\"}, \"mark\": \"bar\", \"encoding\": {\"color\": {\"type\": \"nominal\", \"field\": \"category\"}, \"x\": {\"type\": \"nominal\", \"axis\": {\"title\": \"\"}, \"field\": \"Gifts\"}, \"y\": {\"type\": \"quantitative\", \"axis\": {\"format\": \"$.2f\", \"title\": \"\"}, \"field\": \"price\"}}, \"height\": 100, \"title\": \"12 Days of \\ud83c\\udf85\\ud83c\\udffb\", \"width\": 300, \"$schema\": \"https://vega.github.io/schema/vega-lite/v4.8.1.json\", \"datasets\": {\"data-876a527ac9fbc44c5ec51da67bc00ec0\": [{\"Day\": \"1\", \"Gifts\": \"Pear Tree\", \"price\": 2522, \"category\": \"Other\"}, {\"Day\": \"2\", \"Gifts\": \"Turtle Doves\", \"price\": 3300, \"category\": \"Animal\"}, {\"Day\": \"3\", \"Gifts\": \"French Hens\", \"price\": 11815, \"category\": \"Animal\"}, {\"Day\": \"4\", \"Gifts\": \"Calling Birds\", \"price\": 5400, \"category\": \"Animal\"}, {\"Day\": \"5\", \"Gifts\": \"Rings\", \"price\": 6600, \"category\": \"Other\"}, {\"Day\": \"6\", \"Gifts\": \"Geese\", \"price\": 2940, \"category\": \"Animal\"}, {\"Day\": \"7\", \"Gifts\": \"Swans\", \"price\": 78750, \"category\": \"Animal\"}, {\"Day\": \"8\", \"Gifts\": \"Milking Maids\", \"price\": 290, \"category\": \"Human\"}, {\"Day\": \"9\", \"Gifts\": \"Dancing Ladies\", \"price\": 30211, \"category\": \"Human\"}, {\"Day\": \"10\", \"Gifts\": \"Lords\", \"price\": 30000, \"category\": \"Human\"}, {\"Day\": \"11\", \"Gifts\": \"Pipers\", \"price\": 5498, \"category\": \"Human\"}, {\"Day\": \"12\", \"Gifts\": \"Drummers\", \"price\": 2972, \"category\": \"Human\"}]}}, {\"mode\": \"vega-lite\"});\n",
       "</script>"
      ],
      "text/plain": [
       "alt.Chart(...)"
      ]
     },
     "execution_count": 13,
     "metadata": {},
     "output_type": "execute_result"
    }
   ],
   "source": [
    "(\n",
    "    alt.Chart(df_xmas)\n",
    "    .mark_bar()\n",
    "    .encode(\n",
    "        x=alt.X('Gifts', axis=alt.Axis(title='')),\n",
    "        y=alt.Y('price', axis=alt.Axis(format='$.2f', title='')),\n",
    "        color='category'\n",
    "    )\n",
    "    .properties(height=100, width=300, title='12 Days of 🎅🏻')\n",
    ")"
   ]
  },
  {
   "cell_type": "code",
   "execution_count": null,
   "metadata": {},
   "outputs": [],
   "source": []
  }
 ],
 "metadata": {
  "kernelspec": {
   "display_name": "Python 3",
   "language": "python",
   "name": "python3"
  },
  "language_info": {
   "codemirror_mode": {
    "name": "ipython",
    "version": 3
   },
   "file_extension": ".py",
   "mimetype": "text/x-python",
   "name": "python",
   "nbconvert_exporter": "python",
   "pygments_lexer": "ipython3",
   "version": "3.6.4"
  }
 },
 "nbformat": 4,
 "nbformat_minor": 2
}
