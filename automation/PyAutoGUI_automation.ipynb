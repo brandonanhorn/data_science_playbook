{
 "cells": [
  {
   "cell_type": "markdown",
   "metadata": {},
   "source": [
    "# PyAutoGUI"
   ]
  },
  {
   "cell_type": "markdown",
   "metadata": {},
   "source": [
    "# Controlling the Keyboard and Mouse with GUI Automation\n",
    "\n",
    "Knowing various Python modules for editing spreadsheets, downloading files, and launching programs is useful, but sometimes there just aren’t any  modules for the applications you need to work with. The ultimate tools  for automating tasks on your computer are programs you write that  directly control the keyboard and mouse. These programs can control  other applications by sending them virtual keystrokes and mouse clicks,  justpython3- as if you were sitting at your computer and interacting  with the applications yourself. This technique is known as *graphical user interface automation*, or *GUI automation* for short. With GUI automation, your programs can do anything that a  human user sitting at the computer can do, except spill coffee on the  keyboard.\n",
    "\n",
    "Think of GUI automation as programming a robotic  arm. You can program the robotic arm to type at your keyboard and move  your mouse for you. This technique is particularly useful for tasks that involve a lot of mindless clicking or filling out of forms.\n",
    "\n",
    "The `pyautogui` module has functions for simulating mouse movements, button clicks, and scrolling the mouse wheel. This chapter covers only a subset of  PyAutoGUI’s features; you can find the full documentation at *http://pyautogui.readthedocs.org/*."
   ]
  },
  {
   "cell_type": "markdown",
   "metadata": {},
   "source": [
    "# Installing the pyautogui Module\n",
    "\n",
    "The `pyautogui` module  can send virtual keypresses and mouse clicks to Windows, OS X, and  Linux. Depending on which operating system you’re using, you may have to install some other modules (called *dependencies*) before you can install PyAutoGUI.\n",
    "\n",
    "**`pip install pyautogui`**"
   ]
  },
  {
   "cell_type": "markdown",
   "metadata": {},
   "source": [
    "# Staying on Track\n",
    "\n",
    "Before you jump in to a GUI automation, you should  know how to escape problems that may arise. Python can move your mouse  and type keystrokes at an incredible speed. In fact, it might be too  fast for other programs to keep up with. Also, if something goes wrong  but your program keeps moving the mouse around, it will be hard to tell  what exactly the program is doing or how to recover from the problem.  Like the enchanted brooms from Disney’s *The Sorcerer’s Apprentice*, which kept filling—and then overfilling—Mickey’s tub with water, your  program could get out of control even though it’s following your  instructions perfectly. Stopping the program can be difficult if the  mouse is moving around on its own, preventing you from clicking the IDLE window to close it. Fortunately, there are several ways to prevent or  recover from GUI automation problems.\n",
    "\n",
    "## Shutting Down Everything by Logging Out\n",
    "\n",
    "Perhaps the simplest way to stop an out-of-control  GUI automation program is to log out, which will shut down all running  programs. On Windows and Linux, the logout hotkey is CTRL-ALT-DEL. On OS X, it is CMD-SHIFT-OPTION-Q. By logging out, you’ll lose any unsaved work, but at least you won’t have to wait for a full reboot of the computer."
   ]
  },
  {
   "cell_type": "markdown",
   "metadata": {},
   "source": [
    "## Pauses and Fail-Safes\n",
    "\n",
    "You can tell your script to wait after every function call, giving you a  short window to take control of the mouse and keyboard if something goes wrong. To do this, set the `pyautogui.PAUSE` variable to the number of seconds you want it to pause. For example, after setting `pyautogui.PAUSE = 1.5`, every PyAutoGUI function call will wait one and a half seconds after  performing its action. Non-PyAutoGUI instructions will not have this  pause.\n",
    "\n",
    "PyAutoGUI also has a fail-safe feature. Moving the  mouse cursor to the upper-left corner of the screen will cause PyAutoGUI to raise the `pyautogui.FailSafeException` exception. Your program can either handle this exception with `try` and `except` statements or let the exception crash your program. Either way, the  fail-safe feature will stop the program if you quickly move the mouse as far up and left as you can. You can disable this feature by setting `pyautogui.FAILSAFE = False`. Enter the following into the interactive shell:"
   ]
  },
  {
   "cell_type": "code",
   "execution_count": 2,
   "metadata": {},
   "outputs": [],
   "source": [
    "import pyautogui\n",
    "pyautogui.PAUSE = 1\n",
    "pyautogui.FAILSAFE = True"
   ]
  },
  {
   "cell_type": "markdown",
   "metadata": {},
   "source": [
    "Here we import `pyautogui` and set `pyautogui.PAUSE` to `1` for a one-second pause after each function call. We set `pyautogui.FAILSAFE` to `True` to enable the fail-safe feature."
   ]
  },
  {
   "cell_type": "markdown",
   "metadata": {},
   "source": [
    "# Controlling Mouse Movement\n",
    "\n",
    "In this section, you’ll learn how to move the mouse  and track its position on the screen using PyAutoGUI, but first you need to understand how PyAutoGUI works with coordinates.\n",
    "\n",
    "The mouse functions of PyAutoGUI use x- and y-coordinates. [Figure 18-1](https://automatetheboringstuff.com/chapter18/#calibre_link-32) shows the coordinate system for the computer screen; it’s similar to the coordinate system used for images, discussed in [Chapter 17](https://automatetheboringstuff.com/chapter17). The *origin*, where *x* and *y* are both zero, is at the upper-left corner of the screen. The  x-coordinates increase going to the right, and the y-coordinates  increase going down. All coordinates are positive integers; there are no negative coordinates.\n",
    "\n",
    "![The coordinates of a computer screen with 1920×1080 resolution](https://automatetheboringstuff.com/images/000011.jpg)\n",
    "\n",
    "Figure 18-1. The coordinates of a computer screen with 1920×1080 resolution\n",
    "\n",
    "Your *resolution* is how many pixels wide and tall your screen is. If your screen’s  resolution is set to 1920×1080, then the coordinate for the upper-left  corner will be (0, 0), and the coordinate for the bottom-right corner  will be (1919, 1079).\n",
    "\n",
    "The `pyautogui.size()`  function returns a two-integer tuple of the screen’s width and height in pixels. Enter the following into the interactive shell:\n",
    "\n",
    " "
   ]
  },
  {
   "cell_type": "code",
   "execution_count": 3,
   "metadata": {},
   "outputs": [
    {
     "data": {
      "text/plain": [
       "Size(width=1440, height=900)"
      ]
     },
     "execution_count": 3,
     "metadata": {},
     "output_type": "execute_result"
    }
   ],
   "source": [
    "pyautogui.size()"
   ]
  },
  {
   "cell_type": "code",
   "execution_count": 4,
   "metadata": {},
   "outputs": [],
   "source": [
    "width, height = pyautogui.size()"
   ]
  },
  {
   "cell_type": "markdown",
   "metadata": {},
   "source": [
    "`pyautogui.size()` returns `(1920, 1080)` on a computer with a 1920×1080 resolution; depending on your screen’s  resolution, your return value may be different. You can store the width  and height from `pyautogui.size()` in variables like `width` and `height` for better readability in your programs."
   ]
  },
  {
   "cell_type": "markdown",
   "metadata": {},
   "source": [
    "## Moving the Mouse\n",
    "\n",
    "Now that you understand screen coordinates, let’s move the mouse. The `pyautogui.moveTo()` function will instantly move the mouse cursor to a specified position  on the screen. Integer values for the x- and y-coordinates make up the  function’s first and second arguments, respectively. An optional `duration` integer or float keyword argument specifies the number of seconds it  should take to move the mouse to the destination. If you leave it out,  the default is `0` for instantaneous movement. (All of the `duration` keyword arguments in PyAutoGUI functions are optional.) Enter the following into the interactive shell:"
   ]
  },
  {
   "cell_type": "code",
   "execution_count": null,
   "metadata": {},
   "outputs": [],
   "source": [
    "for i in range(10):\n",
    "    pyautogui.moveTo(100, 100, duration=0.25)\n",
    "    pyautogui.moveTo(200, 100, duration=0.25)\n",
    "    pyautogui.moveTo(200, 200, duration=0.25)\n",
    "    pyautogui.moveTo(100, 200, duration=0.25)"
   ]
  },
  {
   "cell_type": "markdown",
   "metadata": {},
   "source": [
    "This example moves the mouse cursor clockwise in a  square pattern among the four coordinates provided a total of ten times. Each movement takes a quarter of a second, as specified by the `duration=0.25` keyword argument. If you hadn’t passed a third argument to any of the `pyautogui.moveTo()` calls, the mouse cursor would have instantly teleported from point to point.\n",
    "\n",
    "The `pyautogui.moveRel()` function moves the mouse cursor *relative* to its current position. The following example moves the mouse in the  same square pattern, except it begins the square from wherever the mouse happens to be on the screen when the code starts running:\n",
    "\n"
   ]
  },
  {
   "cell_type": "code",
   "execution_count": null,
   "metadata": {},
   "outputs": [],
   "source": [
    "for i in range(10):\n",
    "    pyautogui.moveRel(100, 0, duration=0.25)\n",
    "    pyautogui.moveRel(0, 100, duration=0.25)\n",
    "    pyautogui.moveRel(-100, 0, duration=0.25)\n",
    "    pyautogui.moveRel(0, -100, duration=0.25)"
   ]
  },
  {
   "cell_type": "markdown",
   "metadata": {},
   "source": [
    "`pyautogui.moveRel()` also takes three arguments: how many pixels to move horizontally to the right, how many pixels to move vertically downward, and (optionally)  how long it should take to complete the movement. A negative integer for the first or second argument will cause the mouse to move left or  upward, respectively."
   ]
  },
  {
   "cell_type": "markdown",
   "metadata": {},
   "source": [
    "## Getting the Mouse Position\n",
    "\n",
    "You can determine the mouse’s current position by calling the `pyautogui.position()` function, which will return a tuple of the mouse cursor’s *x* and *y* positions at the time of the function call. Enter the following into  the interactive shell, moving the mouse around after each call:"
   ]
  },
  {
   "cell_type": "code",
   "execution_count": 8,
   "metadata": {},
   "outputs": [
    {
     "data": {
      "text/plain": [
       "Point(x=222, y=382)"
      ]
     },
     "execution_count": 8,
     "metadata": {},
     "output_type": "execute_result"
    }
   ],
   "source": [
    "pyautogui.position()"
   ]
  },
  {
   "cell_type": "markdown",
   "metadata": {},
   "source": [
    "# Controlling Mouse Interaction\n",
    "\n",
    "Now that you know how to move the mouse and figure  out where it is on the screen, you’re ready to start clicking, dragging, and scrolling.\n",
    "\n",
    "## Clicking the Mouse\n",
    "\n",
    "To send a virtual mouse click to your computer, call the `pyautogui.click()` method. By default, this click uses the left mouse button and takes  place wherever the mouse cursor is currently located. You can pass x-  and y-coordinates of the click as optional first and second arguments if you want it to take place somewhere other than the mouse’s current  position.\n",
    "\n",
    "If you want to specify which mouse button to use, include the `button` keyword argument, with a value of `'left'`, `'middle'`, or `'right'`. For example, `pyautogui.click(100, 150, button='left')` will click the left mouse button at the coordinates (100, 150), while `pyautogui.click(200, 250, button='right')` will perform a right-click at (200, 250).\n",
    "\n",
    "Enter the following into the interactive shell:"
   ]
  },
  {
   "cell_type": "code",
   "execution_count": 10,
   "metadata": {},
   "outputs": [],
   "source": [
    "pyautogui.click(10, 5)"
   ]
  },
  {
   "cell_type": "markdown",
   "metadata": {},
   "source": [
    "You should see the mouse pointer move to near the  top-left corner of your screen and click once. A full “click” is defined as pushing a mouse button down and then releasing it back up without  moving the cursor. You can also perform a click by calling `pyautogui.mouseDown()`, which only pushes the mouse button down, and `pyautogui.mouseUp()`, which only releases the button. These functions have the same arguments as `click()`, and in fact, the `click()` function is just a convenient wrapper around these two function calls.\n",
    "\n",
    "As a further convenience, the `pyautogui.doubleClick()` function will perform two clicks with the left mouse button, while the `pyautogui.rightClick()` and `pyautogui.middleClick()` functions will perform a click with the right and middle mouse buttons, respectively."
   ]
  },
  {
   "cell_type": "markdown",
   "metadata": {},
   "source": [
    "## Scrolling the Mouse\n",
    "\n",
    "The final PyAutoGUI mouse function is `scroll()`, which you pass an integer argument for how many units you want to  scroll the mouse up or down. The size of a unit varies for each  operating system and application, so you’ll have to experiment to see  exactly how far it scrolls in your particular situation. The scrolling  takes place at the mouse cursor’s current position. Passing a positive  integer scrolls up, and passing a negative integer scrolls down. Run the following in IDLE’s interactive shell while the mouse cursor is over  the IDLE window:"
   ]
  },
  {
   "cell_type": "code",
   "execution_count": 13,
   "metadata": {},
   "outputs": [],
   "source": [
    "pyautogui.scroll(200)"
   ]
  },
  {
   "cell_type": "markdown",
   "metadata": {},
   "source": [
    "# Working with the Screen\n",
    "\n",
    "Your GUI automation programs don’t have to click and type blindly. PyAutoGUI has screenshot features that can create an  image file based on the current contents of the screen. These functions  can also return a Pillow `Image` object of the current screen’s appearance.\n",
    "\n",
    "On Linux computers, the `scrot` program needs to be installed to use the screenshot functions in PyAutoGUI. In a Terminal window, run **`sudo apt-get install scrot`** to install this program. If you’re on Windows or OS X, skip this step and continue with the section.\n",
    "\n",
    "## Getting a Screenshot\n",
    "\n",
    "To take screenshots in Python, call the `pyautogui.screenshot()` function. Enter the following into the interactive shell:\n"
   ]
  },
  {
   "cell_type": "code",
   "execution_count": 14,
   "metadata": {},
   "outputs": [],
   "source": [
    "im = pyautogui.screenshot()"
   ]
  },
  {
   "cell_type": "markdown",
   "metadata": {},
   "source": [
    "# Controlling the Keyboard\n",
    "\n",
    "PyAutoGUI also has functions for sending virtual  keypresses to your computer, which enables you to fill out forms or  enter text into applications.\n",
    "\n",
    "## Sending a String from the Keyboard\n",
    "\n",
    "The `pyautogui.typewrite()` function sends virtual keypresses to the computer. What these  keypresses do depends on what window and text field have focus. You may  want to first send a mouse click to the text field you want in order to  ensure that it has focus.\n",
    "\n",
    "As a simple example, let’s use Python to automatically type the words *Hello world!* into a file editor window. First, open a new file editor window and  position it in the upper-left corner of your screen so that PyAutoGUI  will click in the right place to bring it into focus. Next, enter the  following into the interactive shell:"
   ]
  },
  {
   "cell_type": "code",
   "execution_count": 15,
   "metadata": {},
   "outputs": [],
   "source": [
    "pyautogui.click(100, 100); \n",
    "pyautogui.typewrite('Hello world!')"
   ]
  },
  {
   "cell_type": "markdown",
   "metadata": {},
   "source": [
    "## Pressing and Releasing the Keyboard\n",
    "\n",
    "Much like the `mouseDown()` and `mouseUp()` functions, `pyautogui.keyDown()` and `pyautogui.keyUp()` will send virtual keypresses and releases to the computer. They are passed a keyboard key string (see [Table 18-1](https://automatetheboringstuff.com/chapter18/#calibre_link-36)) for their argument. For convenience, PyAutoGUI provides the `pyautogui.press()` function, which calls both of these functions to simulate a complete keypress.\n",
    "\n",
    "Run the following code, which will type a dollar sign character (obtained by holding the SHIFT key and pressing 4):\n"
   ]
  },
  {
   "cell_type": "code",
   "execution_count": null,
   "metadata": {},
   "outputs": [],
   "source": [
    "pyautogui.keyDown('shift'); pyautogui.press('4'); pyautogui.keyUp('shift')"
   ]
  },
  {
   "cell_type": "markdown",
   "metadata": {},
   "source": [
    "This line presses down SHIFT, presses (and releases) 4, and then releases SHIFT. If you need to type a string into a text field, the `typewrite()` function is more suitable. But for applications that take single-key commands, the `press()` function is the simpler approach."
   ]
  }
 ],
 "metadata": {
  "kernelspec": {
   "display_name": "Python 3",
   "language": "python",
   "name": "python3"
  },
  "language_info": {
   "codemirror_mode": {
    "name": "ipython",
    "version": 3
   },
   "file_extension": ".py",
   "mimetype": "text/x-python",
   "name": "python",
   "nbconvert_exporter": "python",
   "pygments_lexer": "ipython3",
   "version": "3.7.4"
  }
 },
 "nbformat": 4,
 "nbformat_minor": 2
}
