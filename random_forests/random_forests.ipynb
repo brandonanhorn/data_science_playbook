{
 "cells": [
  {
   "cell_type": "markdown",
   "metadata": {},
   "source": [
    "# Random Forests and ExtraTrees"
   ]
  },
  {
   "cell_type": "markdown",
   "metadata": {},
   "source": [
    "## Random Forests\n",
    "\n",
    "With bagged decision trees, we generate many different trees on pretty similar data. These trees are **strongly correlated** with one another. Because these trees are correlated with one another, they will have high variance. Looking at the variance of the average of two random variables $T_1$ and $T_2$:\n",
    "\n",
    "$$\n",
    "\\begin{eqnarray*}\n",
    "Var\\left(\\frac{T_1+T_2}{2}\\right) &=& \\frac{1}{4}\\left[Var(T_1) + Var(T_2) + 2Cov(T_1,T_2)\\right]\n",
    "\\end{eqnarray*}\n",
    "$$\n",
    "\n",
    "If $T_1$ and $T_2$ are highly correlated, then the variance will about as high as we'd see with individual decision trees. By \"de-correlating\" our trees from one another, we can drastically reduce the variance of our model.\n",
    "\n",
    "That's the difference between bagged decision trees and random forests! We're going to do the same thing as before, but we're going to de-correlate our trees. This will reduce our variance (at the expense of a small increase in bias) and thus should greatly improve the overall performance of the final model.\n",
    "\n",
    "### So how do we \"de-correlate\" our trees?\n",
    "Random forests differ from bagging decision trees in only one way: they use a modified tree learning algorithm that selects, at each split in the learning process, a **random subset of the features**. This process is sometimes called the *random subspace method*.\n",
    "\n",
    "The reason for doing this is the correlation of the trees in an ordinary bootstrap sample: if one or a few features are very strong predictors for the response variable (target output), these features will be used in many/all of the bagged decision trees, causing them to become correlated. By selecting a random subset of features at each split, we counter this correlation between base trees, strengthening the overall model.\n",
    "\n",
    "For a problem with $p$ features, it is typical to use:\n",
    "\n",
    "- $\\sqrt{p}$ (rounded down) features in each split for a classification problem.\n",
    "- $p/3$ (rounded down) with a minimum node size of 5 as the default for a regression problem.\n",
    "\n",
    "While this is a guideline, Hastie and Tibshirani (authors of Introduction to Statistical Learning and Elements of Statistical Learning) have suggested this as a good rule in the absence of some rationale to do something different.\n",
    "\n",
    "Random forests, a step beyond bagged decision trees, are **very widely used** classifiers and regressors. They are relatively simple to use because they require very few parameters to set and they perform pretty well.\n",
    "- It is quite common for interviewers to ask how a random forest is constructed or how it is superior to a single decision tree.\n",
    "\n",
    "--- \n",
    "\n",
    "## Extremely Randomized Trees (ExtraTrees)\n",
    "Adding one more step of randomization (and thus de-correlation) yields extremely randomized trees, or _ExtraTrees_. These are trained using bagging (sampling of observations) and the random subspace method (sampling of features), but an additional layer of randomness is introduced. Instead of computing the locally optimal feature/split combination (based on, e.g., information gain or the Gini impurity) for each feature under consideration, a random value is selected for the split. This value is selected from the feature's empirical range.\n",
    "\n",
    "This further reduces the variance, but causes an increase in bias. If you're considering using ExtraTrees, you might consider this to be a hyperparameter you can tune. Build an ExtraTrees model and a Random Forest model, then compare their performance!\n",
    "\n",
    "That's exactly what we'll do below."
   ]
  },
  {
   "cell_type": "markdown",
   "metadata": {},
   "source": [
    "## Import libraries\n",
    "- `pandas`\n",
    "- `numpy`\n",
    "- `GridSearchCV`, `train_test_split` and `cross_val_score` from `sklearn`'s `model_selection` module \n",
    "- `RandomForestClassifier` and `ExtraTreesClassifier` from `sklearn`'s `ensemble` module "
   ]
  },
  {
   "cell_type": "code",
   "execution_count": 1,
   "metadata": {},
   "outputs": [],
   "source": [
    "import pandas as pd\n",
    "import numpy as np\n",
    "from sklearn.model_selection import GridSearchCV, train_test_split, cross_val_score\n",
    "from sklearn.ensemble import RandomForestClassifier, ExtraTreesClassifier"
   ]
  },
  {
   "cell_type": "markdown",
   "metadata": {},
   "source": [
    "## Load Data\n",
    "\n",
    "Load `train.csv` and `test.csv` from Kaggle into `DataFrames`."
   ]
  },
  {
   "cell_type": "code",
   "execution_count": 2,
   "metadata": {},
   "outputs": [],
   "source": [
    "train = pd.read_csv('data/train.csv')\n",
    "test = pd.read_csv('data/test.csv')"
   ]
  },
  {
   "cell_type": "code",
   "execution_count": 3,
   "metadata": {},
   "outputs": [],
   "source": [
    "train = pd.read_csv('data/train.csv')\n",
    "train = train[['Survived', 'Pclass', 'Sex', 'Age', 'Fare', 'Embarked', 'Name']]\n",
    "train.columns = [c.lower() for c in train.columns]"
   ]
  },
  {
   "cell_type": "code",
   "execution_count": 4,
   "metadata": {},
   "outputs": [
    {
     "data": {
      "text/html": [
       "<div>\n",
       "<style scoped>\n",
       "    .dataframe tbody tr th:only-of-type {\n",
       "        vertical-align: middle;\n",
       "    }\n",
       "\n",
       "    .dataframe tbody tr th {\n",
       "        vertical-align: top;\n",
       "    }\n",
       "\n",
       "    .dataframe thead th {\n",
       "        text-align: right;\n",
       "    }\n",
       "</style>\n",
       "<table border=\"1\" class=\"dataframe\">\n",
       "  <thead>\n",
       "    <tr style=\"text-align: right;\">\n",
       "      <th></th>\n",
       "      <th>survived</th>\n",
       "      <th>pclass</th>\n",
       "      <th>sex</th>\n",
       "      <th>age</th>\n",
       "      <th>fare</th>\n",
       "      <th>embarked</th>\n",
       "      <th>name</th>\n",
       "    </tr>\n",
       "  </thead>\n",
       "  <tbody>\n",
       "    <tr>\n",
       "      <th>0</th>\n",
       "      <td>0</td>\n",
       "      <td>3</td>\n",
       "      <td>male</td>\n",
       "      <td>22.0</td>\n",
       "      <td>7.2500</td>\n",
       "      <td>S</td>\n",
       "      <td>Braund, Mr. Owen Harris</td>\n",
       "    </tr>\n",
       "    <tr>\n",
       "      <th>1</th>\n",
       "      <td>1</td>\n",
       "      <td>1</td>\n",
       "      <td>female</td>\n",
       "      <td>38.0</td>\n",
       "      <td>71.2833</td>\n",
       "      <td>C</td>\n",
       "      <td>Cumings, Mrs. John Bradley (Florence Briggs Th...</td>\n",
       "    </tr>\n",
       "    <tr>\n",
       "      <th>2</th>\n",
       "      <td>1</td>\n",
       "      <td>3</td>\n",
       "      <td>female</td>\n",
       "      <td>26.0</td>\n",
       "      <td>7.9250</td>\n",
       "      <td>S</td>\n",
       "      <td>Heikkinen, Miss. Laina</td>\n",
       "    </tr>\n",
       "    <tr>\n",
       "      <th>3</th>\n",
       "      <td>1</td>\n",
       "      <td>1</td>\n",
       "      <td>female</td>\n",
       "      <td>35.0</td>\n",
       "      <td>53.1000</td>\n",
       "      <td>S</td>\n",
       "      <td>Futrelle, Mrs. Jacques Heath (Lily May Peel)</td>\n",
       "    </tr>\n",
       "    <tr>\n",
       "      <th>4</th>\n",
       "      <td>0</td>\n",
       "      <td>3</td>\n",
       "      <td>male</td>\n",
       "      <td>35.0</td>\n",
       "      <td>8.0500</td>\n",
       "      <td>S</td>\n",
       "      <td>Allen, Mr. William Henry</td>\n",
       "    </tr>\n",
       "  </tbody>\n",
       "</table>\n",
       "</div>"
      ],
      "text/plain": [
       "   survived  pclass     sex   age     fare embarked  \\\n",
       "0         0       3    male  22.0   7.2500        S   \n",
       "1         1       1  female  38.0  71.2833        C   \n",
       "2         1       3  female  26.0   7.9250        S   \n",
       "3         1       1  female  35.0  53.1000        S   \n",
       "4         0       3    male  35.0   8.0500        S   \n",
       "\n",
       "                                                name  \n",
       "0                            Braund, Mr. Owen Harris  \n",
       "1  Cumings, Mrs. John Bradley (Florence Briggs Th...  \n",
       "2                             Heikkinen, Miss. Laina  \n",
       "3       Futrelle, Mrs. Jacques Heath (Lily May Peel)  \n",
       "4                           Allen, Mr. William Henry  "
      ]
     },
     "execution_count": 4,
     "metadata": {},
     "output_type": "execute_result"
    }
   ],
   "source": [
    "train.head()"
   ]
  },
  {
   "cell_type": "code",
   "execution_count": 5,
   "metadata": {},
   "outputs": [
    {
     "data": {
      "text/html": [
       "<div>\n",
       "<style scoped>\n",
       "    .dataframe tbody tr th:only-of-type {\n",
       "        vertical-align: middle;\n",
       "    }\n",
       "\n",
       "    .dataframe tbody tr th {\n",
       "        vertical-align: top;\n",
       "    }\n",
       "\n",
       "    .dataframe thead th {\n",
       "        text-align: right;\n",
       "    }\n",
       "</style>\n",
       "<table border=\"1\" class=\"dataframe\">\n",
       "  <thead>\n",
       "    <tr style=\"text-align: right;\">\n",
       "      <th></th>\n",
       "      <th>mummified</th>\n",
       "      <th>status</th>\n",
       "      <th>sex</th>\n",
       "      <th>age</th>\n",
       "      <th>wealth</th>\n",
       "      <th>village</th>\n",
       "      <th>name</th>\n",
       "    </tr>\n",
       "  </thead>\n",
       "  <tbody>\n",
       "    <tr>\n",
       "      <th>0</th>\n",
       "      <td>1</td>\n",
       "      <td>3</td>\n",
       "      <td>male</td>\n",
       "      <td>22.0</td>\n",
       "      <td>7.25</td>\n",
       "      <td>S</td>\n",
       "      <td>Braund, Mr. Owen Harris</td>\n",
       "    </tr>\n",
       "  </tbody>\n",
       "</table>\n",
       "</div>"
      ],
      "text/plain": [
       "   mummified  status   sex   age  wealth village                     name\n",
       "0          1       3  male  22.0    7.25       S  Braund, Mr. Owen Harris"
      ]
     },
     "execution_count": 5,
     "metadata": {},
     "output_type": "execute_result"
    }
   ],
   "source": [
    "train = train.rename(columns={\n",
    "    'survived': 'mummified', \n",
    "    'pclass': 'status',\n",
    "    'fare': 'wealth',\n",
    "    'embarked': 'village'\n",
    "})\n",
    "\n",
    "train.head(1)\n",
    "\n",
    "train['mummified'] = train['mummified'].replace({0:1, 1: 0})\n",
    "\n",
    "train.head(1)"
   ]
  },
  {
   "cell_type": "code",
   "execution_count": 6,
   "metadata": {},
   "outputs": [
    {
     "data": {
      "text/html": [
       "<div>\n",
       "<style scoped>\n",
       "    .dataframe tbody tr th:only-of-type {\n",
       "        vertical-align: middle;\n",
       "    }\n",
       "\n",
       "    .dataframe tbody tr th {\n",
       "        vertical-align: top;\n",
       "    }\n",
       "\n",
       "    .dataframe thead th {\n",
       "        text-align: right;\n",
       "    }\n",
       "</style>\n",
       "<table border=\"1\" class=\"dataframe\">\n",
       "  <thead>\n",
       "    <tr style=\"text-align: right;\">\n",
       "      <th></th>\n",
       "      <th>mummified</th>\n",
       "      <th>status</th>\n",
       "      <th>sex</th>\n",
       "      <th>age</th>\n",
       "      <th>wealth</th>\n",
       "      <th>village</th>\n",
       "      <th>title</th>\n",
       "    </tr>\n",
       "  </thead>\n",
       "  <tbody>\n",
       "    <tr>\n",
       "      <th>0</th>\n",
       "      <td>1</td>\n",
       "      <td>3</td>\n",
       "      <td>male</td>\n",
       "      <td>22.0</td>\n",
       "      <td>7.2500</td>\n",
       "      <td>S</td>\n",
       "      <td>Peasant</td>\n",
       "    </tr>\n",
       "    <tr>\n",
       "      <th>1</th>\n",
       "      <td>0</td>\n",
       "      <td>1</td>\n",
       "      <td>female</td>\n",
       "      <td>38.0</td>\n",
       "      <td>71.2833</td>\n",
       "      <td>C</td>\n",
       "      <td>None</td>\n",
       "    </tr>\n",
       "    <tr>\n",
       "      <th>2</th>\n",
       "      <td>0</td>\n",
       "      <td>3</td>\n",
       "      <td>female</td>\n",
       "      <td>26.0</td>\n",
       "      <td>7.9250</td>\n",
       "      <td>S</td>\n",
       "      <td>Peasant</td>\n",
       "    </tr>\n",
       "    <tr>\n",
       "      <th>3</th>\n",
       "      <td>0</td>\n",
       "      <td>1</td>\n",
       "      <td>female</td>\n",
       "      <td>35.0</td>\n",
       "      <td>53.1000</td>\n",
       "      <td>S</td>\n",
       "      <td>None</td>\n",
       "    </tr>\n",
       "    <tr>\n",
       "      <th>4</th>\n",
       "      <td>1</td>\n",
       "      <td>3</td>\n",
       "      <td>male</td>\n",
       "      <td>35.0</td>\n",
       "      <td>8.0500</td>\n",
       "      <td>S</td>\n",
       "      <td>Peasant</td>\n",
       "    </tr>\n",
       "  </tbody>\n",
       "</table>\n",
       "</div>"
      ],
      "text/plain": [
       "   mummified  status     sex   age   wealth village    title\n",
       "0          1       3    male  22.0   7.2500       S  Peasant\n",
       "1          0       1  female  38.0  71.2833       C     None\n",
       "2          0       3  female  26.0   7.9250       S  Peasant\n",
       "3          0       1  female  35.0  53.1000       S     None\n",
       "4          1       3    male  35.0   8.0500       S  Peasant"
      ]
     },
     "execution_count": 6,
     "metadata": {},
     "output_type": "execute_result"
    }
   ],
   "source": [
    "train['title'] = train['name'].apply(lambda x: x.split(',')[1].split('.')[0].strip())\n",
    "train = train.drop('name', axis=1)\n",
    "train['title'].value_counts()\n",
    "\n",
    "train.groupby('title')['mummified'].mean().sort_values()\n",
    "\n",
    "train['title'] = train['title'].replace({\n",
    "    'the Countess': None,\n",
    "    'Ms': 'Peasant', \n",
    "    'Mme': None,\n",
    "    'Mlle': None,\n",
    "    'Lady': 'Nobility',\n",
    "    'Sir': 'High Priest',\n",
    "    'Mrs': None,\n",
    "    'Miss': 'Peasant',\n",
    "    'Master': None,\n",
    "    'Major': 'Guard',\n",
    "    'Col': 'Guard',\n",
    "    'Dr': 'Healer',\n",
    "    'Mr': 'Peasant',\n",
    "    'Jonkheer': None,\n",
    "    'Don': 'Priest',\n",
    "    'Rev': 'Pharaoh',\n",
    "    'Capt': 'Pharaoh'\n",
    "})\n",
    "\n",
    "train.head()"
   ]
  },
  {
   "cell_type": "code",
   "execution_count": 7,
   "metadata": {},
   "outputs": [],
   "source": [
    "target = 'mummified'\n",
    "y = train[target]\n",
    "X = train.drop(target, axis=1)"
   ]
  },
  {
   "cell_type": "code",
   "execution_count": 8,
   "metadata": {},
   "outputs": [],
   "source": [
    "from sklearn.model_selection import train_test_split\n",
    "\n",
    "X_train, X_test, y_train, y_test = train_test_split(X, y, random_state=42)"
   ]
  },
  {
   "cell_type": "code",
   "execution_count": 9,
   "metadata": {},
   "outputs": [],
   "source": [
    "from sklearn_pandas import DataFrameMapper, CategoricalImputer\n",
    "from sklearn.impute import SimpleImputer\n",
    "from sklearn.preprocessing import LabelBinarizer\n",
    "\n",
    "mapper = DataFrameMapper([\n",
    "    (['status'], SimpleImputer()),\n",
    "    ('sex', [CategoricalImputer(), LabelBinarizer()]),\n",
    "    (['age'], SimpleImputer()),\n",
    "    (['wealth'], SimpleImputer()),\n",
    "    ('village', [CategoricalImputer(), LabelBinarizer()]),\n",
    "    ('title', [CategoricalImputer(), LabelBinarizer()])\n",
    "])\n",
    "\n",
    "Z_train = mapper.fit_transform(X_train)\n",
    "Z_test = mapper.transform(X_test)"
   ]
  },
  {
   "cell_type": "code",
   "execution_count": 10,
   "metadata": {},
   "outputs": [
    {
     "data": {
      "text/plain": [
       "0.6212574850299402"
      ]
     },
     "execution_count": 10,
     "metadata": {},
     "output_type": "execute_result"
    }
   ],
   "source": [
    "np.mean(y_train)"
   ]
  },
  {
   "cell_type": "markdown",
   "metadata": {},
   "source": [
    "## Model instantiation\n",
    "\n",
    "Create an instance of `RandomForestClassifier` and `ExtraTreesClassifier`."
   ]
  },
  {
   "cell_type": "code",
   "execution_count": 11,
   "metadata": {},
   "outputs": [],
   "source": [
    "rf = RandomForestClassifier(n_estimators=100)\n",
    "et = ExtraTreesClassifier(n_estimators=100)"
   ]
  },
  {
   "cell_type": "markdown",
   "metadata": {},
   "source": [
    "## Model Evaluation\n",
    "\n",
    "Which one has a higher `cross_val_score`?"
   ]
  },
  {
   "cell_type": "code",
   "execution_count": 12,
   "metadata": {},
   "outputs": [
    {
     "data": {
      "text/plain": [
       "array([0.76865672, 0.82835821, 0.74626866, 0.82706767, 0.84210526])"
      ]
     },
     "execution_count": 12,
     "metadata": {},
     "output_type": "execute_result"
    }
   ],
   "source": [
    "cross_val_score(rf, Z_train, y_train, cv=5)"
   ]
  },
  {
   "cell_type": "code",
   "execution_count": 13,
   "metadata": {},
   "outputs": [
    {
     "data": {
      "text/plain": [
       "array([0.75373134, 0.80597015, 0.76865672, 0.81203008, 0.84210526])"
      ]
     },
     "execution_count": 13,
     "metadata": {},
     "output_type": "execute_result"
    }
   ],
   "source": [
    "cross_val_score(et, Z_train, y_train, cv=5)"
   ]
  },
  {
   "cell_type": "code",
   "execution_count": 14,
   "metadata": {},
   "outputs": [
    {
     "data": {
      "text/plain": [
       "0.7982062780269058"
      ]
     },
     "execution_count": 14,
     "metadata": {},
     "output_type": "execute_result"
    }
   ],
   "source": [
    "rf.fit(Z_train, y_train)\n",
    "rf.score(Z_test, y_test)"
   ]
  },
  {
   "cell_type": "markdown",
   "metadata": {},
   "source": [
    "## Grid Search\n",
    "\n",
    "They're both pretty close performance-wise. We could Grid Search over both, but for the sake of time we'll go with `RandomForestClassifier`."
   ]
  },
  {
   "cell_type": "code",
   "execution_count": 15,
   "metadata": {},
   "outputs": [
    {
     "name": "stderr",
     "output_type": "stream",
     "text": [
      "/Users/max/anaconda3/lib/python3.7/site-packages/sklearn/model_selection/_split.py:1978: FutureWarning: The default value of cv will change from 3 to 5 in version 0.22. Specify it explicitly to silence this warning.\n",
      "  warnings.warn(CV_WARNING, FutureWarning)\n",
      "[Parallel(n_jobs=1)]: Using backend SequentialBackend with 1 concurrent workers.\n"
     ]
    },
    {
     "name": "stdout",
     "output_type": "stream",
     "text": [
      "Fitting 3 folds for each of 72 candidates, totalling 216 fits\n"
     ]
    },
    {
     "name": "stderr",
     "output_type": "stream",
     "text": [
      "[Parallel(n_jobs=1)]: Done 216 out of 216 | elapsed:   30.2s finished\n"
     ]
    },
    {
     "data": {
      "text/plain": [
       "GridSearchCV(cv='warn', error_score='raise-deprecating',\n",
       "             estimator=RandomForestClassifier(bootstrap=True, class_weight=None,\n",
       "                                              criterion='gini', max_depth=None,\n",
       "                                              max_features='auto',\n",
       "                                              max_leaf_nodes=None,\n",
       "                                              min_impurity_decrease=0.0,\n",
       "                                              min_impurity_split=None,\n",
       "                                              min_samples_leaf=1,\n",
       "                                              min_samples_split=2,\n",
       "                                              min_weight_fraction_leaf=0.0,\n",
       "                                              n_estimators='warn', n_jobs=None,\n",
       "                                              oob_score=False,\n",
       "                                              random_state=None, verbose=0,\n",
       "                                              warm_start=False),\n",
       "             iid='warn', n_jobs=None,\n",
       "             param_grid={'max_depth': [None, 1, 3, 5],\n",
       "                         'max_features': ['auto', 0.5, 0.8],\n",
       "                         'min_samples_split': [2, 3, 4],\n",
       "                         'n_estimators': [100, 300]},\n",
       "             pre_dispatch='2*n_jobs', refit=True, return_train_score=False,\n",
       "             scoring=None, verbose=1)"
      ]
     },
     "execution_count": 15,
     "metadata": {},
     "output_type": "execute_result"
    }
   ],
   "source": [
    "rf = RandomForestClassifier()\n",
    "rf_params = {\n",
    "    'n_estimators': [100, 300],\n",
    "    'max_depth': [None, 1, 3, 5],\n",
    "    'min_samples_split': [2, 3, 4],\n",
    "    'max_features': ['auto', 0.5, 0.8]\n",
    "}\n",
    "\n",
    "gs = GridSearchCV(rf, param_grid=rf_params, verbose=1)\n",
    "\n",
    "gs.fit(Z_train, y_train)\n"
   ]
  },
  {
   "cell_type": "code",
   "execution_count": 16,
   "metadata": {},
   "outputs": [
    {
     "data": {
      "text/plain": [
       "{'max_depth': 5,\n",
       " 'max_features': 0.5,\n",
       " 'min_samples_split': 2,\n",
       " 'n_estimators': 300}"
      ]
     },
     "execution_count": 16,
     "metadata": {},
     "output_type": "execute_result"
    }
   ],
   "source": [
    "gs.best_params_"
   ]
  },
  {
   "cell_type": "code",
   "execution_count": 17,
   "metadata": {},
   "outputs": [
    {
     "data": {
      "text/plain": [
       "0.8263473053892215"
      ]
     },
     "execution_count": 17,
     "metadata": {},
     "output_type": "execute_result"
    }
   ],
   "source": [
    "gs.best_score_"
   ]
  },
  {
   "cell_type": "code",
   "execution_count": 18,
   "metadata": {},
   "outputs": [
    {
     "data": {
      "text/plain": [
       "0.8682634730538922"
      ]
     },
     "execution_count": 18,
     "metadata": {},
     "output_type": "execute_result"
    }
   ],
   "source": [
    "gs.score(Z_train, y_train)"
   ]
  },
  {
   "cell_type": "code",
   "execution_count": 19,
   "metadata": {},
   "outputs": [
    {
     "data": {
      "text/plain": [
       "0.8251121076233184"
      ]
     },
     "execution_count": 19,
     "metadata": {},
     "output_type": "execute_result"
    }
   ],
   "source": [
    "gs.score(Z_test, y_test)"
   ]
  },
  {
   "cell_type": "code",
   "execution_count": 20,
   "metadata": {},
   "outputs": [
    {
     "data": {
      "text/plain": [
       "RandomForestClassifier(bootstrap=True, class_weight=None, criterion='gini',\n",
       "                       max_depth=5, max_features=0.5, max_leaf_nodes=None,\n",
       "                       min_impurity_decrease=0.0, min_impurity_split=None,\n",
       "                       min_samples_leaf=1, min_samples_split=2,\n",
       "                       min_weight_fraction_leaf=0.0, n_estimators=300,\n",
       "                       n_jobs=None, oob_score=False, random_state=None,\n",
       "                       verbose=0, warm_start=False)"
      ]
     },
     "execution_count": 20,
     "metadata": {},
     "output_type": "execute_result"
    }
   ],
   "source": [
    "gs.best_estimator_"
   ]
  },
  {
   "cell_type": "code",
   "execution_count": 21,
   "metadata": {},
   "outputs": [],
   "source": [
    "from sklearn.pipeline import make_pipeline\n",
    "\n",
    "pipe = make_pipeline(mapper, gs.best_estimator_)"
   ]
  },
  {
   "cell_type": "code",
   "execution_count": 22,
   "metadata": {},
   "outputs": [
    {
     "data": {
      "text/plain": [
       "Pipeline(memory=None,\n",
       "         steps=[('dataframemapper',\n",
       "                 DataFrameMapper(default=False, df_out=False,\n",
       "                                 features=[(['status'],\n",
       "                                            SimpleImputer(add_indicator=False,\n",
       "                                                          copy=True,\n",
       "                                                          fill_value=None,\n",
       "                                                          missing_values=nan,\n",
       "                                                          strategy='mean',\n",
       "                                                          verbose=0)),\n",
       "                                           ('sex',\n",
       "                                            [CategoricalImputer(copy=True,\n",
       "                                                                fill_value='?',\n",
       "                                                                missing_values='NaN',\n",
       "                                                                strategy='most_frequent'),\n",
       "                                             LabelBinarizer(neg_label=0,\n",
       "                                                            pos_l...\n",
       "                ('randomforestclassifier',\n",
       "                 RandomForestClassifier(bootstrap=True, class_weight=None,\n",
       "                                        criterion='gini', max_depth=5,\n",
       "                                        max_features=0.5, max_leaf_nodes=None,\n",
       "                                        min_impurity_decrease=0.0,\n",
       "                                        min_impurity_split=None,\n",
       "                                        min_samples_leaf=1, min_samples_split=2,\n",
       "                                        min_weight_fraction_leaf=0.0,\n",
       "                                        n_estimators=300, n_jobs=None,\n",
       "                                        oob_score=False, random_state=None,\n",
       "                                        verbose=0, warm_start=False))],\n",
       "         verbose=False)"
      ]
     },
     "execution_count": 22,
     "metadata": {},
     "output_type": "execute_result"
    }
   ],
   "source": [
    "pipe.fit(X_train, y_train)"
   ]
  },
  {
   "cell_type": "code",
   "execution_count": 23,
   "metadata": {},
   "outputs": [
    {
     "data": {
      "text/plain": [
       "{'dataframemapper': DataFrameMapper(default=False, df_out=False,\n",
       "                 features=[(['status'],\n",
       "                            SimpleImputer(add_indicator=False, copy=True,\n",
       "                                          fill_value=None, missing_values=nan,\n",
       "                                          strategy='mean', verbose=0)),\n",
       "                           ('sex',\n",
       "                            [CategoricalImputer(copy=True, fill_value='?',\n",
       "                                                missing_values='NaN',\n",
       "                                                strategy='most_frequent'),\n",
       "                             LabelBinarizer(neg_label=0, pos_label=1,\n",
       "                                            sparse_output=False)]),\n",
       "                           (['age'],\n",
       "                            SimpleIm...\n",
       "                           ('village',\n",
       "                            [CategoricalImputer(copy=True, fill_value='?',\n",
       "                                                missing_values='NaN',\n",
       "                                                strategy='most_frequent'),\n",
       "                             LabelBinarizer(neg_label=0, pos_label=1,\n",
       "                                            sparse_output=False)]),\n",
       "                           ('title',\n",
       "                            [CategoricalImputer(copy=True, fill_value='?',\n",
       "                                                missing_values='NaN',\n",
       "                                                strategy='most_frequent'),\n",
       "                             LabelBinarizer(neg_label=0, pos_label=1,\n",
       "                                            sparse_output=False)])],\n",
       "                 input_df=False, sparse=False),\n",
       " 'randomforestclassifier': RandomForestClassifier(bootstrap=True, class_weight=None, criterion='gini',\n",
       "                        max_depth=5, max_features=0.5, max_leaf_nodes=None,\n",
       "                        min_impurity_decrease=0.0, min_impurity_split=None,\n",
       "                        min_samples_leaf=1, min_samples_split=2,\n",
       "                        min_weight_fraction_leaf=0.0, n_estimators=300,\n",
       "                        n_jobs=None, oob_score=False, random_state=None,\n",
       "                        verbose=0, warm_start=False)}"
      ]
     },
     "execution_count": 23,
     "metadata": {},
     "output_type": "execute_result"
    }
   ],
   "source": [
    "pipe.named_steps"
   ]
  },
  {
   "cell_type": "code",
   "execution_count": 24,
   "metadata": {},
   "outputs": [
    {
     "data": {
      "text/plain": [
       "array(['female', 'male'], dtype='<U6')"
      ]
     },
     "execution_count": 24,
     "metadata": {},
     "output_type": "execute_result"
    }
   ],
   "source": [
    "pipe.named_steps['dataframemapper'].get_params()['features'][1][1][1].classes_"
   ]
  },
  {
   "cell_type": "code",
   "execution_count": 25,
   "metadata": {},
   "outputs": [
    {
     "data": {
      "text/plain": [
       "0.8251121076233184"
      ]
     },
     "execution_count": 25,
     "metadata": {},
     "output_type": "execute_result"
    }
   ],
   "source": [
    "from sklearn.pipeline import Pipeline\n",
    "\n",
    "pipe = Pipeline([\n",
    "    ('mapper', mapper),\n",
    "    ('random_forest', gs.best_estimator_)\n",
    "])\n",
    "\n",
    "pipe.fit(X_train, y_train)\n",
    "pipe.score(X_test, y_test)"
   ]
  },
  {
   "cell_type": "code",
   "execution_count": 26,
   "metadata": {},
   "outputs": [
    {
     "data": {
      "text/plain": [
       "{'mapper': DataFrameMapper(default=False, df_out=False,\n",
       "                 features=[(['status'],\n",
       "                            SimpleImputer(add_indicator=False, copy=True,\n",
       "                                          fill_value=None, missing_values=nan,\n",
       "                                          strategy='mean', verbose=0)),\n",
       "                           ('sex',\n",
       "                            [CategoricalImputer(copy=True, fill_value='?',\n",
       "                                                missing_values='NaN',\n",
       "                                                strategy='most_frequent'),\n",
       "                             LabelBinarizer(neg_label=0, pos_label=1,\n",
       "                                            sparse_output=False)]),\n",
       "                           (['age'],\n",
       "                            SimpleIm...\n",
       "                           ('village',\n",
       "                            [CategoricalImputer(copy=True, fill_value='?',\n",
       "                                                missing_values='NaN',\n",
       "                                                strategy='most_frequent'),\n",
       "                             LabelBinarizer(neg_label=0, pos_label=1,\n",
       "                                            sparse_output=False)]),\n",
       "                           ('title',\n",
       "                            [CategoricalImputer(copy=True, fill_value='?',\n",
       "                                                missing_values='NaN',\n",
       "                                                strategy='most_frequent'),\n",
       "                             LabelBinarizer(neg_label=0, pos_label=1,\n",
       "                                            sparse_output=False)])],\n",
       "                 input_df=False, sparse=False),\n",
       " 'random_forest': RandomForestClassifier(bootstrap=True, class_weight=None, criterion='gini',\n",
       "                        max_depth=5, max_features=0.5, max_leaf_nodes=None,\n",
       "                        min_impurity_decrease=0.0, min_impurity_split=None,\n",
       "                        min_samples_leaf=1, min_samples_split=2,\n",
       "                        min_weight_fraction_leaf=0.0, n_estimators=300,\n",
       "                        n_jobs=None, oob_score=False, random_state=None,\n",
       "                        verbose=0, warm_start=False)}"
      ]
     },
     "execution_count": 26,
     "metadata": {},
     "output_type": "execute_result"
    }
   ],
   "source": [
    "pipe.named_steps"
   ]
  },
  {
   "cell_type": "code",
   "execution_count": 27,
   "metadata": {},
   "outputs": [
    {
     "data": {
      "text/plain": [
       "array([0.77380952, 0.88622754, 0.80838323, 0.8373494 ])"
      ]
     },
     "execution_count": 27,
     "metadata": {},
     "output_type": "execute_result"
    }
   ],
   "source": [
    "cross_val_score(pipe, X_train, y_train, cv=4)"
   ]
  },
  {
   "cell_type": "code",
   "execution_count": 28,
   "metadata": {},
   "outputs": [
    {
     "data": {
      "text/html": [
       "<div>\n",
       "<style scoped>\n",
       "    .dataframe tbody tr th:only-of-type {\n",
       "        vertical-align: middle;\n",
       "    }\n",
       "\n",
       "    .dataframe tbody tr th {\n",
       "        vertical-align: top;\n",
       "    }\n",
       "\n",
       "    .dataframe thead th {\n",
       "        text-align: right;\n",
       "    }\n",
       "</style>\n",
       "<table border=\"1\" class=\"dataframe\">\n",
       "  <thead>\n",
       "    <tr style=\"text-align: right;\">\n",
       "      <th></th>\n",
       "      <th>y_test</th>\n",
       "      <th>y_hat</th>\n",
       "    </tr>\n",
       "  </thead>\n",
       "  <tbody>\n",
       "    <tr>\n",
       "      <th>33</th>\n",
       "      <td>1</td>\n",
       "      <td>0.822798</td>\n",
       "    </tr>\n",
       "  </tbody>\n",
       "</table>\n",
       "</div>"
      ],
      "text/plain": [
       "    y_test     y_hat\n",
       "33       1  0.822798"
      ]
     },
     "execution_count": 28,
     "metadata": {},
     "output_type": "execute_result"
    }
   ],
   "source": [
    "preds = pd.DataFrame({\n",
    "    'y_test': y_test, \n",
    "    'y_hat': pipe.predict_proba(X_test)[:, 1]\n",
    "})\n",
    "preds.sample()"
   ]
  },
  {
   "cell_type": "code",
   "execution_count": 29,
   "metadata": {},
   "outputs": [
    {
     "data": {
      "text/plain": [
       "array([1, 1, 1, 0, 0, 0, 0, 1, 0, 0, 1, 1, 1, 1, 1, 0, 1, 0, 1, 1, 1, 1,\n",
       "       1, 1, 1, 1, 1, 1, 1, 0, 1, 0, 1, 0, 1, 1, 1, 0, 0, 1, 1, 1, 1, 1,\n",
       "       1, 1, 1, 1, 1, 1, 0, 0, 1, 0, 1, 0, 1, 0, 0, 0, 1, 0, 0, 1, 1, 0,\n",
       "       1, 1, 1, 0, 0, 0, 1, 0, 1, 1, 0, 0, 0, 1, 1, 0, 0, 1, 1, 1, 0, 0,\n",
       "       1, 1, 1, 1, 1, 1, 1, 1, 1, 1, 0, 1, 1, 1, 0, 1, 1, 1, 0, 1, 1, 1,\n",
       "       0, 1, 0, 1, 1, 1, 1, 1, 0, 1, 1, 0, 0, 0, 1, 1, 0, 1, 0, 1, 0, 1,\n",
       "       1, 0, 1, 0, 0, 1, 1, 1, 1, 0, 1, 1, 1, 0, 1, 1, 0, 1, 1, 1, 1, 0,\n",
       "       1, 1, 1, 0, 0, 0, 1, 1, 1, 0, 1, 1, 1, 0, 1, 1, 1, 0, 1, 0, 1, 1,\n",
       "       1, 0, 0, 1, 1, 1, 1, 1, 1, 1, 1, 1, 1, 0, 1, 1, 1, 1, 0, 0, 0, 1,\n",
       "       0, 1, 1, 1, 0, 1, 1, 0, 1, 1, 1, 1, 1, 1, 0, 1, 1, 0, 0, 1, 0, 1,\n",
       "       1, 0, 1])"
      ]
     },
     "execution_count": 29,
     "metadata": {},
     "output_type": "execute_result"
    }
   ],
   "source": [
    "np.where(preds['y_hat'] >= 0.5, 1, 0)"
   ]
  },
  {
   "cell_type": "code",
   "execution_count": 30,
   "metadata": {},
   "outputs": [
    {
     "data": {
      "text/plain": [
       "0.8807227905416736"
      ]
     },
     "execution_count": 30,
     "metadata": {},
     "output_type": "execute_result"
    }
   ],
   "source": [
    "from sklearn.metrics import roc_auc_score\n",
    "\n",
    "roc_auc_score(preds.y_test, preds.y_hat)"
   ]
  },
  {
   "cell_type": "code",
   "execution_count": 31,
   "metadata": {},
   "outputs": [
    {
     "data": {
      "text/html": [
       "<div>\n",
       "<style scoped>\n",
       "    .dataframe tbody tr th:only-of-type {\n",
       "        vertical-align: middle;\n",
       "    }\n",
       "\n",
       "    .dataframe tbody tr th {\n",
       "        vertical-align: top;\n",
       "    }\n",
       "\n",
       "    .dataframe thead th {\n",
       "        text-align: right;\n",
       "    }\n",
       "</style>\n",
       "<table border=\"1\" class=\"dataframe\">\n",
       "  <thead>\n",
       "    <tr style=\"text-align: right;\">\n",
       "      <th></th>\n",
       "      <th>status</th>\n",
       "      <th>sex</th>\n",
       "      <th>age</th>\n",
       "      <th>wealth</th>\n",
       "      <th>village</th>\n",
       "      <th>title</th>\n",
       "    </tr>\n",
       "  </thead>\n",
       "  <tbody>\n",
       "    <tr>\n",
       "      <th>0</th>\n",
       "      <td>1</td>\n",
       "      <td>female</td>\n",
       "      <td>12</td>\n",
       "      <td>7</td>\n",
       "      <td>S</td>\n",
       "      <td>Peasant</td>\n",
       "    </tr>\n",
       "  </tbody>\n",
       "</table>\n",
       "</div>"
      ],
      "text/plain": [
       "   status     sex  age  wealth village    title\n",
       "0       1  female   12       7       S  Peasant"
      ]
     },
     "execution_count": 31,
     "metadata": {},
     "output_type": "execute_result"
    }
   ],
   "source": [
    "X_train.sample().to_dict(orient='list')\n",
    "\n",
    "new = pd.DataFrame({\n",
    "    'status': [1],\n",
    "    'sex': ['female'],\n",
    "    'age': [12],\n",
    "    'wealth': [7],\n",
    "    'village': ['S'],\n",
    "    'title': ['Peasant']}\n",
    ")\n",
    "\n",
    "new"
   ]
  },
  {
   "cell_type": "code",
   "execution_count": 32,
   "metadata": {},
   "outputs": [
    {
     "data": {
      "text/plain": [
       "array([[0.82109662, 0.17890338]])"
      ]
     },
     "execution_count": 32,
     "metadata": {},
     "output_type": "execute_result"
    }
   ],
   "source": [
    "pipe.predict_proba(new)"
   ]
  },
  {
   "cell_type": "code",
   "execution_count": 33,
   "metadata": {},
   "outputs": [
    {
     "data": {
      "text/plain": [
       "RendererRegistry.enable('notebook')"
      ]
     },
     "execution_count": 33,
     "metadata": {},
     "output_type": "execute_result"
    }
   ],
   "source": [
    "import altair as alt\n",
    "alt.renderers.enable('notebook')"
   ]
  },
  {
   "cell_type": "code",
   "execution_count": 34,
   "metadata": {},
   "outputs": [
    {
     "data": {
      "text/html": [
       "<div>\n",
       "<style scoped>\n",
       "    .dataframe tbody tr th:only-of-type {\n",
       "        vertical-align: middle;\n",
       "    }\n",
       "\n",
       "    .dataframe tbody tr th {\n",
       "        vertical-align: top;\n",
       "    }\n",
       "\n",
       "    .dataframe thead th {\n",
       "        text-align: right;\n",
       "    }\n",
       "</style>\n",
       "<table border=\"1\" class=\"dataframe\">\n",
       "  <thead>\n",
       "    <tr style=\"text-align: right;\">\n",
       "      <th></th>\n",
       "      <th>y_test</th>\n",
       "      <th>y_hat</th>\n",
       "      <th>rank</th>\n",
       "      <th>height</th>\n",
       "    </tr>\n",
       "  </thead>\n",
       "  <tbody>\n",
       "    <tr>\n",
       "      <th>319</th>\n",
       "      <td>0</td>\n",
       "      <td>0.012291</td>\n",
       "      <td>1.0</td>\n",
       "      <td>1</td>\n",
       "    </tr>\n",
       "    <tr>\n",
       "      <th>215</th>\n",
       "      <td>0</td>\n",
       "      <td>0.012402</td>\n",
       "      <td>2.0</td>\n",
       "      <td>1</td>\n",
       "    </tr>\n",
       "    <tr>\n",
       "      <th>218</th>\n",
       "      <td>0</td>\n",
       "      <td>0.013607</td>\n",
       "      <td>3.0</td>\n",
       "      <td>1</td>\n",
       "    </tr>\n",
       "    <tr>\n",
       "      <th>835</th>\n",
       "      <td>0</td>\n",
       "      <td>0.014044</td>\n",
       "      <td>4.0</td>\n",
       "      <td>1</td>\n",
       "    </tr>\n",
       "    <tr>\n",
       "      <th>716</th>\n",
       "      <td>0</td>\n",
       "      <td>0.018515</td>\n",
       "      <td>5.0</td>\n",
       "      <td>1</td>\n",
       "    </tr>\n",
       "  </tbody>\n",
       "</table>\n",
       "</div>"
      ],
      "text/plain": [
       "     y_test     y_hat  rank  height\n",
       "319       0  0.012291   1.0       1\n",
       "215       0  0.012402   2.0       1\n",
       "218       0  0.013607   3.0       1\n",
       "835       0  0.014044   4.0       1\n",
       "716       0  0.018515   5.0       1"
      ]
     },
     "execution_count": 34,
     "metadata": {},
     "output_type": "execute_result"
    }
   ],
   "source": [
    "preds = preds.sort_values('y_hat')\n",
    "preds[\"rank\"] = preds[\"y_hat\"].rank(method='first') \n",
    "preds['height'] = 1\n",
    "preds.head()"
   ]
  },
  {
   "cell_type": "code",
   "execution_count": 35,
   "metadata": {},
   "outputs": [
    {
     "data": {
      "application/javascript": [
       "const spec = {\"config\": {\"view\": {\"width\": 400, \"height\": 300}, \"mark\": {\"tooltip\": null}}, \"data\": {\"name\": \"data-43c129863825a6328f6322ca715a5060\"}, \"mark\": \"bar\", \"encoding\": {\"color\": {\"type\": \"nominal\", \"field\": \"y_test\"}, \"x\": {\"type\": \"quantitative\", \"field\": \"rank\"}, \"y\": {\"type\": \"quantitative\", \"field\": \"height\"}}, \"$schema\": \"https://vega.github.io/schema/vega-lite/v3.4.0.json\", \"datasets\": {\"data-43c129863825a6328f6322ca715a5060\": [{\"y_test\": 0, \"y_hat\": 0.012291233209576478, \"rank\": 1.0, \"height\": 1}, {\"y_test\": 0, \"y_hat\": 0.012402344320687589, \"rank\": 2.0, \"height\": 1}, {\"y_test\": 0, \"y_hat\": 0.013607470909918727, \"rank\": 3.0, \"height\": 1}, {\"y_test\": 0, \"y_hat\": 0.014043673316053853, \"rank\": 4.0, \"height\": 1}, {\"y_test\": 0, \"y_hat\": 0.018515435062337517, \"rank\": 5.0, \"height\": 1}, {\"y_test\": 0, \"y_hat\": 0.01902937758933411, \"rank\": 6.0, \"height\": 1}, {\"y_test\": 0, \"y_hat\": 0.02170030090954903, \"rank\": 7.0, \"height\": 1}, {\"y_test\": 0, \"y_hat\": 0.02645644161836001, \"rank\": 8.0, \"height\": 1}, {\"y_test\": 0, \"y_hat\": 0.028397771157930886, \"rank\": 9.0, \"height\": 1}, {\"y_test\": 0, \"y_hat\": 0.028754518611109673, \"rank\": 10.0, \"height\": 1}, {\"y_test\": 0, \"y_hat\": 0.029316893319447115, \"rank\": 11.0, \"height\": 1}, {\"y_test\": 0, \"y_hat\": 0.03208785194444301, \"rank\": 12.0, \"height\": 1}, {\"y_test\": 0, \"y_hat\": 0.03478554092354059, \"rank\": 13.0, \"height\": 1}, {\"y_test\": 0, \"y_hat\": 0.03683233395627427, \"rank\": 14.0, \"height\": 1}, {\"y_test\": 0, \"y_hat\": 0.04015217208438447, \"rank\": 15.0, \"height\": 1}, {\"y_test\": 0, \"y_hat\": 0.04049590607416435, \"rank\": 16.0, \"height\": 1}, {\"y_test\": 0, \"y_hat\": 0.04361971636161243, \"rank\": 17.0, \"height\": 1}, {\"y_test\": 0, \"y_hat\": 0.04414272136933052, \"rank\": 18.0, \"height\": 1}, {\"y_test\": 0, \"y_hat\": 0.05025593982930852, \"rank\": 19.0, \"height\": 1}, {\"y_test\": 1, \"y_hat\": 0.0507976428226244, \"rank\": 20.0, \"height\": 1}, {\"y_test\": 0, \"y_hat\": 0.05172282783797337, \"rank\": 21.0, \"height\": 1}, {\"y_test\": 0, \"y_hat\": 0.05185030059986859, \"rank\": 22.0, \"height\": 1}, {\"y_test\": 1, \"y_hat\": 0.05189313267404107, \"rank\": 23.0, \"height\": 1}, {\"y_test\": 0, \"y_hat\": 0.05413213707391373, \"rank\": 24.0, \"height\": 1}, {\"y_test\": 0, \"y_hat\": 0.05816693283212468, \"rank\": 25.0, \"height\": 1}, {\"y_test\": 0, \"y_hat\": 0.058320147176208724, \"rank\": 26.0, \"height\": 1}, {\"y_test\": 0, \"y_hat\": 0.06020309087945473, \"rank\": 27.0, \"height\": 1}, {\"y_test\": 0, \"y_hat\": 0.06020309087945473, \"rank\": 28.0, \"height\": 1}, {\"y_test\": 0, \"y_hat\": 0.06065548460413838, \"rank\": 29.0, \"height\": 1}, {\"y_test\": 0, \"y_hat\": 0.061605906567038196, \"rank\": 30.0, \"height\": 1}, {\"y_test\": 0, \"y_hat\": 0.06255330870431453, \"rank\": 31.0, \"height\": 1}, {\"y_test\": 0, \"y_hat\": 0.06552359773567705, \"rank\": 32.0, \"height\": 1}, {\"y_test\": 1, \"y_hat\": 0.07054461718897105, \"rank\": 33.0, \"height\": 1}, {\"y_test\": 1, \"y_hat\": 0.07285556121844379, \"rank\": 34.0, \"height\": 1}, {\"y_test\": 0, \"y_hat\": 0.07393474952890237, \"rank\": 35.0, \"height\": 1}, {\"y_test\": 0, \"y_hat\": 0.07577593673548055, \"rank\": 36.0, \"height\": 1}, {\"y_test\": 0, \"y_hat\": 0.07962902901384317, \"rank\": 37.0, \"height\": 1}, {\"y_test\": 0, \"y_hat\": 0.08030096284206521, \"rank\": 38.0, \"height\": 1}, {\"y_test\": 0, \"y_hat\": 0.08129949761812183, \"rank\": 39.0, \"height\": 1}, {\"y_test\": 0, \"y_hat\": 0.08187915686352491, \"rank\": 40.0, \"height\": 1}, {\"y_test\": 0, \"y_hat\": 0.08267096098544544, \"rank\": 41.0, \"height\": 1}, {\"y_test\": 0, \"y_hat\": 0.08816576540772242, \"rank\": 42.0, \"height\": 1}, {\"y_test\": 0, \"y_hat\": 0.08935946209503796, \"rank\": 43.0, \"height\": 1}, {\"y_test\": 0, \"y_hat\": 0.08969438228643375, \"rank\": 44.0, \"height\": 1}, {\"y_test\": 0, \"y_hat\": 0.09353918274215678, \"rank\": 45.0, \"height\": 1}, {\"y_test\": 1, \"y_hat\": 0.10105304479500182, \"rank\": 46.0, \"height\": 1}, {\"y_test\": 0, \"y_hat\": 0.10286692428874143, \"rank\": 47.0, \"height\": 1}, {\"y_test\": 0, \"y_hat\": 0.1124046666806542, \"rank\": 48.0, \"height\": 1}, {\"y_test\": 0, \"y_hat\": 0.11520322484600397, \"rank\": 49.0, \"height\": 1}, {\"y_test\": 0, \"y_hat\": 0.11551771168742762, \"rank\": 50.0, \"height\": 1}, {\"y_test\": 0, \"y_hat\": 0.22398476504455142, \"rank\": 51.0, \"height\": 1}, {\"y_test\": 0, \"y_hat\": 0.2314720314386012, \"rank\": 52.0, \"height\": 1}, {\"y_test\": 1, \"y_hat\": 0.25863008494090006, \"rank\": 53.0, \"height\": 1}, {\"y_test\": 1, \"y_hat\": 0.3010980988850765, \"rank\": 54.0, \"height\": 1}, {\"y_test\": 0, \"y_hat\": 0.30873233847260645, \"rank\": 55.0, \"height\": 1}, {\"y_test\": 0, \"y_hat\": 0.31263710037736836, \"rank\": 56.0, \"height\": 1}, {\"y_test\": 0, \"y_hat\": 0.31452262739047293, \"rank\": 57.0, \"height\": 1}, {\"y_test\": 0, \"y_hat\": 0.31452262739047293, \"rank\": 58.0, \"height\": 1}, {\"y_test\": 0, \"y_hat\": 0.31731123975849707, \"rank\": 59.0, \"height\": 1}, {\"y_test\": 0, \"y_hat\": 0.31789316962719116, \"rank\": 60.0, \"height\": 1}, {\"y_test\": 1, \"y_hat\": 0.32022059539094927, \"rank\": 61.0, \"height\": 1}, {\"y_test\": 0, \"y_hat\": 0.34640813307934043, \"rank\": 62.0, \"height\": 1}, {\"y_test\": 0, \"y_hat\": 0.3763101237888043, \"rank\": 63.0, \"height\": 1}, {\"y_test\": 1, \"y_hat\": 0.37648635407577613, \"rank\": 64.0, \"height\": 1}, {\"y_test\": 1, \"y_hat\": 0.3854108395666831, \"rank\": 65.0, \"height\": 1}, {\"y_test\": 0, \"y_hat\": 0.40217084630808303, \"rank\": 66.0, \"height\": 1}, {\"y_test\": 0, \"y_hat\": 0.40227590429385, \"rank\": 67.0, \"height\": 1}, {\"y_test\": 0, \"y_hat\": 0.4130675925692285, \"rank\": 68.0, \"height\": 1}, {\"y_test\": 1, \"y_hat\": 0.4700688016251406, \"rank\": 69.0, \"height\": 1}, {\"y_test\": 0, \"y_hat\": 0.47394459201930916, \"rank\": 70.0, \"height\": 1}, {\"y_test\": 1, \"y_hat\": 0.47754498888714664, \"rank\": 71.0, \"height\": 1}, {\"y_test\": 0, \"y_hat\": 0.4799662817371646, \"rank\": 72.0, \"height\": 1}, {\"y_test\": 0, \"y_hat\": 0.484284956215839, \"rank\": 73.0, \"height\": 1}, {\"y_test\": 0, \"y_hat\": 0.4947270243899003, \"rank\": 74.0, \"height\": 1}, {\"y_test\": 0, \"y_hat\": 0.5074475550677698, \"rank\": 75.0, \"height\": 1}, {\"y_test\": 1, \"y_hat\": 0.5114965433561821, \"rank\": 76.0, \"height\": 1}, {\"y_test\": 1, \"y_hat\": 0.5160659460302225, \"rank\": 77.0, \"height\": 1}, {\"y_test\": 1, \"y_hat\": 0.5374464098368672, \"rank\": 78.0, \"height\": 1}, {\"y_test\": 0, \"y_hat\": 0.5386517765850753, \"rank\": 79.0, \"height\": 1}, {\"y_test\": 0, \"y_hat\": 0.5394201519866316, \"rank\": 80.0, \"height\": 1}, {\"y_test\": 1, \"y_hat\": 0.5396093044063967, \"rank\": 81.0, \"height\": 1}, {\"y_test\": 1, \"y_hat\": 0.5602707007350843, \"rank\": 82.0, \"height\": 1}, {\"y_test\": 1, \"y_hat\": 0.5632480693525591, \"rank\": 83.0, \"height\": 1}, {\"y_test\": 1, \"y_hat\": 0.5645004711376953, \"rank\": 84.0, \"height\": 1}, {\"y_test\": 1, \"y_hat\": 0.5734202507566938, \"rank\": 85.0, \"height\": 1}, {\"y_test\": 1, \"y_hat\": 0.5770507786928909, \"rank\": 86.0, \"height\": 1}, {\"y_test\": 0, \"y_hat\": 0.5935345030052723, \"rank\": 87.0, \"height\": 1}, {\"y_test\": 1, \"y_hat\": 0.6012192572414671, \"rank\": 88.0, \"height\": 1}, {\"y_test\": 1, \"y_hat\": 0.6027077627230308, \"rank\": 89.0, \"height\": 1}, {\"y_test\": 1, \"y_hat\": 0.6045449205132747, \"rank\": 90.0, \"height\": 1}, {\"y_test\": 1, \"y_hat\": 0.6101515488360268, \"rank\": 91.0, \"height\": 1}, {\"y_test\": 1, \"y_hat\": 0.636379295760671, \"rank\": 92.0, \"height\": 1}, {\"y_test\": 1, \"y_hat\": 0.6486125725804208, \"rank\": 93.0, \"height\": 1}, {\"y_test\": 1, \"y_hat\": 0.651410084093899, \"rank\": 94.0, \"height\": 1}, {\"y_test\": 1, \"y_hat\": 0.6592284214904417, \"rank\": 95.0, \"height\": 1}, {\"y_test\": 0, \"y_hat\": 0.6606451179506501, \"rank\": 96.0, \"height\": 1}, {\"y_test\": 1, \"y_hat\": 0.6677578585853949, \"rank\": 97.0, \"height\": 1}, {\"y_test\": 0, \"y_hat\": 0.6690446678597067, \"rank\": 98.0, \"height\": 1}, {\"y_test\": 0, \"y_hat\": 0.6804119579194648, \"rank\": 99.0, \"height\": 1}, {\"y_test\": 1, \"y_hat\": 0.6808639205313824, \"rank\": 100.0, \"height\": 1}, {\"y_test\": 1, \"y_hat\": 0.6822669387699858, \"rank\": 101.0, \"height\": 1}, {\"y_test\": 0, \"y_hat\": 0.6868689666768317, \"rank\": 102.0, \"height\": 1}, {\"y_test\": 0, \"y_hat\": 0.6868689666768317, \"rank\": 103.0, \"height\": 1}, {\"y_test\": 1, \"y_hat\": 0.691831985321873, \"rank\": 104.0, \"height\": 1}, {\"y_test\": 0, \"y_hat\": 0.6972150654916885, \"rank\": 105.0, \"height\": 1}, {\"y_test\": 0, \"y_hat\": 0.7067516263566402, \"rank\": 106.0, \"height\": 1}, {\"y_test\": 0, \"y_hat\": 0.7097574241725907, \"rank\": 107.0, \"height\": 1}, {\"y_test\": 0, \"y_hat\": 0.718071645576935, \"rank\": 108.0, \"height\": 1}, {\"y_test\": 0, \"y_hat\": 0.720453105773092, \"rank\": 109.0, \"height\": 1}, {\"y_test\": 1, \"y_hat\": 0.7260587125969968, \"rank\": 110.0, \"height\": 1}, {\"y_test\": 0, \"y_hat\": 0.7265959896977849, \"rank\": 111.0, \"height\": 1}, {\"y_test\": 0, \"y_hat\": 0.7363782200478539, \"rank\": 112.0, \"height\": 1}, {\"y_test\": 0, \"y_hat\": 0.7581471223589253, \"rank\": 113.0, \"height\": 1}, {\"y_test\": 1, \"y_hat\": 0.7583656017528344, \"rank\": 114.0, \"height\": 1}, {\"y_test\": 1, \"y_hat\": 0.7583656017528344, \"rank\": 115.0, \"height\": 1}, {\"y_test\": 0, \"y_hat\": 0.7603856000904686, \"rank\": 116.0, \"height\": 1}, {\"y_test\": 1, \"y_hat\": 0.7660752056230578, \"rank\": 117.0, \"height\": 1}, {\"y_test\": 1, \"y_hat\": 0.7661653490566019, \"rank\": 118.0, \"height\": 1}, {\"y_test\": 1, \"y_hat\": 0.7667990873356292, \"rank\": 119.0, \"height\": 1}, {\"y_test\": 1, \"y_hat\": 0.7673961310607452, \"rank\": 120.0, \"height\": 1}, {\"y_test\": 1, \"y_hat\": 0.7715456169546779, \"rank\": 121.0, \"height\": 1}, {\"y_test\": 1, \"y_hat\": 0.7773856086199752, \"rank\": 122.0, \"height\": 1}, {\"y_test\": 1, \"y_hat\": 0.7780579777923613, \"rank\": 123.0, \"height\": 1}, {\"y_test\": 0, \"y_hat\": 0.7994743620478519, \"rank\": 124.0, \"height\": 1}, {\"y_test\": 1, \"y_hat\": 0.8001018746166378, \"rank\": 125.0, \"height\": 1}, {\"y_test\": 1, \"y_hat\": 0.8008592570232206, \"rank\": 126.0, \"height\": 1}, {\"y_test\": 1, \"y_hat\": 0.8008592570232206, \"rank\": 127.0, \"height\": 1}, {\"y_test\": 1, \"y_hat\": 0.8037265535280311, \"rank\": 128.0, \"height\": 1}, {\"y_test\": 1, \"y_hat\": 0.8080272383105025, \"rank\": 129.0, \"height\": 1}, {\"y_test\": 0, \"y_hat\": 0.814499011300742, \"rank\": 130.0, \"height\": 1}, {\"y_test\": 1, \"y_hat\": 0.8148920203527564, \"rank\": 131.0, \"height\": 1}, {\"y_test\": 1, \"y_hat\": 0.8155780753928109, \"rank\": 132.0, \"height\": 1}, {\"y_test\": 1, \"y_hat\": 0.8169079725876272, \"rank\": 133.0, \"height\": 1}, {\"y_test\": 0, \"y_hat\": 0.8210751823970992, \"rank\": 134.0, \"height\": 1}, {\"y_test\": 0, \"y_hat\": 0.8210751823970992, \"rank\": 135.0, \"height\": 1}, {\"y_test\": 1, \"y_hat\": 0.8227984239778848, \"rank\": 136.0, \"height\": 1}, {\"y_test\": 1, \"y_hat\": 0.8251215225522648, \"rank\": 137.0, \"height\": 1}, {\"y_test\": 1, \"y_hat\": 0.8271234674453842, \"rank\": 138.0, \"height\": 1}, {\"y_test\": 1, \"y_hat\": 0.8421111759945149, \"rank\": 139.0, \"height\": 1}, {\"y_test\": 1, \"y_hat\": 0.8436387724037615, \"rank\": 140.0, \"height\": 1}, {\"y_test\": 1, \"y_hat\": 0.8468891820842824, \"rank\": 141.0, \"height\": 1}, {\"y_test\": 1, \"y_hat\": 0.8503735973152389, \"rank\": 142.0, \"height\": 1}, {\"y_test\": 1, \"y_hat\": 0.8516748987448692, \"rank\": 143.0, \"height\": 1}, {\"y_test\": 1, \"y_hat\": 0.8550870028722086, \"rank\": 144.0, \"height\": 1}, {\"y_test\": 1, \"y_hat\": 0.8553420067009477, \"rank\": 145.0, \"height\": 1}, {\"y_test\": 1, \"y_hat\": 0.8568232827016008, \"rank\": 146.0, \"height\": 1}, {\"y_test\": 1, \"y_hat\": 0.8593156542213755, \"rank\": 147.0, \"height\": 1}, {\"y_test\": 1, \"y_hat\": 0.8594150946998546, \"rank\": 148.0, \"height\": 1}, {\"y_test\": 1, \"y_hat\": 0.8625078480992865, \"rank\": 149.0, \"height\": 1}, {\"y_test\": 1, \"y_hat\": 0.8628610629297111, \"rank\": 150.0, \"height\": 1}, {\"y_test\": 1, \"y_hat\": 0.8663676215708076, \"rank\": 151.0, \"height\": 1}, {\"y_test\": 1, \"y_hat\": 0.8667524452336367, \"rank\": 152.0, \"height\": 1}, {\"y_test\": 1, \"y_hat\": 0.8675727734913147, \"rank\": 153.0, \"height\": 1}, {\"y_test\": 0, \"y_hat\": 0.8688439938350414, \"rank\": 154.0, \"height\": 1}, {\"y_test\": 1, \"y_hat\": 0.870408095096811, \"rank\": 155.0, \"height\": 1}, {\"y_test\": 0, \"y_hat\": 0.870555568791819, \"rank\": 156.0, \"height\": 1}, {\"y_test\": 1, \"y_hat\": 0.8711746013254619, \"rank\": 157.0, \"height\": 1}, {\"y_test\": 1, \"y_hat\": 0.8711782355405224, \"rank\": 158.0, \"height\": 1}, {\"y_test\": 1, \"y_hat\": 0.8713140686877326, \"rank\": 159.0, \"height\": 1}, {\"y_test\": 1, \"y_hat\": 0.8720092656810571, \"rank\": 160.0, \"height\": 1}, {\"y_test\": 1, \"y_hat\": 0.8720513801053112, \"rank\": 161.0, \"height\": 1}, {\"y_test\": 1, \"y_hat\": 0.8722608663615532, \"rank\": 162.0, \"height\": 1}, {\"y_test\": 1, \"y_hat\": 0.8723818600527414, \"rank\": 163.0, \"height\": 1}, {\"y_test\": 1, \"y_hat\": 0.8730429249068419, \"rank\": 164.0, \"height\": 1}, {\"y_test\": 1, \"y_hat\": 0.8730951281146055, \"rank\": 165.0, \"height\": 1}, {\"y_test\": 1, \"y_hat\": 0.873486405951579, \"rank\": 166.0, \"height\": 1}, {\"y_test\": 1, \"y_hat\": 0.8740185977767008, \"rank\": 167.0, \"height\": 1}, {\"y_test\": 1, \"y_hat\": 0.8741441586221549, \"rank\": 168.0, \"height\": 1}, {\"y_test\": 1, \"y_hat\": 0.8745943618032186, \"rank\": 169.0, \"height\": 1}, {\"y_test\": 1, \"y_hat\": 0.8756332711657734, \"rank\": 170.0, \"height\": 1}, {\"y_test\": 1, \"y_hat\": 0.876578821172332, \"rank\": 171.0, \"height\": 1}, {\"y_test\": 1, \"y_hat\": 0.8766058054350374, \"rank\": 172.0, \"height\": 1}, {\"y_test\": 1, \"y_hat\": 0.8772055248684596, \"rank\": 173.0, \"height\": 1}, {\"y_test\": 1, \"y_hat\": 0.8773109964103757, \"rank\": 174.0, \"height\": 1}, {\"y_test\": 1, \"y_hat\": 0.8773262917618524, \"rank\": 175.0, \"height\": 1}, {\"y_test\": 1, \"y_hat\": 0.878987958898234, \"rank\": 176.0, \"height\": 1}, {\"y_test\": 1, \"y_hat\": 0.8791471819180231, \"rank\": 177.0, \"height\": 1}, {\"y_test\": 1, \"y_hat\": 0.8793726410258497, \"rank\": 178.0, \"height\": 1}, {\"y_test\": 1, \"y_hat\": 0.8793959054613892, \"rank\": 179.0, \"height\": 1}, {\"y_test\": 1, \"y_hat\": 0.8795846441473926, \"rank\": 180.0, \"height\": 1}, {\"y_test\": 1, \"y_hat\": 0.8799250810210957, \"rank\": 181.0, \"height\": 1}, {\"y_test\": 1, \"y_hat\": 0.8801180805021382, \"rank\": 182.0, \"height\": 1}, {\"y_test\": 1, \"y_hat\": 0.8802801559502035, \"rank\": 183.0, \"height\": 1}, {\"y_test\": 1, \"y_hat\": 0.88108039728131, \"rank\": 184.0, \"height\": 1}, {\"y_test\": 1, \"y_hat\": 0.8812620666155264, \"rank\": 185.0, \"height\": 1}, {\"y_test\": 1, \"y_hat\": 0.8820281241031381, \"rank\": 186.0, \"height\": 1}, {\"y_test\": 1, \"y_hat\": 0.8822157054703138, \"rank\": 187.0, \"height\": 1}, {\"y_test\": 1, \"y_hat\": 0.8835625069250953, \"rank\": 188.0, \"height\": 1}, {\"y_test\": 1, \"y_hat\": 0.8839563621938621, \"rank\": 189.0, \"height\": 1}, {\"y_test\": 0, \"y_hat\": 0.8839563621938621, \"rank\": 190.0, \"height\": 1}, {\"y_test\": 1, \"y_hat\": 0.8849173807589666, \"rank\": 191.0, \"height\": 1}, {\"y_test\": 1, \"y_hat\": 0.8855160661218193, \"rank\": 192.0, \"height\": 1}, {\"y_test\": 1, \"y_hat\": 0.8858735784501818, \"rank\": 193.0, \"height\": 1}, {\"y_test\": 1, \"y_hat\": 0.8864103563935767, \"rank\": 194.0, \"height\": 1}, {\"y_test\": 1, \"y_hat\": 0.8871745502227134, \"rank\": 195.0, \"height\": 1}, {\"y_test\": 1, \"y_hat\": 0.888265898997917, \"rank\": 196.0, \"height\": 1}, {\"y_test\": 1, \"y_hat\": 0.888265898997917, \"rank\": 197.0, \"height\": 1}, {\"y_test\": 1, \"y_hat\": 0.8887755054210084, \"rank\": 198.0, \"height\": 1}, {\"y_test\": 1, \"y_hat\": 0.8887755054210084, \"rank\": 199.0, \"height\": 1}, {\"y_test\": 1, \"y_hat\": 0.8933871920962582, \"rank\": 200.0, \"height\": 1}, {\"y_test\": 0, \"y_hat\": 0.8936565714573282, \"rank\": 201.0, \"height\": 1}, {\"y_test\": 1, \"y_hat\": 0.8937817555166392, \"rank\": 202.0, \"height\": 1}, {\"y_test\": 1, \"y_hat\": 0.8937817555166392, \"rank\": 203.0, \"height\": 1}, {\"y_test\": 1, \"y_hat\": 0.8937817555166392, \"rank\": 204.0, \"height\": 1}, {\"y_test\": 1, \"y_hat\": 0.8937817555166392, \"rank\": 205.0, \"height\": 1}, {\"y_test\": 1, \"y_hat\": 0.8946816329302731, \"rank\": 206.0, \"height\": 1}, {\"y_test\": 1, \"y_hat\": 0.8969309380402604, \"rank\": 207.0, \"height\": 1}, {\"y_test\": 1, \"y_hat\": 0.8969309380402604, \"rank\": 208.0, \"height\": 1}, {\"y_test\": 1, \"y_hat\": 0.8969354768758806, \"rank\": 209.0, \"height\": 1}, {\"y_test\": 1, \"y_hat\": 0.897122745475474, \"rank\": 210.0, \"height\": 1}, {\"y_test\": 1, \"y_hat\": 0.8978019105905647, \"rank\": 211.0, \"height\": 1}, {\"y_test\": 1, \"y_hat\": 0.8979152748556787, \"rank\": 212.0, \"height\": 1}, {\"y_test\": 1, \"y_hat\": 0.8979152748556787, \"rank\": 213.0, \"height\": 1}, {\"y_test\": 1, \"y_hat\": 0.8993825198043106, \"rank\": 214.0, \"height\": 1}, {\"y_test\": 1, \"y_hat\": 0.900237523263943, \"rank\": 215.0, \"height\": 1}, {\"y_test\": 0, \"y_hat\": 0.9018102747277783, \"rank\": 216.0, \"height\": 1}, {\"y_test\": 1, \"y_hat\": 0.9026878573438463, \"rank\": 217.0, \"height\": 1}, {\"y_test\": 1, \"y_hat\": 0.9050692690300444, \"rank\": 218.0, \"height\": 1}, {\"y_test\": 1, \"y_hat\": 0.908549201862831, \"rank\": 219.0, \"height\": 1}, {\"y_test\": 1, \"y_hat\": 0.9095794685141717, \"rank\": 220.0, \"height\": 1}, {\"y_test\": 1, \"y_hat\": 0.9103316358926052, \"rank\": 221.0, \"height\": 1}, {\"y_test\": 1, \"y_hat\": 0.910769554183102, \"rank\": 222.0, \"height\": 1}, {\"y_test\": 1, \"y_hat\": 0.911107556430194, \"rank\": 223.0, \"height\": 1}]}};\n",
       "const opt = {};\n",
       "const type = \"vega-lite\";\n",
       "const id = \"6f029223-e295-4845-972c-c081479e3e19\";\n",
       "\n",
       "const output_area = this;\n",
       "\n",
       "require([\"nbextensions/jupyter-vega/index\"], function(vega) {\n",
       "  const target = document.createElement(\"div\");\n",
       "  target.id = id;\n",
       "  target.className = \"vega-embed\";\n",
       "\n",
       "  const style = document.createElement(\"style\");\n",
       "  style.textContent = [\n",
       "    \".vega-embed .error p {\",\n",
       "    \"  color: firebrick;\",\n",
       "    \"  font-size: 14px;\",\n",
       "    \"}\",\n",
       "  ].join(\"\\\\n\");\n",
       "\n",
       "  // element is a jQuery wrapped DOM element inside the output area\n",
       "  // see http://ipython.readthedocs.io/en/stable/api/generated/\\\n",
       "  // IPython.display.html#IPython.display.Javascript.__init__\n",
       "  element[0].appendChild(target);\n",
       "  element[0].appendChild(style);\n",
       "\n",
       "  vega.render(\"#\" + id, spec, type, opt, output_area);\n",
       "}, function (err) {\n",
       "  if (err.requireType !== \"scripterror\") {\n",
       "    throw(err);\n",
       "  }\n",
       "});\n"
      ],
      "text/plain": [
       "<vega.vegalite.VegaLite at 0x1a1eb9df28>"
      ]
     },
     "metadata": {
      "jupyter-vega": "#6f029223-e295-4845-972c-c081479e3e19"
     },
     "output_type": "display_data"
    },
    {
     "data": {
      "text/plain": []
     },
     "execution_count": 35,
     "metadata": {},
     "output_type": "execute_result"
    },
    {
     "data": {
      "image/png": "[encoded data removed]"
     },
     "metadata": {
      "jupyter-vega": "#6f029223-e295-4845-972c-c081479e3e19"
     },
     "output_type": "display_data"
    }
   ],
   "source": [
    "alt.Chart(preds).mark_bar().encode(x='rank', y='height', color='y_test:N')"
   ]
  }
 ],
 "metadata": {
  "kernelspec": {
   "display_name": "Python 3",
   "language": "python",
   "name": "python3"
  },
  "language_info": {
   "codemirror_mode": {
    "name": "ipython",
    "version": 3
   },
   "file_extension": ".py",
   "mimetype": "text/x-python",
   "name": "python",
   "nbconvert_exporter": "python",
   "pygments_lexer": "ipython3",
   "version": "3.7.3"
  }
 },
 "nbformat": 4,
 "nbformat_minor": 2
}
