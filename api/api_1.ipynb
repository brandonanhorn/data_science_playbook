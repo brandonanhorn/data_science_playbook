{
 "cells": [
  {
   "cell_type": "markdown",
   "metadata": {
    "slideshow": {
     "slide_type": "slide"
    }
   },
   "source": [
    "# Intro theory to APIs"
   ]
  },
  {
   "cell_type": "markdown",
   "metadata": {
    "slideshow": {
     "slide_type": "slide"
    }
   },
   "source": [
    "## API?\n",
    "\n",
    "---\n",
    "\n",
    "An application programming interface (API) is a set of routines, protocols, and tools for interacting with a system. It specifies how to interact with a software component.\n",
    "\n",
    "APIs are a way developers make data (or tools, or other resources) available for reuse by other developers. \n",
    "\n",
    "Some examples include:\n",
    "\n",
    "- Libraries that post content on Twitter, Facebook, Yelp, LinkedIn\n",
    "- Web services for accessing currency or stock prices\n",
    "- Python modules\n",
    "- Accessing built-in functions of a mobile device (GPS reading, saving data to file, etc)\n",
    "\n",
    "\n",
    "In the context of data science, APIs are a common method for interacting with data hosted by third parties and are most commonly provided by **web APIs**."
   ]
  },
  {
   "cell_type": "markdown",
   "metadata": {
    "slideshow": {
     "slide_type": "slide"
    }
   },
   "source": [
    "<a id='api-examples'></a>\n",
    "\n",
    "### Examples of APIs: Facebook\n",
    "\n",
    "Facebook provides an API for interacting with its service. At a glance, you can:\n",
    "\n",
    "- View your posts.\n",
    "- View websites, people, posts, and pages that you've liked.\n",
    "- View activity on apps from you and your friends.\n",
    "  - Movies watched.\n",
    "  - Music listened to.\n",
    "  - Games played.\n",
    "- View places traveled/check ins.\n",
    "- Maintain or build relationships.\n"
   ]
  },
  {
   "cell_type": "markdown",
   "metadata": {
    "slideshow": {
     "slide_type": "slide"
    }
   },
   "source": [
    "<a id='yelp'></a>\n",
    "### Examples of APIs: Yelp\n",
    "\n",
    "Yelp provides a way for developers to access:\n",
    "\n",
    "- Reviews.\n",
    " - Services.\n",
    " - Restaurants, bars, and cafes.\n",
    " - Businesses.\n",
    "- Business metadata.\n"
   ]
  },
  {
   "cell_type": "markdown",
   "metadata": {
    "slideshow": {
     "slide_type": "slide"
    }
   },
   "source": [
    "<a id='echonest'></a>\n",
    "### Examples of APIs: Echonest\n",
    "\n",
    "Echonest consolidates access to many entertainment service APIs in one place. It has a huge list of features and connected services, including:\n",
    "\n",
    "- Spotify\n",
    "- Pandora\n",
    "- Rdio\n",
    "- Gracenote\n",
    "- SoundHound\n",
    "- Shazam\n",
    "\n",
    "Some Echonest features include:\n",
    "\n",
    "- Music waveform identification (like Shazam or SoundHound's music ID).\n",
    "- Playlist recommendations.\n",
    "- Detailed artist, album, and track lookup.\n",
    " - Artist biographies, origins, contemporaries, and noteworthy accomplishments.\n",
    " - Official Twitter, website, and social media links.\n",
    " - BPM, mood, popularity, and genre(s). \n",
    " - Images, videos, and media.\n",
    "- Detailed movie, actor, and product lookup.\n",
    "- Concert schedules and ticket metadata."
   ]
  },
  {
   "cell_type": "markdown",
   "metadata": {
    "slideshow": {
     "slide_type": "slide"
    }
   },
   "source": [
    "<a id='http'></a>\n",
    "## Hypertext Transfer Protocol (HTTP)\n",
    "\n",
    "---\n",
    "\n",
    "HTTP is a protocol — a system of rules — that determines how information should be\n",
    "passed around over the web. \n",
    "\n",
    "It defines the format of the messages passed between clients and servers.\n",
    "\n"
   ]
  },
  {
   "cell_type": "markdown",
   "metadata": {},
   "source": [
    "HTTP is just one of many web protocols:\n",
    "    * IP\n",
    "    * FTP\n",
    "    * SMTP\n",
    "    * TCP\n",
    "    * UDP\n",
    "    * SSH\n",
    "    * SSL\n",
    "    * TLS\n",
    "    * POP3\n",
    "    * IMAP\n",
    "    * IRC\n",
    "    * DNS\n",
    "    * DHCP\n",
    "    * BitTorrent\n",
    "    * more!"
   ]
  },
  {
   "cell_type": "markdown",
   "metadata": {
    "slideshow": {
     "slide_type": "slide"
    }
   },
   "source": [
    "### The HTTP Client\n",
    "\n",
    "Clients send requests to servers and receive responses in return.\n",
    "\n",
    "Some types of clients include:\n",
    "\n",
    "* Browsers — Chrome, Firefox, and Safari.\n",
    "* Command line programs — [curl](http://curl.haxx.se/docs/) and [wget](http://www.gnu.org/software/wget/manual/wget.html).\n",
    "* Application code — Python requests, Scrapy, and Mechanize.\n"
   ]
  },
  {
   "cell_type": "markdown",
   "metadata": {
    "slideshow": {
     "slide_type": "slide"
    }
   },
   "source": [
    "### The HTTP Server\n",
    "\n",
    "\n",
    "Servers receive requests from clients and send back responses.\n",
    "\n"
   ]
  },
  {
   "cell_type": "markdown",
   "metadata": {
    "slideshow": {
     "slide_type": "slide"
    }
   },
   "source": [
    "<a id='web-app'></a>\n",
    "### Web Server vs Web Applications\n",
    "\n",
    "---\n",
    "\n",
    "Web applications are programs that run on a web server, process the requests the server receives, and generate responses.\n",
    "\n",
    "\n",
    "1. A client sends an HTTP request to an HTTP server running on a remote machine.  \n",
    "  * The _hostname_ given in the URL indicates which server will receive the request.  \n",
    "2. The HTTP server processes the HTTP request. This may entail passing the request to a web application, which creates an HTTP response.\n",
    "3. The response gets sent back to the client.\n",
    "4. The client processes the response.\n",
    "\n",
    "\n"
   ]
  },
  {
   "cell_type": "markdown",
   "metadata": {
    "slideshow": {
     "slide_type": "slide"
    }
   },
   "source": [
    "<a id='http-request'></a>\n",
    "## HTTP Request\n",
    "\n",
    "---\n",
    "\n",
    "What's in a request?\n",
    "\n",
    "- URL\n",
    "- HTTP Request method (like GET)\n",
    "- Headers (Content-Type, etc.)\n",
    "- Sometimes a body\n",
    "\n",
    "<a id='request-structure'></a>\n",
    "### HTTP Request Structure\n",
    "\n",
    "```\n",
    "[http request method] [URL] [http version]  \n",
    "[list of headers]\n",
    "\n",
    "[request body]\n",
    "```\n",
    "\n",
    "\n",
    "#### HTTP Request Method Example (No Body)\n",
    "\n",
    "    GET http://vermonster.com HTTP/1.1  \n",
    "    Accept:text/html,application/xhtml+xml,application/xml;q=0.9,image/webp,*/*;q=0.8  \n",
    "    Accept-Encoding:gzip,deflate,sdch\n",
    "    Accept-Language:en-US,en;q=0.8  \n",
    "    Connection:keep-alive  \n",
    "    Host:vermonster.com  \n",
    "    User-Agent:Mozilla/5.0 (Macintosh; Intel Mac OS X 10_8_5)  \n",
    "    AppleWebKit/537.36 (KHTML, like Gecko) Chrome/32.0.1659.2 Safari/537.36 \n",
    "\n",
    "\n",
    "\n",
    "<a id='request-methods'></a>\n",
    "### HTTP Request Methods:\n",
    "\n",
    "* **`GET`** => Retrieve a resource.  \n",
    "* **`POST`** => Create a resource.  \n",
    "* **`PATCH`** (_or **`PUT`**, but **`PATCH`** is recommended_) => Update an existing resource.  \n",
    "* **`DELETE`** => Delete a resource.  \n",
    "* **`HEAD`** => Retrieve the headers for a resource.\n",
    "\n",
    "Of these, **`GET`** is the one we'll be using most."
   ]
  },
  {
   "cell_type": "markdown",
   "metadata": {
    "slideshow": {
     "slide_type": "slide"
    }
   },
   "source": [
    "<a id='http-response'></a>\n",
    "## HTTP Response\n",
    "\n",
    "---\n",
    "\n",
    "What’s in a response?\n",
    "- Status code (200 OK, 404 Not Found, etc)\n",
    "- Headers\n",
    "- Body (most of the time)\n",
    "\n",
    "\n",
    "When a client sends a request, the server sends back a response; the standard format for this response is:\n",
    "\n",
    "```\n",
    "[http version] [status] [reason]  \n",
    "[list of headers]\n",
    "\n",
    "[response body] # Typically HTML\n",
    "```"
   ]
  },
  {
   "cell_type": "markdown",
   "metadata": {
    "slideshow": {
     "slide_type": "slide"
    }
   },
   "source": [
    "<a id='response-types'></a>\n",
    "### Response Types Overview\n",
    "\n",
    "**[Status codes](https://httpstatuses.com/)** have standard meanings. \n",
    "\n",
    "#### Status Code Groups\n",
    "* 1×× Informational\n",
    "* 2×× Success\n",
    "* 3×× Redirection\n",
    "* 4×× Client Error\n",
    "* 5×× Server Error\n",
    "\n",
    "Here are a few specific status codes to know about:\n",
    "\n",
    "|Code|Reason|\n",
    "|:---|:-----|\n",
    "|200| OK\n",
    "|301| Moved Permanently\n",
    "|302| Moved Temporarily\n",
    "|400| Bad Request\n",
    "|403| Forbidden\n",
    "|404| Not Found\n",
    "|429| Too Many Requests\n",
    "|500| Internal Server Error\n",
    "\n"
   ]
  },
  {
   "cell_type": "markdown",
   "metadata": {},
   "source": [
    "## HTTP is stateless\n",
    "\n",
    "- State (or context) is never saved between requests\n",
    "- The server will forget who you are each time\n",
    "- Each new request needs to provide the right context\n",
    "\n",
    "![](assets/stateless_server.png)\n",
    "\n",
    "### This can be solved with cookies"
   ]
  },
  {
   "cell_type": "markdown",
   "metadata": {},
   "source": [
    "### Great [quickstart guide](http://docs.python-requests.org/en/master/user/quickstart/)."
   ]
  }
 ],
 "metadata": {
  "anaconda-cloud": {},
  "celltoolbar": "Slideshow",
  "kernelspec": {
   "display_name": "Python 3",
   "language": "python",
   "name": "python3"
  },
  "language_info": {
   "codemirror_mode": {
    "name": "ipython",
    "version": 3
   },
   "file_extension": ".py",
   "mimetype": "text/x-python",
   "name": "python",
   "nbconvert_exporter": "python",
   "pygments_lexer": "ipython3",
   "version": "3.6.4"
  }
 },
 "nbformat": 4,
 "nbformat_minor": 1
}
