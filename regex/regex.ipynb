{
 "cells": [
  {
   "cell_type": "markdown",
   "metadata": {
    "slideshow": {
     "slide_type": "slide"
    }
   },
   "source": [
    "# Regular Expressions\n",
    "## AKA \"Regex\"\n",
    "\n",
    "---\n",
    "\n",
    "<a id=\"learning-objectives\"></a>\n",
    "### Learning Objectives\n",
    "\n",
    "- Define regular expressions\n",
    "- Identify the use cases for regular expressions\n",
    "- Use regular expressions to search and match text\n",
    "- Use Python's regex methods"
   ]
  },
  {
   "cell_type": "markdown",
   "metadata": {
    "slideshow": {
     "slide_type": "slide"
    }
   },
   "source": [
    "<a id=\"what-are-regular-expression\"></a>\n",
    "\n",
    "## Regex\n",
    "\n",
    "a special syntax for defining text/string patterns\n",
    "\n",
    "* searching\n",
    "* validating\n",
    "* search and replacing \n",
    "* natural language processing!"
   ]
  },
  {
   "cell_type": "markdown",
   "metadata": {
    "slideshow": {
     "slide_type": "slide"
    }
   },
   "source": [
    "<a id=\"so-what-does-a-regular-expression-look-like\"></a>\n",
    "# They look something like this:\n",
    "\n",
    "## ```/^([a-z0-9_\\.-]+)@([\\da-z\\.-]+)\\.([a-z\\.]{2,6})$/```\n",
    "\n",
    "\n",
    "* Minor variations in syntax exist between different programming languages"
   ]
  },
  {
   "cell_type": "markdown",
   "metadata": {
    "slideshow": {
     "slide_type": "slide"
    }
   },
   "source": [
    "<a id=\"exploring-regex\"></a>\n",
    "## Exploring `regex`\n",
    "\n",
    "---\n",
    "\n",
    "[RegExr](http://regexr.com/) is a website lets you try out `regex`.\n",
    "\n",
    "1. Open [http://regexr.com/](http://regexr.com/) in a new browser tab\n",
    "\n",
    "2. In the upper right-hand corner, click on \"flags\" and make sure <b>g</b>(lobal) and <b>m</b>(ultiline) are turned on"
   ]
  },
  {
   "cell_type": "markdown",
   "metadata": {
    "slideshow": {
     "slide_type": "slide"
    }
   },
   "source": [
    "<a id=\"basic-regular-expression-syntax\"></a>\n",
    "## Basic Regular Expression Syntax\n",
    "---\n",
    "\n",
    "<a id=\"literals\"></a>\n",
    "### Literals\n",
    "\n",
    "Literals are just what they look like:\n",
    "\n",
    "```\n",
    "a\n",
    "b\n",
    "c\n",
    "X\n",
    "Y\n",
    "Z\n",
    "1\n",
    "5\n",
    "``` \n"
   ]
  },
  {
   "cell_type": "markdown",
   "metadata": {
    "slideshow": {
     "slide_type": "slide"
    }
   },
   "source": [
    "<a id=\"character-classes\"></a>\n",
    "### Character Classes\n",
    "\n",
    "A character class is a set of characters matched as an \"or.\"\n",
    "\n",
    "```\n",
    "[io]\n",
    "```\n",
    "\n",
    "So, this class would run as \"match either i or o.\"\n",
    "\n",
    "You can include as many characters as you like in between the brackets.\n",
    "\n",
    "Character classes match only a single character."
   ]
  },
  {
   "cell_type": "markdown",
   "metadata": {
    "slideshow": {
     "slide_type": "slide"
    }
   },
   "source": [
    "<a id=\"character-classes-can-also-accept-certain-ranges\"></a>\n",
    "### Character Classes Can Also Accept Certain Ranges\n",
    "\n",
    "For example, the following will all work:\n",
    "    \n",
    "```\n",
    "[a-f]\n",
    "[a-z]\n",
    "[A-Z]\n",
    "[a-zA-Z]\n",
    "[1-4]\n",
    "[a-c1-3]\n",
    "```"
   ]
  },
  {
   "cell_type": "markdown",
   "metadata": {
    "slideshow": {
     "slide_type": "slide"
    }
   },
   "source": [
    "<a id=\"character-class-negation\"></a>\n",
    "### Character Class Negation\n",
    "\n",
    "We can also add **negation** to character classes. For example:\n",
    "\n",
    "```\n",
    "[^a-z]\n",
    "```\n",
    "\n",
    "This means match *ANYTHING* that is *NOT* `a` through `z`."
   ]
  },
  {
   "cell_type": "markdown",
   "metadata": {
    "slideshow": {
     "slide_type": "slide"
    }
   },
   "source": [
    "<a id=\"shorthand-for-character-classes\"></a>\n",
    "## Shorthand for Character Classes\n",
    "---\n",
    "\n",
    "```\n",
    "\\w - Matches word characters (letters, digits, and underscores)\n",
    "\\W - Matches what \\w doesn't — non-word characters\n",
    "\\d - Matches all digit characters\n",
    "\\D - Matches all non-digit characters\n",
    "\\s - Matches whitespace (including tabs)\n",
    "\\S - Matches non-whitespace\n",
    "\\n - Matches new lines\n",
    "\\t - Matches tabs\n",
    "```"
   ]
  },
  {
   "cell_type": "markdown",
   "metadata": {
    "slideshow": {
     "slide_type": "fragment"
    }
   },
   "source": [
    "These can also be placed into brackets like so:\n",
    "\n",
    "```\n",
    "[\\d\\t]\n",
    "[^\\d\\t]\n",
    "```"
   ]
  },
  {
   "cell_type": "markdown",
   "metadata": {
    "slideshow": {
     "slide_type": "slide"
    }
   },
   "source": [
    "<a id=\"special-characters\"></a>\n",
    "## Special Characters\n",
    "---\n",
    "\n",
    "Certain characters must be escaped with a backslash: \"`\\`.\"\n",
    "\n",
    "These include the following:\n",
    "\n",
    "```\n",
    ".\n",
    "?\n",
    "\\\n",
    "{\n",
    "}\n",
    "(\n",
    ")\n",
    "[\n",
    "]\n",
    "+\n",
    "-\n",
    "&\n",
    "<\n",
    ">\n",
    "^\n",
    "$\n",
    "```"
   ]
  },
  {
   "cell_type": "markdown",
   "metadata": {
    "slideshow": {
     "slide_type": "slide"
    }
   },
   "source": [
    "<a id=\"the-dot\"></a>\n",
    "## The Dot\n",
    "\n",
    "---\n",
    "\n",
    "The dot is a wildcard that matches any single character."
   ]
  },
  {
   "cell_type": "markdown",
   "metadata": {
    "slideshow": {
     "slide_type": "slide"
    }
   },
   "source": [
    "<a id=\"anchors\"></a>\n",
    "## Anchors\n",
    "\n",
    "---\n",
    "\n",
    "Anchors are used to denote the start and end of a line.\n",
    "\n",
    "```\n",
    "^ - Matches the start of the line\n",
    "$ - Matches the end of the line\n",
    "```\n",
    "\n",
    "Example:\n",
    "\n",
    "\n",
    "`^Now` - Matches \"Now\" only at the beginning of a line.  \n",
    "`country$` - Matches \"country\" only at the end of a line.\n"
   ]
  },
  {
   "cell_type": "markdown",
   "metadata": {
    "slideshow": {
     "slide_type": "slide"
    }
   },
   "source": [
    "<a id=\"modifiers\"></a>\n",
    "## Modifiers\n",
    "\n",
    "---\n",
    "\n",
    "Modifiers control the following:\n",
    "    \n",
    "```\n",
    "g - Global match (matches every occurance in the text, rather than just the first)\n",
    "i - Case insensitivity\n",
    "m - Multiline (modifies how ^ and $ work)\n",
    "```"
   ]
  },
  {
   "cell_type": "markdown",
   "metadata": {
    "slideshow": {
     "slide_type": "-"
    }
   },
   "source": [
    "<a id=\"quantifiers\"></a>\n",
    "## Quantifiers\n",
    "\n",
    "---\n",
    "\n",
    "Quantfiers adjust how many items are matched.\n",
    "\n",
    "```\n",
    "* - Zero or more\n",
    "+ - One or more\n",
    "? - Zero or one\n",
    "{n} - Exactly 'n' number\n",
    "{n,} - Matches 'n' or more occurrences\n",
    "{n,m} - Between 'n' and 'm'\n",
    "```"
   ]
  },
  {
   "cell_type": "markdown",
   "metadata": {
    "slideshow": {
     "slide_type": "slide"
    }
   },
   "source": [
    "<a id=\"greedy-and-lazy-matching\"></a>\n",
    "## Greedy and Lazy Matching\n",
    "\n",
    "---\n",
    "\n",
    "\n",
    "By nature, ```.+ and .*``` are *greedy* matchers. This means they will match for as many characters as possible (i.e., the longest match).\n",
    "\n",
    "This can be flipped to lazy matching (the shortest match) by adding a question mark: `?`.\n"
   ]
  },
  {
   "cell_type": "markdown",
   "metadata": {
    "slideshow": {
     "slide_type": "slide"
    }
   },
   "source": [
    "<a id=\"groups-and-capturing\"></a>\n",
    "## Groups\n",
    "\n",
    "---\n",
    "\n",
    "In `regex`, parentheses — `()` — put characters into \"groups\". You can then use quantifiers (`*`, `+`, etc) on these groups:\n",
    "\n",
    "```\n",
    "(very )+good\n",
    "```\n",
    "In this example, we want to apply `+` to the substring \"very \" ( just a single character), so we wrap it in `()`.\n",
    "Now the regex will match \"very good\", \"very very good\", \"very very very good\", and so on."
   ]
  },
  {
   "cell_type": "markdown",
   "metadata": {},
   "source": [
    "### Now we can return to our original email-matching regex:\n",
    "\n",
    "`/^([a-z0-9_\\.-]+)@([\\da-z\\.-]+)\\.([a-z\\.]{2,6})$/`"
   ]
  },
  {
   "cell_type": "markdown",
   "metadata": {},
   "source": [
    "![](https://cdn.tutsplus.com/net/uploads/legacy/404_regularExpressions/images/email.jpg)"
   ]
  },
  {
   "cell_type": "markdown",
   "metadata": {},
   "source": [
    "String that matches:\n",
    "`john@doe.com`\n",
    "\n",
    "String that doesn't match:\n",
    "`john@doe.something` (last part (top-level domain) is too long)"
   ]
  },
  {
   "cell_type": "markdown",
   "metadata": {
    "slideshow": {
     "slide_type": "slide"
    }
   },
   "source": [
    "<a id=\"alternation\"></a>\n",
    "## Alternation (\"OR\")\n",
    "\n",
    "---\n",
    "\n",
    "The pipe character — `|` — can be used to denote an OR relation\n",
    "\n",
    "For example:\n",
    "```\n",
    "(bob|bab)\n",
    "```\n",
    "```\n",
    "(b(o|a)b)\n",
    "```\n",
    "```\n",
    "(hello|hi)\n",
    "```"
   ]
  },
  {
   "cell_type": "markdown",
   "metadata": {
    "slideshow": {
     "slide_type": "slide"
    }
   },
   "source": [
    "<a id=\"word-border\"></a>\n",
    "## Word Boundary\n",
    "\n",
    "---\n",
    "\n",
    "The word boundary — `\\b` — limits matches to those that mark the beginnings or ends of words.\n",
    "\n",
    "This can be used on both the left and right sides of the match.\n",
    "\n",
    "to match the letter \"m\" at the end of a word:\n",
    "```\n",
    "m\\b\n",
    "```\n",
    "to match the letter \"m\" at the start of a word:\n",
    "```\n",
    "\\bm\n",
    "```\n",
    "\n"
   ]
  },
  {
   "cell_type": "markdown",
   "metadata": {
    "slideshow": {
     "slide_type": "slide"
    }
   },
   "source": [
    "<a id=\"lookahead\"></a>\n",
    "## Lookahead\n",
    "---\n",
    "\n",
    "There are two types of lookaheads:\n",
    "\n",
    "1. Positive:\n",
    "```    \n",
    "(?=match_text) \n",
    "```\n",
    "\n",
    "2. Negative:\n",
    "```\n",
    "(?!match_text)\n",
    "```\n",
    "\n",
    "Examples:\n",
    "\n",
    "Only match \"that\" if it is followed by \"guy\"\n",
    "```\n",
    "that(?=guy) \n",
    "```\n",
    "\n",
    "Only match \"these\" if it is NOT follow by \"guys\"\n",
    "```\n",
    "these(?!guys) \n",
    "```\n"
   ]
  },
  {
   "cell_type": "markdown",
   "metadata": {
    "slideshow": {
     "slide_type": "slide"
    }
   },
   "source": [
    "<a id=\"regex-in-python-and-pandas\"></a>\n",
    "## Regex in Python and `pandas`\n",
    "\n",
    "---\n",
    "\n",
    "Let's practice working with `regex` in Python and `pandas` using the string below."
   ]
  },
  {
   "cell_type": "code",
   "execution_count": 1,
   "metadata": {
    "slideshow": {
     "slide_type": "-"
    }
   },
   "outputs": [],
   "source": [
    "import re"
   ]
  },
  {
   "cell_type": "code",
   "execution_count": 2,
   "metadata": {
    "slideshow": {
     "slide_type": "-"
    }
   },
   "outputs": [],
   "source": [
    "\n",
    "my_string = \"\"\"\n",
    "I said a hop,\n",
    "The hippie, the hippie,\n",
    "To the hip, hip hop, and you don't stop, a rock it\n",
    "To the bang bang boogie, say, up jump the boogie,\n",
    "To the rhythm of the boogie, the beat.\n",
    "\"\"\""
   ]
  },
  {
   "cell_type": "markdown",
   "metadata": {
    "slideshow": {
     "slide_type": "slide"
    }
   },
   "source": [
    "<a id=\"regex-search-method\"></a>\n",
    "###  `re.search()` Method"
   ]
  },
  {
   "cell_type": "code",
   "execution_count": 3,
   "metadata": {},
   "outputs": [],
   "source": [
    "match_obj = re.search(r'([a-z]+)(\\1)(!*)', 'haha!!!!!!')"
   ]
  },
  {
   "cell_type": "code",
   "execution_count": 4,
   "metadata": {},
   "outputs": [
    {
     "data": {
      "text/plain": [
       "('ha', 'ha', '!!!!!!')"
      ]
     },
     "execution_count": 4,
     "metadata": {},
     "output_type": "execute_result"
    }
   ],
   "source": [
    "match_obj.groups()"
   ]
  },
  {
   "cell_type": "code",
   "execution_count": 5,
   "metadata": {
    "slideshow": {
     "slide_type": "-"
    }
   },
   "outputs": [
    {
     "name": "stdout",
     "output_type": "stream",
     "text": [
      "hipp\n",
      "p\n"
     ]
    }
   ],
   "source": [
    "match_obj = re.search('hip(p?)', my_string)\n",
    "print(match_obj.group())\n",
    "print(match_obj.group(1))"
   ]
  },
  {
   "cell_type": "markdown",
   "metadata": {
    "slideshow": {
     "slide_type": "slide"
    }
   },
   "source": [
    "## Capturing Groups\n",
    "\n",
    "The characters matched by each group is \"captured\" and assigned a number (e.g., ```$1, $2...```)\n",
    "\n",
    "```\n",
    "(very )?good(!*)\n",
    "```\n",
    "\n",
    "For the string \"very good!\", `$1` will contain \"very\" and `$2` will contain \"!\"\n",
    "\n",
    "In RegExr, open the \"list\" panel of the \"tools\" section at the bottom on the page to see these captured values.\n",
    "\n",
    "In Python, use `\\1` instead of `$1` to reference captured groups.\n",
    "\n",
    "To match repeating letters:\n",
    "```\n",
    "/([a-z])\\1/\n",
    "```\n",
    "\n",
    "To stop a group from being captured, use `(?:   )` instead of `(   )`:\n",
    "\n",
    "```\n",
    "/(?:[0-9])/\n",
    "```"
   ]
  },
  {
   "cell_type": "markdown",
   "metadata": {
    "slideshow": {
     "slide_type": "slide"
    }
   },
   "source": [
    "<a id=\"regex-findall-method\"></a>\n",
    "###  `re.findall()` Method"
   ]
  },
  {
   "cell_type": "code",
   "execution_count": 6,
   "metadata": {},
   "outputs": [
    {
     "data": {
      "text/plain": [
       "['hop', 'hip', 'hip', 'hip', 'hip', 'hop']"
      ]
     },
     "execution_count": 6,
     "metadata": {},
     "output_type": "execute_result"
    }
   ],
   "source": [
    "re.findall('h[io]p', my_string)"
   ]
  },
  {
   "cell_type": "code",
   "execution_count": 7,
   "metadata": {
    "slideshow": {
     "slide_type": "-"
    }
   },
   "outputs": [
    {
     "data": {
      "text/plain": [
       "['hello world']"
      ]
     },
     "execution_count": 7,
     "metadata": {},
     "output_type": "execute_result"
    }
   ],
   "source": [
    "match_obj = re.findall('hello [a-z]+', \"hello world\")\n",
    "match_obj"
   ]
  },
  {
   "cell_type": "code",
   "execution_count": 8,
   "metadata": {},
   "outputs": [
    {
     "name": "stdout",
     "output_type": "stream",
     "text": [
      "\\\\\n"
     ]
    }
   ],
   "source": [
    "print(r\"\\\\\")"
   ]
  },
  {
   "cell_type": "markdown",
   "metadata": {
    "slideshow": {
     "slide_type": "slide"
    }
   },
   "source": [
    "<a id=\"raw-string-notation\"></a>\n",
    "### Python Escape Characters vs Raw String Notation\n",
    "\n",
    "We need to use `\\`, which is a character python requires to be escaped, i.e. `\\\\`\n",
    "\n",
    "`'\\\\d'` vs `'\\d'`\n",
    "\n",
    "Instead, we prefer to use \"raw string notation\" so we don't have to escape our backslashes:\n",
    "\n",
    "`r'\\d'`\n",
    "\n",
    "\n",
    "[See the top of the Python docs on regular expression](https://docs.python.org/3.6/library/re.html)\n"
   ]
  },
  {
   "cell_type": "code",
   "execution_count": 9,
   "metadata": {},
   "outputs": [
    {
     "data": {
      "text/plain": [
       "['lolli']"
      ]
     },
     "execution_count": 9,
     "metadata": {},
     "output_type": "execute_result"
    }
   ],
   "source": [
    "match_obj = re.findall(r'\\blo...', \"hello lollipop world\")\n",
    "match_obj"
   ]
  },
  {
   "cell_type": "code",
   "execution_count": 10,
   "metadata": {},
   "outputs": [
    {
     "data": {
      "text/plain": [
       "['lolli']"
      ]
     },
     "execution_count": 10,
     "metadata": {},
     "output_type": "execute_result"
    }
   ],
   "source": [
    "match_obj = re.findall('\\\\blo...', \"hello lollipop world\")\n",
    "match_obj"
   ]
  },
  {
   "cell_type": "markdown",
   "metadata": {},
   "source": [
    "<a id=\"regex-sub-method\"></a>\n",
    "###  `re.sub()` Method"
   ]
  },
  {
   "cell_type": "code",
   "execution_count": 11,
   "metadata": {},
   "outputs": [
    {
     "data": {
      "text/plain": [
       "'***** *****'"
      ]
     },
     "execution_count": 11,
     "metadata": {},
     "output_type": "execute_result"
    }
   ],
   "source": [
    "re.sub('([a-z])', '*', 'hello world')"
   ]
  },
  {
   "cell_type": "code",
   "execution_count": 12,
   "metadata": {},
   "outputs": [
    {
     "data": {
      "text/plain": [
       "'hello'"
      ]
     },
     "execution_count": 12,
     "metadata": {},
     "output_type": "execute_result"
    }
   ],
   "source": [
    "my_text = '#hello!!! ^-^'\n",
    "re.sub('\\W', '', my_text)"
   ]
  },
  {
   "cell_type": "markdown",
   "metadata": {
    "slideshow": {
     "slide_type": "slide"
    }
   },
   "source": [
    "<a id=\"using-pandas\"></a>\n",
    "### Using `pandas`"
   ]
  },
  {
   "cell_type": "code",
   "execution_count": 13,
   "metadata": {
    "slideshow": {
     "slide_type": "-"
    }
   },
   "outputs": [
    {
     "data": {
      "text/plain": [
       "0     onefish\n",
       "1     twofish\n",
       "2     redfish\n",
       "3    bluefish\n",
       "dtype: object"
      ]
     },
     "execution_count": 13,
     "metadata": {},
     "output_type": "execute_result"
    }
   ],
   "source": [
    "import pandas as pd\n",
    "\n",
    "fish = pd.Series(['onefish', 'twofish','redfish', 'bluefish'])\n",
    "fish"
   ]
  },
  {
   "cell_type": "markdown",
   "metadata": {
    "slideshow": {
     "slide_type": "slide"
    }
   },
   "source": [
    "<a id=\"strcontains\"></a>\n",
    "### `str.contains`"
   ]
  },
  {
   "cell_type": "code",
   "execution_count": 14,
   "metadata": {
    "slideshow": {
     "slide_type": "-"
    }
   },
   "outputs": [
    {
     "data": {
      "text/plain": [
       "0    False\n",
       "1    False\n",
       "2    False\n",
       "3     True\n",
       "dtype: bool"
      ]
     },
     "execution_count": 14,
     "metadata": {},
     "output_type": "execute_result"
    }
   ],
   "source": [
    "fish.str.contains('^b')"
   ]
  },
  {
   "cell_type": "code",
   "execution_count": 15,
   "metadata": {},
   "outputs": [
    {
     "data": {
      "text/plain": [
       "3    bluefish\n",
       "dtype: object"
      ]
     },
     "execution_count": 15,
     "metadata": {},
     "output_type": "execute_result"
    }
   ],
   "source": [
    "fish[fish.str.contains('^b')]"
   ]
  },
  {
   "cell_type": "markdown",
   "metadata": {
    "slideshow": {
     "slide_type": "slide"
    }
   },
   "source": [
    "<a id=\"strextract\"></a>\n",
    "### `str.extract`"
   ]
  },
  {
   "cell_type": "code",
   "execution_count": 16,
   "metadata": {
    "slideshow": {
     "slide_type": "-"
    }
   },
   "outputs": [
    {
     "data": {
      "text/plain": [
       "0     one\n",
       "1     two\n",
       "2     red\n",
       "3    blue\n",
       "dtype: object"
      ]
     },
     "execution_count": 16,
     "metadata": {},
     "output_type": "execute_result"
    }
   ],
   "source": [
    "# `.extract()` maps capture groups to new Series.\n",
    "fish.str.extract('(.*)fish', expand=False)"
   ]
  },
  {
   "cell_type": "markdown",
   "metadata": {
    "slideshow": {
     "slide_type": "slide"
    }
   },
   "source": [
    "<a id=\"other-applications\"></a>\n",
    "### Once you know the syntax of regex, it can be useful outside of programming too:\n",
    "\n",
    "* command line tools\n",
    "* text editors\n",
    "  * Atom uses `$1` for capture groups, not `\\1`\n",
    "* databases"
   ]
  },
  {
   "cell_type": "markdown",
   "metadata": {
    "slideshow": {
     "slide_type": "slide"
    }
   },
   "source": [
    "<a id=\"independent-practice\"></a>\n",
    "#  Practice\n",
    "---\n",
    "\n",
    "Try out some of the following in RegExr (text provided again in the cell below):\n",
    "- Match with and without case sensitivity.\n",
    "- Match using word borders (try \"bob\").\n",
    "- Use positive and negative lookaheads.\n",
    "- Experiment with the multi-line flag.\n",
    "- Try matching the second or third instance of a repetitive pattern (\"ab\" or \"bob,\" for example).\n",
    "- Try using `re.sub` to replace a matching string.\n",
    "- Note the difference between `search` and `match`.\n",
    "- What happens to the order of groups if they are nested?\n",
    "\n",
    "## More Practice\n",
    "\n",
    "[Regex Golf](http://regex.alf.nu/)\n",
    "\n",
    "[Regex Crossword](https://regexcrossword.com/)\n",
    "\n",
    "\n",
    "[Space-themed regex game](https://seanlerner.itch.io/camping-on-pluto) made by Bitmaker instructor Sean Lerner\n"
   ]
  },
  {
   "cell_type": "markdown",
   "metadata": {},
   "source": [
    "```\n",
    "1. This is a string\n",
    "\n",
    "2. That is also a string\n",
    "\n",
    "3. This is an illusion\n",
    "\n",
    "4. THIS IS LOUD\n",
    "\n",
    "that isn't thus\n",
    "\n",
    "bob this is bob\n",
    "bob bob_ ralph_ bobbobbobbybobbob\n",
    "ababababab\n",
    "\n",
    "6. tHiS\tiS\tCoFu SEd\n",
    "\n",
    "777. THIS IS 100%-THE-BEST!!!\n",
    "\n",
    "8888. this_is_a_fiiile.py\n",
    "\n",
    "hidden bob\n",
    "```"
   ]
  },
  {
   "cell_type": "markdown",
   "metadata": {},
   "source": [
    "# Resources\n",
    "\n",
    "[Comparison chart of different regex implementations](http://web.archive.org/web/20130830063653/http://www.regular-expressions.info:80/refflavors.html)\n",
    "\n",
    "[Python docs](https://docs.python.org/3.6/library/re.html)\n",
    "\n",
    "[RegExr](https://regexr.com/)\n",
    "\n",
    "[8 Regular expressions you should know](https://code.tutsplus.com/tutorials/8-regular-expressions-you-should-know--net-6149)\n",
    "\n",
    "### Tutorials\n",
    "\n",
    "[TutorialPoint](http://www.tutorialspoint.com/python/python_reg_expressions.htm)  \n",
    "\n",
    "[Google Regex Tutorial](https://developers.google.com/edu/python/regular-expressions) (findall)"
   ]
  }
 ],
 "metadata": {
  "anaconda-cloud": {},
  "celltoolbar": "Slideshow",
  "kernelspec": {
   "display_name": "Python 3",
   "language": "python",
   "name": "python3"
  },
  "language_info": {
   "codemirror_mode": {
    "name": "ipython",
    "version": 3
   },
   "file_extension": ".py",
   "mimetype": "text/x-python",
   "name": "python",
   "nbconvert_exporter": "python",
   "pygments_lexer": "ipython3",
   "version": "3.6.4"
  }
 },
 "nbformat": 4,
 "nbformat_minor": 1
}
