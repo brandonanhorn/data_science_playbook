{
 "cells": [
  {
   "cell_type": "markdown",
   "metadata": {},
   "source": [
    "# Functions As Arguments"
   ]
  },
  {
   "cell_type": "code",
   "execution_count": 1,
   "metadata": {},
   "outputs": [],
   "source": [
    "def yell(text):\n",
    "    return text.upper() + '!'\n",
    "\n",
    "bark = yell"
   ]
  },
  {
   "cell_type": "code",
   "execution_count": 2,
   "metadata": {},
   "outputs": [
    {
     "data": {
      "text/plain": [
       "'HI LEBRON!'"
      ]
     },
     "execution_count": 2,
     "metadata": {},
     "output_type": "execute_result"
    }
   ],
   "source": [
    "bark('Hi Lebron')"
   ]
  },
  {
   "cell_type": "code",
   "execution_count": 3,
   "metadata": {},
   "outputs": [],
   "source": [
    "def greet(func):\n",
    "    greeting = func('Hi, I am a Python program')\n",
    "    print(greeting)"
   ]
  },
  {
   "cell_type": "code",
   "execution_count": 4,
   "metadata": {},
   "outputs": [],
   "source": [
    "def whisper(text):\n",
    "    return text.lower() + '...'"
   ]
  },
  {
   "cell_type": "code",
   "execution_count": 5,
   "metadata": {},
   "outputs": [
    {
     "data": {
      "text/plain": [
       "'hi lebron...'"
      ]
     },
     "execution_count": 5,
     "metadata": {},
     "output_type": "execute_result"
    }
   ],
   "source": [
    "whisper('HI Lebron')"
   ]
  },
  {
   "cell_type": "code",
   "execution_count": 6,
   "metadata": {},
   "outputs": [
    {
     "name": "stdout",
     "output_type": "stream",
     "text": [
      "hi, i am a python program...\n"
     ]
    }
   ],
   "source": [
    "greet(whisper)"
   ]
  },
  {
   "cell_type": "code",
   "execution_count": 7,
   "metadata": {},
   "outputs": [],
   "source": [
    "l = [1, 2, 5, 4, 9, 10]"
   ]
  },
  {
   "cell_type": "code",
   "execution_count": 8,
   "metadata": {},
   "outputs": [],
   "source": [
    "def do_work(l, func):\n",
    "    l = [func(l)]\n",
    "    l.append(2)\n",
    "    return l"
   ]
  },
  {
   "cell_type": "code",
   "execution_count": 9,
   "metadata": {},
   "outputs": [
    {
     "data": {
      "text/plain": [
       "[3.3374973990834644, 2]"
      ]
     },
     "execution_count": 9,
     "metadata": {},
     "output_type": "execute_result"
    }
   ],
   "source": [
    "import numpy as np\n",
    "\n",
    "do_work(l, np.std)"
   ]
  },
  {
   "cell_type": "markdown",
   "metadata": {},
   "source": [
    "# args and kwargs"
   ]
  },
  {
   "cell_type": "markdown",
   "metadata": {},
   "source": [
    "So what are *args and **kwargs parameters used for? They allow a function to accept optional arguments, so you can create flexible APIs in your modules and classes"
   ]
  },
  {
   "cell_type": "code",
   "execution_count": 10,
   "metadata": {},
   "outputs": [],
   "source": [
    "def foo(required, *args, **kwargs):\n",
    "    print(required)\n",
    "    if args:\n",
    "        print(args)\n",
    "    if kwargs:\n",
    "        print(kwargs)"
   ]
  },
  {
   "cell_type": "code",
   "execution_count": 11,
   "metadata": {},
   "outputs": [
    {
     "name": "stdout",
     "output_type": "stream",
     "text": [
      "hello\n",
      "{'student': 'luka'}\n"
     ]
    }
   ],
   "source": [
    "foo('hello', student='luka')"
   ]
  },
  {
   "cell_type": "markdown",
   "metadata": {},
   "source": [
    "To be clear, calling the parameters args and kwargs is simply a naming convention. The previous example would work just as well if you called them \\*parms and \\**argv. The actual syntax is just the asterisk (\\*) or double asterisk (\\**), respectively "
   ]
  },
  {
   "cell_type": "markdown",
   "metadata": {},
   "source": [
    "# Dictionary Pretty-Printing"
   ]
  },
  {
   "cell_type": "markdown",
   "metadata": {},
   "source": [
    "I'm often frustrated with how difficult it to read some data structures in Python when they’re printed as text strings..."
   ]
  },
  {
   "cell_type": "code",
   "execution_count": 12,
   "metadata": {},
   "outputs": [
    {
     "name": "stdout",
     "output_type": "stream",
     "text": [
      "{'pikachu': {'power': 100, 'hp': 20}, 'mewtwo': {'power': 100, 'hp': 20}}\n"
     ]
    }
   ],
   "source": [
    "pokemon = {\n",
    "    'pikachu': {\n",
    "        'power': 100, \n",
    "        'hp': 20\n",
    "    }, \n",
    "    'mewtwo': {\n",
    "        'power': 100, \n",
    "        'hp': 20\n",
    "    }\n",
    "}\n",
    "\n",
    "print(pokemon)"
   ]
  },
  {
   "cell_type": "markdown",
   "metadata": {},
   "source": [
    "Luckily there are some easy-to-use alternatives to a straight up to-str conversion that give a more readable result. One option is using Python’s built-in json module. You can use json.dumps() to pretty-print Python dicts with nicer formatting:"
   ]
  },
  {
   "cell_type": "code",
   "execution_count": 13,
   "metadata": {},
   "outputs": [
    {
     "name": "stdout",
     "output_type": "stream",
     "text": [
      "{\n",
      "    \"mewtwo\": {\n",
      "        \"hp\": 20,\n",
      "        \"power\": 100\n",
      "    },\n",
      "    \"pikachu\": {\n",
      "        \"hp\": 20,\n",
      "        \"power\": 100\n",
      "    }\n",
      "}\n"
     ]
    }
   ],
   "source": [
    "import json\n",
    "\n",
    "print(json.dumps(pokemon, indent=4, sort_keys=True))"
   ]
  },
  {
   "cell_type": "markdown",
   "metadata": {},
   "source": [
    "# Unicode Characters"
   ]
  },
  {
   "cell_type": "code",
   "execution_count": 14,
   "metadata": {},
   "outputs": [
    {
     "name": "stdout",
     "output_type": "stream",
     "text": [
      "3.141592653589793\n"
     ]
    }
   ],
   "source": [
    "import math\n",
    "\n",
    "π = math.pi\n",
    "\n",
    "print(π)"
   ]
  },
  {
   "cell_type": "code",
   "execution_count": 15,
   "metadata": {},
   "outputs": [],
   "source": [
    "α = 'hi'"
   ]
  },
  {
   "cell_type": "code",
   "execution_count": 16,
   "metadata": {},
   "outputs": [
    {
     "data": {
      "text/plain": [
       "'hi'"
      ]
     },
     "execution_count": 16,
     "metadata": {},
     "output_type": "execute_result"
    }
   ],
   "source": [
    "α"
   ]
  },
  {
   "cell_type": "code",
   "execution_count": 17,
   "metadata": {},
   "outputs": [
    {
     "data": {
      "text/plain": [
       "6"
      ]
     },
     "execution_count": 17,
     "metadata": {},
     "output_type": "execute_result"
    }
   ],
   "source": [
    "Σ = sum\n",
    "\n",
    "Σ([1, 2, 3])"
   ]
  },
  {
   "cell_type": "code",
   "execution_count": 18,
   "metadata": {},
   "outputs": [
    {
     "data": {
      "text/plain": [
       "45"
      ]
     },
     "execution_count": 18,
     "metadata": {},
     "output_type": "execute_result"
    }
   ],
   "source": [
    "Σ(i for i in range(10))"
   ]
  },
  {
   "cell_type": "markdown",
   "metadata": {},
   "source": [
    "# Progress ..."
   ]
  },
  {
   "cell_type": "code",
   "execution_count": 19,
   "metadata": {},
   "outputs": [
    {
     "name": "stdout",
     "output_type": "stream",
     "text": [
      "Download progress: 100% \r"
     ]
    }
   ],
   "source": [
    "import time\n",
    "import sys\n",
    "\n",
    "for progress in range(100+1):\n",
    "    time.sleep(0.1)\n",
    "    sys.stdout.write(f\"Download progress: {progress}% \\r\" ) \n",
    "    sys.stdout.flush()"
   ]
  },
  {
   "cell_type": "code",
   "execution_count": 20,
   "metadata": {},
   "outputs": [
    {
     "name": "stderr",
     "output_type": "stream",
     "text": [
      "100%|██████████| 10/10 [00:05<00:00,  1.98it/s]\n"
     ]
    }
   ],
   "source": [
    "from tqdm import tqdm\n",
    "\n",
    "for i in tqdm(range(10)):\n",
    "    time.sleep(0.5)"
   ]
  },
  {
   "cell_type": "markdown",
   "metadata": {},
   "source": [
    "# list comprehensions + dir()"
   ]
  },
  {
   "cell_type": "code",
   "execution_count": 21,
   "metadata": {},
   "outputs": [
    {
     "data": {
      "text/plain": [
       "['capitalize',\n",
       " 'casefold',\n",
       " 'center',\n",
       " 'count',\n",
       " 'encode',\n",
       " 'endswith',\n",
       " 'expandtabs',\n",
       " 'find',\n",
       " 'format',\n",
       " 'format_map',\n",
       " 'index',\n",
       " 'isalnum',\n",
       " 'isalpha',\n",
       " 'isdecimal',\n",
       " 'isdigit',\n",
       " 'isidentifier',\n",
       " 'islower',\n",
       " 'isnumeric',\n",
       " 'isprintable',\n",
       " 'isspace',\n",
       " 'istitle',\n",
       " 'isupper',\n",
       " 'join',\n",
       " 'ljust',\n",
       " 'lower',\n",
       " 'lstrip',\n",
       " 'maketrans',\n",
       " 'partition',\n",
       " 'replace',\n",
       " 'rfind',\n",
       " 'rindex',\n",
       " 'rjust',\n",
       " 'rpartition',\n",
       " 'rsplit',\n",
       " 'rstrip',\n",
       " 'split',\n",
       " 'splitlines',\n",
       " 'startswith',\n",
       " 'strip',\n",
       " 'swapcase',\n",
       " 'title',\n",
       " 'translate',\n",
       " 'upper',\n",
       " 'zfill']"
      ]
     },
     "execution_count": 21,
     "metadata": {},
     "output_type": "execute_result"
    }
   ],
   "source": [
    "[method for method in dir(str) if not method.startswith('__')]"
   ]
  },
  {
   "cell_type": "code",
   "execution_count": 22,
   "metadata": {},
   "outputs": [
    {
     "data": {
      "text/plain": [
       "['date', 'datetime', 'datetime_CAPI']"
      ]
     },
     "execution_count": 22,
     "metadata": {},
     "output_type": "execute_result"
    }
   ],
   "source": [
    "import datetime\n",
    "[_ for _ in dir(datetime) if 'date' in _.lower()]"
   ]
  },
  {
   "cell_type": "code",
   "execution_count": 23,
   "metadata": {},
   "outputs": [
    {
     "data": {
      "text/plain": [
       "['__add__',\n",
       " '__class__',\n",
       " '__contains__',\n",
       " '__delattr__',\n",
       " '__dir__',\n",
       " '__doc__',\n",
       " '__eq__',\n",
       " '__format__',\n",
       " '__ge__',\n",
       " '__getattribute__']"
      ]
     },
     "execution_count": 23,
     "metadata": {},
     "output_type": "execute_result"
    }
   ],
   "source": [
    "dir('max')[:10]"
   ]
  },
  {
   "cell_type": "code",
   "execution_count": 24,
   "metadata": {},
   "outputs": [
    {
     "data": {
      "text/plain": [
       "['capitalize',\n",
       " 'casefold',\n",
       " 'center',\n",
       " 'count',\n",
       " 'encode',\n",
       " 'endswith',\n",
       " 'expandtabs',\n",
       " 'find',\n",
       " 'format',\n",
       " 'format_map']"
      ]
     },
     "execution_count": 24,
     "metadata": {},
     "output_type": "execute_result"
    }
   ],
   "source": [
    "[method for method in dir('max') if not method.startswith('__')][:10]"
   ]
  },
  {
   "cell_type": "markdown",
   "metadata": {},
   "source": [
    "# Passwords"
   ]
  },
  {
   "cell_type": "code",
   "execution_count": 25,
   "metadata": {},
   "outputs": [],
   "source": [
    "import string\n",
    "import random\n",
    "\n",
    "password_generator = lambda n: \"\".join([random.choice(string.ascii_letters) for i in range(n)])"
   ]
  },
  {
   "cell_type": "code",
   "execution_count": 26,
   "metadata": {},
   "outputs": [],
   "source": [
    "def password_generator(n):\n",
    "    return \"\".join([random.choice(string.ascii_letters) for i in range(n)])"
   ]
  },
  {
   "cell_type": "code",
   "execution_count": 27,
   "metadata": {},
   "outputs": [
    {
     "data": {
      "text/plain": [
       "'vVqZTbxeXKyU'"
      ]
     },
     "execution_count": 27,
     "metadata": {},
     "output_type": "execute_result"
    }
   ],
   "source": [
    "password_generator(12)"
   ]
  },
  {
   "cell_type": "code",
   "execution_count": 28,
   "metadata": {},
   "outputs": [
    {
     "name": "stdout",
     "output_type": "stream",
     "text": [
      "What is your password? vVqZTbxeXKyU\n"
     ]
    }
   ],
   "source": [
    "password = input('What is your password? ')"
   ]
  },
  {
   "cell_type": "code",
   "execution_count": 29,
   "metadata": {},
   "outputs": [
    {
     "name": "stdout",
     "output_type": "stream",
     "text": [
      "vVqZTbxeXKyU\n"
     ]
    }
   ],
   "source": [
    "password = input()"
   ]
  },
  {
   "cell_type": "code",
   "execution_count": 30,
   "metadata": {},
   "outputs": [
    {
     "name": "stdout",
     "output_type": "stream",
     "text": [
      "········\n"
     ]
    }
   ],
   "source": [
    "import getpass\n",
    "password = getpass.getpass()"
   ]
  },
  {
   "cell_type": "code",
   "execution_count": 31,
   "metadata": {},
   "outputs": [
    {
     "data": {
      "text/plain": [
       "'vVqZTbxeXKyU'"
      ]
     },
     "execution_count": 31,
     "metadata": {},
     "output_type": "execute_result"
    }
   ],
   "source": [
    "password"
   ]
  },
  {
   "cell_type": "markdown",
   "metadata": {},
   "source": [
    "# Calendar"
   ]
  },
  {
   "cell_type": "code",
   "execution_count": 32,
   "metadata": {},
   "outputs": [
    {
     "name": "stdout",
     "output_type": "stream",
     "text": [
      "    January 1943\n",
      "Mo Tu We Th Fr Sa Su\n",
      "             1  2  3\n",
      " 4  5  6  7  8  9 10\n",
      "11 12 13 14 15 16 17\n",
      "18 19 20 21 22 23 24\n",
      "25 26 27 28 29 30 31\n",
      "\n"
     ]
    }
   ],
   "source": [
    "import calendar\n",
    "\n",
    "cal = calendar.month(1943,1)\n",
    "\n",
    "print(cal)"
   ]
  },
  {
   "cell_type": "markdown",
   "metadata": {},
   "source": [
    "# Assertions"
   ]
  },
  {
   "cell_type": "code",
   "execution_count": 33,
   "metadata": {},
   "outputs": [],
   "source": [
    "shoes = {'name': 'Nike', 'price': 165}"
   ]
  },
  {
   "cell_type": "code",
   "execution_count": 34,
   "metadata": {},
   "outputs": [
    {
     "name": "stdout",
     "output_type": "stream",
     "text": [
      "hg728912\n"
     ]
    }
   ],
   "source": [
    "promocode = input()"
   ]
  },
  {
   "cell_type": "code",
   "execution_count": 35,
   "metadata": {},
   "outputs": [
    {
     "name": "stdout",
     "output_type": "stream",
     "text": [
      "yay! you get a 15% discount\n"
     ]
    }
   ],
   "source": [
    "if promocode == 'hg728912':\n",
    "    print('yay! you get a 15% discount')"
   ]
  },
  {
   "cell_type": "code",
   "execution_count": 36,
   "metadata": {},
   "outputs": [],
   "source": [
    "def apply_discount(product, discount):\n",
    "    if discount > 1:\n",
    "        return 'Sorry'\n",
    "    else:\n",
    "        return int(product['price'] * (1.0 - discount))"
   ]
  },
  {
   "cell_type": "code",
   "execution_count": 37,
   "metadata": {},
   "outputs": [
    {
     "data": {
      "text/plain": [
       "'Sorry'"
      ]
     },
     "execution_count": 37,
     "metadata": {},
     "output_type": "execute_result"
    }
   ],
   "source": [
    "apply_discount(shoes, 2)"
   ]
  },
  {
   "cell_type": "code",
   "execution_count": 38,
   "metadata": {},
   "outputs": [],
   "source": [
    "def apply_discount(product, discount):\n",
    "    price = int(product['price'] * (1.0 - discount))\n",
    "    assert 0 <= price <= product['price'], 'that\\'s too much'\n",
    "    return price"
   ]
  },
  {
   "cell_type": "code",
   "execution_count": 39,
   "metadata": {},
   "outputs": [
    {
     "ename": "AssertionError",
     "evalue": "that's too much",
     "output_type": "error",
     "traceback": [
      "\u001b[0;31m---------------------------------------------------------------------------\u001b[0m",
      "\u001b[0;31mAssertionError\u001b[0m                            Traceback (most recent call last)",
      "\u001b[0;32m<ipython-input-39-0ff06dafaeae>\u001b[0m in \u001b[0;36m<module>\u001b[0;34m()\u001b[0m\n\u001b[0;32m----> 1\u001b[0;31m \u001b[0mapply_discount\u001b[0m\u001b[0;34m(\u001b[0m\u001b[0mshoes\u001b[0m\u001b[0;34m,\u001b[0m \u001b[0;36m1.01\u001b[0m\u001b[0;34m)\u001b[0m\u001b[0;34m\u001b[0m\u001b[0m\n\u001b[0m",
      "\u001b[0;32m<ipython-input-38-cb89c7733608>\u001b[0m in \u001b[0;36mapply_discount\u001b[0;34m(product, discount)\u001b[0m\n\u001b[1;32m      1\u001b[0m \u001b[0;32mdef\u001b[0m \u001b[0mapply_discount\u001b[0m\u001b[0;34m(\u001b[0m\u001b[0mproduct\u001b[0m\u001b[0;34m,\u001b[0m \u001b[0mdiscount\u001b[0m\u001b[0;34m)\u001b[0m\u001b[0;34m:\u001b[0m\u001b[0;34m\u001b[0m\u001b[0m\n\u001b[1;32m      2\u001b[0m     \u001b[0mprice\u001b[0m \u001b[0;34m=\u001b[0m \u001b[0mint\u001b[0m\u001b[0;34m(\u001b[0m\u001b[0mproduct\u001b[0m\u001b[0;34m[\u001b[0m\u001b[0;34m'price'\u001b[0m\u001b[0;34m]\u001b[0m \u001b[0;34m*\u001b[0m \u001b[0;34m(\u001b[0m\u001b[0;36m1.0\u001b[0m \u001b[0;34m-\u001b[0m \u001b[0mdiscount\u001b[0m\u001b[0;34m)\u001b[0m\u001b[0;34m)\u001b[0m\u001b[0;34m\u001b[0m\u001b[0m\n\u001b[0;32m----> 3\u001b[0;31m     \u001b[0;32massert\u001b[0m \u001b[0;36m0\u001b[0m \u001b[0;34m<=\u001b[0m \u001b[0mprice\u001b[0m \u001b[0;34m<=\u001b[0m \u001b[0mproduct\u001b[0m\u001b[0;34m[\u001b[0m\u001b[0;34m'price'\u001b[0m\u001b[0;34m]\u001b[0m\u001b[0;34m,\u001b[0m \u001b[0;34m'that\\'s too much'\u001b[0m\u001b[0;34m\u001b[0m\u001b[0m\n\u001b[0m\u001b[1;32m      4\u001b[0m     \u001b[0;32mreturn\u001b[0m \u001b[0mprice\u001b[0m\u001b[0;34m\u001b[0m\u001b[0m\n",
      "\u001b[0;31mAssertionError\u001b[0m: that's too much"
     ]
    }
   ],
   "source": [
    "apply_discount(shoes, 1.01)"
   ]
  },
  {
   "cell_type": "code",
   "execution_count": 40,
   "metadata": {},
   "outputs": [
    {
     "ename": "AssertionError",
     "evalue": "that's too much",
     "output_type": "error",
     "traceback": [
      "\u001b[0;31m---------------------------------------------------------------------------\u001b[0m",
      "\u001b[0;31mAssertionError\u001b[0m                            Traceback (most recent call last)",
      "\u001b[0;32m<ipython-input-40-a04f941c4777>\u001b[0m in \u001b[0;36m<module>\u001b[0;34m()\u001b[0m\n\u001b[0;32m----> 1\u001b[0;31m \u001b[0mapply_discount\u001b[0m\u001b[0;34m(\u001b[0m\u001b[0mshoes\u001b[0m\u001b[0;34m,\u001b[0m \u001b[0;36m2\u001b[0m\u001b[0;34m)\u001b[0m\u001b[0;34m\u001b[0m\u001b[0m\n\u001b[0m",
      "\u001b[0;32m<ipython-input-38-cb89c7733608>\u001b[0m in \u001b[0;36mapply_discount\u001b[0;34m(product, discount)\u001b[0m\n\u001b[1;32m      1\u001b[0m \u001b[0;32mdef\u001b[0m \u001b[0mapply_discount\u001b[0m\u001b[0;34m(\u001b[0m\u001b[0mproduct\u001b[0m\u001b[0;34m,\u001b[0m \u001b[0mdiscount\u001b[0m\u001b[0;34m)\u001b[0m\u001b[0;34m:\u001b[0m\u001b[0;34m\u001b[0m\u001b[0m\n\u001b[1;32m      2\u001b[0m     \u001b[0mprice\u001b[0m \u001b[0;34m=\u001b[0m \u001b[0mint\u001b[0m\u001b[0;34m(\u001b[0m\u001b[0mproduct\u001b[0m\u001b[0;34m[\u001b[0m\u001b[0;34m'price'\u001b[0m\u001b[0;34m]\u001b[0m \u001b[0;34m*\u001b[0m \u001b[0;34m(\u001b[0m\u001b[0;36m1.0\u001b[0m \u001b[0;34m-\u001b[0m \u001b[0mdiscount\u001b[0m\u001b[0;34m)\u001b[0m\u001b[0;34m)\u001b[0m\u001b[0;34m\u001b[0m\u001b[0m\n\u001b[0;32m----> 3\u001b[0;31m     \u001b[0;32massert\u001b[0m \u001b[0;36m0\u001b[0m \u001b[0;34m<=\u001b[0m \u001b[0mprice\u001b[0m \u001b[0;34m<=\u001b[0m \u001b[0mproduct\u001b[0m\u001b[0;34m[\u001b[0m\u001b[0;34m'price'\u001b[0m\u001b[0;34m]\u001b[0m\u001b[0;34m,\u001b[0m \u001b[0;34m'that\\'s too much'\u001b[0m\u001b[0;34m\u001b[0m\u001b[0m\n\u001b[0m\u001b[1;32m      4\u001b[0m     \u001b[0;32mreturn\u001b[0m \u001b[0mprice\u001b[0m\u001b[0;34m\u001b[0m\u001b[0m\n",
      "\u001b[0;31mAssertionError\u001b[0m: that's too much"
     ]
    }
   ],
   "source": [
    "apply_discount(shoes, 2)"
   ]
  },
  {
   "cell_type": "markdown",
   "metadata": {},
   "source": [
    "# Lambda Sorting"
   ]
  },
  {
   "cell_type": "code",
   "execution_count": 41,
   "metadata": {},
   "outputs": [],
   "source": [
    "x = [1, 4, 2, 999, 1e9, 3, 73]"
   ]
  },
  {
   "cell_type": "code",
   "execution_count": 42,
   "metadata": {},
   "outputs": [
    {
     "name": "stdout",
     "output_type": "stream",
     "text": [
      "[1, 4, 2, 999, 1000000000.0, 3, 73]\n"
     ]
    }
   ],
   "source": [
    "print(x)"
   ]
  },
  {
   "cell_type": "code",
   "execution_count": 43,
   "metadata": {},
   "outputs": [],
   "source": [
    "x.sort()"
   ]
  },
  {
   "cell_type": "code",
   "execution_count": 44,
   "metadata": {},
   "outputs": [
    {
     "data": {
      "text/plain": [
       "[1, 2, 3, 4, 73, 999, 1000000000.0]"
      ]
     },
     "execution_count": 44,
     "metadata": {},
     "output_type": "execute_result"
    }
   ],
   "source": [
    "x"
   ]
  },
  {
   "cell_type": "code",
   "execution_count": 45,
   "metadata": {},
   "outputs": [],
   "source": [
    "x = [1, 4, 2, 999, 1e9, 3, 73]"
   ]
  },
  {
   "cell_type": "code",
   "execution_count": 46,
   "metadata": {},
   "outputs": [],
   "source": [
    "x = sorted(x)"
   ]
  },
  {
   "cell_type": "code",
   "execution_count": 47,
   "metadata": {},
   "outputs": [
    {
     "data": {
      "text/plain": [
       "[1, 2, 3, 4, 73, 999, 1000000000.0]"
      ]
     },
     "execution_count": 47,
     "metadata": {},
     "output_type": "execute_result"
    }
   ],
   "source": [
    "x"
   ]
  },
  {
   "cell_type": "code",
   "execution_count": 48,
   "metadata": {},
   "outputs": [
    {
     "data": {
      "text/plain": [
       "[1000000000.0, 999, 73, 4, 3, 2, 1]"
      ]
     },
     "execution_count": 48,
     "metadata": {},
     "output_type": "execute_result"
    }
   ],
   "source": [
    "sorted(x, reverse=True)"
   ]
  },
  {
   "cell_type": "code",
   "execution_count": 49,
   "metadata": {},
   "outputs": [
    {
     "data": {
      "text/plain": [
       "[1000000000.0, 999, 73, 4, 3, 2, 1]"
      ]
     },
     "execution_count": 49,
     "metadata": {},
     "output_type": "execute_result"
    }
   ],
   "source": [
    "sorted(x, key=lambda x: -x)"
   ]
  },
  {
   "cell_type": "code",
   "execution_count": 50,
   "metadata": {},
   "outputs": [],
   "source": [
    "x = [1, -4, -14, 14, 15, 73, 1990, -77]"
   ]
  },
  {
   "cell_type": "code",
   "execution_count": 51,
   "metadata": {},
   "outputs": [
    {
     "data": {
      "text/plain": [
       "[1, -4, -14, 14, 15, 73, -77, 1990]"
      ]
     },
     "execution_count": 51,
     "metadata": {},
     "output_type": "execute_result"
    }
   ],
   "source": [
    "sorted(x, key=lambda x: x*x)"
   ]
  },
  {
   "cell_type": "code",
   "execution_count": 52,
   "metadata": {},
   "outputs": [],
   "source": [
    "snacks = [\n",
    "    {'snack': 'doritos', 'price': 4.99}, \n",
    "    {'snack': 'reeses', 'price': 2.50},\n",
    "    {'snack': 'twizzlers', 'price': 3.45},\n",
    "    {'snack': 'pretzles', 'price': 1.25}\n",
    "]"
   ]
  },
  {
   "cell_type": "code",
   "execution_count": 53,
   "metadata": {},
   "outputs": [],
   "source": [
    "snack = snacks[0]"
   ]
  },
  {
   "cell_type": "code",
   "execution_count": 54,
   "metadata": {},
   "outputs": [
    {
     "data": {
      "text/plain": [
       "4.99"
      ]
     },
     "execution_count": 54,
     "metadata": {},
     "output_type": "execute_result"
    }
   ],
   "source": [
    "snack['price']"
   ]
  },
  {
   "cell_type": "code",
   "execution_count": 55,
   "metadata": {},
   "outputs": [
    {
     "data": {
      "text/plain": [
       "[{'price': 1.25, 'snack': 'pretzles'},\n",
       " {'price': 2.5, 'snack': 'reeses'},\n",
       " {'price': 3.45, 'snack': 'twizzlers'},\n",
       " {'price': 4.99, 'snack': 'doritos'}]"
      ]
     },
     "execution_count": 55,
     "metadata": {},
     "output_type": "execute_result"
    }
   ],
   "source": [
    "sorted(snacks, key=lambda x: x['price'])"
   ]
  },
  {
   "cell_type": "code",
   "execution_count": 56,
   "metadata": {},
   "outputs": [
    {
     "data": {
      "text/plain": [
       "[(1, 'd'), (2, 'b'), (3, 'c'), (4, 'a')]"
      ]
     },
     "execution_count": 56,
     "metadata": {},
     "output_type": "execute_result"
    }
   ],
   "source": [
    "tuples = [(1, 'd'), (2, 'b'), (4, 'a'), (3, 'c')]\n",
    "sorted(tuples, key=lambda x: x[0])"
   ]
  },
  {
   "cell_type": "markdown",
   "metadata": {},
   "source": [
    "# Negative Rounding"
   ]
  },
  {
   "cell_type": "code",
   "execution_count": 57,
   "metadata": {},
   "outputs": [
    {
     "data": {
      "text/plain": [
       "1500.0"
      ]
     },
     "execution_count": 57,
     "metadata": {},
     "output_type": "execute_result"
    }
   ],
   "source": [
    "round(1494.4503428320200, -2)"
   ]
  },
  {
   "cell_type": "markdown",
   "metadata": {},
   "source": [
    "# itertools.product"
   ]
  },
  {
   "cell_type": "markdown",
   "metadata": {},
   "source": [
    "![](https://kanoki.org/wp-content/uploads/2019/02/image.png)"
   ]
  },
  {
   "cell_type": "code",
   "execution_count": 58,
   "metadata": {},
   "outputs": [],
   "source": [
    "import itertools"
   ]
  },
  {
   "cell_type": "code",
   "execution_count": 59,
   "metadata": {},
   "outputs": [],
   "source": [
    "A = ['x', 'y', 'z']\n",
    "B = [1, 2, 3]"
   ]
  },
  {
   "cell_type": "code",
   "execution_count": 60,
   "metadata": {},
   "outputs": [],
   "source": [
    "positions = ['qb','te','wr','rb']\n",
    "pages = [0, 20, 40, 60, 80, 100]\n",
    "teams = ['jags', 'lions', 'broncos', 'steelers']\n",
    "\n",
    "combos = list(itertools.product(positions, pages, teams))"
   ]
  },
  {
   "cell_type": "code",
   "execution_count": 61,
   "metadata": {},
   "outputs": [
    {
     "data": {
      "text/plain": [
       "[('qb', 0, 'jags'),\n",
       " ('qb', 0, 'lions'),\n",
       " ('qb', 0, 'broncos'),\n",
       " ('qb', 0, 'steelers'),\n",
       " ('qb', 20, 'jags'),\n",
       " ('qb', 20, 'lions'),\n",
       " ('qb', 20, 'broncos'),\n",
       " ('qb', 20, 'steelers'),\n",
       " ('qb', 40, 'jags'),\n",
       " ('qb', 40, 'lions'),\n",
       " ('qb', 40, 'broncos'),\n",
       " ('qb', 40, 'steelers'),\n",
       " ('qb', 60, 'jags'),\n",
       " ('qb', 60, 'lions'),\n",
       " ('qb', 60, 'broncos'),\n",
       " ('qb', 60, 'steelers'),\n",
       " ('qb', 80, 'jags'),\n",
       " ('qb', 80, 'lions'),\n",
       " ('qb', 80, 'broncos'),\n",
       " ('qb', 80, 'steelers'),\n",
       " ('qb', 100, 'jags'),\n",
       " ('qb', 100, 'lions'),\n",
       " ('qb', 100, 'broncos'),\n",
       " ('qb', 100, 'steelers'),\n",
       " ('te', 0, 'jags'),\n",
       " ('te', 0, 'lions'),\n",
       " ('te', 0, 'broncos'),\n",
       " ('te', 0, 'steelers'),\n",
       " ('te', 20, 'jags'),\n",
       " ('te', 20, 'lions'),\n",
       " ('te', 20, 'broncos'),\n",
       " ('te', 20, 'steelers'),\n",
       " ('te', 40, 'jags'),\n",
       " ('te', 40, 'lions'),\n",
       " ('te', 40, 'broncos'),\n",
       " ('te', 40, 'steelers'),\n",
       " ('te', 60, 'jags'),\n",
       " ('te', 60, 'lions'),\n",
       " ('te', 60, 'broncos'),\n",
       " ('te', 60, 'steelers'),\n",
       " ('te', 80, 'jags'),\n",
       " ('te', 80, 'lions'),\n",
       " ('te', 80, 'broncos'),\n",
       " ('te', 80, 'steelers'),\n",
       " ('te', 100, 'jags'),\n",
       " ('te', 100, 'lions'),\n",
       " ('te', 100, 'broncos'),\n",
       " ('te', 100, 'steelers'),\n",
       " ('wr', 0, 'jags'),\n",
       " ('wr', 0, 'lions'),\n",
       " ('wr', 0, 'broncos'),\n",
       " ('wr', 0, 'steelers'),\n",
       " ('wr', 20, 'jags'),\n",
       " ('wr', 20, 'lions'),\n",
       " ('wr', 20, 'broncos'),\n",
       " ('wr', 20, 'steelers'),\n",
       " ('wr', 40, 'jags'),\n",
       " ('wr', 40, 'lions'),\n",
       " ('wr', 40, 'broncos'),\n",
       " ('wr', 40, 'steelers'),\n",
       " ('wr', 60, 'jags'),\n",
       " ('wr', 60, 'lions'),\n",
       " ('wr', 60, 'broncos'),\n",
       " ('wr', 60, 'steelers'),\n",
       " ('wr', 80, 'jags'),\n",
       " ('wr', 80, 'lions'),\n",
       " ('wr', 80, 'broncos'),\n",
       " ('wr', 80, 'steelers'),\n",
       " ('wr', 100, 'jags'),\n",
       " ('wr', 100, 'lions'),\n",
       " ('wr', 100, 'broncos'),\n",
       " ('wr', 100, 'steelers'),\n",
       " ('rb', 0, 'jags'),\n",
       " ('rb', 0, 'lions'),\n",
       " ('rb', 0, 'broncos'),\n",
       " ('rb', 0, 'steelers'),\n",
       " ('rb', 20, 'jags'),\n",
       " ('rb', 20, 'lions'),\n",
       " ('rb', 20, 'broncos'),\n",
       " ('rb', 20, 'steelers'),\n",
       " ('rb', 40, 'jags'),\n",
       " ('rb', 40, 'lions'),\n",
       " ('rb', 40, 'broncos'),\n",
       " ('rb', 40, 'steelers'),\n",
       " ('rb', 60, 'jags'),\n",
       " ('rb', 60, 'lions'),\n",
       " ('rb', 60, 'broncos'),\n",
       " ('rb', 60, 'steelers'),\n",
       " ('rb', 80, 'jags'),\n",
       " ('rb', 80, 'lions'),\n",
       " ('rb', 80, 'broncos'),\n",
       " ('rb', 80, 'steelers'),\n",
       " ('rb', 100, 'jags'),\n",
       " ('rb', 100, 'lions'),\n",
       " ('rb', 100, 'broncos'),\n",
       " ('rb', 100, 'steelers')]"
      ]
     },
     "execution_count": 61,
     "metadata": {},
     "output_type": "execute_result"
    }
   ],
   "source": [
    "combos"
   ]
  },
  {
   "cell_type": "code",
   "execution_count": 62,
   "metadata": {},
   "outputs": [
    {
     "name": "stdout",
     "output_type": "stream",
     "text": [
      "nfl.com/player=qb&page=0&team=jags\n",
      "nfl.com/player=qb&page=0&team=lions\n",
      "nfl.com/player=qb&page=0&team=broncos\n",
      "nfl.com/player=qb&page=0&team=steelers\n",
      "nfl.com/player=qb&page=20&team=jags\n",
      "nfl.com/player=qb&page=20&team=lions\n",
      "nfl.com/player=qb&page=20&team=broncos\n",
      "nfl.com/player=qb&page=20&team=steelers\n",
      "nfl.com/player=qb&page=40&team=jags\n",
      "nfl.com/player=qb&page=40&team=lions\n",
      "nfl.com/player=qb&page=40&team=broncos\n",
      "nfl.com/player=qb&page=40&team=steelers\n",
      "nfl.com/player=qb&page=60&team=jags\n",
      "nfl.com/player=qb&page=60&team=lions\n",
      "nfl.com/player=qb&page=60&team=broncos\n",
      "nfl.com/player=qb&page=60&team=steelers\n",
      "nfl.com/player=qb&page=80&team=jags\n",
      "nfl.com/player=qb&page=80&team=lions\n",
      "nfl.com/player=qb&page=80&team=broncos\n",
      "nfl.com/player=qb&page=80&team=steelers\n",
      "nfl.com/player=qb&page=100&team=jags\n",
      "nfl.com/player=qb&page=100&team=lions\n",
      "nfl.com/player=qb&page=100&team=broncos\n",
      "nfl.com/player=qb&page=100&team=steelers\n",
      "nfl.com/player=te&page=0&team=jags\n",
      "nfl.com/player=te&page=0&team=lions\n",
      "nfl.com/player=te&page=0&team=broncos\n",
      "nfl.com/player=te&page=0&team=steelers\n",
      "nfl.com/player=te&page=20&team=jags\n",
      "nfl.com/player=te&page=20&team=lions\n",
      "nfl.com/player=te&page=20&team=broncos\n",
      "nfl.com/player=te&page=20&team=steelers\n",
      "nfl.com/player=te&page=40&team=jags\n",
      "nfl.com/player=te&page=40&team=lions\n",
      "nfl.com/player=te&page=40&team=broncos\n",
      "nfl.com/player=te&page=40&team=steelers\n",
      "nfl.com/player=te&page=60&team=jags\n",
      "nfl.com/player=te&page=60&team=lions\n",
      "nfl.com/player=te&page=60&team=broncos\n",
      "nfl.com/player=te&page=60&team=steelers\n",
      "nfl.com/player=te&page=80&team=jags\n",
      "nfl.com/player=te&page=80&team=lions\n",
      "nfl.com/player=te&page=80&team=broncos\n",
      "nfl.com/player=te&page=80&team=steelers\n",
      "nfl.com/player=te&page=100&team=jags\n",
      "nfl.com/player=te&page=100&team=lions\n",
      "nfl.com/player=te&page=100&team=broncos\n",
      "nfl.com/player=te&page=100&team=steelers\n",
      "nfl.com/player=wr&page=0&team=jags\n",
      "nfl.com/player=wr&page=0&team=lions\n",
      "nfl.com/player=wr&page=0&team=broncos\n",
      "nfl.com/player=wr&page=0&team=steelers\n",
      "nfl.com/player=wr&page=20&team=jags\n",
      "nfl.com/player=wr&page=20&team=lions\n",
      "nfl.com/player=wr&page=20&team=broncos\n",
      "nfl.com/player=wr&page=20&team=steelers\n",
      "nfl.com/player=wr&page=40&team=jags\n",
      "nfl.com/player=wr&page=40&team=lions\n",
      "nfl.com/player=wr&page=40&team=broncos\n",
      "nfl.com/player=wr&page=40&team=steelers\n",
      "nfl.com/player=wr&page=60&team=jags\n",
      "nfl.com/player=wr&page=60&team=lions\n",
      "nfl.com/player=wr&page=60&team=broncos\n",
      "nfl.com/player=wr&page=60&team=steelers\n",
      "nfl.com/player=wr&page=80&team=jags\n",
      "nfl.com/player=wr&page=80&team=lions\n",
      "nfl.com/player=wr&page=80&team=broncos\n",
      "nfl.com/player=wr&page=80&team=steelers\n",
      "nfl.com/player=wr&page=100&team=jags\n",
      "nfl.com/player=wr&page=100&team=lions\n",
      "nfl.com/player=wr&page=100&team=broncos\n",
      "nfl.com/player=wr&page=100&team=steelers\n",
      "nfl.com/player=rb&page=0&team=jags\n",
      "nfl.com/player=rb&page=0&team=lions\n",
      "nfl.com/player=rb&page=0&team=broncos\n",
      "nfl.com/player=rb&page=0&team=steelers\n",
      "nfl.com/player=rb&page=20&team=jags\n",
      "nfl.com/player=rb&page=20&team=lions\n",
      "nfl.com/player=rb&page=20&team=broncos\n",
      "nfl.com/player=rb&page=20&team=steelers\n",
      "nfl.com/player=rb&page=40&team=jags\n",
      "nfl.com/player=rb&page=40&team=lions\n",
      "nfl.com/player=rb&page=40&team=broncos\n",
      "nfl.com/player=rb&page=40&team=steelers\n",
      "nfl.com/player=rb&page=60&team=jags\n",
      "nfl.com/player=rb&page=60&team=lions\n",
      "nfl.com/player=rb&page=60&team=broncos\n",
      "nfl.com/player=rb&page=60&team=steelers\n",
      "nfl.com/player=rb&page=80&team=jags\n",
      "nfl.com/player=rb&page=80&team=lions\n",
      "nfl.com/player=rb&page=80&team=broncos\n",
      "nfl.com/player=rb&page=80&team=steelers\n",
      "nfl.com/player=rb&page=100&team=jags\n",
      "nfl.com/player=rb&page=100&team=lions\n",
      "nfl.com/player=rb&page=100&team=broncos\n",
      "nfl.com/player=rb&page=100&team=steelers\n"
     ]
    }
   ],
   "source": [
    "for combo in combos:\n",
    "    position, page, team = combo\n",
    "    print(f'nfl.com/player={position}&page={page}&team={team}')"
   ]
  },
  {
   "cell_type": "markdown",
   "metadata": {},
   "source": [
    "# itertools.chain"
   ]
  },
  {
   "cell_type": "code",
   "execution_count": 63,
   "metadata": {},
   "outputs": [],
   "source": [
    "# flatten this list:\n",
    "\n",
    "l = [[1, 2, 3], [4, 5, 6, 1, 2], [7], [8, 9]]"
   ]
  },
  {
   "cell_type": "code",
   "execution_count": 64,
   "metadata": {},
   "outputs": [],
   "source": [
    "flat_list = [item for sublist in l for item in sublist]"
   ]
  },
  {
   "cell_type": "code",
   "execution_count": 65,
   "metadata": {},
   "outputs": [
    {
     "data": {
      "text/plain": [
       "[1, 2, 3, 4, 5, 6, 1, 2, 7, 8, 9]"
      ]
     },
     "execution_count": 65,
     "metadata": {},
     "output_type": "execute_result"
    }
   ],
   "source": [
    "flat_list"
   ]
  },
  {
   "cell_type": "code",
   "execution_count": 66,
   "metadata": {},
   "outputs": [
    {
     "data": {
      "text/plain": [
       "[1, 2, 3, 4, 5, 6, 1, 2, 7, 8, 9]"
      ]
     },
     "execution_count": 66,
     "metadata": {},
     "output_type": "execute_result"
    }
   ],
   "source": [
    "list(itertools.chain(*l))"
   ]
  },
  {
   "cell_type": "markdown",
   "metadata": {},
   "source": [
    "# itertools.permuations"
   ]
  },
  {
   "cell_type": "markdown",
   "metadata": {},
   "source": [
    "![](https://kanoki.org/wp-content/uploads/2019/02/image-2.png)"
   ]
  },
  {
   "cell_type": "code",
   "execution_count": 67,
   "metadata": {},
   "outputs": [
    {
     "name": "stdout",
     "output_type": "stream",
     "text": [
      "[('blue', 'red', 'green'), ('blue', 'green', 'red'), ('red', 'blue', 'green'), ('red', 'green', 'blue'), ('green', 'blue', 'red'), ('green', 'red', 'blue')]\n"
     ]
    }
   ],
   "source": [
    "obj = itertools.permutations(['blue', 'red', 'green'])\n",
    "print(list(obj))"
   ]
  },
  {
   "cell_type": "markdown",
   "metadata": {},
   "source": [
    "# itertools.combinations"
   ]
  },
  {
   "cell_type": "markdown",
   "metadata": {},
   "source": [
    "![](https://kanoki.org/wp-content/uploads/2019/02/image-3.png)"
   ]
  },
  {
   "cell_type": "code",
   "execution_count": 68,
   "metadata": {},
   "outputs": [],
   "source": [
    "classroom = ['Lebron', 'James', 'Anthony', 'Luka', 'Giannas', 'Aja', 'Breanna', 'Brittney', 'Adam']"
   ]
  },
  {
   "cell_type": "code",
   "execution_count": 69,
   "metadata": {},
   "outputs": [
    {
     "data": {
      "text/plain": [
       "[('Lebron',),\n",
       " ('James',),\n",
       " ('Anthony',),\n",
       " ('Luka',),\n",
       " ('Giannas',),\n",
       " ('Aja',),\n",
       " ('Breanna',),\n",
       " ('Brittney',),\n",
       " ('Adam',)]"
      ]
     },
     "execution_count": 69,
     "metadata": {},
     "output_type": "execute_result"
    }
   ],
   "source": [
    "list(itertools.combinations(classroom, 1))"
   ]
  },
  {
   "cell_type": "code",
   "execution_count": 70,
   "metadata": {},
   "outputs": [
    {
     "data": {
      "text/plain": [
       "[('Lebron', 'James'),\n",
       " ('Lebron', 'Anthony'),\n",
       " ('Lebron', 'Luka'),\n",
       " ('Lebron', 'Giannas'),\n",
       " ('Lebron', 'Aja'),\n",
       " ('Lebron', 'Breanna'),\n",
       " ('Lebron', 'Brittney'),\n",
       " ('Lebron', 'Adam'),\n",
       " ('James', 'Anthony'),\n",
       " ('James', 'Luka'),\n",
       " ('James', 'Giannas'),\n",
       " ('James', 'Aja'),\n",
       " ('James', 'Breanna'),\n",
       " ('James', 'Brittney'),\n",
       " ('James', 'Adam'),\n",
       " ('Anthony', 'Luka'),\n",
       " ('Anthony', 'Giannas'),\n",
       " ('Anthony', 'Aja'),\n",
       " ('Anthony', 'Breanna'),\n",
       " ('Anthony', 'Brittney'),\n",
       " ('Anthony', 'Adam'),\n",
       " ('Luka', 'Giannas'),\n",
       " ('Luka', 'Aja'),\n",
       " ('Luka', 'Breanna'),\n",
       " ('Luka', 'Brittney'),\n",
       " ('Luka', 'Adam'),\n",
       " ('Giannas', 'Aja'),\n",
       " ('Giannas', 'Breanna'),\n",
       " ('Giannas', 'Brittney'),\n",
       " ('Giannas', 'Adam'),\n",
       " ('Aja', 'Breanna'),\n",
       " ('Aja', 'Brittney'),\n",
       " ('Aja', 'Adam'),\n",
       " ('Breanna', 'Brittney'),\n",
       " ('Breanna', 'Adam'),\n",
       " ('Brittney', 'Adam')]"
      ]
     },
     "execution_count": 70,
     "metadata": {},
     "output_type": "execute_result"
    }
   ],
   "source": [
    "list(itertools.combinations(classroom, 2))"
   ]
  },
  {
   "cell_type": "code",
   "execution_count": 71,
   "metadata": {},
   "outputs": [
    {
     "data": {
      "text/plain": [
       "[('Lebron', 'James', 'Anthony'),\n",
       " ('Lebron', 'James', 'Luka'),\n",
       " ('Lebron', 'James', 'Giannas'),\n",
       " ('Lebron', 'James', 'Aja'),\n",
       " ('Lebron', 'James', 'Breanna'),\n",
       " ('Lebron', 'James', 'Brittney'),\n",
       " ('Lebron', 'James', 'Adam'),\n",
       " ('Lebron', 'Anthony', 'Luka'),\n",
       " ('Lebron', 'Anthony', 'Giannas'),\n",
       " ('Lebron', 'Anthony', 'Aja'),\n",
       " ('Lebron', 'Anthony', 'Breanna'),\n",
       " ('Lebron', 'Anthony', 'Brittney'),\n",
       " ('Lebron', 'Anthony', 'Adam'),\n",
       " ('Lebron', 'Luka', 'Giannas'),\n",
       " ('Lebron', 'Luka', 'Aja'),\n",
       " ('Lebron', 'Luka', 'Breanna'),\n",
       " ('Lebron', 'Luka', 'Brittney'),\n",
       " ('Lebron', 'Luka', 'Adam'),\n",
       " ('Lebron', 'Giannas', 'Aja'),\n",
       " ('Lebron', 'Giannas', 'Breanna'),\n",
       " ('Lebron', 'Giannas', 'Brittney'),\n",
       " ('Lebron', 'Giannas', 'Adam'),\n",
       " ('Lebron', 'Aja', 'Breanna'),\n",
       " ('Lebron', 'Aja', 'Brittney'),\n",
       " ('Lebron', 'Aja', 'Adam'),\n",
       " ('Lebron', 'Breanna', 'Brittney'),\n",
       " ('Lebron', 'Breanna', 'Adam'),\n",
       " ('Lebron', 'Brittney', 'Adam'),\n",
       " ('James', 'Anthony', 'Luka'),\n",
       " ('James', 'Anthony', 'Giannas'),\n",
       " ('James', 'Anthony', 'Aja'),\n",
       " ('James', 'Anthony', 'Breanna'),\n",
       " ('James', 'Anthony', 'Brittney'),\n",
       " ('James', 'Anthony', 'Adam'),\n",
       " ('James', 'Luka', 'Giannas'),\n",
       " ('James', 'Luka', 'Aja'),\n",
       " ('James', 'Luka', 'Breanna'),\n",
       " ('James', 'Luka', 'Brittney'),\n",
       " ('James', 'Luka', 'Adam'),\n",
       " ('James', 'Giannas', 'Aja'),\n",
       " ('James', 'Giannas', 'Breanna'),\n",
       " ('James', 'Giannas', 'Brittney'),\n",
       " ('James', 'Giannas', 'Adam'),\n",
       " ('James', 'Aja', 'Breanna'),\n",
       " ('James', 'Aja', 'Brittney'),\n",
       " ('James', 'Aja', 'Adam'),\n",
       " ('James', 'Breanna', 'Brittney'),\n",
       " ('James', 'Breanna', 'Adam'),\n",
       " ('James', 'Brittney', 'Adam'),\n",
       " ('Anthony', 'Luka', 'Giannas'),\n",
       " ('Anthony', 'Luka', 'Aja'),\n",
       " ('Anthony', 'Luka', 'Breanna'),\n",
       " ('Anthony', 'Luka', 'Brittney'),\n",
       " ('Anthony', 'Luka', 'Adam'),\n",
       " ('Anthony', 'Giannas', 'Aja'),\n",
       " ('Anthony', 'Giannas', 'Breanna'),\n",
       " ('Anthony', 'Giannas', 'Brittney'),\n",
       " ('Anthony', 'Giannas', 'Adam'),\n",
       " ('Anthony', 'Aja', 'Breanna'),\n",
       " ('Anthony', 'Aja', 'Brittney'),\n",
       " ('Anthony', 'Aja', 'Adam'),\n",
       " ('Anthony', 'Breanna', 'Brittney'),\n",
       " ('Anthony', 'Breanna', 'Adam'),\n",
       " ('Anthony', 'Brittney', 'Adam'),\n",
       " ('Luka', 'Giannas', 'Aja'),\n",
       " ('Luka', 'Giannas', 'Breanna'),\n",
       " ('Luka', 'Giannas', 'Brittney'),\n",
       " ('Luka', 'Giannas', 'Adam'),\n",
       " ('Luka', 'Aja', 'Breanna'),\n",
       " ('Luka', 'Aja', 'Brittney'),\n",
       " ('Luka', 'Aja', 'Adam'),\n",
       " ('Luka', 'Breanna', 'Brittney'),\n",
       " ('Luka', 'Breanna', 'Adam'),\n",
       " ('Luka', 'Brittney', 'Adam'),\n",
       " ('Giannas', 'Aja', 'Breanna'),\n",
       " ('Giannas', 'Aja', 'Brittney'),\n",
       " ('Giannas', 'Aja', 'Adam'),\n",
       " ('Giannas', 'Breanna', 'Brittney'),\n",
       " ('Giannas', 'Breanna', 'Adam'),\n",
       " ('Giannas', 'Brittney', 'Adam'),\n",
       " ('Aja', 'Breanna', 'Brittney'),\n",
       " ('Aja', 'Breanna', 'Adam'),\n",
       " ('Aja', 'Brittney', 'Adam'),\n",
       " ('Breanna', 'Brittney', 'Adam')]"
      ]
     },
     "execution_count": 71,
     "metadata": {},
     "output_type": "execute_result"
    }
   ],
   "source": [
    "list(itertools.combinations(classroom, 3))"
   ]
  },
  {
   "cell_type": "markdown",
   "metadata": {},
   "source": [
    "# collections.Counter"
   ]
  },
  {
   "cell_type": "markdown",
   "metadata": {},
   "source": [
    "The collections.Counter class in the Python standard library implements a multiset (or bag) type that allows elements in the set to have more than one occurrence.\n",
    "\n",
    "This is useful if you need to keep track of not only if an element is part of a set, but also how many times it is included in the set:"
   ]
  },
  {
   "cell_type": "code",
   "execution_count": 72,
   "metadata": {},
   "outputs": [],
   "source": [
    "from collections import Counter\n",
    "inventory = Counter()"
   ]
  },
  {
   "cell_type": "code",
   "execution_count": 73,
   "metadata": {},
   "outputs": [],
   "source": [
    "loot = {'apple': 1, 'gold': 10, 'sword': 2}"
   ]
  },
  {
   "cell_type": "code",
   "execution_count": 74,
   "metadata": {},
   "outputs": [],
   "source": [
    "inventory.update(loot)"
   ]
  },
  {
   "cell_type": "code",
   "execution_count": 75,
   "metadata": {},
   "outputs": [
    {
     "data": {
      "text/plain": [
       "Counter({'apple': 1, 'gold': 10, 'sword': 2})"
      ]
     },
     "execution_count": 75,
     "metadata": {},
     "output_type": "execute_result"
    }
   ],
   "source": [
    "inventory"
   ]
  },
  {
   "cell_type": "code",
   "execution_count": 76,
   "metadata": {},
   "outputs": [],
   "source": [
    "more_loot = {'sword': 1, 'apple': 1}\n",
    "inventory.update(more_loot)"
   ]
  },
  {
   "cell_type": "code",
   "execution_count": 77,
   "metadata": {},
   "outputs": [
    {
     "data": {
      "text/plain": [
       "Counter({'apple': 2, 'gold': 10, 'sword': 3})"
      ]
     },
     "execution_count": 77,
     "metadata": {},
     "output_type": "execute_result"
    }
   ],
   "source": [
    "inventory"
   ]
  },
  {
   "cell_type": "code",
   "execution_count": 78,
   "metadata": {},
   "outputs": [
    {
     "data": {
      "text/plain": [
       "3"
      ]
     },
     "execution_count": 78,
     "metadata": {},
     "output_type": "execute_result"
    }
   ],
   "source": [
    "len(inventory)"
   ]
  },
  {
   "cell_type": "code",
   "execution_count": 79,
   "metadata": {},
   "outputs": [
    {
     "data": {
      "text/plain": [
       "15"
      ]
     },
     "execution_count": 79,
     "metadata": {},
     "output_type": "execute_result"
    }
   ],
   "source": [
    "sum(inventory.values())"
   ]
  },
  {
   "cell_type": "code",
   "execution_count": 80,
   "metadata": {},
   "outputs": [
    {
     "data": {
      "text/plain": [
       "[('gold', 10), ('sword', 3)]"
      ]
     },
     "execution_count": 80,
     "metadata": {},
     "output_type": "execute_result"
    }
   ],
   "source": [
    "inventory.most_common(2)"
   ]
  },
  {
   "cell_type": "code",
   "execution_count": 81,
   "metadata": {},
   "outputs": [
    {
     "data": {
      "text/plain": [
       "Counter({'apple': 2, 'gold': 10, 'sword': 3})"
      ]
     },
     "execution_count": 81,
     "metadata": {},
     "output_type": "execute_result"
    }
   ],
   "source": [
    "inventory"
   ]
  },
  {
   "cell_type": "code",
   "execution_count": 82,
   "metadata": {},
   "outputs": [
    {
     "name": "stdout",
     "output_type": "stream",
     "text": [
      "[('eyes', 8), ('the', 5), ('look', 4)]\n"
     ]
    }
   ],
   "source": [
    "words = [\n",
    "  'look', 'into', 'my', 'eyes', 'look', 'into', 'my', 'eyes',\n",
    "  'the', 'eyes', 'the', 'eyes', 'the', 'eyes', 'not', 'around', 'the',\n",
    "  'eyes', \"don't\", 'look', 'around', 'the', 'eyes', 'look', 'into',\n",
    "  'my', 'eyes', \"you're\", 'under'\n",
    "]\n",
    "\n",
    "word_counts = Counter(words)\n",
    "top_three = word_counts.most_common(3)\n",
    "print(top_three)"
   ]
  },
  {
   "cell_type": "code",
   "execution_count": 83,
   "metadata": {},
   "outputs": [],
   "source": [
    "word_counts.update({'eyes': 1})"
   ]
  },
  {
   "cell_type": "code",
   "execution_count": 84,
   "metadata": {},
   "outputs": [
    {
     "data": {
      "text/plain": [
       "[('eyes', 9), ('the', 5), ('look', 4), ('into', 3), ('my', 3)]"
      ]
     },
     "execution_count": 84,
     "metadata": {},
     "output_type": "execute_result"
    }
   ],
   "source": [
    "word_counts.most_common(5)"
   ]
  },
  {
   "cell_type": "code",
   "execution_count": 85,
   "metadata": {},
   "outputs": [
    {
     "data": {
      "text/plain": [
       "True"
      ]
     },
     "execution_count": 85,
     "metadata": {},
     "output_type": "execute_result"
    }
   ],
   "source": [
    "def is_anagram(str1, str2):\n",
    "     return Counter(str1) == Counter(str2)\n",
    "    \n",
    "is_anagram('abcd', 'dbca')"
   ]
  },
  {
   "cell_type": "code",
   "execution_count": 86,
   "metadata": {},
   "outputs": [
    {
     "data": {
      "text/plain": [
       "False"
      ]
     },
     "execution_count": 86,
     "metadata": {},
     "output_type": "execute_result"
    }
   ],
   "source": [
    "is_anagram('abcd','dbaa')"
   ]
  },
  {
   "cell_type": "code",
   "execution_count": 87,
   "metadata": {},
   "outputs": [
    {
     "data": {
      "text/plain": [
       "'/Users/brandonanhorn19/Documents/data_science_playbook/1.00-FLEX-useful_python\\n'"
      ]
     },
     "execution_count": 87,
     "metadata": {},
     "output_type": "execute_result"
    }
   ],
   "source": [
    "import subprocess\n",
    "\n",
    "subprocess.check_output(['pwd'], shell=True).decode('utf-8')"
   ]
  },
  {
   "cell_type": "code",
   "execution_count": 88,
   "metadata": {},
   "outputs": [
    {
     "name": "stdout",
     "output_type": "stream",
     "text": [
      "lo0: flags=8049<UP,LOOPBACK,RUNNING,MULTICAST> mtu 16384\n",
      "\toptions=1203<RXCSUM,TXCSUM,TXSTATUS,SW_TIMESTAMP>\n",
      "\tinet 127.0.0.1 netmask 0xff000000 \n",
      "\tinet6 ::1 prefixlen 128 \n",
      "\tinet6 fe80::1%lo0 prefixlen 64 scopeid 0x1 \n",
      "\tnd6 options=201<PERFORMNUD,DAD>\n",
      "gif0: flags=8010<POINTOPOINT,MULTICAST> mtu 1280\n",
      "stf0: flags=0<> mtu 1280\n",
      "en0: flags=8863<UP,BROADCAST,SMART,RUNNING,SIMPLEX,MULTICAST> mtu 1500\n",
      "\toptions=50b<RXCSUM,TXCSUM,VLAN_HWTAGGING,AV,CHANNEL_IO>\n",
      "\tether ac:87:a3:26:30:da \n",
      "\tnd6 options=201<PERFORMNUD,DAD>\n",
      "\tmedia: autoselect (none)\n",
      "\tstatus: inactive\n",
      "en1: flags=8863<UP,BROADCAST,SMART,RUNNING,SIMPLEX,MULTICAST> mtu 1500\n",
      "\toptions=400<CHANNEL_IO>\n",
      "\tether b8:09:8a:c5:dc:79 \n",
      "\tinet6 fe80::181f:290:f2f2:ac89%en1 prefixlen 64 secured scopeid 0x5 \n",
      "\tinet6 2604:3d09:2280:120:8a6:50df:e6a6:82e3 prefixlen 64 autoconf secured \n",
      "\tinet6 2604:3d09:2280:120:6441:51c8:32c6:b8dc prefixlen 64 deprecated autoconf temporary \n",
      "\tinet6 2604:3d09:2280:120::ec59 prefixlen 64 dynamic \n",
      "\tinet6 2604:3d09:2280:120:e4f2:1e9d:d5c1:bee8 prefixlen 64 deprecated autoconf temporary \n",
      "\tinet6 2604:3d09:2280:120:e944:e9f3:fb0c:1053 prefixlen 64 deprecated autoconf temporary \n",
      "\tinet6 2604:3d09:2280:120:7c04:44e2:f3c2:4108 prefixlen 64 deprecated autoconf temporary \n",
      "\tinet6 2604:3d09:2280:120:fd00:ca47:a599:c57f prefixlen 64 deprecated autoconf temporary \n",
      "\tinet6 2604:3d09:2280:120:b866:43f9:8d9f:88f9 prefixlen 64 autoconf temporary \n",
      "\tinet 10.0.0.8 netmask 0xffffff00 broadcast 10.0.0.255\n",
      "\tnd6 options=201<PERFORMNUD,DAD>\n",
      "\tmedia: autoselect\n",
      "\tstatus: active\n",
      "en2: flags=8963<UP,BROADCAST,SMART,RUNNING,PROMISC,SIMPLEX,MULTICAST> mtu 1500\n",
      "\toptions=460<TSO4,TSO6,CHANNEL_IO>\n",
      "\tether 82:0d:4d:cd:00:00 \n",
      "\tmedia: autoselect <full-duplex>\n",
      "\tstatus: inactive\n",
      "en3: flags=8963<UP,BROADCAST,SMART,RUNNING,PROMISC,SIMPLEX,MULTICAST> mtu 1500\n",
      "\toptions=460<TSO4,TSO6,CHANNEL_IO>\n",
      "\tether 82:0d:4d:cd:00:01 \n",
      "\tmedia: autoselect <full-duplex>\n",
      "\tstatus: inactive\n",
      "bridge0: flags=8863<UP,BROADCAST,SMART,RUNNING,SIMPLEX,MULTICAST> mtu 1500\n",
      "\toptions=63<RXCSUM,TXCSUM,TSO4,TSO6>\n",
      "\tether 82:0d:4d:cd:00:00 \n",
      "\tConfiguration:\n",
      "\t\tid 0:0:0:0:0:0 priority 0 hellotime 0 fwddelay 0\n",
      "\t\tmaxage 0 holdcnt 0 proto stp maxaddr 100 timeout 1200\n",
      "\t\troot id 0:0:0:0:0:0 priority 0 ifcost 0 port 0\n",
      "\t\tipfilter disabled flags 0x0\n",
      "\tmember: en2 flags=3<LEARNING,DISCOVER>\n",
      "\t        ifmaxaddr 0 port 6 priority 0 path cost 0\n",
      "\tmember: en3 flags=3<LEARNING,DISCOVER>\n",
      "\t        ifmaxaddr 0 port 7 priority 0 path cost 0\n",
      "\tnd6 options=201<PERFORMNUD,DAD>\n",
      "\tmedia: <unknown type>\n",
      "\tstatus: inactive\n",
      "p2p0: flags=8843<UP,BROADCAST,RUNNING,SIMPLEX,MULTICAST> mtu 2304\n",
      "\toptions=400<CHANNEL_IO>\n",
      "\tether 0a:09:8a:c5:dc:79 \n",
      "\tmedia: autoselect\n",
      "\tstatus: inactive\n",
      "awdl0: flags=8943<UP,BROADCAST,RUNNING,PROMISC,SIMPLEX,MULTICAST> mtu 1484\n",
      "\toptions=400<CHANNEL_IO>\n",
      "\tether 7e:5f:38:9a:f3:76 \n",
      "\tinet6 fe80::7c5f:38ff:fe9a:f376%awdl0 prefixlen 64 scopeid 0xa \n",
      "\tnd6 options=201<PERFORMNUD,DAD>\n",
      "\tmedia: autoselect\n",
      "\tstatus: active\n",
      "llw0: flags=8863<UP,BROADCAST,SMART,RUNNING,SIMPLEX,MULTICAST> mtu 1500\n",
      "\toptions=400<CHANNEL_IO>\n",
      "\tether 7e:5f:38:9a:f3:76 \n",
      "\tinet6 fe80::7c5f:38ff:fe9a:f376%llw0 prefixlen 64 scopeid 0xb \n",
      "\tnd6 options=201<PERFORMNUD,DAD>\n",
      "\tmedia: autoselect\n",
      "\tstatus: active\n",
      "utun0: flags=8051<UP,POINTOPOINT,RUNNING,MULTICAST> mtu 1380\n",
      "\tinet6 fe80::ba9d:d66c:98d0:961c%utun0 prefixlen 64 scopeid 0xc \n",
      "\tnd6 options=201<PERFORMNUD,DAD>\n",
      "utun1: flags=8051<UP,POINTOPOINT,RUNNING,MULTICAST> mtu 2000\n",
      "\tinet6 fe80::2dde:bd35:fd24:db1b%utun1 prefixlen 64 scopeid 0xd \n",
      "\tnd6 options=201<PERFORMNUD,DAD>\n",
      "utun2: flags=8051<UP,POINTOPOINT,RUNNING,MULTICAST> mtu 1380\n",
      "\tinet6 fe80::457:e253:c0f3:2485%utun2 prefixlen 64 scopeid 0xe \n",
      "\tnd6 options=201<PERFORMNUD,DAD>\n",
      "utun3: flags=8051<UP,POINTOPOINT,RUNNING,MULTICAST> mtu 1380\n",
      "\tinet6 fe80::b1a4:1e0:9ac:2321%utun3 prefixlen 64 scopeid 0xf \n",
      "\tnd6 options=201<PERFORMNUD,DAD>\n",
      "\n"
     ]
    }
   ],
   "source": [
    "print(subprocess.check_output(['ifconfig'], shell=True).decode('utf-8'))"
   ]
  },
  {
   "cell_type": "markdown",
   "metadata": {},
   "source": [
    "# Simple Server"
   ]
  },
  {
   "cell_type": "code",
   "execution_count": 89,
   "metadata": {},
   "outputs": [],
   "source": [
    "#!python -m http.server 1323"
   ]
  },
  {
   "cell_type": "markdown",
   "metadata": {},
   "source": [
    "## Textwrap"
   ]
  },
  {
   "cell_type": "code",
   "execution_count": 90,
   "metadata": {},
   "outputs": [
    {
     "name": "stdout",
     "output_type": "stream",
     "text": [
      "Lorem ipsum dolor sit amet, consectetur adipiscing\n",
      "elit, sed do eiusmod tempor incididunt ut labore\n",
      "et dolore magna aliqua. Ut enim ad minim veniam,\n",
      "quis nostrud exercitation ullamco laboris nisi ut\n",
      "aliquip ex ea commodo consequat. Duis aute irure\n",
      "dolor in reprehenderit in voluptate velit esse\n",
      "cillum dolore eu fugiat nulla pariatur.\n"
     ]
    }
   ],
   "source": [
    "import textwrap\n",
    "\n",
    "text = 'Lorem ipsum dolor sit amet, consectetur adipiscing elit, sed do eiusmod tempor incididunt ut labore et dolore magna aliqua. Ut enim ad minim veniam, quis nostrud exercitation ullamco laboris nisi ut aliquip ex ea commodo consequat. Duis aute irure dolor in reprehenderit in voluptate velit esse cillum dolore eu fugiat nulla pariatur.'\n",
    "\n",
    "for line in textwrap.wrap(text, 50):\n",
    "    print(line)"
   ]
  }
 ],
 "metadata": {
  "kernelspec": {
   "display_name": "Python 3",
   "language": "python",
   "name": "python3"
  },
  "language_info": {
   "codemirror_mode": {
    "name": "ipython",
    "version": 3
   },
   "file_extension": ".py",
   "mimetype": "text/x-python",
   "name": "python",
   "nbconvert_exporter": "python",
   "pygments_lexer": "ipython3",
   "version": "3.6.4"
  }
 },
 "nbformat": 4,
 "nbformat_minor": 2
}
