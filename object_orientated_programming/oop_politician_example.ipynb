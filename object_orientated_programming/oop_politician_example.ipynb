{
 "cells": [
  {
   "cell_type": "markdown",
   "metadata": {},
   "source": [
    "# Objects in Python"
   ]
  },
  {
   "cell_type": "markdown",
   "metadata": {},
   "source": [
    "Brainstorming what a politician object could look like:"
   ]
  },
  {
   "cell_type": "code",
   "execution_count": 1,
   "metadata": {},
   "outputs": [],
   "source": [
    "# world leaders, \n",
    "\n",
    "# charismatic, \n",
    "# tenure\n",
    "# governing style \n",
    "# majority enjoy\n",
    "# alliances \n",
    "# experience\n",
    "# approval rating\n",
    "# poltical alignment \n",
    "# support \n",
    "# social media \n",
    "\n",
    "# \"leading\"\n",
    "# wage war\n",
    "# implement sanctions\n",
    "# tarrifs \n",
    "# attend summit \n",
    "# tweet\n",
    "# issue statement"
   ]
  },
  {
   "cell_type": "code",
   "execution_count": 2,
   "metadata": {},
   "outputs": [],
   "source": [
    "import random "
   ]
  },
  {
   "cell_type": "code",
   "execution_count": 3,
   "metadata": {},
   "outputs": [
    {
     "data": {
      "text/plain": [
       "'Tweet moved approval rating by 0.05'"
      ]
     },
     "execution_count": 3,
     "metadata": {},
     "output_type": "execute_result"
    }
   ],
   "source": [
    "reaction = 0.05\n",
    "\n",
    "f'Tweet moved approval rating by {round(reaction, 2)}'"
   ]
  },
  {
   "cell_type": "markdown",
   "metadata": {},
   "source": [
    "Base Politician:"
   ]
  },
  {
   "cell_type": "code",
   "execution_count": 4,
   "metadata": {},
   "outputs": [],
   "source": [
    "class Politician:\n",
    "    def __init__(self, alignment, experience, approval_rating):\n",
    "        self.integrity = 0\n",
    "        self.alignment = alignment\n",
    "        self.experience = experience \n",
    "        self.approval_rating = approval_rating"
   ]
  },
  {
   "cell_type": "markdown",
   "metadata": {},
   "source": [
    "A politician with a tweet action:"
   ]
  },
  {
   "cell_type": "code",
   "execution_count": 5,
   "metadata": {},
   "outputs": [],
   "source": [
    "class Politician:\n",
    "    def __init__(self, alignment, experience, approval_rating):\n",
    "        self.integrity = 0\n",
    "        self.alignment = alignment\n",
    "        self.experience = experience \n",
    "        self.approval_rating = approval_rating\n",
    "        \n",
    "    def tweet(self, message=None):\n",
    "        reaction = round(random.normalvariate(0, 0.05), 2)\n",
    "        self.approval_rating += reaction\n",
    "        print(f'Tweet moved approval rating by {reaction}')"
   ]
  },
  {
   "cell_type": "markdown",
   "metadata": {},
   "source": [
    "And a meet action:"
   ]
  },
  {
   "cell_type": "code",
   "execution_count": 6,
   "metadata": {},
   "outputs": [],
   "source": [
    "class Politician:\n",
    "    def __init__(self, alignment, experience, approval_rating):\n",
    "        self.integrity = 0\n",
    "        self.alignment = alignment\n",
    "        self.experience = experience \n",
    "        self.approval_rating = approval_rating\n",
    "        \n",
    "    def tweet(self, message=None):\n",
    "        reaction = round(random.normalvariate(0, 0.05), 2)\n",
    "        self.approval_rating += reaction\n",
    "        print(f'Tweet moved approval rating by {reaction}')\n",
    "    \n",
    "    def meet(self, person):\n",
    "        if person == 'putin':\n",
    "            self.integrity = -1\n",
    "        elif self.approval_rating >= 0.5:\n",
    "            self.integrity += 0.02\n",
    "        else:\n",
    "            self.integrity -= 0.02"
   ]
  },
  {
   "cell_type": "markdown",
   "metadata": {},
   "source": [
    "Operator overloading:"
   ]
  },
  {
   "cell_type": "code",
   "execution_count": 7,
   "metadata": {},
   "outputs": [],
   "source": [
    "class Politician:\n",
    "    def __init__(self, alignment, experience, approval_rating):\n",
    "        self.integrity = 0\n",
    "        self.alignment = alignment\n",
    "        self.experience = experience \n",
    "        self.approval_rating = approval_rating\n",
    "        \n",
    "    def tweet(self, message=None):\n",
    "        reaction = round(random.normalvariate(0, 0.05), 2)\n",
    "        self.approval_rating += reaction\n",
    "        print(f'Tweet moved approval rating by {reaction}')\n",
    "    \n",
    "    def meet(self, person):\n",
    "        if person == 'putin':\n",
    "            self.integrity = -1\n",
    "        elif self.approval_rating >= 0.5:\n",
    "            self.integrity += 0.02\n",
    "        else:\n",
    "            self.integrity -= 0.02\n",
    "            \n",
    "    def __lt__(self, other):\n",
    "        if self.integrity >= 0.5:\n",
    "            pass\n",
    "        elif other.integrity <= 0:\n",
    "            new = (self.integrity + other.integrity) / 2\n",
    "            self.integrity = new\n",
    "            \n",
    "    def __add__(self, other):\n",
    "        if self.alignment == other.alignment:\n",
    "            print('Yay!')\n",
    "        else:\n",
    "            print('Uh oh!')"
   ]
  },
  {
   "cell_type": "markdown",
   "metadata": {},
   "source": [
    "Inheritence:"
   ]
  },
  {
   "cell_type": "code",
   "execution_count": 8,
   "metadata": {},
   "outputs": [],
   "source": [
    "class CanadianPolitician(Politician):\n",
    "    def __init__(self, alignment, experience, approval_rating):\n",
    "        super().__init__(alignment, experience, approval_rating)\n",
    "        if self.alignment == 'left': \n",
    "            self.party = 'liberal'\n",
    "        elif self.alignment == 'right':\n",
    "            self.party = 'conservative'\n",
    "        else:\n",
    "            self.party = 'other'\n",
    "        \n",
    "    def vote(self, position):\n",
    "        print('This person voted')\n",
    "        \n",
    "    def __repr__(self):\n",
    "        return f'CanadianPolitician(\"{self.alignment}\", {self.experience}, {self.approval_rating})'"
   ]
  },
  {
   "cell_type": "markdown",
   "metadata": {},
   "source": [
    "Examples of use:"
   ]
  },
  {
   "cell_type": "code",
   "execution_count": 9,
   "metadata": {},
   "outputs": [],
   "source": [
    "trudeau = CanadianPolitician('left', 10, 0.55)"
   ]
  },
  {
   "cell_type": "code",
   "execution_count": 10,
   "metadata": {},
   "outputs": [
    {
     "data": {
      "text/plain": [
       "CanadianPolitician(\"left\", 10, 0.55)"
      ]
     },
     "execution_count": 10,
     "metadata": {},
     "output_type": "execute_result"
    }
   ],
   "source": [
    "trudeau"
   ]
  },
  {
   "cell_type": "code",
   "execution_count": 11,
   "metadata": {},
   "outputs": [
    {
     "name": "stdout",
     "output_type": "stream",
     "text": [
      "This person voted\n"
     ]
    }
   ],
   "source": [
    "trudeau.vote('Yes')"
   ]
  },
  {
   "cell_type": "code",
   "execution_count": 12,
   "metadata": {},
   "outputs": [
    {
     "name": "stdout",
     "output_type": "stream",
     "text": [
      "Tweet moved approval rating by -0.01\n"
     ]
    }
   ],
   "source": [
    "trudeau.tweet('hi!')"
   ]
  },
  {
   "cell_type": "code",
   "execution_count": 13,
   "metadata": {},
   "outputs": [],
   "source": [
    "trump = Politician('right', 0, 0.45)"
   ]
  },
  {
   "cell_type": "code",
   "execution_count": 14,
   "metadata": {},
   "outputs": [],
   "source": [
    "trudeau < trump"
   ]
  },
  {
   "cell_type": "code",
   "execution_count": 15,
   "metadata": {},
   "outputs": [
    {
     "data": {
      "text/plain": [
       "0.0"
      ]
     },
     "execution_count": 15,
     "metadata": {},
     "output_type": "execute_result"
    }
   ],
   "source": [
    "trudeau.integrity"
   ]
  },
  {
   "cell_type": "code",
   "execution_count": 16,
   "metadata": {},
   "outputs": [],
   "source": [
    "trudeau = Politician('left', 10, 0.55)\n",
    "trump = Politician('right', 0, 0.45)\n",
    "jacinda = Politician('left', 5, 0.60)"
   ]
  },
  {
   "cell_type": "code",
   "execution_count": 17,
   "metadata": {},
   "outputs": [
    {
     "name": "stdout",
     "output_type": "stream",
     "text": [
      "Yay!\n"
     ]
    }
   ],
   "source": [
    "trudeau + jacinda"
   ]
  },
  {
   "cell_type": "code",
   "execution_count": 18,
   "metadata": {},
   "outputs": [
    {
     "name": "stdout",
     "output_type": "stream",
     "text": [
      "Tweet moved approval rating by 0.02\n"
     ]
    }
   ],
   "source": [
    "trump.tweet('The Raptors are not invited to the the WH')"
   ]
  },
  {
   "cell_type": "code",
   "execution_count": 19,
   "metadata": {},
   "outputs": [],
   "source": [
    "trump.meet('putin')"
   ]
  },
  {
   "cell_type": "code",
   "execution_count": 20,
   "metadata": {},
   "outputs": [
    {
     "data": {
      "text/plain": [
       "-1"
      ]
     },
     "execution_count": 20,
     "metadata": {},
     "output_type": "execute_result"
    }
   ],
   "source": [
    "trump.integrity"
   ]
  },
  {
   "cell_type": "code",
   "execution_count": 21,
   "metadata": {},
   "outputs": [],
   "source": [
    "trudeau.meet('macron')"
   ]
  },
  {
   "cell_type": "code",
   "execution_count": 22,
   "metadata": {},
   "outputs": [],
   "source": [
    "trudeau.meet('merkle')"
   ]
  },
  {
   "cell_type": "code",
   "execution_count": 23,
   "metadata": {},
   "outputs": [],
   "source": [
    "trudeau.meet('jacinda')"
   ]
  },
  {
   "cell_type": "code",
   "execution_count": 24,
   "metadata": {},
   "outputs": [
    {
     "data": {
      "text/plain": [
       "0.06"
      ]
     },
     "execution_count": 24,
     "metadata": {},
     "output_type": "execute_result"
    }
   ],
   "source": [
    "trudeau.integrity"
   ]
  },
  {
   "cell_type": "code",
   "execution_count": 25,
   "metadata": {},
   "outputs": [],
   "source": [
    "trudeau < trump"
   ]
  },
  {
   "cell_type": "code",
   "execution_count": 26,
   "metadata": {},
   "outputs": [
    {
     "data": {
      "text/plain": [
       "-0.47"
      ]
     },
     "execution_count": 26,
     "metadata": {},
     "output_type": "execute_result"
    }
   ],
   "source": [
    "trudeau.integrity"
   ]
  },
  {
   "cell_type": "code",
   "execution_count": 27,
   "metadata": {},
   "outputs": [
    {
     "data": {
      "text/plain": [
       "10"
      ]
     },
     "execution_count": 27,
     "metadata": {},
     "output_type": "execute_result"
    }
   ],
   "source": [
    "trudeau.experience"
   ]
  }
 ],
 "metadata": {
  "kernelspec": {
   "display_name": "Python 3",
   "language": "python",
   "name": "python3"
  },
  "language_info": {
   "codemirror_mode": {
    "name": "ipython",
    "version": 3
   },
   "file_extension": ".py",
   "mimetype": "text/x-python",
   "name": "python",
   "nbconvert_exporter": "python",
   "pygments_lexer": "ipython3",
   "version": "3.6.4"
  }
 },
 "nbformat": 4,
 "nbformat_minor": 2
}
