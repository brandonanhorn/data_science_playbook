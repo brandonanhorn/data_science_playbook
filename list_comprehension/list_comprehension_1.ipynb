{
 "cells": [
  {
   "cell_type": "markdown",
   "metadata": {},
   "source": [
    "# Introduction: for and while loops\n",
    "---\n",
    "The **for** statement is used to **iterate** over the elements of a sequence. It's \n",
    "used when you have a piece of code which you want to repeat n number of times. \n",
    "You can use any object (such as strings, arrays, lists, tuples, dict and so on) \n",
    "in a for loop in Python.\n",
    "\n",
    "The **while** loop tells the computer to do something as long as a condition is met. \n",
    "A while loop consists of a block of code and a condition. The condition \n",
    "is evaluated, and if the condition is true, the code within the\n",
    "block is executed. This repeats until the condition becomes false. \n",
    "\n",
    "[for and while loops](http://www.pythonforbeginners.com/control-flow-2/python-for-and-while-loops)\n",
    "[for and while loops](http://www.cyberciti.biz/faq/python-for-loop-examples-statements/)"
   ]
  },
  {
   "cell_type": "markdown",
   "metadata": {},
   "source": [
    "# While Loops\n",
    "---\n",
    "```python\n",
    "truth_test = True\n",
    "while truth_test:\n",
    "    print('hello')\n",
    "```\n",
    "This is an example of a **while** loop. While loops continue to run until the expression after `while` evaluates to `False`. In the example above, the loop will continue to run ad infinitum because we never change `truth_test` be `False` in our block.\n",
    "\n",
    "Now it's time for some practice. We'll create a `while` loop in conjunction with the `input` function to create the following program:\n",
    "![](http://snag.gy/WsiZu.jpg)"
   ]
  },
  {
   "cell_type": "code",
   "execution_count": 1,
   "metadata": {},
   "outputs": [
    {
     "name": "stdout",
     "output_type": "stream",
     "text": [
      "What is your name? Lebron James\n"
     ]
    }
   ],
   "source": [
    "name = input(\"What is your name? \")"
   ]
  },
  {
   "cell_type": "code",
   "execution_count": 2,
   "metadata": {},
   "outputs": [
    {
     "data": {
      "text/plain": [
       "'Lebron James'"
      ]
     },
     "execution_count": 2,
     "metadata": {},
     "output_type": "execute_result"
    }
   ],
   "source": [
    "name"
   ]
  },
  {
   "cell_type": "code",
   "execution_count": 3,
   "metadata": {},
   "outputs": [
    {
     "name": "stdout",
     "output_type": "stream",
     "text": [
      "Did the snake bite you? No\n",
      "Poke with stick\n",
      "Did the snake bite you? Yes\n",
      "Poke with stick\n",
      "Go to the Hospital\n"
     ]
    }
   ],
   "source": [
    "snake_bite_you = 'No'\n",
    "\n",
    "while snake_bite_you == 'No':\n",
    "    snake_bite_you = input('Did the snake bite you? ').capitalize()\n",
    "    print('Poke with stick')\n",
    "\n",
    "print('Go to the Hospital')"
   ]
  },
  {
   "cell_type": "code",
   "execution_count": 4,
   "metadata": {},
   "outputs": [
    {
     "name": "stdout",
     "output_type": "stream",
     "text": [
      "hello\n"
     ]
    }
   ],
   "source": [
    "truth_test = True\n",
    "while truth_test:\n",
    "    print('hello')\n",
    "    truth_test = False"
   ]
  },
  {
   "cell_type": "markdown",
   "metadata": {},
   "source": [
    "Remember, a while loop runs until the expression is `False`. The problem is, sometimes they don't stop. To avoid this, here are some rules to follow:\n",
    "\n",
    "1. Make sure that you use while loops sparingly. Usually a for loop is better.\n",
    "2. Review your while statements and make sure that the boolean test will become False at some point.\n",
    "3. When in doubt, print out your test variable at the top and bottom of the while-loop to see what it's doing.\n"
   ]
  },
  {
   "cell_type": "markdown",
   "metadata": {},
   "source": [
    "# For Loops\n",
    "---\n",
    "```python\n",
    "for count in [1, 2, 3]: \n",
    "    print(count) \n",
    "    print('Yes' * count) \n",
    "```\n",
    "\n",
    "This is a **for** loop. It has the heading starting with **for**, followed by a \n",
    "variable name (count in this case), the word **in**, some sequence, and a final colon. \n",
    "As with function definitions and other heading lines, the **colon** at the end of \n",
    "the line indicates that a consistently **indented block** of statements follows \n",
    "to complete the for loop."
   ]
  },
  {
   "cell_type": "code",
   "execution_count": 5,
   "metadata": {},
   "outputs": [
    {
     "data": {
      "text/plain": [
       "[0, 2, 4, 6, 8, 10, 12, 14, 16, 18, 20]"
      ]
     },
     "execution_count": 5,
     "metadata": {},
     "output_type": "execute_result"
    }
   ],
   "source": [
    "list(range(20+1))[0::2]"
   ]
  },
  {
   "cell_type": "code",
   "execution_count": 6,
   "metadata": {},
   "outputs": [
    {
     "name": "stdout",
     "output_type": "stream",
     "text": [
      "0\n",
      "2\n",
      "4\n",
      "6\n",
      "8\n",
      "10\n",
      "12\n",
      "14\n",
      "16\n",
      "18\n",
      "20\n"
     ]
    }
   ],
   "source": [
    "for i in list(range(20+1))[0::2]:\n",
    "    print(i)"
   ]
  },
  {
   "cell_type": "code",
   "execution_count": 7,
   "metadata": {},
   "outputs": [
    {
     "name": "stdout",
     "output_type": "stream",
     "text": [
      "0\n",
      "1\n",
      "2\n",
      "3\n",
      "4\n",
      "5\n",
      "6\n",
      "7\n",
      "8\n",
      "9\n",
      "10\n",
      "11\n",
      "12\n",
      "13\n",
      "14\n",
      "15\n",
      "16\n",
      "17\n",
      "18\n",
      "19\n",
      "20\n"
     ]
    }
   ],
   "source": [
    "for number in range(20+1):\n",
    "    print(number)"
   ]
  },
  {
   "cell_type": "code",
   "execution_count": 8,
   "metadata": {},
   "outputs": [
    {
     "data": {
      "text/plain": [
       "'YesYes'"
      ]
     },
     "execution_count": 8,
     "metadata": {},
     "output_type": "execute_result"
    }
   ],
   "source": [
    "'Yes' * 2"
   ]
  },
  {
   "cell_type": "code",
   "execution_count": 9,
   "metadata": {},
   "outputs": [
    {
     "name": "stdout",
     "output_type": "stream",
     "text": [
      "1\n",
      "Yes\n",
      "\n",
      "2\n",
      "YesYes\n",
      "\n",
      "3\n",
      "YesYesYes\n",
      "\n"
     ]
    }
   ],
   "source": [
    "for i in [1, 2, 3]: \n",
    "    print(i) \n",
    "    print('Yes' * i)\n",
    "    print('')"
   ]
  },
  {
   "cell_type": "code",
   "execution_count": 10,
   "metadata": {},
   "outputs": [
    {
     "name": "stdout",
     "output_type": "stream",
     "text": [
      "Poke Snake\n",
      "Poke Snake\n",
      "Poke Snake\n",
      "Poke Snake\n",
      "Poke Snake\n",
      "Poke Snake\n",
      "Poke Snake\n",
      "Poke Snake\n",
      "Poke Snake\n",
      "Poke Snake\n"
     ]
    }
   ],
   "source": [
    "for _ in range(10):\n",
    "    print('Poke Snake')"
   ]
  },
  {
   "cell_type": "code",
   "execution_count": 11,
   "metadata": {},
   "outputs": [
    {
     "data": {
      "text/plain": [
       "True"
      ]
     },
     "execution_count": 11,
     "metadata": {},
     "output_type": "execute_result"
    }
   ],
   "source": [
    "True is True"
   ]
  },
  {
   "cell_type": "code",
   "execution_count": 12,
   "metadata": {},
   "outputs": [
    {
     "name": "stdout",
     "output_type": "stream",
     "text": [
      "Yay\n"
     ]
    }
   ],
   "source": [
    "if True == True:\n",
    "    print('Yay')"
   ]
  },
  {
   "cell_type": "code",
   "execution_count": 13,
   "metadata": {},
   "outputs": [
    {
     "data": {
      "text/plain": [
       "True"
      ]
     },
     "execution_count": 13,
     "metadata": {},
     "output_type": "execute_result"
    }
   ],
   "source": [
    "'ball' in 'football'"
   ]
  },
  {
   "cell_type": "code",
   "execution_count": 14,
   "metadata": {},
   "outputs": [
    {
     "name": "stdout",
     "output_type": "stream",
     "text": [
      "Not a thing\n"
     ]
    }
   ],
   "source": [
    "thing = True\n",
    "thing = False\n",
    "thing = 1\n",
    "thing = 2\n",
    "thing = 0\n",
    "thing = ['Things', 'Things']\n",
    "thing = []\n",
    "thing = None\n",
    "\n",
    "if thing:\n",
    "    print(\"Yay\")\n",
    "else:\n",
    "    print('Not a thing')"
   ]
  },
  {
   "cell_type": "code",
   "execution_count": 15,
   "metadata": {},
   "outputs": [
    {
     "data": {
      "text/plain": [
       "['FOOTBALL', 'BASKETBALL', 'hockey', 'tennis', 'BASEBALL']"
      ]
     },
     "execution_count": 15,
     "metadata": {},
     "output_type": "execute_result"
    }
   ],
   "source": [
    "sports = ['football', 'basketball', 'hockey', 'tennis', 'baseball']\n",
    "\n",
    "sport = 'football'\n",
    "\n",
    "hilight_sports = []\n",
    "for sport in sports:\n",
    "    if 'ball' in sport:\n",
    "        hilight_sports.append(sport.upper())\n",
    "    else:\n",
    "        hilight_sports.append(sport)\n",
    "\n",
    "hilight_sports"
   ]
  },
  {
   "cell_type": "markdown",
   "metadata": {},
   "source": [
    "Let's try a simple repeat **for** loop. A repeat loop is for when you just want to repeat the exact same \n",
    "thing a specific number of times. In that case only the length of the sequence, \n",
    "not the individual elements are important. For this, we can use use the `range` function to create our sequence. \n",
    "\n",
    "In the block below, use `range` to create a for loop that prints **Hello** 100 times."
   ]
  },
  {
   "cell_type": "code",
   "execution_count": 16,
   "metadata": {},
   "outputs": [
    {
     "name": "stdout",
     "output_type": "stream",
     "text": [
      "hello\n",
      "hello\n",
      "hello\n",
      "hello\n",
      "hello\n",
      "hello\n",
      "hello\n",
      "hello\n",
      "hello\n",
      "hello\n",
      "hello\n",
      "hello\n",
      "hello\n",
      "hello\n",
      "hello\n",
      "hello\n",
      "hello\n",
      "hello\n",
      "hello\n",
      "hello\n",
      "hello\n",
      "hello\n",
      "hello\n",
      "hello\n",
      "hello\n",
      "hello\n",
      "hello\n",
      "hello\n",
      "hello\n",
      "hello\n",
      "hello\n",
      "hello\n",
      "hello\n",
      "hello\n",
      "hello\n",
      "hello\n",
      "hello\n",
      "hello\n",
      "hello\n",
      "hello\n",
      "hello\n",
      "hello\n",
      "hello\n",
      "hello\n",
      "hello\n",
      "hello\n",
      "hello\n",
      "hello\n",
      "hello\n",
      "hello\n",
      "hello\n",
      "hello\n",
      "hello\n",
      "hello\n",
      "hello\n",
      "hello\n",
      "hello\n",
      "hello\n",
      "hello\n",
      "hello\n",
      "hello\n",
      "hello\n",
      "hello\n",
      "hello\n",
      "hello\n",
      "hello\n",
      "hello\n",
      "hello\n",
      "hello\n",
      "hello\n",
      "hello\n",
      "hello\n",
      "hello\n",
      "hello\n",
      "hello\n",
      "hello\n",
      "hello\n",
      "hello\n",
      "hello\n",
      "hello\n",
      "hello\n",
      "hello\n",
      "hello\n",
      "hello\n",
      "hello\n",
      "hello\n",
      "hello\n",
      "hello\n",
      "hello\n",
      "hello\n",
      "hello\n",
      "hello\n",
      "hello\n",
      "hello\n",
      "hello\n",
      "hello\n",
      "hello\n",
      "hello\n",
      "hello\n",
      "hello\n"
     ]
    }
   ],
   "source": [
    "for _ in range(100):\n",
    "    print('hello')"
   ]
  },
  {
   "cell_type": "markdown",
   "metadata": {},
   "source": [
    "We've mostly played it safe with list sequences.  Let's try looping through the letters in a word:\n",
    "\n",
    "```python\n",
    "word = \"computer\"\n",
    "```\n",
    "\n",
    "How do we do this?"
   ]
  },
  {
   "cell_type": "code",
   "execution_count": 17,
   "metadata": {},
   "outputs": [
    {
     "name": "stdout",
     "output_type": "stream",
     "text": [
      "c\n",
      "huzzah\n",
      "o\n",
      "m\n",
      "p\n",
      "huzzah\n",
      "u\n",
      "t\n",
      "huzzah\n",
      "e\n",
      "r\n"
     ]
    }
   ],
   "source": [
    "word = \"computer\"\n",
    "for letter in word:\n",
    "    if letter in 'aeiou':\n",
    "        print('huzzah')\n",
    "    print(letter)"
   ]
  },
  {
   "cell_type": "code",
   "execution_count": 18,
   "metadata": {},
   "outputs": [
    {
     "data": {
      "text/plain": [
       "['A', 'G', 'C', 'U', 'C', 'G', 'U', 'C', 'U']"
      ]
     },
     "execution_count": 18,
     "metadata": {},
     "output_type": "execute_result"
    }
   ],
   "source": [
    "dna = 'AGCTCGTCT'\n",
    "rna = []\n",
    "\n",
    "for nucleotide in dna:\n",
    "    if nucleotide == 'T':\n",
    "        rna.append('U')\n",
    "    else:\n",
    "        rna.append(nucleotide)\n",
    "rna"
   ]
  },
  {
   "cell_type": "markdown",
   "metadata": {},
   "source": [
    "## Looping through dictionaries\n",
    "\n",
    "You can also loop through the key/value pairs in a dictionary. \n",
    "\n",
    "To see this in action, create a dictionary called `user` with the keys `'first_name'` and `'last_name'`"
   ]
  },
  {
   "cell_type": "code",
   "execution_count": 19,
   "metadata": {},
   "outputs": [],
   "source": [
    "food = {\n",
    "    'home': ['kavitha', 'masterbrin'],\n",
    "    'nothing': ['athing'],\n",
    "    'kings': ['moneymoney'],\n",
    "    'mcdonalds': ['noyou', 'frankthetank'],\n",
    "    'gusto': ['abba']\n",
    "}"
   ]
  },
  {
   "cell_type": "code",
   "execution_count": 20,
   "metadata": {},
   "outputs": [
    {
     "data": {
      "text/plain": [
       "dict_keys(['home', 'nothing', 'kings', 'mcdonalds', 'gusto'])"
      ]
     },
     "execution_count": 20,
     "metadata": {},
     "output_type": "execute_result"
    }
   ],
   "source": [
    "food.keys()"
   ]
  },
  {
   "cell_type": "code",
   "execution_count": 21,
   "metadata": {},
   "outputs": [
    {
     "data": {
      "text/plain": [
       "dict_values([['kavitha', 'masterbrin'], ['athing'], ['moneymoney'], ['noyou', 'frankthetank'], ['abba']])"
      ]
     },
     "execution_count": 21,
     "metadata": {},
     "output_type": "execute_result"
    }
   ],
   "source": [
    "food.values()"
   ]
  },
  {
   "cell_type": "code",
   "execution_count": 22,
   "metadata": {},
   "outputs": [],
   "source": [
    "def add_flag(name):\n",
    "    # print('Adding Flag to Name')\n",
    "    return f'{name} 🇨🇦'"
   ]
  },
  {
   "cell_type": "code",
   "execution_count": 23,
   "metadata": {},
   "outputs": [
    {
     "data": {
      "text/plain": [
       "'Wayne Gretzky 🇨🇦'"
      ]
     },
     "execution_count": 23,
     "metadata": {},
     "output_type": "execute_result"
    }
   ],
   "source": [
    "add_flag('Wayne Gretzky')"
   ]
  },
  {
   "cell_type": "code",
   "execution_count": 24,
   "metadata": {},
   "outputs": [
    {
     "name": "stdout",
     "output_type": "stream",
     "text": [
      "Adding Flag to Name...\n",
      "Adding Flag to Name...\n",
      "Adding Flag to Name...\n",
      "Adding Flag to Name...\n",
      "Adding Flag to Name...\n",
      "Adding Flag to Name...\n",
      "Adding Flag to Name...\n"
     ]
    }
   ],
   "source": [
    "classroom = []\n",
    "for food_place, people in list(food.items()):\n",
    "    for person in people:\n",
    "        print('Adding Flag to Name...')\n",
    "        p = add_flag(person)\n",
    "        classroom.append(p)"
   ]
  },
  {
   "cell_type": "code",
   "execution_count": 25,
   "metadata": {},
   "outputs": [
    {
     "name": "stdout",
     "output_type": "stream",
     "text": [
      "('home', ['kavitha', 'masterbrin'])\n",
      "('nothing', ['athing'])\n",
      "('kings', ['moneymoney'])\n",
      "('mcdonalds', ['noyou', 'frankthetank'])\n",
      "('gusto', ['abba'])\n"
     ]
    }
   ],
   "source": [
    "for thing in food.items():\n",
    "    print(thing)"
   ]
  },
  {
   "cell_type": "code",
   "execution_count": 26,
   "metadata": {},
   "outputs": [
    {
     "data": {
      "text/plain": [
       "['kavitha 🇨🇦',\n",
       " 'masterbrin 🇨🇦',\n",
       " 'athing 🇨🇦',\n",
       " 'moneymoney 🇨🇦',\n",
       " 'noyou 🇨🇦',\n",
       " 'frankthetank 🇨🇦',\n",
       " 'abba 🇨🇦']"
      ]
     },
     "execution_count": 26,
     "metadata": {},
     "output_type": "execute_result"
    }
   ],
   "source": [
    "classroom"
   ]
  },
  {
   "cell_type": "code",
   "execution_count": 27,
   "metadata": {},
   "outputs": [
    {
     "data": {
      "text/plain": [
       "[['kavitha', 'masterbrin'],\n",
       " ['athing'],\n",
       " ['moneymoney'],\n",
       " ['noyou', 'frankthetank'],\n",
       " ['abba']]"
      ]
     },
     "execution_count": 27,
     "metadata": {},
     "output_type": "execute_result"
    }
   ],
   "source": [
    "list(food.values())"
   ]
  },
  {
   "cell_type": "code",
   "execution_count": 28,
   "metadata": {},
   "outputs": [],
   "source": [
    "places  = list(food.keys())"
   ]
  },
  {
   "cell_type": "code",
   "execution_count": 29,
   "metadata": {},
   "outputs": [],
   "source": [
    "names = list(food.values())"
   ]
  },
  {
   "cell_type": "code",
   "execution_count": 30,
   "metadata": {},
   "outputs": [
    {
     "name": "stdout",
     "output_type": "stream",
     "text": [
      "k&k\n",
      "['yue']\n"
     ]
    }
   ],
   "source": [
    "place, name = ('k&k', ['yue'])\n",
    "print(place)\n",
    "print(name)"
   ]
  },
  {
   "cell_type": "code",
   "execution_count": 31,
   "metadata": {},
   "outputs": [
    {
     "data": {
      "text/plain": [
       "[('home', ['kavitha', 'masterbrin']),\n",
       " ('nothing', ['athing']),\n",
       " ('kings', ['moneymoney']),\n",
       " ('mcdonalds', ['noyou', 'frankthetank']),\n",
       " ('gusto', ['abba'])]"
      ]
     },
     "execution_count": 31,
     "metadata": {},
     "output_type": "execute_result"
    }
   ],
   "source": [
    "list(food.items())"
   ]
  },
  {
   "cell_type": "code",
   "execution_count": 32,
   "metadata": {},
   "outputs": [
    {
     "name": "stdout",
     "output_type": "stream",
     "text": [
      "a&w\n",
      "\n",
      "\n",
      "burger\n",
      "\n",
      "\n",
      "k&k\n",
      "\n",
      "\n",
      "vege\n",
      "\n",
      "\n",
      "home\n",
      "\n",
      "\n",
      "IDK\n",
      "\n",
      "\n"
     ]
    }
   ],
   "source": [
    "for place, place_type in [('a&w', 'burger'), ('k&k', 'vege'), ('home', 'IDK')]:\n",
    "    print(place)\n",
    "    print('\\n')\n",
    "    print(place_type)\n",
    "    print('\\n')"
   ]
  },
  {
   "cell_type": "code",
   "execution_count": 33,
   "metadata": {},
   "outputs": [
    {
     "data": {
      "text/plain": [
       "('a&w', 'burger')"
      ]
     },
     "execution_count": 33,
     "metadata": {},
     "output_type": "execute_result"
    }
   ],
   "source": [
    "('a&w', 'burger')"
   ]
  },
  {
   "cell_type": "code",
   "execution_count": 34,
   "metadata": {},
   "outputs": [],
   "source": [
    "names = []\n",
    "places = []\n",
    "\n",
    "for key, value in food.items():\n",
    "    places.append(key)\n",
    "    names.extend(value)"
   ]
  },
  {
   "cell_type": "code",
   "execution_count": 35,
   "metadata": {},
   "outputs": [
    {
     "data": {
      "text/plain": [
       "False"
      ]
     },
     "execution_count": 35,
     "metadata": {},
     "output_type": "execute_result"
    }
   ],
   "source": [
    "'manjeet' in names"
   ]
  },
  {
   "cell_type": "markdown",
   "metadata": {},
   "source": [
    "Dictionaries have a method called `items()` specifically for looping. We'll use that in conjunction with a for loop to iterate over the key/value pairs in our `user` dictionary."
   ]
  },
  {
   "cell_type": "markdown",
   "metadata": {},
   "source": [
    "# Mapping\n",
    "---\n",
    "Mapping is when you have a list, but you need to make changes to the items in that list. In python, we'll use list comprehension to do this.\n",
    "\n",
    "To illustrate mapping, let's create an array of strings for each person in the classroom: 'student' and 'teacher'. Your code should look something like this:\n",
    "\n",
    "```python\n",
    "classroom = ['student', 'student', 'teacher', 'student', ...]\n",
    "```"
   ]
  },
  {
   "cell_type": "code",
   "execution_count": 36,
   "metadata": {},
   "outputs": [],
   "source": [
    "tv = [\n",
    "    'The Boys',\n",
    "    'Dota 2 on Twitch',\n",
    "    'Game of Thrones',\n",
    "    'Hell\\'s Kitchen: Surrey, BC',\n",
    "    'Narcos: Mexico',\n",
    "    'Black Mirror',\n",
    "    'Penn & Teller: Fool Us'\n",
    "]"
   ]
  },
  {
   "cell_type": "code",
   "execution_count": 37,
   "metadata": {},
   "outputs": [],
   "source": [
    "def check_colon(tv_show):\n",
    "    return ':' in tv_show"
   ]
  },
  {
   "cell_type": "code",
   "execution_count": 38,
   "metadata": {},
   "outputs": [],
   "source": [
    "def add_tv_emoji(tv_show):\n",
    "    return f'📺 {tv_show}'"
   ]
  },
  {
   "cell_type": "code",
   "execution_count": 39,
   "metadata": {},
   "outputs": [
    {
     "data": {
      "text/plain": [
       "'📺 The Boys'"
      ]
     },
     "execution_count": 39,
     "metadata": {},
     "output_type": "execute_result"
    }
   ],
   "source": [
    "add_tv_emoji('The Boys')"
   ]
  },
  {
   "cell_type": "code",
   "execution_count": 40,
   "metadata": {},
   "outputs": [
    {
     "data": {
      "text/plain": [
       "[\"Hell's Kitchen: Surrey, BC\", 'Narcos: Mexico', 'Penn & Teller: Fool Us']"
      ]
     },
     "execution_count": 40,
     "metadata": {},
     "output_type": "execute_result"
    }
   ],
   "source": [
    "tv_colon = []\n",
    "for t in tv:\n",
    "    if check_colon(t):\n",
    "         tv_colon.append(t)\n",
    "tv_colon"
   ]
  },
  {
   "cell_type": "code",
   "execution_count": 41,
   "metadata": {},
   "outputs": [
    {
     "data": {
      "text/plain": [
       "['The Boys',\n",
       " 'Dota 2 on Twitch',\n",
       " 'Game of Thrones',\n",
       " \"Hell's Kitchen: Surrey, BC\",\n",
       " 'Narcos: Mexico',\n",
       " 'Black Mirror',\n",
       " 'Penn & Teller: Fool Us']"
      ]
     },
     "execution_count": 41,
     "metadata": {},
     "output_type": "execute_result"
    }
   ],
   "source": [
    "tv"
   ]
  },
  {
   "cell_type": "code",
   "execution_count": 42,
   "metadata": {},
   "outputs": [
    {
     "data": {
      "text/plain": [
       "['📺 The Boys',\n",
       " '📺 Dota 2 on Twitch',\n",
       " '📺 Game of Thrones',\n",
       " \"📺 Hell's Kitchen: Surrey, BC\",\n",
       " '📺 Narcos: Mexico',\n",
       " '📺 Black Mirror',\n",
       " '📺 Penn & Teller: Fool Us']"
      ]
     },
     "execution_count": 42,
     "metadata": {},
     "output_type": "execute_result"
    }
   ],
   "source": [
    "[add_tv_emoji(tv_show) for tv_show in tv]"
   ]
  },
  {
   "cell_type": "code",
   "execution_count": 43,
   "metadata": {},
   "outputs": [
    {
     "data": {
      "text/plain": [
       "['📺 The Boys',\n",
       " '📺 Dota 2 on Twitch',\n",
       " '📺 Game of Thrones',\n",
       " \"📺 Hell's Kitchen: Surrey, BC\",\n",
       " '📺 Narcos: Mexico',\n",
       " '📺 Black Mirror',\n",
       " '📺 Penn & Teller: Fool Us']"
      ]
     },
     "execution_count": 43,
     "metadata": {},
     "output_type": "execute_result"
    }
   ],
   "source": [
    "tv_emojis = []\n",
    "for t in tv:\n",
    "    te = add_tv_emoji(t)\n",
    "    tv_emojis.append(te)\n",
    "tv_emojis"
   ]
  },
  {
   "cell_type": "code",
   "execution_count": 44,
   "metadata": {},
   "outputs": [
    {
     "data": {
      "text/plain": [
       "[\"📺 Hell's Kitchen: Surrey, BC\",\n",
       " '📺 Narcos: Mexico',\n",
       " '📺 Penn & Teller: Fool Us']"
      ]
     },
     "execution_count": 44,
     "metadata": {},
     "output_type": "execute_result"
    }
   ],
   "source": [
    "[add_tv_emoji(t) for t in tv if check_colon(t)]"
   ]
  },
  {
   "cell_type": "code",
   "execution_count": 45,
   "metadata": {},
   "outputs": [
    {
     "data": {
      "text/plain": [
       "[\"📺 Hell's Kitchen: Surrey, BC\",\n",
       " '📺 Narcos: Mexico',\n",
       " '📺 Penn & Teller: Fool Us']"
      ]
     },
     "execution_count": 45,
     "metadata": {},
     "output_type": "execute_result"
    }
   ],
   "source": [
    "[f'📺 {t}' for t in tv if ':' in t]"
   ]
  },
  {
   "cell_type": "code",
   "execution_count": 46,
   "metadata": {},
   "outputs": [],
   "source": [
    "tv_shows = [\n",
    "    'The Boys',\n",
    "    'Dota 2 on Twitch',\n",
    "    'Game of Thrones',\n",
    "    \"Hell's Kitchen - Surrey, BC\",\n",
    "    'Narcos - Mexico',\n",
    "    'Black Mirror',\n",
    "    'Penn & Teller - Fool Us'\n",
    "]"
   ]
  },
  {
   "cell_type": "code",
   "execution_count": 47,
   "metadata": {},
   "outputs": [
    {
     "name": "stdout",
     "output_type": "stream",
     "text": [
      "The Boys\n",
      "Dota 2 on Twitch\n",
      "Game of Thrones\n",
      "Hell's Kitchen - Surrey, BC\n",
      "Narcos - Mexico\n",
      "Black Mirror\n",
      "Penn & Teller - Fool Us\n"
     ]
    }
   ],
   "source": [
    "for tv_show in tv_shows:\n",
    "    print(tv_show)"
   ]
  },
  {
   "cell_type": "code",
   "execution_count": 48,
   "metadata": {},
   "outputs": [
    {
     "data": {
      "text/plain": [
       "['The Boys',\n",
       " 'Dota 2 on Twitch',\n",
       " 'Game of Thrones',\n",
       " \"Hell's Kitchen - Surrey, BC\",\n",
       " 'Narcos - Mexico',\n",
       " 'Black Mirror',\n",
       " 'Penn & Teller - Fool Us']"
      ]
     },
     "execution_count": 48,
     "metadata": {},
     "output_type": "execute_result"
    }
   ],
   "source": [
    "tv_shows"
   ]
  },
  {
   "cell_type": "code",
   "execution_count": 49,
   "metadata": {},
   "outputs": [],
   "source": [
    "non_hyphen_shows = [\n",
    "    tv_show \n",
    "    for tv_show in tv_shows \n",
    "    if not '-' in tv_show\n",
    "]"
   ]
  },
  {
   "cell_type": "code",
   "execution_count": 50,
   "metadata": {},
   "outputs": [
    {
     "data": {
      "text/plain": [
       "['The Boys', 'Dota 2 on Twitch', 'Game of Thrones', 'Black Mirror']"
      ]
     },
     "execution_count": 50,
     "metadata": {},
     "output_type": "execute_result"
    }
   ],
   "source": [
    "non_hyphen_shows"
   ]
  },
  {
   "cell_type": "code",
   "execution_count": 51,
   "metadata": {},
   "outputs": [
    {
     "name": "stdout",
     "output_type": "stream",
     "text": [
      "A  D  G  B  C  E  F  A# Db G# Bb C# Eb F# Ab D# Gb\n"
     ]
    }
   ],
   "source": [
    "print(*map(''.join,zip(3*'ADGBCEF',7*' '+5*'#b')))"
   ]
  },
  {
   "cell_type": "code",
   "execution_count": 52,
   "metadata": {},
   "outputs": [
    {
     "data": {
      "text/plain": [
       "[\"Hell's Kitchen: Surrey, BC\", 'Narcos: Mexico', 'Penn & Teller: Fool Us']"
      ]
     },
     "execution_count": 52,
     "metadata": {},
     "output_type": "execute_result"
    }
   ],
   "source": [
    "tv_colon = []\n",
    "for t in tv:\n",
    "    if check_colon(t):\n",
    "         tv_colon.append(t)\n",
    "tv_colon"
   ]
  },
  {
   "cell_type": "code",
   "execution_count": 53,
   "metadata": {},
   "outputs": [],
   "source": [
    "tv_show = 'this is us'"
   ]
  },
  {
   "cell_type": "code",
   "execution_count": 54,
   "metadata": {},
   "outputs": [],
   "source": [
    "def starts_with_the(tv_show):\n",
    "    return tv_show.startswith('the')"
   ]
  },
  {
   "cell_type": "code",
   "execution_count": 55,
   "metadata": {},
   "outputs": [
    {
     "data": {
      "text/plain": [
       "[]"
      ]
     },
     "execution_count": 55,
     "metadata": {},
     "output_type": "execute_result"
    }
   ],
   "source": [
    "the = []\n",
    "for show in tv:\n",
    "    if starts_with_the(show):\n",
    "        the.append(show)\n",
    "the"
   ]
  },
  {
   "cell_type": "code",
   "execution_count": 56,
   "metadata": {},
   "outputs": [
    {
     "data": {
      "text/plain": [
       "[]"
      ]
     },
     "execution_count": 56,
     "metadata": {},
     "output_type": "execute_result"
    }
   ],
   "source": [
    "[show for show in tv if starts_with_the(show)]"
   ]
  },
  {
   "cell_type": "code",
   "execution_count": 57,
   "metadata": {},
   "outputs": [],
   "source": [
    "numbers = [1, 2, 3, 4]"
   ]
  },
  {
   "cell_type": "code",
   "execution_count": 58,
   "metadata": {},
   "outputs": [
    {
     "name": "stdout",
     "output_type": "stream",
     "text": [
      "2\n",
      "4\n"
     ]
    },
    {
     "data": {
      "text/plain": [
       "[]"
      ]
     },
     "execution_count": 58,
     "metadata": {},
     "output_type": "execute_result"
    }
   ],
   "source": [
    "even = []\n",
    "for number in numbers:\n",
    "    if number % 2 == 0:\n",
    "        print(number)\n",
    "\n",
    "even"
   ]
  },
  {
   "cell_type": "code",
   "execution_count": 59,
   "metadata": {},
   "outputs": [
    {
     "data": {
      "text/plain": [
       "[3, 6, 9, 12]"
      ]
     },
     "execution_count": 59,
     "metadata": {},
     "output_type": "execute_result"
    }
   ],
   "source": [
    "[number * 3 for number in numbers]"
   ]
  },
  {
   "cell_type": "markdown",
   "metadata": {},
   "source": [
    "In machine learning, we'll need to convert strings into numbers. Let's create a function that accepts a string. Return 1 if the string is 'student' and 0 if the string is 'teacher'."
   ]
  },
  {
   "cell_type": "code",
   "execution_count": 60,
   "metadata": {},
   "outputs": [],
   "source": [
    "def is_student(person):\n",
    "    if person == 'student':\n",
    "        return 1\n",
    "    else:\n",
    "        return 0"
   ]
  },
  {
   "cell_type": "code",
   "execution_count": 61,
   "metadata": {},
   "outputs": [
    {
     "data": {
      "text/plain": [
       "0"
      ]
     },
     "execution_count": 61,
     "metadata": {},
     "output_type": "execute_result"
    }
   ],
   "source": [
    "is_student('teacher')"
   ]
  },
  {
   "cell_type": "code",
   "execution_count": 62,
   "metadata": {},
   "outputs": [],
   "source": [
    "classroom = ['student', 'student', 'teacher']"
   ]
  },
  {
   "cell_type": "code",
   "execution_count": 63,
   "metadata": {},
   "outputs": [],
   "source": [
    "new_classroom = [is_student(student) for student in classroom]"
   ]
  },
  {
   "cell_type": "markdown",
   "metadata": {},
   "source": [
    "Now let's use list comprehension along with our function to convert our array of strings into an array of 1's and 0's."
   ]
  },
  {
   "cell_type": "code",
   "execution_count": 64,
   "metadata": {},
   "outputs": [
    {
     "data": {
      "text/plain": [
       "[1, 1, 0]"
      ]
     },
     "execution_count": 64,
     "metadata": {},
     "output_type": "execute_result"
    }
   ],
   "source": [
    "new_classroom"
   ]
  },
  {
   "cell_type": "markdown",
   "metadata": {},
   "source": [
    "## Mapping practice: odds and evens\n",
    "\n",
    "1. Create an array of integers, 1 through 100\n",
    "2. Create a function that accepts a single integer as a parameter and returns `'odd'` or `'even'`, depending on the input.\n",
    "3. Use list comprehension to map through your array of integers and retun an array of odd/even strings"
   ]
  },
  {
   "cell_type": "code",
   "execution_count": 65,
   "metadata": {},
   "outputs": [],
   "source": [
    "languages = [\n",
    "    ('English', 6),\n",
    "    ('Spanish', 4),\n",
    "    ('French', 10),\n",
    "    ('Python', -1)\n",
    "]"
   ]
  },
  {
   "cell_type": "code",
   "execution_count": 66,
   "metadata": {},
   "outputs": [
    {
     "data": {
      "text/plain": [
       "6"
      ]
     },
     "execution_count": 66,
     "metadata": {},
     "output_type": "execute_result"
    }
   ],
   "source": [
    "language = ('English', 6)\n",
    "language[1]"
   ]
  },
  {
   "cell_type": "code",
   "execution_count": 67,
   "metadata": {},
   "outputs": [
    {
     "name": "stdout",
     "output_type": "stream",
     "text": [
      "English\n",
      "Spanish\n",
      "French\n",
      "Python\n"
     ]
    }
   ],
   "source": [
    "for rating, language in languages:\n",
    "    print(rating) # bad, wont work"
   ]
  },
  {
   "cell_type": "code",
   "execution_count": 68,
   "metadata": {},
   "outputs": [
    {
     "data": {
      "text/plain": [
       "['English', 'French']"
      ]
     },
     "execution_count": 68,
     "metadata": {},
     "output_type": "execute_result"
    }
   ],
   "source": [
    "[language for language, rating in languages if rating >= 5]"
   ]
  },
  {
   "cell_type": "code",
   "execution_count": 69,
   "metadata": {},
   "outputs": [],
   "source": [
    "# create an array of integers: 1-100\n",
    "numbers = list(range(1, 101))"
   ]
  },
  {
   "cell_type": "code",
   "execution_count": 70,
   "metadata": {},
   "outputs": [],
   "source": [
    "# create a function that accepts a single integer, and returns the string 'odd' or 'even', depending on the integer\n",
    "def odd_or_even(number):\n",
    "    if number % 2 == 0:\n",
    "        return 'even'\n",
    "    else:\n",
    "        return 'odd'"
   ]
  },
  {
   "cell_type": "code",
   "execution_count": 71,
   "metadata": {},
   "outputs": [
    {
     "data": {
      "text/plain": [
       "'odd'"
      ]
     },
     "execution_count": 71,
     "metadata": {},
     "output_type": "execute_result"
    }
   ],
   "source": [
    "odd_or_even(3)"
   ]
  },
  {
   "cell_type": "code",
   "execution_count": 72,
   "metadata": {},
   "outputs": [],
   "source": [
    "# use list comprehension to convert your array of integers to an array of odd/even strings\n",
    "o_e = [odd_or_even(num) for num in numbers]"
   ]
  },
  {
   "cell_type": "markdown",
   "metadata": {},
   "source": [
    "## Mapping practice: square the numbers\n",
    "\n",
    "1. Create an array of integers, 1 through 10\n",
    "2. Use list comprehension to create an array that squares each number in the original array"
   ]
  },
  {
   "cell_type": "code",
   "execution_count": 73,
   "metadata": {},
   "outputs": [],
   "source": [
    "# create an array of integers: 1-10\n",
    "numbers = list(range(1, 11))"
   ]
  },
  {
   "cell_type": "code",
   "execution_count": 74,
   "metadata": {},
   "outputs": [
    {
     "data": {
      "text/plain": [
       "[1, 4, 9, 16, 25, 36, 49, 64, 81, 100]"
      ]
     },
     "execution_count": 74,
     "metadata": {},
     "output_type": "execute_result"
    }
   ],
   "source": [
    "# map through the array, squaring each number in the original array. Output should look like below.\n",
    "[num ** 2 for num in numbers]"
   ]
  },
  {
   "cell_type": "markdown",
   "metadata": {},
   "source": [
    "## Mapping practice: lowercase names\n",
    "\n",
    "1. Create a list of everyone's names in the classroom\n",
    "2. Use list comprehension to return an array of lowercase names"
   ]
  },
  {
   "cell_type": "code",
   "execution_count": 75,
   "metadata": {},
   "outputs": [
    {
     "data": {
      "text/plain": [
       "['The boys',\n",
       " 'Dota 2 on twitch',\n",
       " 'Game of thrones',\n",
       " \"Hell's kitchen: surrey, bc\",\n",
       " 'Narcos: mexico',\n",
       " 'Black mirror',\n",
       " 'Penn & teller: fool us']"
      ]
     },
     "execution_count": 75,
     "metadata": {},
     "output_type": "execute_result"
    }
   ],
   "source": [
    "[show.capitalize() for show in tv]"
   ]
  },
  {
   "cell_type": "code",
   "execution_count": 76,
   "metadata": {},
   "outputs": [
    {
     "data": {
      "text/plain": [
       "'The Big Bang Theory'"
      ]
     },
     "execution_count": 76,
     "metadata": {},
     "output_type": "execute_result"
    }
   ],
   "source": [
    "show = 'The big bang theory'\n",
    "\n",
    "def title_case(show):\n",
    "    show_parts = show.split(' ')\n",
    "    show = ''\n",
    "    for part in show_parts:\n",
    "        show += part.capitalize()\n",
    "        show += ' '\n",
    "    return show.strip()\n",
    "    \n",
    "title_case('The big bang theory')"
   ]
  },
  {
   "cell_type": "code",
   "execution_count": 77,
   "metadata": {},
   "outputs": [
    {
     "data": {
      "text/plain": [
       "[]"
      ]
     },
     "execution_count": 77,
     "metadata": {},
     "output_type": "execute_result"
    }
   ],
   "source": [
    "[title_case(show) for show in tv if starts_with_the(show)]"
   ]
  },
  {
   "cell_type": "code",
   "execution_count": 78,
   "metadata": {},
   "outputs": [
    {
     "data": {
      "text/plain": [
       "[]"
      ]
     },
     "execution_count": 78,
     "metadata": {},
     "output_type": "execute_result"
    }
   ],
   "source": [
    "titles = []\n",
    "for show in tv:\n",
    "    if starts_with_the(show):\n",
    "        titles.append(title_case(show))\n",
    "titles"
   ]
  },
  {
   "cell_type": "code",
   "execution_count": 79,
   "metadata": {},
   "outputs": [
    {
     "data": {
      "text/plain": [
       "['noyou', 'okay', 'nonames', 'alwayssunny', 'donnybrook']"
      ]
     },
     "execution_count": 79,
     "metadata": {},
     "output_type": "execute_result"
    }
   ],
   "source": [
    "instuctors = ['noyou', 'OKAY', 'nonames', 'AlwaysSunny', 'Donnybrook']\n",
    "\n",
    "[person.lower() for person in instuctors]"
   ]
  },
  {
   "cell_type": "markdown",
   "metadata": {},
   "source": [
    "# Filtering\n",
    "---\n",
    "\n",
    "If you have a list of items, but only need a subset of items that meet a certain condition, that's called filtering. \n",
    "\n",
    "To illustrate this, let's create a list of dictionaries, one for each person in the classroom. It should look like the following:\n",
    "\n",
    "```python\n",
    "classroom = [\n",
    "    {'name': 'Teacher McTeacherson', 'role': 'teacher'},\n",
    "    {'name': 'Student McStudentson', 'role': 'student'},\n",
    "    ...\n",
    "]\n",
    "```"
   ]
  },
  {
   "cell_type": "code",
   "execution_count": 80,
   "metadata": {},
   "outputs": [],
   "source": [
    "classroom = [\n",
    "    {'name': 'abc', 'role': 'teacher'},\n",
    "    {'name': 'def', 'role': 'student'},\n",
    "    {'name': 'ghi', 'role': 'student'},\n",
    "    {'name': 'jkl', 'role': 'student'},\n",
    "    {'name': 'mno', 'role': 'student'}\n",
    "]"
   ]
  },
  {
   "cell_type": "code",
   "execution_count": 81,
   "metadata": {},
   "outputs": [
    {
     "data": {
      "text/plain": [
       "[{'name': 'abc', 'role': 'teacher'},\n",
       " {'name': 'def', 'role': 'student'},\n",
       " {'name': 'ghi', 'role': 'student'},\n",
       " {'name': 'jkl', 'role': 'student'},\n",
       " {'name': 'mno', 'role': 'student'}]"
      ]
     },
     "execution_count": 81,
     "metadata": {},
     "output_type": "execute_result"
    }
   ],
   "source": [
    "classroom"
   ]
  },
  {
   "cell_type": "code",
   "execution_count": 82,
   "metadata": {},
   "outputs": [
    {
     "data": {
      "text/plain": [
       "['def', 'ghi', 'jkl', 'mno']"
      ]
     },
     "execution_count": 82,
     "metadata": {},
     "output_type": "execute_result"
    }
   ],
   "source": [
    "[person['name'] for person in classroom if person['role'] == 'student']"
   ]
  },
  {
   "cell_type": "code",
   "execution_count": 83,
   "metadata": {},
   "outputs": [
    {
     "data": {
      "text/plain": [
       "['def', 'ghi', 'jkl', 'mno']"
      ]
     },
     "execution_count": 83,
     "metadata": {},
     "output_type": "execute_result"
    }
   ],
   "source": [
    "[person['name'] for person in classroom if person['role'] == 'student']"
   ]
  },
  {
   "cell_type": "markdown",
   "metadata": {},
   "source": [
    "# Mapping Dictionaries\n",
    "---\n",
    "\n",
    "Mapping is not exclusive to lists. We can also map over dictionaries, but with a subtle difference: we'll wrap our list comprehension in `{}` instead of `[]` to retain the dictionary type.\n",
    "\n",
    "Let's say we have a dictionary of users with their corresponding emails:\n",
    "\n",
    "```python\n",
    "users = {\n",
    "    'user1': 'FOO@BAR.COM',\n",
    "    'user2': 'JOHN@DOE.COM',\n",
    "    'user3': 'YOURGRANDMOTHER@AOL.COM'\n",
    "}\n",
    "```\n",
    "\n",
    "As a precaution, we might want to downcase all the email addresses before saving them to a database. In the block below, map through the `users` dictionary and return the same dictionary, but with all the emails downcased."
   ]
  },
  {
   "cell_type": "code",
   "execution_count": 84,
   "metadata": {},
   "outputs": [],
   "source": [
    "users = {\n",
    "    'user1': 'noyou@GMAIL.COM',\n",
    "    'user2': 'surethanks@YAHOO.COM',\n",
    "    'user3': 'nonono@COGECO.COM',\n",
    "    'user4': 'yesnoyes@GmAIl.com',\n",
    "    'user5': 'fluffy_bunnies_2003@hotmail.com'\n",
    "}"
   ]
  },
  {
   "cell_type": "code",
   "execution_count": 85,
   "metadata": {},
   "outputs": [
    {
     "data": {
      "text/plain": [
       "{'user1': 'noyou@GMAIL.COM',\n",
       " 'user2': 'surethanks@YAHOO.COM',\n",
       " 'user3': 'nonono@COGECO.COM',\n",
       " 'user4': 'yesnoyes@GmAIl.com',\n",
       " 'user5': 'fluffy_bunnies_2003@hotmail.com'}"
      ]
     },
     "execution_count": 85,
     "metadata": {},
     "output_type": "execute_result"
    }
   ],
   "source": [
    "users"
   ]
  },
  {
   "cell_type": "code",
   "execution_count": 86,
   "metadata": {},
   "outputs": [
    {
     "name": "stdout",
     "output_type": "stream",
     "text": [
      "user1\n",
      "noyou@GMAIL.COM\n",
      "user2\n",
      "surethanks@YAHOO.COM\n",
      "user3\n",
      "nonono@COGECO.COM\n",
      "user4\n",
      "yesnoyes@GmAIl.com\n",
      "user5\n",
      "fluffy_bunnies_2003@hotmail.com\n"
     ]
    }
   ],
   "source": [
    "for key, value in users.items():\n",
    "    print(key)\n",
    "    print(value)"
   ]
  },
  {
   "cell_type": "code",
   "execution_count": 87,
   "metadata": {},
   "outputs": [
    {
     "data": {
      "text/plain": [
       "{'fluffy_bunnies_2003@hotmail.com': 'user5',\n",
       " 'nonono@COGECO.COM': 'user3',\n",
       " 'noyou@GMAIL.COM': 'user1',\n",
       " 'surethanks@YAHOO.COM': 'user2',\n",
       " 'yesnoyes@GmAIl.com': 'user4'}"
      ]
     },
     "execution_count": 87,
     "metadata": {},
     "output_type": "execute_result"
    }
   ],
   "source": [
    "{value: key for key, value in users.items()}"
   ]
  },
  {
   "cell_type": "code",
   "execution_count": 88,
   "metadata": {},
   "outputs": [],
   "source": [
    "emails = [email.lower() for email in users.values()]\n",
    "emails = [email for email in emails if 'gmail' not in email]"
   ]
  },
  {
   "cell_type": "code",
   "execution_count": 89,
   "metadata": {},
   "outputs": [
    {
     "data": {
      "text/plain": [
       "{'fluffy_bunnies_2003@hotmail.com': 0,\n",
       " 'nonono@cogeco.com': 0,\n",
       " 'surethanks@yahoo.com': 0}"
      ]
     },
     "execution_count": 89,
     "metadata": {},
     "output_type": "execute_result"
    }
   ],
   "source": [
    "{email: 0 for email in emails}"
   ]
  },
  {
   "cell_type": "code",
   "execution_count": 90,
   "metadata": {},
   "outputs": [
    {
     "data": {
      "text/plain": [
       "[('user1', 'noyou@GMAIL.COM'),\n",
       " ('user2', 'surethanks@YAHOO.COM'),\n",
       " ('user3', 'nonono@COGECO.COM'),\n",
       " ('user4', 'yesnoyes@GmAIl.com'),\n",
       " ('user5', 'fluffy_bunnies_2003@hotmail.com')]"
      ]
     },
     "execution_count": 90,
     "metadata": {},
     "output_type": "execute_result"
    }
   ],
   "source": [
    "list(users.items())"
   ]
  },
  {
   "cell_type": "code",
   "execution_count": 91,
   "metadata": {},
   "outputs": [
    {
     "data": {
      "text/plain": [
       "['noyou@gmail.com', 'yesnoyes@gmail.com']"
      ]
     },
     "execution_count": 91,
     "metadata": {},
     "output_type": "execute_result"
    }
   ],
   "source": [
    "[email.lower() \n",
    "     for email in users.values() \n",
    "     if 'gmail' in email.lower()\n",
    "]"
   ]
  },
  {
   "cell_type": "code",
   "execution_count": 92,
   "metadata": {},
   "outputs": [
    {
     "data": {
      "text/plain": [
       "'dsdkf@gmail.com'"
      ]
     },
     "execution_count": 92,
     "metadata": {},
     "output_type": "execute_result"
    }
   ],
   "source": [
    "'dsdkf@GMAIL.com'.lower()"
   ]
  },
  {
   "cell_type": "code",
   "execution_count": 93,
   "metadata": {},
   "outputs": [
    {
     "data": {
      "text/plain": [
       "['lol@gmail.com', 'haha@gmail.com']"
      ]
     },
     "execution_count": 93,
     "metadata": {},
     "output_type": "execute_result"
    }
   ],
   "source": [
    "['lol@gmail.com', 'haha@gmail.com']"
   ]
  }
 ],
 "metadata": {
  "anaconda-cloud": {},
  "kernelspec": {
   "display_name": "Python 3",
   "language": "python",
   "name": "python3"
  },
  "language_info": {
   "codemirror_mode": {
    "name": "ipython",
    "version": 3
   },
   "file_extension": ".py",
   "mimetype": "text/x-python",
   "name": "python",
   "nbconvert_exporter": "python",
   "pygments_lexer": "ipython3",
   "version": "3.6.4"
  }
 },
 "nbformat": 4,
 "nbformat_minor": 1
}
