{
 "cells": [
  {
   "cell_type": "markdown",
   "metadata": {},
   "source": [
    "### While Decay"
   ]
  },
  {
   "cell_type": "code",
   "execution_count": 1,
   "metadata": {},
   "outputs": [
    {
     "name": "stdout",
     "output_type": "stream",
     "text": [
      "119.0\n",
      "119.0\n",
      "59.5\n",
      "59.5\n",
      "29.75\n",
      "29.75\n",
      "14.875\n",
      "7.4375\n",
      "3.71875\n",
      "3.71875\n",
      "1.859375\n",
      "0.9296875\n"
     ]
    }
   ],
   "source": [
    "import time \n",
    "import random\n",
    "\n",
    "uranium = 238\n",
    "n = uranium\n",
    "while n > 1:\n",
    "    if random.randint(0, 1) == 0:\n",
    "        n /= 2\n",
    "    print(n)\n",
    "    time.sleep(1)"
   ]
  },
  {
   "cell_type": "markdown",
   "metadata": {},
   "source": [
    "### Easter Eggs"
   ]
  },
  {
   "cell_type": "code",
   "execution_count": 2,
   "metadata": {},
   "outputs": [
    {
     "name": "stdout",
     "output_type": "stream",
     "text": [
      "The Zen of Python, by Tim Peters\n",
      "\n",
      "Beautiful is better than ugly.\n",
      "Explicit is better than implicit.\n",
      "Simple is better than complex.\n",
      "Complex is better than complicated.\n",
      "Flat is better than nested.\n",
      "Sparse is better than dense.\n",
      "Readability counts.\n",
      "Special cases aren't special enough to break the rules.\n",
      "Although practicality beats purity.\n",
      "Errors should never pass silently.\n",
      "Unless explicitly silenced.\n",
      "In the face of ambiguity, refuse the temptation to guess.\n",
      "There should be one-- and preferably only one --obvious way to do it.\n",
      "Although that way may not be obvious at first unless you're Dutch.\n",
      "Now is better than never.\n",
      "Although never is often better than *right* now.\n",
      "If the implementation is hard to explain, it's a bad idea.\n",
      "If the implementation is easy to explain, it may be a good idea.\n",
      "Namespaces are one honking great idea -- let's do more of those!\n"
     ]
    }
   ],
   "source": [
    "import this"
   ]
  },
  {
   "cell_type": "code",
   "execution_count": 3,
   "metadata": {},
   "outputs": [],
   "source": [
    "import antigravity"
   ]
  },
  {
   "cell_type": "markdown",
   "metadata": {},
   "source": [
    "### Elements Dictionary"
   ]
  },
  {
   "cell_type": "code",
   "execution_count": 4,
   "metadata": {},
   "outputs": [],
   "source": [
    "elements = {\n",
    "    'nobel_gases': ['Neon', 'Argon', 'Krypton', 'Xenon'],\n",
    "    'halogens': ['Chlorine', 'Florine', 'Bromine'],\n",
    "    'non_metals': ['Oxygen', 'Carbon', 'Nitrogen', 'Sulfur'],\n",
    "    'other_metals': ['Alumninum', 'Tin', 'Lead']\n",
    "}"
   ]
  },
  {
   "cell_type": "code",
   "execution_count": 5,
   "metadata": {},
   "outputs": [
    {
     "data": {
      "text/plain": [
       "'Bromine'"
      ]
     },
     "execution_count": 5,
     "metadata": {},
     "output_type": "execute_result"
    }
   ],
   "source": [
    "elements['halogens'][-1]"
   ]
  },
  {
   "cell_type": "code",
   "execution_count": 6,
   "metadata": {},
   "outputs": [
    {
     "data": {
      "text/plain": [
       "dict_items([('nobel_gases', ['Neon', 'Argon', 'Krypton', 'Xenon']), ('halogens', ['Chlorine', 'Florine', 'Bromine']), ('non_metals', ['Oxygen', 'Carbon', 'Nitrogen', 'Sulfur']), ('other_metals', ['Alumninum', 'Tin', 'Lead'])])"
      ]
     },
     "execution_count": 6,
     "metadata": {},
     "output_type": "execute_result"
    }
   ],
   "source": [
    "elements.items()"
   ]
  },
  {
   "cell_type": "code",
   "execution_count": 7,
   "metadata": {},
   "outputs": [],
   "source": [
    "element_list = []\n",
    "for e in elements.values():\n",
    "    element_list = element_list + e"
   ]
  },
  {
   "cell_type": "code",
   "execution_count": 8,
   "metadata": {},
   "outputs": [
    {
     "data": {
      "text/plain": [
       "['Neon',\n",
       " 'Argon',\n",
       " 'Krypton',\n",
       " 'Xenon',\n",
       " 'Chlorine',\n",
       " 'Florine',\n",
       " 'Bromine',\n",
       " 'Oxygen',\n",
       " 'Carbon',\n",
       " 'Nitrogen',\n",
       " 'Sulfur',\n",
       " 'Alumninum',\n",
       " 'Tin',\n",
       " 'Lead']"
      ]
     },
     "execution_count": 8,
     "metadata": {},
     "output_type": "execute_result"
    }
   ],
   "source": [
    "element_list"
   ]
  },
  {
   "cell_type": "markdown",
   "metadata": {},
   "source": [
    "### Elements Filtering 1"
   ]
  },
  {
   "cell_type": "code",
   "execution_count": 9,
   "metadata": {},
   "outputs": [],
   "source": [
    "elements_that_end_with_n = []\n",
    "\n",
    "for e in elements.values():\n",
    "    for ei in e:\n",
    "        if ei.endswith('n'):\n",
    "            elements_that_end_with_n.append(ei)"
   ]
  },
  {
   "cell_type": "code",
   "execution_count": 10,
   "metadata": {},
   "outputs": [
    {
     "data": {
      "text/plain": [
       "['Neon', 'Argon', 'Krypton', 'Xenon', 'Oxygen', 'Carbon', 'Nitrogen', 'Tin']"
      ]
     },
     "execution_count": 10,
     "metadata": {},
     "output_type": "execute_result"
    }
   ],
   "source": [
    "elements_that_end_with_n"
   ]
  },
  {
   "cell_type": "code",
   "execution_count": 11,
   "metadata": {},
   "outputs": [
    {
     "data": {
      "text/plain": [
       "True"
      ]
     },
     "execution_count": 11,
     "metadata": {},
     "output_type": "execute_result"
    }
   ],
   "source": [
    "'Neon' in elements_that_end_with_n"
   ]
  },
  {
   "cell_type": "markdown",
   "metadata": {},
   "source": [
    "### Elements Filtering 2"
   ]
  },
  {
   "cell_type": "code",
   "execution_count": 12,
   "metadata": {},
   "outputs": [
    {
     "name": "stdout",
     "output_type": "stream",
     "text": [
      "left side: C <<>> right side ('Carbon', 'Nonmetals', 6)\n",
      "left side: N <<>> right side ('Nitrogen', 'Nonmetals', 7)\n",
      "left side: O <<>> right side ('Oxygen', 'Nonmetals', 8)\n",
      "left side: Au <<>> right side ('Gold', 'Transition Metals', 79)\n",
      "left side: Ag <<>> right side ('Silver', 'Transition Metals', 47)\n",
      "left side: Cu <<>> right side ('Copper', 'Transition Metals', 29)\n"
     ]
    }
   ],
   "source": [
    "elements = {\n",
    "    'C': ('Carbon', 'Nonmetals', 6),\n",
    "    'N': ('Nitrogen', 'Nonmetals', 7),\n",
    "    'O': ('Oxygen', 'Nonmetals', 8),\n",
    "    'Au': ('Gold', 'Transition Metals', 79),\n",
    "    'Ag': ('Silver', 'Transition Metals', 47),\n",
    "    'Cu': ('Copper', 'Transition Metals', 29),\n",
    "}\n",
    "\n",
    "someone_elements = []\n",
    "\n",
    "for k, v in elements.items():\n",
    "    print(f'left side: {k} <<>> right side {v}')\n",
    "    if v[-1] < 10:\n",
    "        someone_elements.append(k)\n",
    "        \n",
    "# ['C', 'N', 'O']"
   ]
  },
  {
   "cell_type": "code",
   "execution_count": 13,
   "metadata": {},
   "outputs": [
    {
     "data": {
      "text/plain": [
       "['C', 'N', 'O']"
      ]
     },
     "execution_count": 13,
     "metadata": {},
     "output_type": "execute_result"
    }
   ],
   "source": [
    "[k for k, v in elements.items() if v[-1] <= 10]"
   ]
  },
  {
   "cell_type": "markdown",
   "metadata": {},
   "source": [
    "### Socks Example"
   ]
  },
  {
   "cell_type": "code",
   "execution_count": 14,
   "metadata": {},
   "outputs": [],
   "source": [
    "socks = [\n",
    "    {'name': 'Lebron', 'socks': 'black'},\n",
    "    {'name': 'Kobe', 'socks': 'black'},\n",
    "    {'name': 'Michael', 'socks': 'black'},\n",
    "    {'name': 'Kareem', 'socks': 'black'},\n",
    "    {'name': 'Albert', 'socks': 'not black'},\n",
    "    {'name': 'Willie', 'socks': 'not black'},\n",
    "    {'name': 'Babe', 'socks': 'not black'},\n",
    "    {'name': 'Patrick', 'socks': 'not black'},\n",
    "    {'name': 'Jeudy', 'socks': 'not black'},\n",
    "    {'name': 'Henry', 'socks': 'not black'}\n",
    "]"
   ]
  },
  {
   "cell_type": "code",
   "execution_count": 15,
   "metadata": {},
   "outputs": [
    {
     "data": {
      "text/plain": [
       "['Lebron', 'Kobe', 'Michael', 'Kareem']"
      ]
     },
     "execution_count": 15,
     "metadata": {},
     "output_type": "execute_result"
    }
   ],
   "source": [
    "black_socks = []\n",
    "not_black_socks = []\n",
    "for k in socks:\n",
    "    if k['socks'] == 'black':\n",
    "        black_socks.append(k['name'])\n",
    "    else:\n",
    "        not_black_socks.append(k['name'])\n",
    "    \n",
    "black_socks"
   ]
  },
  {
   "cell_type": "code",
   "execution_count": 16,
   "metadata": {},
   "outputs": [
    {
     "data": {
      "text/plain": [
       "['Lebron', 'Kobe', 'Michael', 'Kareem']"
      ]
     },
     "execution_count": 16,
     "metadata": {},
     "output_type": "execute_result"
    }
   ],
   "source": [
    "black_socks = []\n",
    "for k in socks:\n",
    "    if k['socks'] == 'black':\n",
    "        black_socks.append(k['name'])\n",
    "black_socks"
   ]
  },
  {
   "cell_type": "code",
   "execution_count": 17,
   "metadata": {},
   "outputs": [
    {
     "name": "stdout",
     "output_type": "stream",
     "text": [
      "{'name': 'Oprah', 'socks': 'black'}\n"
     ]
    }
   ],
   "source": [
    "s = {'name': 'Oprah', 'socks': 'black'}\n",
    "print(s)"
   ]
  },
  {
   "cell_type": "code",
   "execution_count": 18,
   "metadata": {},
   "outputs": [
    {
     "data": {
      "text/plain": [
       "'Oprah'"
      ]
     },
     "execution_count": 18,
     "metadata": {},
     "output_type": "execute_result"
    }
   ],
   "source": [
    "s['name']"
   ]
  },
  {
   "cell_type": "code",
   "execution_count": 19,
   "metadata": {},
   "outputs": [
    {
     "data": {
      "text/plain": [
       "['Lebron', 'Kobe', 'Michael', 'Kareem']"
      ]
     },
     "execution_count": 19,
     "metadata": {},
     "output_type": "execute_result"
    }
   ],
   "source": [
    "[s['name'] for s in socks if s['socks'] == 'black']"
   ]
  },
  {
   "cell_type": "markdown",
   "metadata": {},
   "source": [
    "### Color Filtering"
   ]
  },
  {
   "cell_type": "code",
   "execution_count": 20,
   "metadata": {},
   "outputs": [],
   "source": [
    "# r g b\n",
    "#80 CE D7"
   ]
  },
  {
   "cell_type": "code",
   "execution_count": 21,
   "metadata": {},
   "outputs": [],
   "source": [
    "#FF0000"
   ]
  },
  {
   "cell_type": "code",
   "execution_count": 22,
   "metadata": {},
   "outputs": [
    {
     "data": {
      "text/plain": [
       "16711680"
      ]
     },
     "execution_count": 22,
     "metadata": {},
     "output_type": "execute_result"
    }
   ],
   "source": [
    "int(\"0xFF0000\", 0)"
   ]
  },
  {
   "cell_type": "code",
   "execution_count": 23,
   "metadata": {},
   "outputs": [
    {
     "data": {
      "text/plain": [
       "255"
      ]
     },
     "execution_count": 23,
     "metadata": {},
     "output_type": "execute_result"
    }
   ],
   "source": [
    "int('0xFF', 0)"
   ]
  },
  {
   "cell_type": "code",
   "execution_count": 24,
   "metadata": {},
   "outputs": [],
   "source": [
    "color = '#FF00DD'"
   ]
  },
  {
   "cell_type": "code",
   "execution_count": 25,
   "metadata": {},
   "outputs": [],
   "source": [
    "def convert_hex_to_255p(code):\n",
    "    return round(int(f\"0x{code}\", 0) / 255, 2)"
   ]
  },
  {
   "cell_type": "code",
   "execution_count": 26,
   "metadata": {},
   "outputs": [
    {
     "data": {
      "text/plain": [
       "0.85"
      ]
     },
     "execution_count": 26,
     "metadata": {},
     "output_type": "execute_result"
    }
   ],
   "source": [
    "convert_hex_to_255p('D9')"
   ]
  },
  {
   "cell_type": "code",
   "execution_count": 27,
   "metadata": {},
   "outputs": [],
   "source": [
    "def convert_hex_to_rgb_percents(hexcode):\n",
    "    r = convert_hex_to_255p(hexcode[1:3])\n",
    "    g = convert_hex_to_255p(hexcode[3:5])\n",
    "    b = convert_hex_to_255p(hexcode[5:7])\n",
    "    return r, g, b"
   ]
  },
  {
   "cell_type": "code",
   "execution_count": 28,
   "metadata": {},
   "outputs": [
    {
     "data": {
      "text/plain": [
       "(1.0, 0.0, 1.0)"
      ]
     },
     "execution_count": 28,
     "metadata": {},
     "output_type": "execute_result"
    }
   ],
   "source": [
    "convert_hex_to_rgb_percents('#FF00FF')"
   ]
  },
  {
   "cell_type": "code",
   "execution_count": 29,
   "metadata": {},
   "outputs": [],
   "source": [
    "colors = [\n",
    "    '#8A4F7D',\n",
    "    '#887880',\n",
    "    '#63C7B2',\n",
    "    '#BBAB8B',\n",
    "    '#EF8275',\n",
    "    '#FEFEFF',\n",
    "    '#D6EFFF',\n",
    "    '#FED18C',\n",
    "    '#FED99B',\n",
    "    '#FE654F',\n",
    "]"
   ]
  },
  {
   "cell_type": "code",
   "execution_count": 30,
   "metadata": {},
   "outputs": [],
   "source": [
    "mostly_blue = []\n",
    "\n",
    "for color in colors:\n",
    "    r, g, b = convert_hex_to_rgb_percents(color)\n",
    "    if b >= 0.5:\n",
    "        mostly_blue.append(color)"
   ]
  },
  {
   "cell_type": "code",
   "execution_count": 31,
   "metadata": {},
   "outputs": [
    {
     "data": {
      "text/plain": [
       "['#887880', '#63C7B2', '#BBAB8B', '#FEFEFF', '#D6EFFF', '#FED18C', '#FED99B']"
      ]
     },
     "execution_count": 31,
     "metadata": {},
     "output_type": "execute_result"
    }
   ],
   "source": [
    "mostly_blue"
   ]
  },
  {
   "cell_type": "code",
   "execution_count": 32,
   "metadata": {},
   "outputs": [
    {
     "data": {
      "text/plain": [
       "['#887880', '#63C7B2', '#BBAB8B', '#FEFEFF', '#D6EFFF', '#FED18C', '#FED99B']"
      ]
     },
     "execution_count": 32,
     "metadata": {},
     "output_type": "execute_result"
    }
   ],
   "source": [
    "[color for color in colors if convert_hex_to_rgb_percents(color)[-1] >= 0.5]"
   ]
  }
 ],
 "metadata": {
  "anaconda-cloud": {},
  "kernelspec": {
   "display_name": "Python 3",
   "language": "python",
   "name": "python3"
  },
  "language_info": {
   "codemirror_mode": {
    "name": "ipython",
    "version": 3
   },
   "file_extension": ".py",
   "mimetype": "text/x-python",
   "name": "python",
   "nbconvert_exporter": "python",
   "pygments_lexer": "ipython3",
   "version": "3.6.4"
  }
 },
 "nbformat": 4,
 "nbformat_minor": 1
}
