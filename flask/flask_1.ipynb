{
 "cells": [
  {
   "cell_type": "markdown",
   "metadata": {
    "slideshow": {
     "slide_type": "slide"
    }
   },
   "source": [
    "Flask is a fast, lightweight way to connect your Python scripts to a server. It's a simple and robust framework that can do small tasks (create a microblog, stand up a simple API) or complex ones (Pinterest's API, create a twitter clone).\n",
    "\n",
    "Flask is called a _microframework_ because it is minimalistic and does not impose an application structure on you. Flask allows you to \"plug in\" libraries of your choice to add additional functionality. \"Heavier\" frameworks such as Django typically come with their own libraries (e.g. for database access). This is often convenient, but it takes more time to learn and is not as flexible.\n",
    "\n",
    "Let's jump in with a simple example. Then, we'll expand it to show what it can do with your models. Flask comes preinstalled with Anaconda. However, if you don't have it you can install it:\n",
    "\n",
    "```bash\n",
    "$ pip install -U flask\n",
    "```"
   ]
  },
  {
   "cell_type": "code",
   "execution_count": null,
   "metadata": {},
   "outputs": [],
   "source": [
    "import flask"
   ]
  },
  {
   "cell_type": "markdown",
   "metadata": {
    "slideshow": {
     "slide_type": "slide"
    }
   },
   "source": [
    "Let's discuss how Flask is used to render a website:\n",
    "\n",
    "1. First, each URL is mapped to a function (called **routing**).\n",
    "\n",
    "2. When the user visits the URL, the associated function is called.\n",
    "\n",
    "3. The function returns a string of HTML, which is directly rendered by the browser.\n",
    "\n",
    "That's it! \n",
    "\n",
    "> Using this way of thinking, when visiting a URL you are actually making a function call to a remote computer.\n",
    "\n",
    "> The URL is the function signature (including parameters), and the function returns a value back to the browser -- in this case a string of HTML. In fact, this is why interfaces for retrieving data online are called \"Web APIs\" -- they are just function calls disguised as URLs!"
   ]
  },
  {
   "cell_type": "markdown",
   "metadata": {
    "slideshow": {
     "slide_type": "slide"
    }
   },
   "source": [
    "<a id=\"part----hello-world\"></a>\n",
    "### Part 1 - Hello, world\n",
    "\n",
    "Create a new file called `hello.py` . Type in this code line by line. \n",
    "\n",
    "```Python\n",
    "import flask\n",
    "app = flask.Flask(__name__)\n",
    "\n",
    "@app.route(\"/\")\n",
    "def hello():\n",
    "    return \"Hello World!\"\n",
    "\n",
    "if __name__ == '__main__':\n",
    "    app.run()\n",
    "```\n",
    "\n",
    "Three things happen here:\n",
    "- initialize the app\n",
    "- use built-in decorators to define what happens on a page\n",
    "- launch the app\n",
    "\n",
    "Note that `app` must be defined prior to using the decorators! "
   ]
  },
  {
   "cell_type": "markdown",
   "metadata": {
    "slideshow": {
     "slide_type": "slide"
    }
   },
   "source": [
    "Now launch the file from your command line:\n",
    "\n",
    "```bash\n",
    "$ python hello.py\n",
    "* Running on http://127.0.0.1:8080/ (Press CTRL+C to quit)\n",
    "```\n",
    "Go to that URL to see your app running on your `localhost`.\n",
    "\n",
    "Typically, we develop apps locally using this development server. When working, we then upload the files to a web host such as EC2."
   ]
  },
  {
   "cell_type": "markdown",
   "metadata": {
    "slideshow": {
     "slide_type": "slide"
    }
   },
   "source": [
    "<a id=\"part----arguments-and-styling\"></a>\n",
    "### Part 2 - Arguments and styling\n",
    "\n",
    "Add the following route underneath the hello() function:\n",
    "\n",
    "```Python\n",
    "@app.route('/greet/<name>')\n",
    "def greet(name):\n",
    "    '''Say hello to your first parameter'''\n",
    "    return f\"Hello, {name}!\"\n",
    "```\n",
    "Save and relaunch the app. Now navigate to `http://127.0.0.1:8080/greet/Max`. Your function should respond to that input!"
   ]
  },
  {
   "cell_type": "markdown",
   "metadata": {
    "slideshow": {
     "slide_type": "fragment"
    }
   },
   "source": [
    "Since the `return` statement sends text to an HTML page, you can style our original `hello()` function with HTML tags:\n",
    "\n",
    "```Python\n",
    "@app.route(\"/\")\n",
    "def hello():\n",
    "    return '''\n",
    "    <body>\n",
    "    <h2> Hello World! </h2>\n",
    "    </body>\n",
    "    '''\n",
    "```\n",
    "We can also call a function, but let's get into that a little later."
   ]
  },
  {
   "cell_type": "markdown",
   "metadata": {
    "slideshow": {
     "slide_type": "slide"
    }
   },
   "source": [
    "<a id=\"part----add-in-machine-learning\"></a>\n",
    "### Part 3 - Delete and Re-scaffold\n",
    "We can use Flask as a way to share and host our machine learning predictions.\n",
    "\n",
    "Import and initialize the flask app, and launch the server at the bottom. Leave room in the middle to add in your model and routes later on.\n",
    "\n",
    "```Python\n",
    "import flask\n",
    "app = flask.Flask(__name__)\n",
    "\n",
    "#-------- MODEL GOES HERE -----------#\n",
    "\n",
    "#-------- ROUTES GO HERE -----------#\n",
    "\n",
    "if __name__ == '__main__':\n",
    "    '''Connects to the server'''\n",
    "\n",
    "    HOST = '127.0.0.1'\n",
    "    PORT = 4000\n",
    "\n",
    "    app.run(HOST, PORT)\n",
    "```\n",
    "Note that this time we specifed the host and port we want the app to run on."
   ]
  },
  {
   "cell_type": "markdown",
   "metadata": {
    "slideshow": {
     "slide_type": "slide"
    }
   },
   "source": [
    "<a id=\"part----create-and-train-a-model\"></a>\n",
    "### Part 4 - Create and train a Model\n",
    "\n",
    "Load in the pipe.pkl and test it out:\n",
    "\n",
    "```Python\n",
    "import pickle\n",
    "import pandas as pd\n",
    "\n",
    "import flask\n",
    "app = flask.Flask(__name__)\n",
    "\n",
    "#-------- MODEL GOES HERE -----------#\n",
    "\n",
    "pipe = pickle.load(open(\"pipe.pkl\",\"rb\"))\n",
    "new_data = pd.DataFrame([{'sugar': 2.5, 'sulphates': 0.75, 'alcohol': 11.4, 'grape': 'white'}])\n",
    "pipe.predict(new_data)\n",
    "\n",
    "#-------- ROUTES GO HERE -----------#\n",
    "\n",
    "if __name__ == '__main__':\n",
    "    '''Connects to the server'''\n",
    "    HOST = '127.0.0.1'\n",
    "    PORT = 4000\n",
    "    app.run(HOST, PORT)\n",
    "\n",
    "```"
   ]
  },
  {
   "cell_type": "markdown",
   "metadata": {
    "slideshow": {
     "slide_type": "slide"
    }
   },
   "source": [
    "<a id=\"part----make-a-simple-api\"></a>\n",
    "### Part 5 - Make a simple API\n",
    "\n",
    "Here's the fun part. Now that we have a `PREDICTOR`, we need to get some values to make our predictions.\n",
    "\n",
    "One way to do this is to get information from the **URL parameters**. These are the part of a URL that come after the `?` and are matched by key:value pairs. For example, if you navigate to:\n",
    "\n",
    "```\n",
    "http://localhost:4000/predict?sugar=3&sulphates=1&alcohol=14&grape=red\n",
    "```\n",
    "\n",
    "then Flask can retrieve that data for you. Let's write a route to do just that:\n",
    "\n",
    "```Python\n",
    "#-------- ROUTES GO HERE -----------#\n",
    "\n",
    "@app.route('/predict', methods=[\"GET\"])\n",
    "def predict():\n",
    "    sugar = flask.request.args['sugar']\n",
    "    sulphates = flask.request.args['sulphates']\n",
    "    alcohol = flask.request.args['alcohol']\n",
    "    grape = flask.request.args['grape']\n",
    "\n",
    "    data = pd.DataFrame([{\n",
    "        'sugar': sugar,\n",
    "        'sulphates': sulphates,\n",
    "        'alcohol': alcohol,\n",
    "        'grape': grape}])\n",
    "\n",
    "    pred = pipe.predict(data)[0]\n",
    "    results = {'quality': round(pred, 1)}\n",
    "    return flask.jsonify(results)\n",
    "\n",
    "```\n",
    "\n",
    "BOOM! Save the file. Launch your app. You now have a simple API for your model.  \n",
    "\n",
    "Play with the parameters in the URL. You should get different results for quality"
   ]
  },
  {
   "cell_type": "markdown",
   "metadata": {
    "slideshow": {
     "slide_type": "slide"
    }
   },
   "source": [
    "<a id=\"part----make-a-simple-webform\"></a>\n",
    "### Part 6 - Make a simple webform\n",
    "\n",
    "Let's create a simple web form to read in the inputs.\n",
    "\n",
    "Create a file `page.html`:\n",
    "\n",
    "```html\n",
    "<!doctype html>\n",
    "<html>\n",
    "  <head>\n",
    "    <title>Wine-O-Matic</title>\n",
    "  </head>\n",
    "  <body>\n",
    "\n",
    "    <form action=\"http://localhost:4000/result\" method=\"POST\">\n",
    "      <p>Sugar <input type=\"number\" name=\"sugar\" /></p>\n",
    "      <p>Sulphates <input type=\"number\" name=\"sulphates\" /></p>\n",
    "      <p>Alcohol <input type=\"number\" name=\"alcohol\" /></p>\n",
    "      <p>Grape <input type=\"text\" name=\"grape\" /></p>\n",
    "\n",
    "      <p><input type=\"submit\" value=\"submit\" /></p>\n",
    "    </form>\n",
    "\n",
    "  </body>\n",
    "</html>\n",
    "\n",
    "```\n",
    "\n",
    "The two most common HTTP methods are `GET` and `POST`. When your browser visits a URL, it sends a `GET` request. However, when you submit a web form, typically a `POST` request is sent. For a `POST` request, a URL is still accessed. However, the parameters are sent inside the request body instead of as part of the URL (as we saw earlier with the `GET` parameters). Sending parameters in the body allows you to send more data than would fit inside the URL. However, it prevents a user from bookmarking the exact URL call and \"hides\" the submitted data from the user. (It only hides it from your average user -- the submitted data is actually easy to see using your browser's developer tools.)"
   ]
  },
  {
   "cell_type": "markdown",
   "metadata": {
    "slideshow": {
     "slide_type": "slide"
    }
   },
   "source": [
    "Luckily, Flask knows how to read `form` tags in an HTML file that have been `POST`'d to the server.\n",
    "\n",
    "Add two new decorators in below your first one. \n",
    "\n",
    "```Python\n",
    "#---------- METHOD 2 ----------------#\n",
    "\n",
    "# This method takes input via an HTML page\n",
    "@app.route('/page')\n",
    "def page():\n",
    "   with open(\"page.html\", 'r') as page:\n",
    "       return page.read()\n",
    "\n",
    "@app.route('/result', methods=['POST', 'GET'])\n",
    "def result():\n",
    "    '''Gets prediction using the HTML form'''\n",
    "    if flask.request.method == 'POST':\n",
    "\n",
    "        inputs = flask.request.form\n",
    "\n",
    "        sugar = inputs['sugar']\n",
    "        sulphates = inputs['sulphates']\n",
    "        alcohol = inputs['alcohol']\n",
    "        grape = inputs['grape']\n",
    "\n",
    "        data = pd.DataFrame([{\n",
    "            'sugar': sugar,\n",
    "            'sulphates': sulphates,\n",
    "            'alcohol': alcohol,\n",
    "            'grape': grape}])\n",
    "\n",
    "        pred = pipe.predict(data)[0]\n",
    "        results = {'quality': round(pred, 1)}\n",
    "        return flask.jsonify(results)\n",
    "```\n",
    "\n",
    "Save, close, and relaunch the app. Go to `http://127.0.0.1:4000/page` and type in your inputs.\n",
    "\n",
    "Both methods should still be there. You can either play with the URL parameters at `/predict` or enter them at `/page`"
   ]
  }
 ],
 "metadata": {
  "kernelspec": {
   "display_name": "Python 3",
   "language": "python",
   "name": "python3"
  },
  "language_info": {
   "codemirror_mode": {
    "name": "ipython",
    "version": 3
   },
   "file_extension": ".py",
   "mimetype": "text/x-python",
   "name": "python",
   "nbconvert_exporter": "python",
   "pygments_lexer": "ipython3",
   "version": "3.6.4"
  }
 },
 "nbformat": 4,
 "nbformat_minor": 2
}
