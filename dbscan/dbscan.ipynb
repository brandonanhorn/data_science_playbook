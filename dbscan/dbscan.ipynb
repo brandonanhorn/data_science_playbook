{
 "cells": [
  {
   "cell_type": "markdown",
   "metadata": {},
   "source": [
    "# Clustering:  DBSCAN\n",
    "\n",
    "**D**ensity-**B**ased **S**patial **C**lustering of **A**pplications with **N**oise\n",
    "\n",
    "<br>\n",
    "<br> \n",
    "\n",
    "![](https://i.stack.imgur.com/5aikc.png)\n",
    "\n",
    "---\n",
    "\n",
    "### Learning Objectives\n",
    "- What is DBSCAN?\n",
    "- How does DBSCAN work?\n",
    "- How does DBSCAN compare to K-Means and Hierarchical Clustering?\n",
    "- Implementation\n",
    "- Code Example"
   ]
  },
  {
   "cell_type": "markdown",
   "metadata": {},
   "source": [
    "## DBSCAN: Density-based Spatial Clustering of Applications with Noise\n",
    "- Clusters of high density are separated by clusters of low density\n",
    "\n",
    "DBSCAN is a widely used and applicable clustering algorithm - given that it takes minimum predefined input and can discover clusters of any shape, not just the gausian-like clusters that K-Means tends to converge on. This way, we can discover difficult to distinguish patterns and glean more useful insights.\n",
    "\n",
    "> No single clustering algorithm is the best for all the purposes. This means, that there are situations where DBSCAN does a good job at finding clusters, while sometimes it's very bad.  This is all dependant on our data!\n"
   ]
  },
  {
   "cell_type": "markdown",
   "metadata": {},
   "source": [
    "#### DBSCAN is a density based clustering algorithm, meaning that the algorithm finds clusters by seeking areas of the dataset that have a higher density of points than the rest of the dataset.\n",
    "\n",
    "_Unlike other clustering methods, DBSCAN may not assign points to any cluster at all if the conditions we paramatize DBSCAN on don't match the characteristics of our data!_"
   ]
  },
  {
   "cell_type": "markdown",
   "metadata": {},
   "source": [
    "## How DBSCAN Works\n",
    "\n",
    "## $\\epsilon$: epsilon & minimum number of points\n",
    "\n",
    "When we use **DBSCAN**, it requires two input parameters - **epsilon**: $\\epsilon$, which defines a distance boundary from a point, and the **minimum number of points** within $\\epsilon$ necessary to form a cluster, which we'll call the minimum points.\n",
    "\n",
    "\n",
    "![](https://snag.gy/0lWkw3.jpg?updated=now)\n",
    "\n",
    "> - <span style=\"color: gray;\">Gray</span> - $\\epsilon$ distance boundary\n",
    "> - <span style=\"color: red;\">Red</span> - $\\epsilon$ distance\n",
    "> - <span style=\"color: blue;\">Blue</span> - Minimum points within $\\epsilon$\n",
    "> - Black - Core sample"
   ]
  },
  {
   "cell_type": "markdown",
   "metadata": {},
   "source": [
    "### Step by step"
   ]
  },
  {
   "cell_type": "markdown",
   "metadata": {},
   "source": [
    "1. Choose an “epsilon” and “min_samples”\n",
    "1. Pick an arbitrary point (_core sample_), and check if there are at least “min_samples” points within distance “epsilon”\n",
    " - If **yes**, add those points to the cluster and check each of the new points\n",
    " - If **no**, choose another arbitrary point (_core sample_) to start a new cluster\n",
    "1. Stop once all points have been checked"
   ]
  },
  {
   "cell_type": "markdown",
   "metadata": {},
   "source": [
    "## DBSCAN Explained\n",
    "\n",
    "DBSCAN will take the epsilon and minimum points we provided it and cluster all of the points in a neighborhood, first passing the minimum points requirement and then clustering each of the points within epsilon distance to form the clusters. Once one cluster is formed, the algorithm then moves to a new datapoint, and seeks to find related points to form yet another cluster; this will continue until DBSCAN simply runs out of points!\n",
    "\n",
    "![](https://snag.gy/i38qNp.jpg)\n",
    ">_This example is missing points but perhaps draw some underneath the projection to illustrate the example._"
   ]
  },
  {
   "cell_type": "markdown",
   "metadata": {},
   "source": [
    "### Algorithm visualization:\n",
    "\n",
    "http://www.naftaliharris.com/blog/visualizing-dbscan-clustering/ \n",
    "\n",
    "Let’s play with this a bit.\n",
    "\n",
    "### Independently, select the “Pimpled Smiley” distribution of points. What is an optimal epsilon? What about minimum number of points?"
   ]
  },
  {
   "cell_type": "markdown",
   "metadata": {},
   "source": [
    "## DBSCAN vs K-Means\n",
    "\n",
    "- **K-Means** can be thought of as a \"general\" clustering approach, DBSCAN performs especially well with unevenly distributed, non-gausian clusters.\n",
    "\n",
    "- The fundamental difference with DBSCAN lies in the fact that it is density based rather than **K-Means**, which calculates clusters based on distance from a central point / geometric mean of points.\n",
    "\n",
    "- **DBSCAN** can be useful to us when we have a lot of dense data. If we used **K-Means** on this data, the algorithm would effectively give us just one large cluster! However with DBSCAN, we can actually break down this cluster into smaller groups to see their attributes.\n",
    "\n",
    "![](https://snag.gy/73NXe5.jpg)\n",
    "\n",
    "**What are the advantages over K-Means?**\n",
    "\n",
    "## DBSCAN vs Hierarchical (briefly)\n",
    "\n",
    "> Even though we haven't explicitly used hierachical clustering, we should at least review a few rules of thumb, briefly.\n",
    "\n",
    "- When choosing epsilon in the minimum points in DBSCAN, a selection of < 2 will result in a linkage cluster - essentially the same result as if you were to perform a **hierarchical clustering**. To diversify the DBSCAN, we therefore must give it a significant amount of points to form a cluster.\n",
    "\n",
    "- **DBSCAN** is density based, which means that it determines clusters based on the number of points in a specific area, whereas in heirarchical clustering, we only care about the minmum distances of single points between clusters to merge on.\n",
    "\n",
    "**What are the advantages over hierarchical methods?**\n",
    "\n",
    "> _As a general rule when choosing the minimum points - you should always aim to have the minimum number of points be greater or equal to the amount of dimensions in your data, plus one. This typically will give the algorithm a good estimation of how to evaluate the clusters. Calculating epsilon is a bit trickier and uses a method called the k-distance, which can help visualize the best epsilon._"
   ]
  },
  {
   "cell_type": "markdown",
   "metadata": {},
   "source": [
    "## Simple sklearn Example"
   ]
  },
  {
   "cell_type": "code",
   "execution_count": 1,
   "metadata": {},
   "outputs": [],
   "source": [
    "from sklearn.cluster import DBSCAN\n",
    "from sklearn.datasets import load_iris\n",
    "from plot_code import plot_dbscan\n",
    "\n",
    "%matplotlib inline\n",
    "\n",
    "iris = load_iris()\n",
    "\n",
    "X, y = iris.data, iris.target"
   ]
  },
  {
   "cell_type": "code",
   "execution_count": 2,
   "metadata": {},
   "outputs": [],
   "source": [
    "dbscan = DBSCAN(eps=0.6, min_samples=6)"
   ]
  },
  {
   "cell_type": "code",
   "execution_count": 3,
   "metadata": {},
   "outputs": [],
   "source": [
    "Xp = X[:, [0, 3]]"
   ]
  },
  {
   "cell_type": "code",
   "execution_count": 4,
   "metadata": {},
   "outputs": [
    {
     "data": {
      "text/plain": [
       "DBSCAN(algorithm='auto', eps=0.6, leaf_size=30, metric='euclidean',\n",
       "       metric_params=None, min_samples=6, n_jobs=None, p=None)"
      ]
     },
     "execution_count": 4,
     "metadata": {},
     "output_type": "execute_result"
    }
   ],
   "source": [
    "dbscan.fit(X)"
   ]
  },
  {
   "cell_type": "code",
   "execution_count": 5,
   "metadata": {},
   "outputs": [],
   "source": [
    "core_samples  =  dbscan.core_sample_indices_"
   ]
  },
  {
   "cell_type": "code",
   "execution_count": 6,
   "metadata": {},
   "outputs": [
    {
     "data": {
      "text/plain": [
       "array([  0,   1,   2,   3,   4,   5,   6,   7,   8,   9,  10,  11,  12,\n",
       "        13,  14,  16,  17,  18,  19,  20,  21,  22,  23,  24,  25,  26,\n",
       "        27,  28,  29,  30,  31,  32,  33,  34,  35,  36,  37,  38,  39,\n",
       "        40,  42,  43,  44,  45,  46,  47,  48,  49,  50,  51,  52,  53,\n",
       "        54,  55,  56,  58,  59,  61,  62,  63,  64,  65,  66,  67,  69,\n",
       "        70,  71,  72,  73,  74,  75,  76,  77,  78,  79,  80,  81,  82,\n",
       "        83,  84,  85,  86,  88,  89,  90,  91,  92,  94,  95,  96,  97,\n",
       "        99, 101, 102, 103, 104, 107, 110, 111, 112, 113, 115, 116, 120,\n",
       "       121, 123, 124, 126, 127, 128, 130, 132, 133, 136, 137, 138, 139,\n",
       "       140, 141, 142, 143, 144, 145, 146, 147, 149])"
      ]
     },
     "execution_count": 6,
     "metadata": {},
     "output_type": "execute_result"
    }
   ],
   "source": [
    "core_samples"
   ]
  },
  {
   "cell_type": "code",
   "execution_count": 7,
   "metadata": {},
   "outputs": [],
   "source": [
    "labels = dbscan.labels_"
   ]
  },
  {
   "cell_type": "code",
   "execution_count": 8,
   "metadata": {},
   "outputs": [
    {
     "data": {
      "text/plain": [
       "array([ 0,  0,  0,  0,  0,  0,  0,  0,  0,  0,  0,  0,  0,  0,  0,  0,  0,\n",
       "        0,  0,  0,  0,  0,  0,  0,  0,  0,  0,  0,  0,  0,  0,  0,  0,  0,\n",
       "        0,  0,  0,  0,  0,  0,  0, -1,  0,  0,  0,  0,  0,  0,  0,  0,  1,\n",
       "        1,  1,  1,  1,  1,  1, -1,  1,  1, -1,  1,  1,  1,  1,  1,  1,  1,\n",
       "        1,  1,  1,  1,  1,  1,  1,  1,  1,  1,  1,  1,  1,  1,  1,  1,  1,\n",
       "        1,  1,  1,  1,  1,  1,  1,  1, -1,  1,  1,  1,  1, -1,  1,  1,  1,\n",
       "        1,  1,  1,  1, -1,  1,  1, -1,  1,  1,  1,  1,  1,  1,  1, -1, -1,\n",
       "        1,  1,  1, -1,  1,  1,  1,  1,  1,  1,  1,  1, -1,  1,  1,  1,  1,\n",
       "        1,  1,  1,  1,  1,  1,  1,  1,  1,  1,  1,  1,  1,  1])"
      ]
     },
     "execution_count": 8,
     "metadata": {},
     "output_type": "execute_result"
    }
   ],
   "source": [
    "labels"
   ]
  },
  {
   "cell_type": "code",
   "execution_count": 9,
   "metadata": {},
   "outputs": [
    {
     "data": {
      "text/plain": [
       "0"
      ]
     },
     "execution_count": 9,
     "metadata": {},
     "output_type": "execute_result"
    }
   ],
   "source": [
    "labels[0]"
   ]
  },
  {
   "cell_type": "markdown",
   "metadata": {},
   "source": [
    "The DBSCAN algorithm in Python returns two items - the **core samples** and the **labels**. The **core samples** are the points which the algorithm initially finds and searches around the neighborhood to form the cluster, and the **labels** are simply the cluster labels."
   ]
  },
  {
   "cell_type": "code",
   "execution_count": 10,
   "metadata": {},
   "outputs": [
    {
     "data": {
      "text/plain": [
       "array([0.2, 0.2, 0.2, 0.2, 0.2, 0.4, 0.3, 0.2, 0.2, 0.1, 0.2, 0.2, 0.1,\n",
       "       0.1, 0.2, 0.4, 0.4, 0.3, 0.3, 0.3, 0.2, 0.4, 0.2, 0.5, 0.2, 0.2,\n",
       "       0.4, 0.2, 0.2, 0.2, 0.2, 0.4, 0.1, 0.2, 0.2, 0.2, 0.2, 0.1, 0.2,\n",
       "       0.2, 0.3, 0.3, 0.2, 0.6, 0.4, 0.3, 0.2, 0.2, 0.2, 0.2, 1.4, 1.5,\n",
       "       1.5, 1.3, 1.5, 1.3, 1.6, 1. , 1.3, 1.4, 1. , 1.5, 1. , 1.4, 1.3,\n",
       "       1.4, 1.5, 1. , 1.5, 1.1, 1.8, 1.3, 1.5, 1.2, 1.3, 1.4, 1.4, 1.7,\n",
       "       1.5, 1. , 1.1, 1. , 1.2, 1.6, 1.5, 1.6, 1.5, 1.3, 1.3, 1.3, 1.2,\n",
       "       1.4, 1.2, 1. , 1.3, 1.2, 1.3, 1.3, 1.1, 1.3, 2.5, 1.9, 2.1, 1.8,\n",
       "       2.2, 2.1, 1.7, 1.8, 1.8, 2.5, 2. , 1.9, 2.1, 2. , 2.4, 2.3, 1.8,\n",
       "       2.2, 2.3, 1.5, 2.3, 2. , 2. , 1.8, 2.1, 1.8, 1.8, 1.8, 2.1, 1.6,\n",
       "       1.9, 2. , 2.2, 1.5, 1.4, 2.3, 2.4, 1.8, 1.8, 2.1, 2.4, 2.3, 1.9,\n",
       "       2.3, 2.5, 2.3, 1.9, 2. , 2.3, 1.8])"
      ]
     },
     "execution_count": 10,
     "metadata": {},
     "output_type": "execute_result"
    }
   ],
   "source": [
    "Xp[:, 1]"
   ]
  },
  {
   "cell_type": "code",
   "execution_count": 11,
   "metadata": {},
   "outputs": [
    {
     "data": {
      "text/plain": [
       "<matplotlib.collections.PathCollection at 0x1a20d58e10>"
      ]
     },
     "execution_count": 11,
     "metadata": {},
     "output_type": "execute_result"
    },
    {
     "data": {
      "image/png": "[encoded data removed]",
      "text/plain": [
       "<Figure size 432x288 with 1 Axes>"
      ]
     },
     "metadata": {
      "needs_background": "light"
     },
     "output_type": "display_data"
    }
   ],
   "source": [
    "import matplotlib.pyplot as plt\n",
    "\n",
    "plt.scatter(Xp[:, 0], Xp[:, 1], c=labels)"
   ]
  },
  {
   "cell_type": "code",
   "execution_count": 12,
   "metadata": {},
   "outputs": [
    {
     "data": {
      "application/javascript": [
       "const spec = {\"config\": {\"view\": {\"width\": 400, \"height\": 300}, \"mark\": {\"tooltip\": null}}, \"data\": {\"name\": \"data-c12ba2ebe2ff30c1eedf5ce6f605ca0e\"}, \"mark\": \"circle\", \"encoding\": {\"color\": {\"type\": \"nominal\", \"field\": \"label\"}, \"x\": {\"type\": \"quantitative\", \"field\": \"x1\"}, \"y\": {\"type\": \"quantitative\", \"field\": \"x2\"}}, \"$schema\": \"https://vega.github.io/schema/vega-lite/v3.4.0.json\", \"datasets\": {\"data-c12ba2ebe2ff30c1eedf5ce6f605ca0e\": [{\"x1\": 5.1, \"x2\": 0.2, \"label\": 0}, {\"x1\": 4.9, \"x2\": 0.2, \"label\": 0}, {\"x1\": 4.7, \"x2\": 0.2, \"label\": 0}, {\"x1\": 4.6, \"x2\": 0.2, \"label\": 0}, {\"x1\": 5.0, \"x2\": 0.2, \"label\": 0}, {\"x1\": 5.4, \"x2\": 0.4, \"label\": 0}, {\"x1\": 4.6, \"x2\": 0.3, \"label\": 0}, {\"x1\": 5.0, \"x2\": 0.2, \"label\": 0}, {\"x1\": 4.4, \"x2\": 0.2, \"label\": 0}, {\"x1\": 4.9, \"x2\": 0.1, \"label\": 0}, {\"x1\": 5.4, \"x2\": 0.2, \"label\": 0}, {\"x1\": 4.8, \"x2\": 0.2, \"label\": 0}, {\"x1\": 4.8, \"x2\": 0.1, \"label\": 0}, {\"x1\": 4.3, \"x2\": 0.1, \"label\": 0}, {\"x1\": 5.8, \"x2\": 0.2, \"label\": 0}, {\"x1\": 5.7, \"x2\": 0.4, \"label\": 0}, {\"x1\": 5.4, \"x2\": 0.4, \"label\": 0}, {\"x1\": 5.1, \"x2\": 0.3, \"label\": 0}, {\"x1\": 5.7, \"x2\": 0.3, \"label\": 0}, {\"x1\": 5.1, \"x2\": 0.3, \"label\": 0}, {\"x1\": 5.4, \"x2\": 0.2, \"label\": 0}, {\"x1\": 5.1, \"x2\": 0.4, \"label\": 0}, {\"x1\": 4.6, \"x2\": 0.2, \"label\": 0}, {\"x1\": 5.1, \"x2\": 0.5, \"label\": 0}, {\"x1\": 4.8, \"x2\": 0.2, \"label\": 0}, {\"x1\": 5.0, \"x2\": 0.2, \"label\": 0}, {\"x1\": 5.0, \"x2\": 0.4, \"label\": 0}, {\"x1\": 5.2, \"x2\": 0.2, \"label\": 0}, {\"x1\": 5.2, \"x2\": 0.2, \"label\": 0}, {\"x1\": 4.7, \"x2\": 0.2, \"label\": 0}, {\"x1\": 4.8, \"x2\": 0.2, \"label\": 0}, {\"x1\": 5.4, \"x2\": 0.4, \"label\": 0}, {\"x1\": 5.2, \"x2\": 0.1, \"label\": 0}, {\"x1\": 5.5, \"x2\": 0.2, \"label\": 0}, {\"x1\": 4.9, \"x2\": 0.2, \"label\": 0}, {\"x1\": 5.0, \"x2\": 0.2, \"label\": 0}, {\"x1\": 5.5, \"x2\": 0.2, \"label\": 0}, {\"x1\": 4.9, \"x2\": 0.1, \"label\": 0}, {\"x1\": 4.4, \"x2\": 0.2, \"label\": 0}, {\"x1\": 5.1, \"x2\": 0.2, \"label\": 0}, {\"x1\": 5.0, \"x2\": 0.3, \"label\": 0}, {\"x1\": 4.5, \"x2\": 0.3, \"label\": -1}, {\"x1\": 4.4, \"x2\": 0.2, \"label\": 0}, {\"x1\": 5.0, \"x2\": 0.6, \"label\": 0}, {\"x1\": 5.1, \"x2\": 0.4, \"label\": 0}, {\"x1\": 4.8, \"x2\": 0.3, \"label\": 0}, {\"x1\": 5.1, \"x2\": 0.2, \"label\": 0}, {\"x1\": 4.6, \"x2\": 0.2, \"label\": 0}, {\"x1\": 5.3, \"x2\": 0.2, \"label\": 0}, {\"x1\": 5.0, \"x2\": 0.2, \"label\": 0}, {\"x1\": 7.0, \"x2\": 1.4, \"label\": 1}, {\"x1\": 6.4, \"x2\": 1.5, \"label\": 1}, {\"x1\": 6.9, \"x2\": 1.5, \"label\": 1}, {\"x1\": 5.5, \"x2\": 1.3, \"label\": 1}, {\"x1\": 6.5, \"x2\": 1.5, \"label\": 1}, {\"x1\": 5.7, \"x2\": 1.3, \"label\": 1}, {\"x1\": 6.3, \"x2\": 1.6, \"label\": 1}, {\"x1\": 4.9, \"x2\": 1.0, \"label\": -1}, {\"x1\": 6.6, \"x2\": 1.3, \"label\": 1}, {\"x1\": 5.2, \"x2\": 1.4, \"label\": 1}, {\"x1\": 5.0, \"x2\": 1.0, \"label\": -1}, {\"x1\": 5.9, \"x2\": 1.5, \"label\": 1}, {\"x1\": 6.0, \"x2\": 1.0, \"label\": 1}, {\"x1\": 6.1, \"x2\": 1.4, \"label\": 1}, {\"x1\": 5.6, \"x2\": 1.3, \"label\": 1}, {\"x1\": 6.7, \"x2\": 1.4, \"label\": 1}, {\"x1\": 5.6, \"x2\": 1.5, \"label\": 1}, {\"x1\": 5.8, \"x2\": 1.0, \"label\": 1}, {\"x1\": 6.2, \"x2\": 1.5, \"label\": 1}, {\"x1\": 5.6, \"x2\": 1.1, \"label\": 1}, {\"x1\": 5.9, \"x2\": 1.8, \"label\": 1}, {\"x1\": 6.1, \"x2\": 1.3, \"label\": 1}, {\"x1\": 6.3, \"x2\": 1.5, \"label\": 1}, {\"x1\": 6.1, \"x2\": 1.2, \"label\": 1}, {\"x1\": 6.4, \"x2\": 1.3, \"label\": 1}, {\"x1\": 6.6, \"x2\": 1.4, \"label\": 1}, {\"x1\": 6.8, \"x2\": 1.4, \"label\": 1}, {\"x1\": 6.7, \"x2\": 1.7, \"label\": 1}, {\"x1\": 6.0, \"x2\": 1.5, \"label\": 1}, {\"x1\": 5.7, \"x2\": 1.0, \"label\": 1}, {\"x1\": 5.5, \"x2\": 1.1, \"label\": 1}, {\"x1\": 5.5, \"x2\": 1.0, \"label\": 1}, {\"x1\": 5.8, \"x2\": 1.2, \"label\": 1}, {\"x1\": 6.0, \"x2\": 1.6, \"label\": 1}, {\"x1\": 5.4, \"x2\": 1.5, \"label\": 1}, {\"x1\": 6.0, \"x2\": 1.6, \"label\": 1}, {\"x1\": 6.7, \"x2\": 1.5, \"label\": 1}, {\"x1\": 6.3, \"x2\": 1.3, \"label\": 1}, {\"x1\": 5.6, \"x2\": 1.3, \"label\": 1}, {\"x1\": 5.5, \"x2\": 1.3, \"label\": 1}, {\"x1\": 5.5, \"x2\": 1.2, \"label\": 1}, {\"x1\": 6.1, \"x2\": 1.4, \"label\": 1}, {\"x1\": 5.8, \"x2\": 1.2, \"label\": 1}, {\"x1\": 5.0, \"x2\": 1.0, \"label\": -1}, {\"x1\": 5.6, \"x2\": 1.3, \"label\": 1}, {\"x1\": 5.7, \"x2\": 1.2, \"label\": 1}, {\"x1\": 5.7, \"x2\": 1.3, \"label\": 1}, {\"x1\": 6.2, \"x2\": 1.3, \"label\": 1}, {\"x1\": 5.1, \"x2\": 1.1, \"label\": -1}, {\"x1\": 5.7, \"x2\": 1.3, \"label\": 1}, {\"x1\": 6.3, \"x2\": 2.5, \"label\": 1}, {\"x1\": 5.8, \"x2\": 1.9, \"label\": 1}, {\"x1\": 7.1, \"x2\": 2.1, \"label\": 1}, {\"x1\": 6.3, \"x2\": 1.8, \"label\": 1}, {\"x1\": 6.5, \"x2\": 2.2, \"label\": 1}, {\"x1\": 7.6, \"x2\": 2.1, \"label\": 1}, {\"x1\": 4.9, \"x2\": 1.7, \"label\": -1}, {\"x1\": 7.3, \"x2\": 1.8, \"label\": 1}, {\"x1\": 6.7, \"x2\": 1.8, \"label\": 1}, {\"x1\": 7.2, \"x2\": 2.5, \"label\": -1}, {\"x1\": 6.5, \"x2\": 2.0, \"label\": 1}, {\"x1\": 6.4, \"x2\": 1.9, \"label\": 1}, {\"x1\": 6.8, \"x2\": 2.1, \"label\": 1}, {\"x1\": 5.7, \"x2\": 2.0, \"label\": 1}, {\"x1\": 5.8, \"x2\": 2.4, \"label\": 1}, {\"x1\": 6.4, \"x2\": 2.3, \"label\": 1}, {\"x1\": 6.5, \"x2\": 1.8, \"label\": 1}, {\"x1\": 7.7, \"x2\": 2.2, \"label\": -1}, {\"x1\": 7.7, \"x2\": 2.3, \"label\": -1}, {\"x1\": 6.0, \"x2\": 1.5, \"label\": 1}, {\"x1\": 6.9, \"x2\": 2.3, \"label\": 1}, {\"x1\": 5.6, \"x2\": 2.0, \"label\": 1}, {\"x1\": 7.7, \"x2\": 2.0, \"label\": -1}, {\"x1\": 6.3, \"x2\": 1.8, \"label\": 1}, {\"x1\": 6.7, \"x2\": 2.1, \"label\": 1}, {\"x1\": 7.2, \"x2\": 1.8, \"label\": 1}, {\"x1\": 6.2, \"x2\": 1.8, \"label\": 1}, {\"x1\": 6.1, \"x2\": 1.8, \"label\": 1}, {\"x1\": 6.4, \"x2\": 2.1, \"label\": 1}, {\"x1\": 7.2, \"x2\": 1.6, \"label\": 1}, {\"x1\": 7.4, \"x2\": 1.9, \"label\": 1}, {\"x1\": 7.9, \"x2\": 2.0, \"label\": -1}, {\"x1\": 6.4, \"x2\": 2.2, \"label\": 1}, {\"x1\": 6.3, \"x2\": 1.5, \"label\": 1}, {\"x1\": 6.1, \"x2\": 1.4, \"label\": 1}, {\"x1\": 7.7, \"x2\": 2.3, \"label\": 1}, {\"x1\": 6.3, \"x2\": 2.4, \"label\": 1}, {\"x1\": 6.4, \"x2\": 1.8, \"label\": 1}, {\"x1\": 6.0, \"x2\": 1.8, \"label\": 1}, {\"x1\": 6.9, \"x2\": 2.1, \"label\": 1}, {\"x1\": 6.7, \"x2\": 2.4, \"label\": 1}, {\"x1\": 6.9, \"x2\": 2.3, \"label\": 1}, {\"x1\": 5.8, \"x2\": 1.9, \"label\": 1}, {\"x1\": 6.8, \"x2\": 2.3, \"label\": 1}, {\"x1\": 6.7, \"x2\": 2.5, \"label\": 1}, {\"x1\": 6.7, \"x2\": 2.3, \"label\": 1}, {\"x1\": 6.3, \"x2\": 1.9, \"label\": 1}, {\"x1\": 6.5, \"x2\": 2.0, \"label\": 1}, {\"x1\": 6.2, \"x2\": 2.3, \"label\": 1}, {\"x1\": 5.9, \"x2\": 1.8, \"label\": 1}]}};\n",
       "const opt = {};\n",
       "const type = \"vega-lite\";\n",
       "const id = \"88445103-e507-4166-9ef4-0e623ad004c9\";\n",
       "\n",
       "const output_area = this;\n",
       "\n",
       "require([\"nbextensions/jupyter-vega/index\"], function(vega) {\n",
       "  const target = document.createElement(\"div\");\n",
       "  target.id = id;\n",
       "  target.className = \"vega-embed\";\n",
       "\n",
       "  const style = document.createElement(\"style\");\n",
       "  style.textContent = [\n",
       "    \".vega-embed .error p {\",\n",
       "    \"  color: firebrick;\",\n",
       "    \"  font-size: 14px;\",\n",
       "    \"}\",\n",
       "  ].join(\"\\\\n\");\n",
       "\n",
       "  // element is a jQuery wrapped DOM element inside the output area\n",
       "  // see http://ipython.readthedocs.io/en/stable/api/generated/\\\n",
       "  // IPython.display.html#IPython.display.Javascript.__init__\n",
       "  element[0].appendChild(target);\n",
       "  element[0].appendChild(style);\n",
       "\n",
       "  vega.render(\"#\" + id, spec, type, opt, output_area);\n",
       "}, function (err) {\n",
       "  if (err.requireType !== \"scripterror\") {\n",
       "    throw(err);\n",
       "  }\n",
       "});\n"
      ],
      "text/plain": [
       "<vega.vegalite.VegaLite at 0x10d75f588>"
      ]
     },
     "metadata": {
      "jupyter-vega": "#88445103-e507-4166-9ef4-0e623ad004c9"
     },
     "output_type": "display_data"
    },
    {
     "data": {
      "text/plain": []
     },
     "execution_count": 12,
     "metadata": {},
     "output_type": "execute_result"
    },
    {
     "data": {
      "image/png": "[encoded data removed]"
     },
     "metadata": {
      "jupyter-vega": "#88445103-e507-4166-9ef4-0e623ad004c9"
     },
     "output_type": "display_data"
    }
   ],
   "source": [
    "import pandas as pd\n",
    "import altair as alt \n",
    "alt.renderers.enable('notebook')\n",
    "\n",
    "df = pd.DataFrame({'x1': Xp[:,0], 'x2': Xp[:, 1], 'label': labels})\n",
    "\n",
    "alt.Chart(df).encode(x='x1', y='x2', color='label:N').mark_circle()"
   ]
  },
  {
   "cell_type": "code",
   "execution_count": 13,
   "metadata": {},
   "outputs": [],
   "source": [
    "from plot_code import plot_dbscan"
   ]
  },
  {
   "cell_type": "code",
   "execution_count": 14,
   "metadata": {},
   "outputs": [
    {
     "data": {
      "image/png": "[encoded data removed]",
      "text/plain": [
       "<Figure size 432x288 with 1 Axes>"
      ]
     },
     "metadata": {
      "needs_background": "light"
     },
     "output_type": "display_data"
    }
   ],
   "source": [
    "plot_dbscan(dbscan, X, features=[0, 3])"
   ]
  },
  {
   "cell_type": "markdown",
   "metadata": {},
   "source": [
    "### Conclusion\n",
    "\n",
    "- DBSCAN will cluster on density based assumptions.\n",
    "- **Epsilon** and **min_samples**.\n",
    "- Not every sample is guaranteed to end up in a cluster.\n",
    "- Compared to K-Means, DBSCAN is better at finding irregularly formed clusters."
   ]
  }
 ],
 "metadata": {
  "anaconda-cloud": {},
  "kernelspec": {
   "display_name": "Python 3",
   "language": "python",
   "name": "python3"
  },
  "language_info": {
   "codemirror_mode": {
    "name": "ipython",
    "version": 3
   },
   "file_extension": ".py",
   "mimetype": "text/x-python",
   "name": "python",
   "nbconvert_exporter": "python",
   "pygments_lexer": "ipython3",
   "version": "3.6.4"
  }
 },
 "nbformat": 4,
 "nbformat_minor": 1
}
