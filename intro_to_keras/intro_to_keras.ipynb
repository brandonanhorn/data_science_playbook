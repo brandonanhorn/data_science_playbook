{
 "cells": [
  {
   "cell_type": "markdown",
   "metadata": {},
   "source": [
    "# Neural Networks with Keras\n",
    "\n",
    "---\n",
    "\n",
    "### Learning Objectives\n",
    "\n",
    "- Describe the basic `keras` workflow.\n",
    "- Train regression and classification neural networks using `keras`"
   ]
  },
  {
   "cell_type": "code",
   "execution_count": 1,
   "metadata": {},
   "outputs": [
    {
     "name": "stderr",
     "output_type": "stream",
     "text": [
      "/Users/max/anaconda3/lib/python3.7/site-packages/tensorflow/python/framework/dtypes.py:516: FutureWarning: Passing (type, 1) or '1type' as a synonym of type is deprecated; in a future version of numpy, it will be understood as (type, (1,)) / '(1,)type'.\n",
      "  _np_qint8 = np.dtype([(\"qint8\", np.int8, 1)])\n",
      "/Users/max/anaconda3/lib/python3.7/site-packages/tensorflow/python/framework/dtypes.py:517: FutureWarning: Passing (type, 1) or '1type' as a synonym of type is deprecated; in a future version of numpy, it will be understood as (type, (1,)) / '(1,)type'.\n",
      "  _np_quint8 = np.dtype([(\"quint8\", np.uint8, 1)])\n",
      "/Users/max/anaconda3/lib/python3.7/site-packages/tensorflow/python/framework/dtypes.py:518: FutureWarning: Passing (type, 1) or '1type' as a synonym of type is deprecated; in a future version of numpy, it will be understood as (type, (1,)) / '(1,)type'.\n",
      "  _np_qint16 = np.dtype([(\"qint16\", np.int16, 1)])\n",
      "/Users/max/anaconda3/lib/python3.7/site-packages/tensorflow/python/framework/dtypes.py:519: FutureWarning: Passing (type, 1) or '1type' as a synonym of type is deprecated; in a future version of numpy, it will be understood as (type, (1,)) / '(1,)type'.\n",
      "  _np_quint16 = np.dtype([(\"quint16\", np.uint16, 1)])\n",
      "/Users/max/anaconda3/lib/python3.7/site-packages/tensorflow/python/framework/dtypes.py:520: FutureWarning: Passing (type, 1) or '1type' as a synonym of type is deprecated; in a future version of numpy, it will be understood as (type, (1,)) / '(1,)type'.\n",
      "  _np_qint32 = np.dtype([(\"qint32\", np.int32, 1)])\n",
      "/Users/max/anaconda3/lib/python3.7/site-packages/tensorflow/python/framework/dtypes.py:525: FutureWarning: Passing (type, 1) or '1type' as a synonym of type is deprecated; in a future version of numpy, it will be understood as (type, (1,)) / '(1,)type'.\n",
      "  np_resource = np.dtype([(\"resource\", np.ubyte, 1)])\n",
      "/Users/max/anaconda3/lib/python3.7/site-packages/tensorboard/compat/tensorflow_stub/dtypes.py:541: FutureWarning: Passing (type, 1) or '1type' as a synonym of type is deprecated; in a future version of numpy, it will be understood as (type, (1,)) / '(1,)type'.\n",
      "  _np_qint8 = np.dtype([(\"qint8\", np.int8, 1)])\n",
      "/Users/max/anaconda3/lib/python3.7/site-packages/tensorboard/compat/tensorflow_stub/dtypes.py:542: FutureWarning: Passing (type, 1) or '1type' as a synonym of type is deprecated; in a future version of numpy, it will be understood as (type, (1,)) / '(1,)type'.\n",
      "  _np_quint8 = np.dtype([(\"quint8\", np.uint8, 1)])\n",
      "/Users/max/anaconda3/lib/python3.7/site-packages/tensorboard/compat/tensorflow_stub/dtypes.py:543: FutureWarning: Passing (type, 1) or '1type' as a synonym of type is deprecated; in a future version of numpy, it will be understood as (type, (1,)) / '(1,)type'.\n",
      "  _np_qint16 = np.dtype([(\"qint16\", np.int16, 1)])\n",
      "/Users/max/anaconda3/lib/python3.7/site-packages/tensorboard/compat/tensorflow_stub/dtypes.py:544: FutureWarning: Passing (type, 1) or '1type' as a synonym of type is deprecated; in a future version of numpy, it will be understood as (type, (1,)) / '(1,)type'.\n",
      "  _np_quint16 = np.dtype([(\"quint16\", np.uint16, 1)])\n",
      "/Users/max/anaconda3/lib/python3.7/site-packages/tensorboard/compat/tensorflow_stub/dtypes.py:545: FutureWarning: Passing (type, 1) or '1type' as a synonym of type is deprecated; in a future version of numpy, it will be understood as (type, (1,)) / '(1,)type'.\n",
      "  _np_qint32 = np.dtype([(\"qint32\", np.int32, 1)])\n",
      "/Users/max/anaconda3/lib/python3.7/site-packages/tensorboard/compat/tensorflow_stub/dtypes.py:550: FutureWarning: Passing (type, 1) or '1type' as a synonym of type is deprecated; in a future version of numpy, it will be understood as (type, (1,)) / '(1,)type'.\n",
      "  np_resource = np.dtype([(\"resource\", np.ubyte, 1)])\n"
     ]
    }
   ],
   "source": [
    "import numpy as np\n",
    "from sklearn.datasets import make_classification, make_regression\n",
    "from sklearn.preprocessing import StandardScaler\n",
    "from sklearn.model_selection import train_test_split\n",
    "import matplotlib.pyplot as plt\n",
    "\n",
    "import tensorflow as tf\n",
    "from tensorflow import keras\n",
    "\n",
    "from tensorflow.keras.models import Sequential\n",
    "from tensorflow.keras.layers import Dense, Input\n",
    "from tensorflow.keras.utils import to_categorical\n",
    "\n",
    "%matplotlib inline"
   ]
  },
  {
   "cell_type": "markdown",
   "metadata": {},
   "source": [
    "# Regression\n",
    "---\n",
    "\n",
    "`make_regression` is an excellent library for generating a random regression problem. This helps us focus on the model without having to worry about the dataset. \n",
    "\n",
    "In the cell below, use `make_regression` to generate 10,000 samples using 20 features."
   ]
  },
  {
   "cell_type": "code",
   "execution_count": 2,
   "metadata": {},
   "outputs": [],
   "source": [
    "X, y = make_regression(n_samples=10000, n_features=20, noise=100.0, random_state=42)"
   ]
  },
  {
   "cell_type": "code",
   "execution_count": 3,
   "metadata": {},
   "outputs": [
    {
     "data": {
      "text/plain": [
       "(10000,)"
      ]
     },
     "execution_count": 3,
     "metadata": {},
     "output_type": "execute_result"
    }
   ],
   "source": [
    "y.shape"
   ]
  },
  {
   "cell_type": "markdown",
   "metadata": {},
   "source": [
    "### Train/Test Split\n",
    "---\n",
    "\n",
    "We always want to have a validation set to test our model. Use the `train_test_split` function to split our `X` and `y` variables into a training set and a holdout set."
   ]
  },
  {
   "cell_type": "code",
   "execution_count": 4,
   "metadata": {},
   "outputs": [],
   "source": [
    "X_train, X_test, y_train, y_test = train_test_split(X, y, random_state=42)"
   ]
  },
  {
   "cell_type": "markdown",
   "metadata": {},
   "source": [
    "### `StandardScaler`\n",
    "---\n",
    "\n",
    "You want to scale your data for *any* model that uses Gradient Descent, which includes Neural Networks."
   ]
  },
  {
   "cell_type": "code",
   "execution_count": 5,
   "metadata": {},
   "outputs": [],
   "source": [
    "ss = StandardScaler()\n",
    "Z_train = ss.fit_transform(X_train)\n",
    "Z_test = ss.transform(X_test)"
   ]
  },
  {
   "cell_type": "markdown",
   "metadata": {},
   "source": [
    "### Your first Neural Network!!\n",
    "---\n",
    "\n",
    "Next stop, [The Singularity](https://en.wikipedia.org/wiki/Technological_singularity)!\n",
    "\n",
    "Creating a model in `keras` entails a few steps:\n",
    "1. Create your network topology\n",
    "2. Compile your model\n",
    "3. Fit your model\n",
    "\n",
    "We'll cover each step in the cells below.\n",
    "\n",
    "### Create your network topology\n",
    "---\n",
    "\n",
    "We'll create a simple network with:\n",
    "- an input layer\n",
    "- one hidden layer. As a general rule, you should use `'relu'` as your activation function for all hidden layers.\n",
    "- an output layer. \n",
    "\n",
    "For *all* regression problems, your output layer will be 1 neuron with *no* activation function. "
   ]
  },
  {
   "cell_type": "code",
   "execution_count": 6,
   "metadata": {},
   "outputs": [
    {
     "data": {
      "text/plain": [
       "0.7922120863493889"
      ]
     },
     "execution_count": 6,
     "metadata": {},
     "output_type": "execute_result"
    }
   ],
   "source": [
    "from sklearn.linear_model import LinearRegression\n",
    "\n",
    "model = LinearRegression()\n",
    "model.fit(Z_train, y_train)\n",
    "model.score(Z_test, y_test)"
   ]
  },
  {
   "cell_type": "code",
   "execution_count": 7,
   "metadata": {},
   "outputs": [
    {
     "data": {
      "text/plain": [
       "array([-0.63237975, 37.34340121,  0.64245265, 36.24074593, 74.31426317,\n",
       "       94.36707795,  9.91071161, 25.03409039,  0.53797585, -0.56415241,\n",
       "       -0.20078417, 50.8789255 , 98.51977329,  2.23592095,  0.63244107,\n",
       "       43.21139379, 88.01407369,  1.19367129, -0.76076655, -0.85975756])"
      ]
     },
     "execution_count": 7,
     "metadata": {},
     "output_type": "execute_result"
    }
   ],
   "source": [
    "model.coef_"
   ]
  },
  {
   "cell_type": "code",
   "execution_count": 8,
   "metadata": {},
   "outputs": [
    {
     "data": {
      "text/plain": [
       "(7500, 20)"
      ]
     },
     "execution_count": 8,
     "metadata": {},
     "output_type": "execute_result"
    }
   ],
   "source": [
    "Z_train.shape"
   ]
  },
  {
   "cell_type": "code",
   "execution_count": 9,
   "metadata": {},
   "outputs": [
    {
     "name": "stdout",
     "output_type": "stream",
     "text": [
      "Train on 7500 samples\n",
      "7500/7500 [==============================] - 0s 34us/sample - loss: 50381.9682 - mae: 178.7340\n"
     ]
    },
    {
     "data": {
      "text/plain": [
       "<tensorflow.python.keras.callbacks.History at 0x1a2dcec710>"
      ]
     },
     "execution_count": 9,
     "metadata": {},
     "output_type": "execute_result"
    }
   ],
   "source": [
    "# flavour 1a\n",
    "model = Sequential()\n",
    "model.add(Input(shape=(Z_train.shape[1],)))\n",
    "model.add(Dense(1))\n",
    "\n",
    "# flavour 1b\n",
    "model = Sequential()\n",
    "model.add(Dense(1, input_shape=(Z_train.shape[1],)))\n",
    "\n",
    "model.compile(loss='mse', optimizer='adam', metrics=['mae'])\n",
    "model.fit(Z_train, y_train)"
   ]
  },
  {
   "cell_type": "code",
   "execution_count": 10,
   "metadata": {},
   "outputs": [
    {
     "data": {
      "text/plain": [
       "[<tf.Variable 'dense_1/kernel:0' shape=(20, 1) dtype=float32, numpy=\n",
       " array([[ 0.03551054],\n",
       "        [ 0.15692608],\n",
       "        [-0.08892962],\n",
       "        [-0.02716208],\n",
       "        [ 0.11797271],\n",
       "        [ 0.42208785],\n",
       "        [ 0.16419722],\n",
       "        [ 0.5786348 ],\n",
       "        [ 0.06459136],\n",
       "        [ 0.4699251 ],\n",
       "        [ 0.49551573],\n",
       "        [ 0.08812045],\n",
       "        [ 0.4553149 ],\n",
       "        [-0.33156902],\n",
       "        [-0.43956834],\n",
       "        [ 0.69714475],\n",
       "        [ 0.10642412],\n",
       "        [-0.31437626],\n",
       "        [-0.42365128],\n",
       "        [ 0.1265878 ]], dtype=float32)>,\n",
       " <tf.Variable 'dense_1/bias:0' shape=(1,) dtype=float32, numpy=array([-0.01281287], dtype=float32)>]"
      ]
     },
     "execution_count": 10,
     "metadata": {},
     "output_type": "execute_result"
    }
   ],
   "source": [
    "model.layers[0].weights"
   ]
  },
  {
   "cell_type": "code",
   "execution_count": 11,
   "metadata": {},
   "outputs": [],
   "source": [
    "# flavour 1a\n",
    "model = Sequential()\n",
    "model.add(Input(shape=(Z_train.shape[1],)))\n",
    "model.add(Dense(50, activation='relu'))\n",
    "model.add(Dense(1))\n",
    "\n",
    "model = Sequential()\n",
    "model.add(Dense(50, input_shape=(Z_train.shape[1],), activation='relu'))\n",
    "model.add(Dense(1))"
   ]
  },
  {
   "cell_type": "markdown",
   "metadata": {},
   "source": [
    "### Compile your model\n",
    "---\n",
    "\n",
    "Whenever you compile your model, you have to specify a few things: \n",
    "1. What [loss function](https://keras.io/losses/) to use (depends on if it's regression, classification, etc)\n",
    "2. What optimizer to use\n",
    "3. Optional: What additional [metrics](https://keras.io/metrics/) you'd like to monitor"
   ]
  },
  {
   "cell_type": "code",
   "execution_count": 12,
   "metadata": {},
   "outputs": [],
   "source": [
    "model.compile(loss='mean_squared_error', optimizer='adam', metrics=['mean_absolute_error'])"
   ]
  },
  {
   "cell_type": "code",
   "execution_count": 13,
   "metadata": {},
   "outputs": [
    {
     "name": "stdout",
     "output_type": "stream",
     "text": [
      "Train on 7500 samples, validate on 2500 samples\n",
      "Epoch 1/25\n",
      "7500/7500 [==============================] - 0s 59us/sample - loss: 49624.3843 - mean_absolute_error: 177.3950 - val_loss: 47433.5491 - val_mean_absolute_error: 174.9899\n",
      "Epoch 2/25\n",
      "7500/7500 [==============================] - 0s 41us/sample - loss: 44406.0684 - mean_absolute_error: 167.6286 - val_loss: 39487.2181 - val_mean_absolute_error: 159.2937\n",
      "Epoch 3/25\n",
      "7500/7500 [==============================] - 0s 36us/sample - loss: 34614.0719 - mean_absolute_error: 147.4856 - val_loss: 28929.0576 - val_mean_absolute_error: 135.7821\n",
      "Epoch 4/25\n",
      "7500/7500 [==============================] - 0s 34us/sample - loss: 24365.8060 - mean_absolute_error: 123.4773 - val_loss: 19965.2353 - val_mean_absolute_error: 112.5638\n",
      "Epoch 5/25\n",
      "7500/7500 [==============================] - 0s 27us/sample - loss: 17020.7909 - mean_absolute_error: 103.5758 - val_loss: 14611.0871 - val_mean_absolute_error: 96.3825\n",
      "Epoch 6/25\n",
      "7500/7500 [==============================] - 0s 32us/sample - loss: 13103.3606 - mean_absolute_error: 91.3476 - val_loss: 12193.6382 - val_mean_absolute_error: 87.9028\n",
      "Epoch 7/25\n",
      "7500/7500 [==============================] - 0s 29us/sample - loss: 11503.7621 - mean_absolute_error: 85.4690 - val_loss: 11350.1977 - val_mean_absolute_error: 84.6346\n",
      "Epoch 8/25\n",
      "7500/7500 [==============================] - 0s 29us/sample - loss: 10984.9133 - mean_absolute_error: 83.3532 - val_loss: 11124.7607 - val_mean_absolute_error: 83.7409\n",
      "Epoch 9/25\n",
      "7500/7500 [==============================] - 0s 31us/sample - loss: 10832.0782 - mean_absolute_error: 82.7668 - val_loss: 11055.5346 - val_mean_absolute_error: 83.4608\n",
      "Epoch 10/25\n",
      "7500/7500 [==============================] - 0s 41us/sample - loss: 10773.2311 - mean_absolute_error: 82.5410 - val_loss: 11030.8436 - val_mean_absolute_error: 83.3803\n",
      "Epoch 11/25\n",
      "7500/7500 [==============================] - 0s 36us/sample - loss: 10736.2511 - mean_absolute_error: 82.4140 - val_loss: 11007.7050 - val_mean_absolute_error: 83.2821\n",
      "Epoch 12/25\n",
      "7500/7500 [==============================] - 0s 33us/sample - loss: 10707.3710 - mean_absolute_error: 82.2813 - val_loss: 10990.0632 - val_mean_absolute_error: 83.2418\n",
      "Epoch 13/25\n",
      "7500/7500 [==============================] - 0s 33us/sample - loss: 10678.3984 - mean_absolute_error: 82.1900 - val_loss: 10971.0897 - val_mean_absolute_error: 83.1796\n",
      "Epoch 14/25\n",
      "7500/7500 [==============================] - 0s 41us/sample - loss: 10646.1342 - mean_absolute_error: 82.0313 - val_loss: 10946.4617 - val_mean_absolute_error: 83.1062\n",
      "Epoch 15/25\n",
      "7500/7500 [==============================] - 0s 39us/sample - loss: 10617.0886 - mean_absolute_error: 81.9453 - val_loss: 10924.2991 - val_mean_absolute_error: 83.0196\n",
      "Epoch 16/25\n",
      "7500/7500 [==============================] - 0s 39us/sample - loss: 10583.6744 - mean_absolute_error: 81.8084 - val_loss: 10902.5452 - val_mean_absolute_error: 82.9486\n",
      "Epoch 17/25\n",
      "7500/7500 [==============================] - 0s 32us/sample - loss: 10553.2921 - mean_absolute_error: 81.7012 - val_loss: 10874.9092 - val_mean_absolute_error: 82.8381\n",
      "Epoch 18/25\n",
      "7500/7500 [==============================] - 0s 30us/sample - loss: 10521.7871 - mean_absolute_error: 81.5707 - val_loss: 10854.4155 - val_mean_absolute_error: 82.7666\n",
      "Epoch 19/25\n",
      "7500/7500 [==============================] - 0s 30us/sample - loss: 10489.0314 - mean_absolute_error: 81.4475 - val_loss: 10827.9580 - val_mean_absolute_error: 82.6789\n",
      "Epoch 20/25\n",
      "7500/7500 [==============================] - 0s 29us/sample - loss: 10454.4667 - mean_absolute_error: 81.3339 - val_loss: 10808.0436 - val_mean_absolute_error: 82.6247\n",
      "Epoch 21/25\n",
      "7500/7500 [==============================] - 0s 31us/sample - loss: 10423.5296 - mean_absolute_error: 81.2081 - val_loss: 10784.3215 - val_mean_absolute_error: 82.5278\n",
      "Epoch 22/25\n",
      "7500/7500 [==============================] - 0s 31us/sample - loss: 10392.8774 - mean_absolute_error: 81.0748 - val_loss: 10759.5346 - val_mean_absolute_error: 82.4337\n",
      "Epoch 23/25\n",
      "7500/7500 [==============================] - 0s 30us/sample - loss: 10360.4265 - mean_absolute_error: 80.9719 - val_loss: 10738.0060 - val_mean_absolute_error: 82.3784\n",
      "Epoch 24/25\n",
      "7500/7500 [==============================] - 0s 29us/sample - loss: 10333.0668 - mean_absolute_error: 80.8817 - val_loss: 10716.7807 - val_mean_absolute_error: 82.3019\n",
      "Epoch 25/25\n",
      "7500/7500 [==============================] - 0s 33us/sample - loss: 10302.5221 - mean_absolute_error: 80.7338 - val_loss: 10695.4280 - val_mean_absolute_error: 82.2279\n"
     ]
    },
    {
     "data": {
      "text/plain": [
       "<tensorflow.python.keras.callbacks.History at 0x1a3057e290>"
      ]
     },
     "execution_count": 13,
     "metadata": {},
     "output_type": "execute_result"
    }
   ],
   "source": [
    "model.fit(Z_train, y_train, epochs=25, batch_size=32, validation_data=(Z_test, y_test))"
   ]
  },
  {
   "cell_type": "markdown",
   "metadata": {
    "collapsed": true
   },
   "source": [
    "### Fit your model\n",
    "---\n",
    "\n",
    "When fitting your model, you need to specify a few things:\n",
    "1. The number of epochs: start with 10. Always easy to add more\n",
    "2. Your batch size: pick a number that is a power of 2\n",
    "3. Your validation data, which in this case is our test set."
   ]
  },
  {
   "cell_type": "code",
   "execution_count": 14,
   "metadata": {},
   "outputs": [
    {
     "name": "stdout",
     "output_type": "stream",
     "text": [
      "Train on 7500 samples, validate on 2500 samples\n",
      "Epoch 1/10\n",
      "7500/7500 [==============================] - 0s 19us/sample - loss: 10262.4028 - mean_absolute_error: 80.5851 - val_loss: 10697.6126 - val_mean_absolute_error: 82.2424\n",
      "Epoch 2/10\n",
      "7500/7500 [==============================] - 0s 3us/sample - loss: 10260.5084 - mean_absolute_error: 80.5772 - val_loss: 10696.6469 - val_mean_absolute_error: 82.2396\n",
      "Epoch 3/10\n",
      "7500/7500 [==============================] - 0s 3us/sample - loss: 10258.7632 - mean_absolute_error: 80.5713 - val_loss: 10695.6848 - val_mean_absolute_error: 82.2351\n",
      "Epoch 4/10\n",
      "7500/7500 [==============================] - 0s 3us/sample - loss: 10256.9535 - mean_absolute_error: 80.5640 - val_loss: 10694.6965 - val_mean_absolute_error: 82.2324\n",
      "Epoch 5/10\n",
      "7500/7500 [==============================] - 0s 3us/sample - loss: 10255.1316 - mean_absolute_error: 80.5570 - val_loss: 10693.1036 - val_mean_absolute_error: 82.2260\n",
      "Epoch 6/10\n",
      "7500/7500 [==============================] - 0s 4us/sample - loss: 10253.1002 - mean_absolute_error: 80.5495 - val_loss: 10691.8034 - val_mean_absolute_error: 82.2208\n",
      "Epoch 7/10\n",
      "7500/7500 [==============================] - 0s 4us/sample - loss: 10251.1933 - mean_absolute_error: 80.5428 - val_loss: 10690.5085 - val_mean_absolute_error: 82.2164\n",
      "Epoch 8/10\n",
      "7500/7500 [==============================] - 0s 3us/sample - loss: 10249.1388 - mean_absolute_error: 80.5352 - val_loss: 10689.1001 - val_mean_absolute_error: 82.2112\n",
      "Epoch 9/10\n",
      "7500/7500 [==============================] - 0s 3us/sample - loss: 10247.1776 - mean_absolute_error: 80.5268 - val_loss: 10687.6551 - val_mean_absolute_error: 82.2050\n",
      "Epoch 10/10\n",
      "7500/7500 [==============================] - 0s 3us/sample - loss: 10245.4036 - mean_absolute_error: 80.5200 - val_loss: 10686.2223 - val_mean_absolute_error: 82.2000\n"
     ]
    },
    {
     "data": {
      "text/plain": [
       "<tensorflow.python.keras.callbacks.History at 0x1a3099f1d0>"
      ]
     },
     "execution_count": 14,
     "metadata": {},
     "output_type": "execute_result"
    }
   ],
   "source": [
    "model.fit(Z_train, y_train, validation_data=(Z_test, y_test), epochs=10, batch_size=512)"
   ]
  },
  {
   "cell_type": "markdown",
   "metadata": {
    "collapsed": true
   },
   "source": [
    "### Model predictions\n",
    "---\n",
    "\n",
    "Your `keras` model has a `.fit()` method, similar to `sklearn`. The only difference is `keras` returns a 2D `numpy` matrix (`sklearn` returns a 1D `numpy` array).\n",
    "\n",
    "Try it out in the cell below."
   ]
  },
  {
   "cell_type": "code",
   "execution_count": 15,
   "metadata": {},
   "outputs": [
    {
     "data": {
      "text/plain": [
       "array([[ -50.830715],\n",
       "       [  88.579994],\n",
       "       [  89.66644 ],\n",
       "       ...,\n",
       "       [-285.2524  ],\n",
       "       [ 261.33163 ],\n",
       "       [-100.32874 ]], dtype=float32)"
      ]
     },
     "execution_count": 15,
     "metadata": {},
     "output_type": "execute_result"
    }
   ],
   "source": [
    "model.predict(Z_test)"
   ]
  },
  {
   "cell_type": "code",
   "execution_count": 16,
   "metadata": {},
   "outputs": [
    {
     "data": {
      "text/plain": [
       "array([ -43.45506974,  -44.92470682,  176.76476055, ..., -398.93906378,\n",
       "        228.74950877,  -63.61994952])"
      ]
     },
     "execution_count": 16,
     "metadata": {},
     "output_type": "execute_result"
    }
   ],
   "source": [
    "y_test"
   ]
  },
  {
   "cell_type": "code",
   "execution_count": 17,
   "metadata": {},
   "outputs": [
    {
     "name": "stdout",
     "output_type": "stream",
     "text": [
      "2500/2500 [==============================] - 0s 15us/sample - loss: 10686.2221 - mean_absolute_error: 82.2000\n"
     ]
    },
    {
     "data": {
      "text/plain": [
       "[10686.222134375, 82.2]"
      ]
     },
     "execution_count": 17,
     "metadata": {},
     "output_type": "execute_result"
    }
   ],
   "source": [
    "model.evaluate(Z_test, y_test)"
   ]
  },
  {
   "cell_type": "markdown",
   "metadata": {},
   "source": [
    "# Binary Classification\n",
    "---\n",
    "\n",
    "`make_classification` is similar to `make_regression`, except now we're predicting a class (0 or 1).\n",
    "\n",
    "In the cell below, use `make_classification` to generate 10,000 samples using 20 features."
   ]
  },
  {
   "cell_type": "code",
   "execution_count": 18,
   "metadata": {},
   "outputs": [],
   "source": [
    "X, y = make_classification(\n",
    "    n_samples=10_000, n_features=20, n_informative=5, \n",
    "    class_sep=0.80, random_state=42)"
   ]
  },
  {
   "cell_type": "code",
   "execution_count": 19,
   "metadata": {},
   "outputs": [
    {
     "data": {
      "text/plain": [
       "0.7284"
      ]
     },
     "execution_count": 19,
     "metadata": {},
     "output_type": "execute_result"
    }
   ],
   "source": [
    "X_train, X_test, y_train, y_test = train_test_split(X, y, random_state=42, stratify=y)\n",
    "\n",
    "from sklearn.linear_model import LogisticRegression\n",
    "\n",
    "model = LogisticRegression(solver='lbfgs')\n",
    "model.fit(X_train, y_train)\n",
    "model.score(X_test, y_test)"
   ]
  },
  {
   "cell_type": "markdown",
   "metadata": {},
   "source": [
    "### Network Topology for Binary Classification\n",
    "---\n",
    "\n",
    "We'll create a simple network with:\n",
    "- an input layer, \n",
    "- one hidden layer. As a general rule, you should use `'relu'` as your activation function for all hidden layers.\n",
    "- an output layer. \n",
    "\n",
    "For *all* binary classification problems, your output layer will be 1 neuron with `'sigmoid'` activation function. Sigmoid squashes the output of our neuron to a value between 0 and 1, which is great for predicting probabilities. We'll use the probability for our loss function in the next step."
   ]
  },
  {
   "cell_type": "code",
   "execution_count": 20,
   "metadata": {},
   "outputs": [],
   "source": [
    "model = Sequential()\n",
    "model.add(Dense(32, input_shape=(X_train.shape[1],), activation='relu'))\n",
    "model.add(Dense(1, activation='sigmoid'))\n",
    "\n",
    "model = Sequential()\n",
    "model.add(Input(shape=(X_train.shape[1],)))\n",
    "model.add(Dense(100, activation='tanh'))\n",
    "model.add(Dense(1, activation='sigmoid'))"
   ]
  },
  {
   "cell_type": "markdown",
   "metadata": {},
   "source": [
    "### Compile your model\n",
    "---\n",
    "\n",
    "Whenever you compile your model, you have to specify a few things: \n",
    "1. What loss function to use: For binary classification, use `binary_crossentropy`. ([Description](https://ml-cheatsheet.readthedocs.io/en/latest/loss_functions.html#cross-entropy))\n",
    "2. What optimizer to use (Always use `'adam'`)\n",
    "3. Optional: What additional [metrics](https://keras.io/metrics/) you'd like to monitor"
   ]
  },
  {
   "cell_type": "code",
   "execution_count": 21,
   "metadata": {},
   "outputs": [],
   "source": [
    "model.compile(loss='binary_crossentropy', optimizer='adam', metrics=['accuracy'])"
   ]
  },
  {
   "cell_type": "markdown",
   "metadata": {},
   "source": [
    "### Fit your model\n",
    "---\n",
    "\n",
    "When fitting your model, you need to specify a few things:\n",
    "1. The number of epochs: start with 10. Always easy to add more\n",
    "2. Your batch size: pick a number that is a power of 2\n",
    "3. Your validation data, which in this case is our test set.\n",
    "\n",
    "When you fit a model, `keras` returns a `History` object. We need that in the next step, but for now, just save it to a variable."
   ]
  },
  {
   "cell_type": "code",
   "execution_count": 22,
   "metadata": {},
   "outputs": [
    {
     "name": "stderr",
     "output_type": "stream",
     "text": [
      "WARNING: Logging before flag parsing goes to stderr.\n",
      "W0120 12:53:25.929468 4424523072 deprecation.py:323] From /Users/max/anaconda3/lib/python3.7/site-packages/tensorflow/python/ops/math_grad.py:1250: add_dispatch_support.<locals>.wrapper (from tensorflow.python.ops.array_ops) is deprecated and will be removed in a future version.\n",
      "Instructions for updating:\n",
      "Use tf.where in 2.0, which has the same broadcast rule as np.where\n"
     ]
    },
    {
     "name": "stdout",
     "output_type": "stream",
     "text": [
      "Train on 7500 samples, validate on 2500 samples\n",
      "Epoch 1/30\n",
      "7500/7500 - 0s - loss: 0.5413 - accuracy: 0.7271 - val_loss: 0.5140 - val_accuracy: 0.7420\n",
      "Epoch 2/30\n",
      "7500/7500 - 0s - loss: 0.4800 - accuracy: 0.7684 - val_loss: 0.4453 - val_accuracy: 0.7856\n",
      "Epoch 3/30\n",
      "7500/7500 - 0s - loss: 0.4108 - accuracy: 0.8168 - val_loss: 0.3777 - val_accuracy: 0.8264\n",
      "Epoch 4/30\n",
      "7500/7500 - 0s - loss: 0.3480 - accuracy: 0.8583 - val_loss: 0.3321 - val_accuracy: 0.8568\n",
      "Epoch 5/30\n",
      "7500/7500 - 0s - loss: 0.3068 - accuracy: 0.8820 - val_loss: 0.2960 - val_accuracy: 0.8760\n",
      "Epoch 6/30\n",
      "7500/7500 - 0s - loss: 0.2799 - accuracy: 0.8960 - val_loss: 0.2743 - val_accuracy: 0.8892\n",
      "Epoch 7/30\n",
      "7500/7500 - 0s - loss: 0.2599 - accuracy: 0.9049 - val_loss: 0.2620 - val_accuracy: 0.8972\n",
      "Epoch 8/30\n",
      "7500/7500 - 0s - loss: 0.2461 - accuracy: 0.9101 - val_loss: 0.2539 - val_accuracy: 0.9000\n",
      "Epoch 9/30\n",
      "7500/7500 - 0s - loss: 0.2356 - accuracy: 0.9148 - val_loss: 0.2434 - val_accuracy: 0.9000\n",
      "Epoch 10/30\n",
      "7500/7500 - 0s - loss: 0.2275 - accuracy: 0.9152 - val_loss: 0.2385 - val_accuracy: 0.9068\n",
      "Epoch 11/30\n",
      "7500/7500 - 0s - loss: 0.2206 - accuracy: 0.9189 - val_loss: 0.2297 - val_accuracy: 0.9104\n",
      "Epoch 12/30\n",
      "7500/7500 - 0s - loss: 0.2135 - accuracy: 0.9203 - val_loss: 0.2258 - val_accuracy: 0.9124\n",
      "Epoch 13/30\n",
      "7500/7500 - 0s - loss: 0.2074 - accuracy: 0.9233 - val_loss: 0.2246 - val_accuracy: 0.9120\n",
      "Epoch 14/30\n",
      "7500/7500 - 0s - loss: 0.2022 - accuracy: 0.9268 - val_loss: 0.2184 - val_accuracy: 0.9176\n",
      "Epoch 15/30\n",
      "7500/7500 - 0s - loss: 0.1977 - accuracy: 0.9292 - val_loss: 0.2173 - val_accuracy: 0.9148\n",
      "Epoch 16/30\n",
      "7500/7500 - 0s - loss: 0.1939 - accuracy: 0.9304 - val_loss: 0.2252 - val_accuracy: 0.9104\n",
      "Epoch 17/30\n",
      "7500/7500 - 0s - loss: 0.1902 - accuracy: 0.9327 - val_loss: 0.2131 - val_accuracy: 0.9152\n",
      "Epoch 18/30\n",
      "7500/7500 - 0s - loss: 0.1857 - accuracy: 0.9336 - val_loss: 0.2144 - val_accuracy: 0.9128\n",
      "Epoch 19/30\n",
      "7500/7500 - 0s - loss: 0.1842 - accuracy: 0.9336 - val_loss: 0.2104 - val_accuracy: 0.9152\n",
      "Epoch 20/30\n",
      "7500/7500 - 0s - loss: 0.1802 - accuracy: 0.9359 - val_loss: 0.2091 - val_accuracy: 0.9168\n",
      "Epoch 21/30\n",
      "7500/7500 - 0s - loss: 0.1778 - accuracy: 0.9347 - val_loss: 0.2087 - val_accuracy: 0.9180\n",
      "Epoch 22/30\n",
      "7500/7500 - 0s - loss: 0.1749 - accuracy: 0.9367 - val_loss: 0.2078 - val_accuracy: 0.9188\n",
      "Epoch 23/30\n",
      "7500/7500 - 0s - loss: 0.1720 - accuracy: 0.9392 - val_loss: 0.2052 - val_accuracy: 0.9196\n",
      "Epoch 24/30\n",
      "7500/7500 - 0s - loss: 0.1687 - accuracy: 0.9395 - val_loss: 0.2040 - val_accuracy: 0.9220\n",
      "Epoch 25/30\n",
      "7500/7500 - 0s - loss: 0.1665 - accuracy: 0.9396 - val_loss: 0.2027 - val_accuracy: 0.9192\n",
      "Epoch 26/30\n",
      "7500/7500 - 0s - loss: 0.1632 - accuracy: 0.9432 - val_loss: 0.2081 - val_accuracy: 0.9212\n",
      "Epoch 27/30\n",
      "7500/7500 - 0s - loss: 0.1616 - accuracy: 0.9409 - val_loss: 0.2085 - val_accuracy: 0.9196\n",
      "Epoch 28/30\n",
      "7500/7500 - 0s - loss: 0.1593 - accuracy: 0.9437 - val_loss: 0.1979 - val_accuracy: 0.9232\n",
      "Epoch 29/30\n",
      "7500/7500 - 0s - loss: 0.1570 - accuracy: 0.9453 - val_loss: 0.2063 - val_accuracy: 0.9192\n",
      "Epoch 30/30\n",
      "7500/7500 - 0s - loss: 0.1547 - accuracy: 0.9440 - val_loss: 0.2010 - val_accuracy: 0.9216\n"
     ]
    }
   ],
   "source": [
    "history = model.fit(X_train, y_train, \n",
    "                    validation_data=(X_test, y_test), \n",
    "                    epochs=30, batch_size=32, \n",
    "                    verbose=2)"
   ]
  },
  {
   "cell_type": "code",
   "execution_count": 23,
   "metadata": {},
   "outputs": [
    {
     "data": {
      "text/plain": [
       "[0.5140211907863617,\n",
       " 0.4452737398147583,\n",
       " 0.3776739224433899,\n",
       " 0.33209709768295287,\n",
       " 0.29604154138565064,\n",
       " 0.27427204765081403,\n",
       " 0.26196843223571775,\n",
       " 0.25387915291786195,\n",
       " 0.2433659794807434,\n",
       " 0.23846026177555324,\n",
       " 0.22971402390003204,\n",
       " 0.22575276498794555,\n",
       " 0.22459144164323808,\n",
       " 0.2184165569782257,\n",
       " 0.21726050717830658,\n",
       " 0.22517512822151184,\n",
       " 0.21314034366607665,\n",
       " 0.21436478272080423,\n",
       " 0.2104450734734535,\n",
       " 0.2090892237663269,\n",
       " 0.20869312582015992,\n",
       " 0.20775984535217284,\n",
       " 0.20524019374847413,\n",
       " 0.2040472603559494,\n",
       " 0.20273731422424315,\n",
       " 0.2081419089794159,\n",
       " 0.20854493255615233,\n",
       " 0.19791267414093017,\n",
       " 0.20629308609962463,\n",
       " 0.2009544063091278]"
      ]
     },
     "execution_count": 23,
     "metadata": {},
     "output_type": "execute_result"
    }
   ],
   "source": [
    "history.history['val_loss']"
   ]
  },
  {
   "cell_type": "markdown",
   "metadata": {},
   "source": [
    "### Visualizing model training\n",
    "---\n",
    "\n",
    "Whenever you fit your `keras` model, it returns a `History` object ([link](https://keras.io/visualization/#training-history-visualization)) that can be used for plotting."
   ]
  },
  {
   "cell_type": "code",
   "execution_count": 24,
   "metadata": {},
   "outputs": [
    {
     "data": {
      "image/png": "[encoded data removed]",
      "text/plain": [
       "<Figure size 432x288 with 1 Axes>"
      ]
     },
     "metadata": {
      "needs_background": "light"
     },
     "output_type": "display_data"
    }
   ],
   "source": [
    "plt.plot(history.history['loss'], label='Train loss')\n",
    "plt.plot(history.history['val_loss'], label='Val Loss')\n",
    "plt.legend();"
   ]
  },
  {
   "cell_type": "code",
   "execution_count": 25,
   "metadata": {},
   "outputs": [
    {
     "data": {
      "text/plain": [
       "dict_keys(['loss', 'accuracy', 'val_loss', 'val_accuracy'])"
      ]
     },
     "execution_count": 25,
     "metadata": {},
     "output_type": "execute_result"
    }
   ],
   "source": [
    "history.history.keys()"
   ]
  },
  {
   "cell_type": "markdown",
   "metadata": {},
   "source": [
    "### Challenge\n",
    "---\n",
    "\n",
    "Using the `history` object, plot the model's accuracy (for both train and test)."
   ]
  },
  {
   "cell_type": "code",
   "execution_count": 26,
   "metadata": {},
   "outputs": [
    {
     "data": {
      "image/png": "[encoded data removed]",
      "text/plain": [
       "<Figure size 432x288 with 1 Axes>"
      ]
     },
     "metadata": {
      "needs_background": "light"
     },
     "output_type": "display_data"
    }
   ],
   "source": [
    "plt.plot(history.history['accuracy'], label='Train accuracy')\n",
    "plt.plot(history.history['val_accuracy'], label='Val accuracy')\n",
    "plt.legend();"
   ]
  },
  {
   "cell_type": "markdown",
   "metadata": {},
   "source": [
    "# Multi-class Classification\n",
    "---\n",
    "\n",
    "The `make_classification` function allows for multi-class problems as well. Simply increase the `n_classes` and voila!\n",
    "\n",
    "**NOTE**: You'll need to increase `n_informative` as you increase `n_classes`.\n",
    "\n",
    "In the cell below, let's create a dataset with three classes."
   ]
  },
  {
   "cell_type": "code",
   "execution_count": 27,
   "metadata": {},
   "outputs": [],
   "source": [
    "X, y = make_classification(n_samples=10000, n_features=20, n_informative=4, n_classes=3, class_sep=0.8)"
   ]
  },
  {
   "cell_type": "code",
   "execution_count": 28,
   "metadata": {},
   "outputs": [
    {
     "data": {
      "text/plain": [
       "array([0, 1, 2])"
      ]
     },
     "execution_count": 28,
     "metadata": {},
     "output_type": "execute_result"
    }
   ],
   "source": [
    "np.unique(y)"
   ]
  },
  {
   "cell_type": "markdown",
   "metadata": {},
   "source": [
    "### One-hot Encoding Targets\n",
    "---\n",
    "\n",
    "In `keras`, you have to one-hot encode your `y` if it contains more than two classes. We'll use `keras`' built-in `to_categorical` function to achieve this."
   ]
  },
  {
   "cell_type": "code",
   "execution_count": 29,
   "metadata": {},
   "outputs": [
    {
     "data": {
      "text/plain": [
       "array([[1, 0, 0],\n",
       "       [1, 0, 0],\n",
       "       [0, 0, 1],\n",
       "       ...,\n",
       "       [1, 0, 0],\n",
       "       [0, 1, 0],\n",
       "       [0, 0, 1]])"
      ]
     },
     "execution_count": 29,
     "metadata": {},
     "output_type": "execute_result"
    }
   ],
   "source": [
    "from sklearn.preprocessing import LabelBinarizer\n",
    "\n",
    "lb = LabelBinarizer()\n",
    "lb.fit_transform(y)"
   ]
  },
  {
   "cell_type": "code",
   "execution_count": 30,
   "metadata": {},
   "outputs": [
    {
     "data": {
      "text/plain": [
       "array([[1., 0., 0.],\n",
       "       [1., 0., 0.],\n",
       "       [0., 0., 1.],\n",
       "       [0., 0., 1.],\n",
       "       [1., 0., 0.]], dtype=float32)"
      ]
     },
     "execution_count": 30,
     "metadata": {},
     "output_type": "execute_result"
    }
   ],
   "source": [
    "y = to_categorical(y)\n",
    "y[:5]"
   ]
  },
  {
   "cell_type": "markdown",
   "metadata": {},
   "source": [
    "### Train/Test Split\n",
    "---\n",
    "\n",
    "We always want to have a holdout set to test our model. Use the `train_test_split` function to split our `X` and `y` variables into a training set and a holdout set."
   ]
  },
  {
   "cell_type": "code",
   "execution_count": 31,
   "metadata": {},
   "outputs": [],
   "source": [
    "X_train, X_test, y_train, y_test = train_test_split(X, y, random_state=42)"
   ]
  },
  {
   "cell_type": "markdown",
   "metadata": {},
   "source": [
    "### `StandardScaler`\n",
    "---\n",
    "\n",
    "Use an instance of `StandardScaler` to scale your `X_train` and `X_test` in the cell below."
   ]
  },
  {
   "cell_type": "code",
   "execution_count": 32,
   "metadata": {},
   "outputs": [],
   "source": [
    "ss = StandardScaler()\n",
    "Z_train = ss.fit_transform(X_train)\n",
    "Z_test = ss.transform(X_test)"
   ]
  },
  {
   "cell_type": "markdown",
   "metadata": {},
   "source": [
    "### Network Topology for Multi-class Classification\n",
    "---\n",
    "\n",
    "We'll create a simple network with:\n",
    "- an input layer\n",
    "- one hidden layer. As a general rule, you should use `'relu'` as your activation function for all hidden layers.\n",
    "- an output layer\n",
    "\n",
    "For *all* multi-class classification problems, your output layer will be the same number of neurons as the number of classes in your problem. The activation function will be `softmax`, which will normalize the predictions into probabilities that sum up to 1.0."
   ]
  },
  {
   "cell_type": "code",
   "execution_count": 33,
   "metadata": {},
   "outputs": [],
   "source": [
    "model = Sequential()\n",
    "model.add(Input(shape=(Z_train.shape[1],)))\n",
    "\n",
    "model.add(Dense(50, activation='relu'))\n",
    "model.add(Dense(10, activation='relu'))\n",
    "          \n",
    "model.add(Dense(3, activation='softmax'))"
   ]
  },
  {
   "cell_type": "markdown",
   "metadata": {},
   "source": [
    "### Compile your model\n",
    "---\n",
    "\n",
    "Whenever you compile your model, you have to specify a few things: \n",
    "1. What loss function to use: For multi-class classification, use `categorical_crossentropy`. ([Description](https://ml-cheatsheet.readthedocs.io/en/latest/loss_functions.html#cross-entropy))\n",
    "2. What optimizer to use (Always use `'adam'`)\n",
    "3. Optional: What additional [metrics](https://keras.io/metrics/) you'd like to monitor"
   ]
  },
  {
   "cell_type": "code",
   "execution_count": 34,
   "metadata": {},
   "outputs": [],
   "source": [
    "model.compile(loss='categorical_crossentropy', optimizer='adam', metrics=['accuracy'])"
   ]
  },
  {
   "cell_type": "markdown",
   "metadata": {},
   "source": [
    "### Fit your model\n",
    "---\n",
    "\n",
    "When fitting your model, you need to specify a few things:\n",
    "1. The number of epochs: start with 10. Always easy to add more\n",
    "2. Your batch size: pick a number that is a power of 2\n",
    "3. Your validation data, which in this case is our test set."
   ]
  },
  {
   "cell_type": "code",
   "execution_count": 35,
   "metadata": {},
   "outputs": [
    {
     "name": "stdout",
     "output_type": "stream",
     "text": [
      "Train on 7500 samples, validate on 2500 samples\n",
      "Epoch 1/20\n",
      "7500/7500 [==============================] - 0s 44us/sample - loss: 1.1482 - accuracy: 0.3407 - val_loss: 1.1011 - val_accuracy: 0.3672\n",
      "Epoch 2/20\n",
      "7500/7500 [==============================] - 0s 4us/sample - loss: 1.0851 - accuracy: 0.3872 - val_loss: 1.0715 - val_accuracy: 0.4108\n",
      "Epoch 3/20\n",
      "7500/7500 [==============================] - 0s 5us/sample - loss: 1.0534 - accuracy: 0.4321 - val_loss: 1.0425 - val_accuracy: 0.4400\n",
      "Epoch 4/20\n",
      "7500/7500 [==============================] - 0s 4us/sample - loss: 1.0199 - accuracy: 0.4668 - val_loss: 1.0100 - val_accuracy: 0.4612\n",
      "Epoch 5/20\n",
      "7500/7500 [==============================] - 0s 4us/sample - loss: 0.9824 - accuracy: 0.4896 - val_loss: 0.9776 - val_accuracy: 0.4856\n",
      "Epoch 6/20\n",
      "7500/7500 [==============================] - 0s 5us/sample - loss: 0.9443 - accuracy: 0.5203 - val_loss: 0.9451 - val_accuracy: 0.5080\n",
      "Epoch 7/20\n",
      "7500/7500 [==============================] - 0s 5us/sample - loss: 0.9078 - accuracy: 0.5404 - val_loss: 0.9142 - val_accuracy: 0.5304\n",
      "Epoch 8/20\n",
      "7500/7500 [==============================] - 0s 4us/sample - loss: 0.8734 - accuracy: 0.5687 - val_loss: 0.8848 - val_accuracy: 0.5620\n",
      "Epoch 9/20\n",
      "7500/7500 [==============================] - 0s 5us/sample - loss: 0.8423 - accuracy: 0.5931 - val_loss: 0.8586 - val_accuracy: 0.5876\n",
      "Epoch 10/20\n",
      "7500/7500 [==============================] - 0s 5us/sample - loss: 0.8134 - accuracy: 0.6175 - val_loss: 0.8348 - val_accuracy: 0.6060\n",
      "Epoch 11/20\n",
      "7500/7500 [==============================] - 0s 4us/sample - loss: 0.7879 - accuracy: 0.6407 - val_loss: 0.8126 - val_accuracy: 0.6236\n",
      "Epoch 12/20\n",
      "7500/7500 [==============================] - 0s 4us/sample - loss: 0.7652 - accuracy: 0.6553 - val_loss: 0.7931 - val_accuracy: 0.6400\n",
      "Epoch 13/20\n",
      "7500/7500 [==============================] - 0s 4us/sample - loss: 0.7441 - accuracy: 0.6724 - val_loss: 0.7737 - val_accuracy: 0.6568\n",
      "Epoch 14/20\n",
      "7500/7500 [==============================] - 0s 4us/sample - loss: 0.7244 - accuracy: 0.6840 - val_loss: 0.7560 - val_accuracy: 0.6680\n",
      "Epoch 15/20\n",
      "7500/7500 [==============================] - 0s 4us/sample - loss: 0.7065 - accuracy: 0.7003 - val_loss: 0.7406 - val_accuracy: 0.6788\n",
      "Epoch 16/20\n",
      "7500/7500 [==============================] - 0s 4us/sample - loss: 0.6908 - accuracy: 0.7075 - val_loss: 0.7265 - val_accuracy: 0.6820\n",
      "Epoch 17/20\n",
      "7500/7500 [==============================] - 0s 3us/sample - loss: 0.6766 - accuracy: 0.7121 - val_loss: 0.7146 - val_accuracy: 0.6864\n",
      "Epoch 18/20\n",
      "7500/7500 [==============================] - 0s 3us/sample - loss: 0.6636 - accuracy: 0.7176 - val_loss: 0.7041 - val_accuracy: 0.6972\n",
      "Epoch 19/20\n",
      "7500/7500 [==============================] - 0s 3us/sample - loss: 0.6520 - accuracy: 0.7233 - val_loss: 0.6944 - val_accuracy: 0.7008\n",
      "Epoch 20/20\n",
      "7500/7500 [==============================] - 0s 4us/sample - loss: 0.6414 - accuracy: 0.7261 - val_loss: 0.6850 - val_accuracy: 0.7084\n"
     ]
    }
   ],
   "source": [
    "history = model.fit(Z_train, y_train, validation_data=(Z_test, y_test), epochs=20, batch_size=512)"
   ]
  },
  {
   "cell_type": "markdown",
   "metadata": {},
   "source": [
    "### Visualizing model training\n",
    "---\n",
    "\n",
    "Whenever you fit your `keras` model, it returns a `History` object ([link](https://keras.io/visualization/#training-history-visualization)) that can be used for plotting."
   ]
  },
  {
   "cell_type": "code",
   "execution_count": 36,
   "metadata": {
    "scrolled": true
   },
   "outputs": [
    {
     "data": {
      "image/png": "[encoded data removed]",
      "text/plain": [
       "<Figure size 432x288 with 1 Axes>"
      ]
     },
     "metadata": {
      "needs_background": "light"
     },
     "output_type": "display_data"
    }
   ],
   "source": [
    "plt.plot(history.history['loss'], label='Train loss')\n",
    "plt.plot(history.history['val_loss'], label='Val Loss')\n",
    "plt.legend();"
   ]
  },
  {
   "cell_type": "markdown",
   "metadata": {},
   "source": [
    "### Challenge\n",
    "---\n",
    "\n",
    "Using the `history` object, plot the model's accuracy (for both train and test)."
   ]
  },
  {
   "cell_type": "code",
   "execution_count": 37,
   "metadata": {},
   "outputs": [
    {
     "data": {
      "image/png": "[encoded data removed]",
      "text/plain": [
       "<Figure size 432x288 with 1 Axes>"
      ]
     },
     "metadata": {
      "needs_background": "light"
     },
     "output_type": "display_data"
    }
   ],
   "source": [
    "plt.plot(history.history['accuracy'], label='Train accuracy')\n",
    "plt.plot(history.history['val_accuracy'], label='Val accuracy')\n",
    "plt.legend();"
   ]
  },
  {
   "cell_type": "code",
   "execution_count": 38,
   "metadata": {},
   "outputs": [],
   "source": [
    "# Flavour 2"
   ]
  },
  {
   "cell_type": "code",
   "execution_count": 39,
   "metadata": {},
   "outputs": [],
   "source": [
    "X, y = make_regression(n_samples=10000, n_features=20, noise=100.0, random_state=42)\n",
    "X_train, X_test, y_train, y_test = train_test_split(X, y)"
   ]
  },
  {
   "cell_type": "code",
   "execution_count": 40,
   "metadata": {},
   "outputs": [
    {
     "name": "stdout",
     "output_type": "stream",
     "text": [
      "Train on 7500 samples\n",
      "7500/7500 [==============================] - 0s 49us/sample - loss: 47432.2639\n"
     ]
    },
    {
     "data": {
      "text/plain": [
       "<tensorflow.python.keras.callbacks.History at 0x1a2dcc7590>"
      ]
     },
     "execution_count": 40,
     "metadata": {},
     "output_type": "execute_result"
    }
   ],
   "source": [
    "model = Sequential([\n",
    "    Input(shape=(X_train.shape[1],)),\n",
    "    Dense(50, activation='relu'),\n",
    "    Dense(20, activation='relu'),\n",
    "    Dense(1, activation='linear')\n",
    "])\n",
    "\n",
    "model.compile(loss='mse', optimizer='adam')\n",
    "model.fit(X_train, y_train)"
   ]
  },
  {
   "cell_type": "code",
   "execution_count": 41,
   "metadata": {},
   "outputs": [],
   "source": [
    "# flavour 3 "
   ]
  },
  {
   "cell_type": "code",
   "execution_count": 42,
   "metadata": {},
   "outputs": [],
   "source": [
    "def add_punctuation(punc='!'):\n",
    "    def hello_punc(something):\n",
    "        return f\"Hello {something}{punc}\"\n",
    "    return hello_punc"
   ]
  },
  {
   "cell_type": "code",
   "execution_count": 43,
   "metadata": {},
   "outputs": [],
   "source": [
    "hello_exclaim = add_punctuation('!')"
   ]
  },
  {
   "cell_type": "code",
   "execution_count": 44,
   "metadata": {},
   "outputs": [
    {
     "data": {
      "text/plain": [
       "'Hello Garry!'"
      ]
     },
     "execution_count": 44,
     "metadata": {},
     "output_type": "execute_result"
    }
   ],
   "source": [
    "hello_exclaim('Garry')"
   ]
  },
  {
   "cell_type": "code",
   "execution_count": 45,
   "metadata": {},
   "outputs": [
    {
     "data": {
      "text/plain": [
       "'Hello Garry?'"
      ]
     },
     "execution_count": 45,
     "metadata": {},
     "output_type": "execute_result"
    }
   ],
   "source": [
    "hello_question = add_punctuation('?')\n",
    "hello_question('Garry')"
   ]
  },
  {
   "cell_type": "code",
   "execution_count": 46,
   "metadata": {},
   "outputs": [
    {
     "data": {
      "text/plain": [
       "'Hello Dunya$'"
      ]
     },
     "execution_count": 46,
     "metadata": {},
     "output_type": "execute_result"
    }
   ],
   "source": [
    "add_punctuation('$')('Dunya')"
   ]
  },
  {
   "cell_type": "code",
   "execution_count": 47,
   "metadata": {},
   "outputs": [
    {
     "name": "stdout",
     "output_type": "stream",
     "text": [
      "Train on 7500 samples\n",
      "7500/7500 [==============================] - 0s 48us/sample - loss: 47291.9307\n"
     ]
    },
    {
     "data": {
      "text/plain": [
       "<tensorflow.python.keras.callbacks.History at 0x104e35950>"
      ]
     },
     "execution_count": 47,
     "metadata": {},
     "output_type": "execute_result"
    }
   ],
   "source": [
    "inputs = Input(shape=(X_train.shape[1],))\n",
    "x = Dense(50, activation='relu')(inputs)\n",
    "x = Dense(20, activation='relu')(x)\n",
    "outputs = Dense(1, activation='linear')(x)\n",
    "\n",
    "model = tf.keras.Model(inputs=inputs, outputs=outputs)\n",
    "model.compile(loss='mse', optimizer='adam')\n",
    "model.fit(X_train, y_train)"
   ]
  },
  {
   "cell_type": "code",
   "execution_count": 48,
   "metadata": {},
   "outputs": [
    {
     "name": "stdout",
     "output_type": "stream",
     "text": [
      "2500/2500 [==============================] - 0s 25us/sample - loss: 40472.0645\n"
     ]
    },
    {
     "data": {
      "text/plain": [
       "40472.06449375"
      ]
     },
     "execution_count": 48,
     "metadata": {},
     "output_type": "execute_result"
    }
   ],
   "source": [
    "model.evaluate(X_test, y_test)"
   ]
  },
  {
   "cell_type": "code",
   "execution_count": 49,
   "metadata": {},
   "outputs": [
    {
     "name": "stdout",
     "output_type": "stream",
     "text": [
      "Model: \"model\"\n",
      "_________________________________________________________________\n",
      "Layer (type)                 Output Shape              Param #   \n",
      "=================================================================\n",
      "input_6 (InputLayer)         [(None, 20)]              0         \n",
      "_________________________________________________________________\n",
      "dense_16 (Dense)             (None, 50)                1050      \n",
      "_________________________________________________________________\n",
      "dense_17 (Dense)             (None, 20)                1020      \n",
      "_________________________________________________________________\n",
      "dense_18 (Dense)             (None, 1)                 21        \n",
      "=================================================================\n",
      "Total params: 2,091\n",
      "Trainable params: 2,091\n",
      "Non-trainable params: 0\n",
      "_________________________________________________________________\n"
     ]
    }
   ],
   "source": [
    "model.summary()"
   ]
  }
 ],
 "metadata": {
  "kernelspec": {
   "display_name": "Python 3",
   "language": "python",
   "name": "python3"
  },
  "language_info": {
   "codemirror_mode": {
    "name": "ipython",
    "version": 3
   },
   "file_extension": ".py",
   "mimetype": "text/x-python",
   "name": "python",
   "nbconvert_exporter": "python",
   "pygments_lexer": "ipython3",
   "version": "3.6.4"
  }
 },
 "nbformat": 4,
 "nbformat_minor": 2
}
