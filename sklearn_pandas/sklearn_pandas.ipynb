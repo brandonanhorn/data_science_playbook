{
 "cells": [
  {
   "cell_type": "markdown",
   "metadata": {},
   "source": [
    "# sklearn-pandas\n",
    "\n",
    "1.  A way to map `DataFrame` columns to transformations, which are later\n",
    "    recombined into features.\n",
    "2.  A couple of special transformers that work well with pandas inputs:\n",
    "    `CategoricalImputer` and `FunctionTransformer`.\n",
    "\n",
    "Installation\n",
    "============\n",
    "\n",
    "You can install `sklearn-pandas` with `pip`:"
   ]
  },
  {
   "cell_type": "code",
   "execution_count": 3,
   "metadata": {},
   "outputs": [
    {
     "name": "stdout",
     "output_type": "stream",
     "text": [
      "Requirement already up-to-date: sklearn-pandas in /Users/brandonanhorn19/anaconda3/lib/python3.6/site-packages (1.8.0)\n",
      "Requirement already satisfied, skipping upgrade: numpy>=1.6.1 in /Users/brandonanhorn19/anaconda3/lib/python3.6/site-packages (from sklearn-pandas) (1.14.0)\n",
      "Requirement already satisfied, skipping upgrade: scikit-learn>=0.15.0 in /Users/brandonanhorn19/anaconda3/lib/python3.6/site-packages (from sklearn-pandas) (0.19.1)\n",
      "Requirement already satisfied, skipping upgrade: scipy>=0.14 in /Users/brandonanhorn19/anaconda3/lib/python3.6/site-packages (from sklearn-pandas) (1.0.0)\n",
      "Requirement already satisfied, skipping upgrade: pandas>=0.11.0 in /Users/brandonanhorn19/anaconda3/lib/python3.6/site-packages (from sklearn-pandas) (0.22.0)\n",
      "Requirement already satisfied, skipping upgrade: python-dateutil>=2 in /Users/brandonanhorn19/anaconda3/lib/python3.6/site-packages (from pandas>=0.11.0->sklearn-pandas) (2.6.1)\n",
      "Requirement already satisfied, skipping upgrade: pytz>=2011k in /Users/brandonanhorn19/anaconda3/lib/python3.6/site-packages (from pandas>=0.11.0->sklearn-pandas) (2017.3)\n",
      "Requirement already satisfied, skipping upgrade: six>=1.5 in /Users/brandonanhorn19/anaconda3/lib/python3.6/site-packages (from python-dateutil>=2->pandas>=0.11.0->sklearn-pandas) (1.11.0)\n"
     ]
    }
   ],
   "source": [
    "#!pip install -U sklearn-pandas"
   ]
  },
  {
   "cell_type": "markdown",
   "metadata": {},
   "source": [
    "Usage\n",
    "=====\n",
    "\n",
    "Import\n",
    "------"
   ]
  },
  {
   "cell_type": "code",
   "execution_count": 2,
   "metadata": {},
   "outputs": [],
   "source": [
    "from sklearn_pandas import DataFrameMapper"
   ]
  },
  {
   "cell_type": "markdown",
   "metadata": {},
   "source": [
    "For these examples, we'll also use pandas, numpy, and sklearn:"
   ]
  },
  {
   "cell_type": "code",
   "execution_count": 5,
   "metadata": {},
   "outputs": [
    {
     "ename": "SyntaxError",
     "evalue": "invalid syntax (<ipython-input-5-ad1e7737b7f3>, line 4)",
     "output_type": "error",
     "traceback": [
      "\u001b[0;36m  File \u001b[0;32m\"<ipython-input-5-ad1e7737b7f3>\"\u001b[0;36m, line \u001b[0;32m4\u001b[0m\n\u001b[0;31m    sklearn.preprocessing import Impute\u001b[0m\n\u001b[0m                               ^\u001b[0m\n\u001b[0;31mSyntaxError\u001b[0m\u001b[0;31m:\u001b[0m invalid syntax\n"
     ]
    }
   ],
   "source": [
    "import pandas as pd\n",
    "import numpy as np\n",
    "from sklearn.preprocessing import LabelBinarizer, StandardScaler, LabelEncoder\n",
    "from sklearn.impute import SimpleImputer\n",
    "\n",
    "import sklearn.decomposition, sklearn.linear_model, sklearn.pipeline, sklearn.metrics\n",
    "from sklearn.feature_extraction.text import CountVectorizer"
   ]
  },
  {
   "cell_type": "markdown",
   "metadata": {},
   "source": [
    "Load some Data\n",
    "--------------\n",
    "\n",
    "Normally we'll read the data from a file, but for demonstration\n",
    "purposes we'll create a data frame from a Python dict:"
   ]
  },
  {
   "cell_type": "code",
   "execution_count": 4,
   "metadata": {},
   "outputs": [
    {
     "data": {
      "text/html": [
       "<div>\n",
       "<style scoped>\n",
       "    .dataframe tbody tr th:only-of-type {\n",
       "        vertical-align: middle;\n",
       "    }\n",
       "\n",
       "    .dataframe tbody tr th {\n",
       "        vertical-align: top;\n",
       "    }\n",
       "\n",
       "    .dataframe thead th {\n",
       "        text-align: right;\n",
       "    }\n",
       "</style>\n",
       "<table border=\"1\" class=\"dataframe\">\n",
       "  <thead>\n",
       "    <tr style=\"text-align: right;\">\n",
       "      <th></th>\n",
       "      <th>leader</th>\n",
       "      <th>party</th>\n",
       "      <th>polling</th>\n",
       "      <th>seats</th>\n",
       "      <th>leaning</th>\n",
       "    </tr>\n",
       "  </thead>\n",
       "  <tbody>\n",
       "    <tr>\n",
       "      <th>0</th>\n",
       "      <td>Justin Trudeau</td>\n",
       "      <td>Liberal</td>\n",
       "      <td>34.1</td>\n",
       "      <td>167</td>\n",
       "      <td>Left</td>\n",
       "    </tr>\n",
       "    <tr>\n",
       "      <th>1</th>\n",
       "      <td>Andrew Scheer</td>\n",
       "      <td>Conservative</td>\n",
       "      <td>34.4</td>\n",
       "      <td>139</td>\n",
       "      <td>Right</td>\n",
       "    </tr>\n",
       "    <tr>\n",
       "      <th>2</th>\n",
       "      <td>Jagmeet Singh</td>\n",
       "      <td>NDP</td>\n",
       "      <td>13.8</td>\n",
       "      <td>16</td>\n",
       "      <td>Left</td>\n",
       "    </tr>\n",
       "    <tr>\n",
       "      <th>3</th>\n",
       "      <td>Elizabeth May</td>\n",
       "      <td>Green</td>\n",
       "      <td>9.5</td>\n",
       "      <td>4</td>\n",
       "      <td>Left</td>\n",
       "    </tr>\n",
       "  </tbody>\n",
       "</table>\n",
       "</div>"
      ],
      "text/plain": [
       "           leader         party  polling  seats leaning\n",
       "0  Justin Trudeau       Liberal     34.1    167    Left\n",
       "1   Andrew Scheer  Conservative     34.4    139   Right\n",
       "2   Jagmeet Singh           NDP     13.8     16    Left\n",
       "3   Elizabeth May         Green      9.5      4    Left"
      ]
     },
     "execution_count": 4,
     "metadata": {},
     "output_type": "execute_result"
    }
   ],
   "source": [
    "data = pd.DataFrame([\n",
    "    ['Justin Trudeau', 'Liberal', 34.1, 167, 'Left'],\n",
    "    ['Andrew Scheer', 'Conservative', 34.4, 139, 'Right'],\n",
    "    ['Jagmeet Singh', 'NDP', 13.8, 16, 'Left'],\n",
    "    ['Elizabeth May', 'Green', 9.5, 4, 'Left']\n",
    "], columns=['leader', 'party', 'polling', 'seats', 'leaning'])\n",
    "\n",
    "data"
   ]
  },
  {
   "cell_type": "code",
   "execution_count": 5,
   "metadata": {},
   "outputs": [
    {
     "data": {
      "text/plain": [
       "array([[ 1.18246404],\n",
       "       [ 0.79522435],\n",
       "       [-0.90586426],\n",
       "       [-1.07182413]])"
      ]
     },
     "execution_count": 5,
     "metadata": {},
     "output_type": "execute_result"
    }
   ],
   "source": [
    "ss = StandardScaler()\n",
    "\n",
    "ss.fit_transform(data[['seats']])"
   ]
  },
  {
   "cell_type": "code",
   "execution_count": 6,
   "metadata": {},
   "outputs": [
    {
     "data": {
      "text/plain": [
       "array([[ 0.20318564],\n",
       "       [-1.08365674],\n",
       "       [-0.94819965],\n",
       "       [ 0.13545709],\n",
       "       [ 1.69321365]])"
      ]
     },
     "execution_count": 6,
     "metadata": {},
     "output_type": "execute_result"
    }
   ],
   "source": [
    "x = np.array([20, 1, 3, 19, 42]).reshape(-1, 1)\n",
    "ss = StandardScaler()\n",
    "ss.fit_transform(x)"
   ]
  },
  {
   "cell_type": "code",
   "execution_count": 7,
   "metadata": {},
   "outputs": [
    {
     "data": {
      "text/plain": [
       "array([[0, 0, 1, 0],\n",
       "       [1, 0, 0, 0],\n",
       "       [0, 0, 0, 1],\n",
       "       [0, 1, 0, 0]])"
      ]
     },
     "execution_count": 7,
     "metadata": {},
     "output_type": "execute_result"
    }
   ],
   "source": [
    "lb = LabelBinarizer()\n",
    "\n",
    "lb.fit_transform(data['party'])"
   ]
  },
  {
   "cell_type": "markdown",
   "metadata": {},
   "source": [
    "Transformation Mapping\n",
    "======================\n",
    "\n",
    "Map the Columns to Transformations\n",
    "----------------------------------\n",
    "\n",
    "The mapper takes a list of tuples. The first element of each tuple is a\n",
    "column name from the pandas DataFrame, or a list containing one or\n",
    "multiple columns (we will see an example with multiple columns later).\n",
    "The second element is an object which will perform the transformation\n",
    "which will be applied to that column. The third one is optional and is a\n",
    "dictionary containing the transformation options, if applicable (see\n",
    "\"custom column names for transformed features\" below).\n",
    "\n",
    "Let's see an example:"
   ]
  },
  {
   "cell_type": "code",
   "execution_count": 8,
   "metadata": {},
   "outputs": [],
   "source": [
    "mapper = DataFrameMapper([\n",
    "    ('leader', LabelBinarizer()),\n",
    "    ('party', LabelBinarizer()),\n",
    "    ('polling', None),\n",
    "    (['seats'], StandardScaler()),\n",
    "    ('leaning', LabelEncoder())\n",
    "], df_out=True)"
   ]
  },
  {
   "cell_type": "code",
   "execution_count": 9,
   "metadata": {},
   "outputs": [
    {
     "data": {
      "text/plain": [
       "DataFrameMapper(default=False, df_out=True,\n",
       "                features=[('leader',\n",
       "                           LabelBinarizer(neg_label=0, pos_label=1,\n",
       "                                          sparse_output=False)),\n",
       "                          ('party',\n",
       "                           LabelBinarizer(neg_label=0, pos_label=1,\n",
       "                                          sparse_output=False)),\n",
       "                          ('polling', None),\n",
       "                          (['seats'],\n",
       "                           StandardScaler(copy=True, with_mean=True,\n",
       "                                          with_std=True)),\n",
       "                          ('leaning', LabelEncoder())],\n",
       "                input_df=False, sparse=False)"
      ]
     },
     "execution_count": 9,
     "metadata": {},
     "output_type": "execute_result"
    }
   ],
   "source": [
    "mapper.fit(data)"
   ]
  },
  {
   "cell_type": "code",
   "execution_count": 10,
   "metadata": {},
   "outputs": [
    {
     "data": {
      "text/html": [
       "<div>\n",
       "<style scoped>\n",
       "    .dataframe tbody tr th:only-of-type {\n",
       "        vertical-align: middle;\n",
       "    }\n",
       "\n",
       "    .dataframe tbody tr th {\n",
       "        vertical-align: top;\n",
       "    }\n",
       "\n",
       "    .dataframe thead th {\n",
       "        text-align: right;\n",
       "    }\n",
       "</style>\n",
       "<table border=\"1\" class=\"dataframe\">\n",
       "  <thead>\n",
       "    <tr style=\"text-align: right;\">\n",
       "      <th></th>\n",
       "      <th>leader_Andrew Scheer</th>\n",
       "      <th>leader_Elizabeth May</th>\n",
       "      <th>leader_Jagmeet Singh</th>\n",
       "      <th>leader_Justin Trudeau</th>\n",
       "      <th>party_Conservative</th>\n",
       "      <th>party_Green</th>\n",
       "      <th>party_Liberal</th>\n",
       "      <th>party_NDP</th>\n",
       "      <th>polling</th>\n",
       "      <th>seats</th>\n",
       "      <th>leaning</th>\n",
       "    </tr>\n",
       "  </thead>\n",
       "  <tbody>\n",
       "    <tr>\n",
       "      <th>0</th>\n",
       "      <td>0</td>\n",
       "      <td>0</td>\n",
       "      <td>0</td>\n",
       "      <td>1</td>\n",
       "      <td>0</td>\n",
       "      <td>0</td>\n",
       "      <td>1</td>\n",
       "      <td>0</td>\n",
       "      <td>34.1</td>\n",
       "      <td>1.182464</td>\n",
       "      <td>0</td>\n",
       "    </tr>\n",
       "    <tr>\n",
       "      <th>1</th>\n",
       "      <td>1</td>\n",
       "      <td>0</td>\n",
       "      <td>0</td>\n",
       "      <td>0</td>\n",
       "      <td>1</td>\n",
       "      <td>0</td>\n",
       "      <td>0</td>\n",
       "      <td>0</td>\n",
       "      <td>34.4</td>\n",
       "      <td>0.795224</td>\n",
       "      <td>1</td>\n",
       "    </tr>\n",
       "    <tr>\n",
       "      <th>2</th>\n",
       "      <td>0</td>\n",
       "      <td>0</td>\n",
       "      <td>1</td>\n",
       "      <td>0</td>\n",
       "      <td>0</td>\n",
       "      <td>0</td>\n",
       "      <td>0</td>\n",
       "      <td>1</td>\n",
       "      <td>13.8</td>\n",
       "      <td>-0.905864</td>\n",
       "      <td>0</td>\n",
       "    </tr>\n",
       "    <tr>\n",
       "      <th>3</th>\n",
       "      <td>0</td>\n",
       "      <td>1</td>\n",
       "      <td>0</td>\n",
       "      <td>0</td>\n",
       "      <td>0</td>\n",
       "      <td>1</td>\n",
       "      <td>0</td>\n",
       "      <td>0</td>\n",
       "      <td>9.5</td>\n",
       "      <td>-1.071824</td>\n",
       "      <td>0</td>\n",
       "    </tr>\n",
       "  </tbody>\n",
       "</table>\n",
       "</div>"
      ],
      "text/plain": [
       "   leader_Andrew Scheer  leader_Elizabeth May  leader_Jagmeet Singh  \\\n",
       "0                     0                     0                     0   \n",
       "1                     1                     0                     0   \n",
       "2                     0                     0                     1   \n",
       "3                     0                     1                     0   \n",
       "\n",
       "   leader_Justin Trudeau  party_Conservative  party_Green  party_Liberal  \\\n",
       "0                      1                   0            0              1   \n",
       "1                      0                   1            0              0   \n",
       "2                      0                   0            0              0   \n",
       "3                      0                   0            1              0   \n",
       "\n",
       "   party_NDP  polling     seats  leaning  \n",
       "0          0     34.1  1.182464        0  \n",
       "1          0     34.4  0.795224        1  \n",
       "2          1     13.8 -0.905864        0  \n",
       "3          0      9.5 -1.071824        0  "
      ]
     },
     "execution_count": 10,
     "metadata": {},
     "output_type": "execute_result"
    }
   ],
   "source": [
    "mapper.transform(data)"
   ]
  },
  {
   "cell_type": "code",
   "execution_count": 11,
   "metadata": {},
   "outputs": [
    {
     "data": {
      "text/plain": [
       "array(['Left', 'Right'], dtype=object)"
      ]
     },
     "execution_count": 11,
     "metadata": {},
     "output_type": "execute_result"
    }
   ],
   "source": [
    "mapper.features[-1][1].classes_"
   ]
  },
  {
   "cell_type": "code",
   "execution_count": 12,
   "metadata": {},
   "outputs": [
    {
     "data": {
      "text/plain": [
       "{'leader': ['Justin Trudeau'],\n",
       " 'party': ['Liberal'],\n",
       " 'polling': [34.1],\n",
       " 'seats': [167],\n",
       " 'leaning': ['Left']}"
      ]
     },
     "execution_count": 12,
     "metadata": {},
     "output_type": "execute_result"
    }
   ],
   "source": [
    "data[0:1].to_dict(orient='list')"
   ]
  },
  {
   "cell_type": "code",
   "execution_count": 13,
   "metadata": {},
   "outputs": [],
   "source": [
    "new = pd.DataFrame({\n",
    "    'leader': ['Maxime Bernier'],\n",
    "    'party': ['PPC'],\n",
    "    'polling': [2.6],\n",
    "    'seats': [0],\n",
    "    'leaning': ['Right']\n",
    "})"
   ]
  },
  {
   "cell_type": "code",
   "execution_count": 14,
   "metadata": {},
   "outputs": [
    {
     "data": {
      "text/html": [
       "<div>\n",
       "<style scoped>\n",
       "    .dataframe tbody tr th:only-of-type {\n",
       "        vertical-align: middle;\n",
       "    }\n",
       "\n",
       "    .dataframe tbody tr th {\n",
       "        vertical-align: top;\n",
       "    }\n",
       "\n",
       "    .dataframe thead th {\n",
       "        text-align: right;\n",
       "    }\n",
       "</style>\n",
       "<table border=\"1\" class=\"dataframe\">\n",
       "  <thead>\n",
       "    <tr style=\"text-align: right;\">\n",
       "      <th></th>\n",
       "      <th>leader_Andrew Scheer</th>\n",
       "      <th>leader_Elizabeth May</th>\n",
       "      <th>leader_Jagmeet Singh</th>\n",
       "      <th>leader_Justin Trudeau</th>\n",
       "      <th>party_Conservative</th>\n",
       "      <th>party_Green</th>\n",
       "      <th>party_Liberal</th>\n",
       "      <th>party_NDP</th>\n",
       "      <th>polling</th>\n",
       "      <th>seats</th>\n",
       "      <th>leaning</th>\n",
       "    </tr>\n",
       "  </thead>\n",
       "  <tbody>\n",
       "    <tr>\n",
       "      <th>0</th>\n",
       "      <td>0</td>\n",
       "      <td>0</td>\n",
       "      <td>0</td>\n",
       "      <td>0</td>\n",
       "      <td>0</td>\n",
       "      <td>0</td>\n",
       "      <td>0</td>\n",
       "      <td>0</td>\n",
       "      <td>2.6</td>\n",
       "      <td>-1.127144</td>\n",
       "      <td>1</td>\n",
       "    </tr>\n",
       "  </tbody>\n",
       "</table>\n",
       "</div>"
      ],
      "text/plain": [
       "   leader_Andrew Scheer  leader_Elizabeth May  leader_Jagmeet Singh  \\\n",
       "0                     0                     0                     0   \n",
       "\n",
       "   leader_Justin Trudeau  party_Conservative  party_Green  party_Liberal  \\\n",
       "0                      0                   0            0              0   \n",
       "\n",
       "   party_NDP  polling     seats  leaning  \n",
       "0          0      2.6 -1.127144        1  "
      ]
     },
     "execution_count": 14,
     "metadata": {},
     "output_type": "execute_result"
    }
   ],
   "source": [
    "mapper.transform(new)"
   ]
  },
  {
   "cell_type": "markdown",
   "metadata": {},
   "source": [
    "The difference between specifying the column selector as `'column'` (as\n",
    "a simple string) and `['column']` (as a list with one element) is the\n",
    "shape of the array that is passed to the transformer. In the first case,\n",
    "a one dimensional array will be passed, while in the second case it will\n",
    "be a 2-dimensional array with one column, i.e. a column vector.\n",
    "\n",
    "Be aware that some transformers expect a 1-dimensional input (the\n",
    "label-oriented ones) while some others, like `OneHotEncoder` or\n",
    "`Imputer`, expect 2-dimensional input, with the shape\n",
    "`[n_samples, n_features]`.\n",
    "\n",
    "Test the Transformation\n",
    "-----------------------\n",
    "\n",
    "We can use the `fit_transform` shortcut to both fit the model and see\n",
    "what transformed data looks like. In this and the other examples, output\n",
    "is rounded to two digits with `np.round` to account for rounding errors\n",
    "on different hardware:"
   ]
  },
  {
   "cell_type": "markdown",
   "metadata": {},
   "source": [
    "Output features names\n",
    "---------------------\n",
    "\n",
    "In certain cases, like when studying the feature importances for some\n",
    "model, we want to be able to associate the original features to the ones\n",
    "generated by the dataframe mapper. We can do so by inspecting the\n",
    "automatically generated `transformed_names_` attribute of the mapper\n",
    "after transformation:"
   ]
  },
  {
   "cell_type": "code",
   "execution_count": 15,
   "metadata": {},
   "outputs": [
    {
     "data": {
      "text/plain": [
       "['leader_Andrew Scheer',\n",
       " 'leader_Elizabeth May',\n",
       " 'leader_Jagmeet Singh',\n",
       " 'leader_Justin Trudeau',\n",
       " 'party_Conservative',\n",
       " 'party_Green',\n",
       " 'party_Liberal',\n",
       " 'party_NDP',\n",
       " 'polling',\n",
       " 'seats',\n",
       " 'leaning']"
      ]
     },
     "execution_count": 15,
     "metadata": {},
     "output_type": "execute_result"
    }
   ],
   "source": [
    "mapper.transformed_names_"
   ]
  },
  {
   "cell_type": "markdown",
   "metadata": {},
   "source": [
    "Custom column names for transformed features\n",
    "--------------------------------------------\n",
    "\n",
    "We can provide a custom name for the transformed features, to be used\n",
    "instead of the automatically generated one, by specifying it as the\n",
    "third argument of the feature definition:"
   ]
  },
  {
   "cell_type": "code",
   "execution_count": 16,
   "metadata": {},
   "outputs": [
    {
     "data": {
      "text/html": [
       "<div>\n",
       "<style scoped>\n",
       "    .dataframe tbody tr th:only-of-type {\n",
       "        vertical-align: middle;\n",
       "    }\n",
       "\n",
       "    .dataframe tbody tr th {\n",
       "        vertical-align: top;\n",
       "    }\n",
       "\n",
       "    .dataframe thead th {\n",
       "        text-align: right;\n",
       "    }\n",
       "</style>\n",
       "<table border=\"1\" class=\"dataframe\">\n",
       "  <thead>\n",
       "    <tr style=\"text-align: right;\">\n",
       "      <th></th>\n",
       "      <th>name_Andrew Scheer</th>\n",
       "      <th>name_Elizabeth May</th>\n",
       "      <th>name_Jagmeet Singh</th>\n",
       "      <th>name_Justin Trudeau</th>\n",
       "      <th>polling</th>\n",
       "    </tr>\n",
       "  </thead>\n",
       "  <tbody>\n",
       "    <tr>\n",
       "      <th>0</th>\n",
       "      <td>0</td>\n",
       "      <td>0</td>\n",
       "      <td>0</td>\n",
       "      <td>1</td>\n",
       "      <td>34.1</td>\n",
       "    </tr>\n",
       "    <tr>\n",
       "      <th>1</th>\n",
       "      <td>1</td>\n",
       "      <td>0</td>\n",
       "      <td>0</td>\n",
       "      <td>0</td>\n",
       "      <td>34.4</td>\n",
       "    </tr>\n",
       "    <tr>\n",
       "      <th>2</th>\n",
       "      <td>0</td>\n",
       "      <td>0</td>\n",
       "      <td>1</td>\n",
       "      <td>0</td>\n",
       "      <td>13.8</td>\n",
       "    </tr>\n",
       "    <tr>\n",
       "      <th>3</th>\n",
       "      <td>0</td>\n",
       "      <td>1</td>\n",
       "      <td>0</td>\n",
       "      <td>0</td>\n",
       "      <td>9.5</td>\n",
       "    </tr>\n",
       "  </tbody>\n",
       "</table>\n",
       "</div>"
      ],
      "text/plain": [
       "   name_Andrew Scheer  name_Elizabeth May  name_Jagmeet Singh  \\\n",
       "0                   0                   0                   0   \n",
       "1                   1                   0                   0   \n",
       "2                   0                   0                   1   \n",
       "3                   0                   1                   0   \n",
       "\n",
       "   name_Justin Trudeau  polling  \n",
       "0                    1     34.1  \n",
       "1                    0     34.4  \n",
       "2                    0     13.8  \n",
       "3                    0      9.5  "
      ]
     },
     "execution_count": 16,
     "metadata": {},
     "output_type": "execute_result"
    }
   ],
   "source": [
    "mapper2 = DataFrameMapper([\n",
    "    ('leader', LabelBinarizer(), {'alias': 'name'}),\n",
    "    ('polling', None),\n",
    "], df_out=True)\n",
    "\n",
    "mapper2.fit_transform(data)"
   ]
  },
  {
   "cell_type": "code",
   "execution_count": 17,
   "metadata": {},
   "outputs": [
    {
     "data": {
      "text/plain": [
       "['leader_Andrew Scheer',\n",
       " 'leader_Elizabeth May',\n",
       " 'leader_Jagmeet Singh',\n",
       " 'leader_Justin Trudeau',\n",
       " 'party_Conservative',\n",
       " 'party_Green',\n",
       " 'party_Liberal',\n",
       " 'party_NDP',\n",
       " 'polling',\n",
       " 'seats',\n",
       " 'leaning']"
      ]
     },
     "execution_count": 17,
     "metadata": {},
     "output_type": "execute_result"
    }
   ],
   "source": [
    "mapper3 = DataFrameMapper([\n",
    "    ('leader', LabelBinarizer(), {'alias': 'name'}),\n",
    "    ('polling', None),\n",
    "])\n",
    "\n",
    "mapper3.fit_transform(data)\n",
    "\n",
    "mapper.transformed_names_"
   ]
  },
  {
   "cell_type": "code",
   "execution_count": 18,
   "metadata": {},
   "outputs": [
    {
     "data": {
      "text/plain": [
       "Index(['leader', 'party', 'polling', 'seats', 'leaning'], dtype='object')"
      ]
     },
     "execution_count": 18,
     "metadata": {},
     "output_type": "execute_result"
    }
   ],
   "source": [
    "data.columns"
   ]
  },
  {
   "cell_type": "markdown",
   "metadata": {},
   "source": [
    "Passing Series/DataFrames to the transformers\n",
    "---------------------------------------------\n",
    "\n",
    "By default the transformers are passed a numpy array of the selected\n",
    "columns as input. This is because `sklearn` transformers are\n",
    "historically designed to work with numpy arrays, not with pandas\n",
    "dataframes, even though their basic indexing interfaces are similar.\n",
    "\n",
    "However we can pass a dataframe/series to the transformers to handle\n",
    "custom cases initializing the dataframe mapper with `input_df=True`:"
   ]
  },
  {
   "cell_type": "code",
   "execution_count": 22,
   "metadata": {},
   "outputs": [
    {
     "data": {
      "text/plain": [
       "0    18\n",
       "1    26\n",
       "2    16\n",
       "Name: dates, dtype: int64"
      ]
     },
     "execution_count": 22,
     "metadata": {},
     "output_type": "execute_result"
    }
   ],
   "source": [
    "dates = pd.DataFrame({\n",
    "    'dates': ['2019-09-18', '2019-08-26', '2019-09-16']\n",
    "})\n",
    "\n",
    "dates['dates'] = dates['dates'].apply(pd.to_datetime)\n",
    "\n",
    "dates['dates'].dt.day"
   ]
  },
  {
   "cell_type": "code",
   "execution_count": 23,
   "metadata": {},
   "outputs": [],
   "source": [
    "from sklearn.base import TransformerMixin\n",
    "\n",
    "class DateEncoder(TransformerMixin):\n",
    "    def fit(self, X, y=None):\n",
    "        return self\n",
    "\n",
    "    def transform(self, X):\n",
    "        dt = X.dt\n",
    "        return pd.concat([dt.year, dt.month, dt.day], axis=1)"
   ]
  },
  {
   "cell_type": "code",
   "execution_count": 24,
   "metadata": {},
   "outputs": [
    {
     "data": {
      "text/html": [
       "<div>\n",
       "<style scoped>\n",
       "    .dataframe tbody tr th:only-of-type {\n",
       "        vertical-align: middle;\n",
       "    }\n",
       "\n",
       "    .dataframe tbody tr th {\n",
       "        vertical-align: top;\n",
       "    }\n",
       "\n",
       "    .dataframe thead th {\n",
       "        text-align: right;\n",
       "    }\n",
       "</style>\n",
       "<table border=\"1\" class=\"dataframe\">\n",
       "  <thead>\n",
       "    <tr style=\"text-align: right;\">\n",
       "      <th></th>\n",
       "      <th>dates_0</th>\n",
       "      <th>dates_1</th>\n",
       "      <th>dates_2</th>\n",
       "    </tr>\n",
       "  </thead>\n",
       "  <tbody>\n",
       "    <tr>\n",
       "      <th>0</th>\n",
       "      <td>2019</td>\n",
       "      <td>9</td>\n",
       "      <td>18</td>\n",
       "    </tr>\n",
       "    <tr>\n",
       "      <th>1</th>\n",
       "      <td>2019</td>\n",
       "      <td>8</td>\n",
       "      <td>26</td>\n",
       "    </tr>\n",
       "    <tr>\n",
       "      <th>2</th>\n",
       "      <td>2019</td>\n",
       "      <td>9</td>\n",
       "      <td>16</td>\n",
       "    </tr>\n",
       "  </tbody>\n",
       "</table>\n",
       "</div>"
      ],
      "text/plain": [
       "   dates_0  dates_1  dates_2\n",
       "0     2019        9       18\n",
       "1     2019        8       26\n",
       "2     2019        9       16"
      ]
     },
     "execution_count": 24,
     "metadata": {},
     "output_type": "execute_result"
    }
   ],
   "source": [
    "mapperd = DataFrameMapper([\n",
    "    ('dates', DateEncoder())\n",
    "], input_df=True, df_out=True)\n",
    "\n",
    "mapperd.fit_transform(dates)"
   ]
  },
  {
   "cell_type": "code",
   "execution_count": 25,
   "metadata": {},
   "outputs": [
    {
     "data": {
      "text/html": [
       "<div>\n",
       "<style scoped>\n",
       "    .dataframe tbody tr th:only-of-type {\n",
       "        vertical-align: middle;\n",
       "    }\n",
       "\n",
       "    .dataframe tbody tr th {\n",
       "        vertical-align: top;\n",
       "    }\n",
       "\n",
       "    .dataframe thead th {\n",
       "        text-align: right;\n",
       "    }\n",
       "</style>\n",
       "<table border=\"1\" class=\"dataframe\">\n",
       "  <thead>\n",
       "    <tr style=\"text-align: right;\">\n",
       "      <th></th>\n",
       "      <th>dates_0</th>\n",
       "      <th>dates_1</th>\n",
       "      <th>dates_2</th>\n",
       "    </tr>\n",
       "  </thead>\n",
       "  <tbody>\n",
       "    <tr>\n",
       "      <th>0</th>\n",
       "      <td>2019</td>\n",
       "      <td>9</td>\n",
       "      <td>18</td>\n",
       "    </tr>\n",
       "    <tr>\n",
       "      <th>1</th>\n",
       "      <td>2019</td>\n",
       "      <td>8</td>\n",
       "      <td>26</td>\n",
       "    </tr>\n",
       "    <tr>\n",
       "      <th>2</th>\n",
       "      <td>2019</td>\n",
       "      <td>9</td>\n",
       "      <td>16</td>\n",
       "    </tr>\n",
       "  </tbody>\n",
       "</table>\n",
       "</div>"
      ],
      "text/plain": [
       "   dates_0  dates_1  dates_2\n",
       "0     2019        9       18\n",
       "1     2019        8       26\n",
       "2     2019        9       16"
      ]
     },
     "execution_count": 25,
     "metadata": {},
     "output_type": "execute_result"
    }
   ],
   "source": [
    "mapperd = DataFrameMapper([\n",
    "    ('dates', DateEncoder(), {'input_df': True})\n",
    "], df_out=True)\n",
    "\n",
    "mapperd.fit_transform(dates)"
   ]
  },
  {
   "cell_type": "code",
   "execution_count": 26,
   "metadata": {},
   "outputs": [],
   "source": [
    "from sklearn.preprocessing import FunctionTransformer"
   ]
  },
  {
   "cell_type": "code",
   "execution_count": 27,
   "metadata": {},
   "outputs": [
    {
     "data": {
      "text/html": [
       "<div>\n",
       "<style scoped>\n",
       "    .dataframe tbody tr th:only-of-type {\n",
       "        vertical-align: middle;\n",
       "    }\n",
       "\n",
       "    .dataframe tbody tr th {\n",
       "        vertical-align: top;\n",
       "    }\n",
       "\n",
       "    .dataframe thead th {\n",
       "        text-align: right;\n",
       "    }\n",
       "</style>\n",
       "<table border=\"1\" class=\"dataframe\">\n",
       "  <thead>\n",
       "    <tr style=\"text-align: right;\">\n",
       "      <th></th>\n",
       "      <th>leader</th>\n",
       "      <th>party</th>\n",
       "      <th>polling</th>\n",
       "      <th>seats</th>\n",
       "      <th>leaning</th>\n",
       "    </tr>\n",
       "  </thead>\n",
       "  <tbody>\n",
       "    <tr>\n",
       "      <th>0</th>\n",
       "      <td>Justin Trudeau</td>\n",
       "      <td>Liberal</td>\n",
       "      <td>34.1</td>\n",
       "      <td>167</td>\n",
       "      <td>Left</td>\n",
       "    </tr>\n",
       "    <tr>\n",
       "      <th>1</th>\n",
       "      <td>Andrew Scheer</td>\n",
       "      <td>Conservative</td>\n",
       "      <td>34.4</td>\n",
       "      <td>139</td>\n",
       "      <td>Right</td>\n",
       "    </tr>\n",
       "    <tr>\n",
       "      <th>2</th>\n",
       "      <td>Jagmeet Singh</td>\n",
       "      <td>NDP</td>\n",
       "      <td>13.8</td>\n",
       "      <td>16</td>\n",
       "      <td>Left</td>\n",
       "    </tr>\n",
       "    <tr>\n",
       "      <th>3</th>\n",
       "      <td>Elizabeth May</td>\n",
       "      <td>Green</td>\n",
       "      <td>9.5</td>\n",
       "      <td>4</td>\n",
       "      <td>Left</td>\n",
       "    </tr>\n",
       "  </tbody>\n",
       "</table>\n",
       "</div>"
      ],
      "text/plain": [
       "           leader         party  polling  seats leaning\n",
       "0  Justin Trudeau       Liberal     34.1    167    Left\n",
       "1   Andrew Scheer  Conservative     34.4    139   Right\n",
       "2   Jagmeet Singh           NDP     13.8     16    Left\n",
       "3   Elizabeth May         Green      9.5      4    Left"
      ]
     },
     "execution_count": 27,
     "metadata": {},
     "output_type": "execute_result"
    }
   ],
   "source": [
    "data.head()"
   ]
  },
  {
   "cell_type": "code",
   "execution_count": 28,
   "metadata": {},
   "outputs": [],
   "source": [
    "def convert_number_to_percent(x):\n",
    "    return x / 100"
   ]
  },
  {
   "cell_type": "code",
   "execution_count": 29,
   "metadata": {},
   "outputs": [],
   "source": [
    "import warnings\n",
    "warnings.simplefilter(action='ignore', category=FutureWarning)"
   ]
  },
  {
   "cell_type": "code",
   "execution_count": 30,
   "metadata": {},
   "outputs": [
    {
     "data": {
      "text/html": [
       "<div>\n",
       "<style scoped>\n",
       "    .dataframe tbody tr th:only-of-type {\n",
       "        vertical-align: middle;\n",
       "    }\n",
       "\n",
       "    .dataframe tbody tr th {\n",
       "        vertical-align: top;\n",
       "    }\n",
       "\n",
       "    .dataframe thead th {\n",
       "        text-align: right;\n",
       "    }\n",
       "</style>\n",
       "<table border=\"1\" class=\"dataframe\">\n",
       "  <thead>\n",
       "    <tr style=\"text-align: right;\">\n",
       "      <th></th>\n",
       "      <th>polling</th>\n",
       "      <th>seats</th>\n",
       "    </tr>\n",
       "  </thead>\n",
       "  <tbody>\n",
       "    <tr>\n",
       "      <th>0</th>\n",
       "      <td>0.341</td>\n",
       "      <td>1.182464</td>\n",
       "    </tr>\n",
       "    <tr>\n",
       "      <th>1</th>\n",
       "      <td>0.344</td>\n",
       "      <td>0.795224</td>\n",
       "    </tr>\n",
       "    <tr>\n",
       "      <th>2</th>\n",
       "      <td>0.138</td>\n",
       "      <td>-0.905864</td>\n",
       "    </tr>\n",
       "    <tr>\n",
       "      <th>3</th>\n",
       "      <td>0.095</td>\n",
       "      <td>-1.071824</td>\n",
       "    </tr>\n",
       "  </tbody>\n",
       "</table>\n",
       "</div>"
      ],
      "text/plain": [
       "   polling     seats\n",
       "0    0.341  1.182464\n",
       "1    0.344  0.795224\n",
       "2    0.138 -0.905864\n",
       "3    0.095 -1.071824"
      ]
     },
     "execution_count": 30,
     "metadata": {},
     "output_type": "execute_result"
    }
   ],
   "source": [
    "mapper = DataFrameMapper([\n",
    "    (['polling'], FunctionTransformer(lambda x: x / 100)),\n",
    "    (['seats'], StandardScaler())\n",
    "], df_out=True)\n",
    "\n",
    "mapper.fit_transform(data)"
   ]
  },
  {
   "cell_type": "markdown",
   "metadata": {},
   "source": [
    "Multiple transformers for the same column\n",
    "-----------------------------------------\n",
    "\n",
    "Multiple transformers can be applied to the same column specifying them\n",
    "in a list:"
   ]
  },
  {
   "cell_type": "code",
   "execution_count": 31,
   "metadata": {},
   "outputs": [
    {
     "data": {
      "text/html": [
       "<div>\n",
       "<style scoped>\n",
       "    .dataframe tbody tr th:only-of-type {\n",
       "        vertical-align: middle;\n",
       "    }\n",
       "\n",
       "    .dataframe tbody tr th {\n",
       "        vertical-align: top;\n",
       "    }\n",
       "\n",
       "    .dataframe thead th {\n",
       "        text-align: right;\n",
       "    }\n",
       "</style>\n",
       "<table border=\"1\" class=\"dataframe\">\n",
       "  <thead>\n",
       "    <tr style=\"text-align: right;\">\n",
       "      <th></th>\n",
       "      <th>age</th>\n",
       "      <th>hr</th>\n",
       "    </tr>\n",
       "  </thead>\n",
       "  <tbody>\n",
       "    <tr>\n",
       "      <th>0</th>\n",
       "      <td>24.0</td>\n",
       "      <td>13</td>\n",
       "    </tr>\n",
       "    <tr>\n",
       "      <th>1</th>\n",
       "      <td>NaN</td>\n",
       "      <td>16</td>\n",
       "    </tr>\n",
       "    <tr>\n",
       "      <th>2</th>\n",
       "      <td>27.0</td>\n",
       "      <td>24</td>\n",
       "    </tr>\n",
       "    <tr>\n",
       "      <th>3</th>\n",
       "      <td>31.0</td>\n",
       "      <td>9</td>\n",
       "    </tr>\n",
       "    <tr>\n",
       "      <th>4</th>\n",
       "      <td>36.0</td>\n",
       "      <td>8</td>\n",
       "    </tr>\n",
       "    <tr>\n",
       "      <th>5</th>\n",
       "      <td>28.0</td>\n",
       "      <td>17</td>\n",
       "    </tr>\n",
       "  </tbody>\n",
       "</table>\n",
       "</div>"
      ],
      "text/plain": [
       "    age  hr\n",
       "0  24.0  13\n",
       "1   NaN  16\n",
       "2  27.0  24\n",
       "3  31.0   9\n",
       "4  36.0   8\n",
       "5  28.0  17"
      ]
     },
     "execution_count": 31,
     "metadata": {},
     "output_type": "execute_result"
    }
   ],
   "source": [
    "baseball = pd.DataFrame({\n",
    "    'age': [24, None, 27, 31, 36, 28],\n",
    "    'hr': [13, 16, 24, 9, 8, 17]\n",
    "})\n",
    "\n",
    "baseball"
   ]
  },
  {
   "cell_type": "code",
   "execution_count": 32,
   "metadata": {},
   "outputs": [
    {
     "data": {
      "text/plain": [
       "array([[24. ],\n",
       "       [29.2],\n",
       "       [27. ],\n",
       "       [31. ],\n",
       "       [36. ],\n",
       "       [28. ]])"
      ]
     },
     "execution_count": 32,
     "metadata": {},
     "output_type": "execute_result"
    }
   ],
   "source": [
    "si = SimpleImputer()\n",
    "si.fit_transform(baseball[['age']])"
   ]
  },
  {
   "cell_type": "code",
   "execution_count": 33,
   "metadata": {},
   "outputs": [
    {
     "data": {
      "text/html": [
       "<div>\n",
       "<style scoped>\n",
       "    .dataframe tbody tr th:only-of-type {\n",
       "        vertical-align: middle;\n",
       "    }\n",
       "\n",
       "    .dataframe tbody tr th {\n",
       "        vertical-align: top;\n",
       "    }\n",
       "\n",
       "    .dataframe thead th {\n",
       "        text-align: right;\n",
       "    }\n",
       "</style>\n",
       "<table border=\"1\" class=\"dataframe\">\n",
       "  <thead>\n",
       "    <tr style=\"text-align: right;\">\n",
       "      <th></th>\n",
       "      <th>age_x0</th>\n",
       "      <th>age_x0^2</th>\n",
       "    </tr>\n",
       "  </thead>\n",
       "  <tbody>\n",
       "    <tr>\n",
       "      <th>0</th>\n",
       "      <td>-1.399793</td>\n",
       "      <td>-1.290961</td>\n",
       "    </tr>\n",
       "    <tr>\n",
       "      <th>1</th>\n",
       "      <td>0.000000</td>\n",
       "      <td>-0.061339</td>\n",
       "    </tr>\n",
       "    <tr>\n",
       "      <th>2</th>\n",
       "      <td>-0.592220</td>\n",
       "      <td>-0.610899</td>\n",
       "    </tr>\n",
       "    <tr>\n",
       "      <th>3</th>\n",
       "      <td>0.484544</td>\n",
       "      <td>0.420304</td>\n",
       "    </tr>\n",
       "    <tr>\n",
       "      <th>4</th>\n",
       "      <td>1.830498</td>\n",
       "      <td>1.909327</td>\n",
       "    </tr>\n",
       "    <tr>\n",
       "      <th>5</th>\n",
       "      <td>-0.323029</td>\n",
       "      <td>-0.366433</td>\n",
       "    </tr>\n",
       "  </tbody>\n",
       "</table>\n",
       "</div>"
      ],
      "text/plain": [
       "     age_x0  age_x0^2\n",
       "0 -1.399793 -1.290961\n",
       "1  0.000000 -0.061339\n",
       "2 -0.592220 -0.610899\n",
       "3  0.484544  0.420304\n",
       "4  1.830498  1.909327\n",
       "5 -0.323029 -0.366433"
      ]
     },
     "execution_count": 33,
     "metadata": {},
     "output_type": "execute_result"
    }
   ],
   "source": [
    "from sklearn.preprocessing import PolynomialFeatures\n",
    "\n",
    "mapperb = DataFrameMapper([\n",
    "    (['age'], [\n",
    "        SimpleImputer(strategy='mean'), \n",
    "        PolynomialFeatures(include_bias=False), \n",
    "        StandardScaler()\n",
    "    ])\n",
    "], df_out=True)\n",
    "\n",
    "mapperb.fit_transform(baseball)"
   ]
  },
  {
   "cell_type": "markdown",
   "metadata": {},
   "source": [
    "Columns that don't need any transformation\n",
    "------------------------------------------\n",
    "\n",
    "Only columns that are listed in the DataFrameMapper are kept. To keep a\n",
    "column but don't apply any transformation to it, use None as\n",
    "transformer:"
   ]
  },
  {
   "cell_type": "code",
   "execution_count": 34,
   "metadata": {},
   "outputs": [
    {
     "data": {
      "text/html": [
       "<div>\n",
       "<style scoped>\n",
       "    .dataframe tbody tr th:only-of-type {\n",
       "        vertical-align: middle;\n",
       "    }\n",
       "\n",
       "    .dataframe tbody tr th {\n",
       "        vertical-align: top;\n",
       "    }\n",
       "\n",
       "    .dataframe thead th {\n",
       "        text-align: right;\n",
       "    }\n",
       "</style>\n",
       "<table border=\"1\" class=\"dataframe\">\n",
       "  <thead>\n",
       "    <tr style=\"text-align: right;\">\n",
       "      <th></th>\n",
       "      <th>age_x0</th>\n",
       "      <th>age_x0^2</th>\n",
       "      <th>hr</th>\n",
       "    </tr>\n",
       "  </thead>\n",
       "  <tbody>\n",
       "    <tr>\n",
       "      <th>0</th>\n",
       "      <td>-1.399793</td>\n",
       "      <td>-1.290961</td>\n",
       "      <td>13</td>\n",
       "    </tr>\n",
       "    <tr>\n",
       "      <th>1</th>\n",
       "      <td>0.000000</td>\n",
       "      <td>-0.061339</td>\n",
       "      <td>16</td>\n",
       "    </tr>\n",
       "    <tr>\n",
       "      <th>2</th>\n",
       "      <td>-0.592220</td>\n",
       "      <td>-0.610899</td>\n",
       "      <td>24</td>\n",
       "    </tr>\n",
       "    <tr>\n",
       "      <th>3</th>\n",
       "      <td>0.484544</td>\n",
       "      <td>0.420304</td>\n",
       "      <td>9</td>\n",
       "    </tr>\n",
       "    <tr>\n",
       "      <th>4</th>\n",
       "      <td>1.830498</td>\n",
       "      <td>1.909327</td>\n",
       "      <td>8</td>\n",
       "    </tr>\n",
       "    <tr>\n",
       "      <th>5</th>\n",
       "      <td>-0.323029</td>\n",
       "      <td>-0.366433</td>\n",
       "      <td>17</td>\n",
       "    </tr>\n",
       "  </tbody>\n",
       "</table>\n",
       "</div>"
      ],
      "text/plain": [
       "     age_x0  age_x0^2  hr\n",
       "0 -1.399793 -1.290961  13\n",
       "1  0.000000 -0.061339  16\n",
       "2 -0.592220 -0.610899  24\n",
       "3  0.484544  0.420304   9\n",
       "4  1.830498  1.909327   8\n",
       "5 -0.323029 -0.366433  17"
      ]
     },
     "execution_count": 34,
     "metadata": {},
     "output_type": "execute_result"
    }
   ],
   "source": [
    "mapperb = DataFrameMapper([\n",
    "    (['age'], [SimpleImputer(strategy='mean'), PolynomialFeatures(include_bias=False), StandardScaler()]),\n",
    "    ('hr', None)\n",
    "], df_out=True)\n",
    "\n",
    "mapperb.fit_transform(baseball)"
   ]
  },
  {
   "cell_type": "markdown",
   "metadata": {},
   "source": [
    "`CategoricalImputer`\n",
    "--------------------\n",
    "\n",
    "Since the `scikit-learn` `Imputer` transformer currently only works with\n",
    "numbers, `sklearn-pandas` provides an equivalent helper transformer that\n",
    "works with strings, substituting null values with the most frequent\n",
    "value in that column. Alternatively, you can specify a fixed value to\n",
    "use."
   ]
  },
  {
   "cell_type": "code",
   "execution_count": 35,
   "metadata": {},
   "outputs": [
    {
     "data": {
      "text/plain": [
       "array(['a', 'b', 'b', 'b', 'b', 'a', 'other'], dtype=object)"
      ]
     },
     "execution_count": 35,
     "metadata": {},
     "output_type": "execute_result"
    }
   ],
   "source": [
    "from sklearn_pandas import CategoricalImputer\n",
    "\n",
    "fake_data = np.array(['a', 'b', 'b', 'b', 'b', 'a', None], dtype=object)\n",
    "fake_data\n",
    "imputer = CategoricalImputer()\n",
    "imputer.fit_transform(fake_data)\n",
    "\n",
    "imputer = CategoricalImputer(strategy='constant', fill_value='other')\n",
    "imputer.fit_transform(fake_data)"
   ]
  },
  {
   "cell_type": "markdown",
   "metadata": {},
   "source": [
    "`FunctionTransformer`\n",
    "---------------------\n",
    "\n",
    "Often one wants to apply simple transformations to data such as\n",
    "`np.log`. `FunctionTransformer` is a simple wrapper that takes any\n",
    "function and applies vectorization so that it can be used as a\n",
    "transformer."
   ]
  },
  {
   "cell_type": "code",
   "execution_count": 36,
   "metadata": {},
   "outputs": [
    {
     "data": {
      "text/plain": [
       "array([[ 100000.],\n",
       "       [  80000.],\n",
       "       [  45000.],\n",
       "       [  56000.],\n",
       "       [ 230000.],\n",
       "       [2700000.],\n",
       "       [  13000.]])"
      ]
     },
     "execution_count": 36,
     "metadata": {},
     "output_type": "execute_result"
    }
   ],
   "source": [
    "from sklearn.preprocessing import FunctionTransformer\n",
    "\n",
    "income = np.array([100_000, 80_000, 45_000, 56_000, 230_000, 2_700_000, 13_000])\n",
    "income\n",
    "\n",
    "StandardScaler().fit_transform(income.reshape(-1, 1))\n",
    "\n",
    "transformer = FunctionTransformer(np.log10, inverse_func=lambda x: 10**x)\n",
    "\n",
    "transformer.fit(income.reshape(-1, 1))\n",
    "tx = transformer.transform(income.reshape(-1, 1))\n",
    "\n",
    "\n",
    "transformer.inverse_transform(tx)"
   ]
  },
  {
   "cell_type": "markdown",
   "metadata": {},
   "source": [
    "### Baseball"
   ]
  },
  {
   "cell_type": "code",
   "execution_count": 38,
   "metadata": {},
   "outputs": [
    {
     "data": {
      "text/plain": [
       "<matplotlib.collections.PathCollection at 0x1a1be2e0b8>"
      ]
     },
     "execution_count": 38,
     "metadata": {},
     "output_type": "execute_result"
    },
    {
     "data": {
      "image/png": "[encoded data removed]",
      "text/plain": [
       "<Figure size 432x288 with 1 Axes>"
      ]
     },
     "metadata": {
      "needs_background": "light"
     },
     "output_type": "display_data"
    }
   ],
   "source": [
    "x = np.random.randint(low=22, high=35, size=100)\n",
    "y = [-((xi - 29)**2) + 30 for xi in x]\n",
    "y = np.random.normal(loc=0, scale=6, size=100) + y\n",
    "y = np.clip(y, a_min=0, a_max=50)\n",
    "\n",
    "%matplotlib inline\n",
    "\n",
    "from matplotlib import pyplot as plt\n",
    "\n",
    "plt.scatter(x, y)"
   ]
  },
  {
   "cell_type": "code",
   "execution_count": 39,
   "metadata": {},
   "outputs": [
    {
     "data": {
      "text/html": [
       "<div>\n",
       "<style scoped>\n",
       "    .dataframe tbody tr th:only-of-type {\n",
       "        vertical-align: middle;\n",
       "    }\n",
       "\n",
       "    .dataframe tbody tr th {\n",
       "        vertical-align: top;\n",
       "    }\n",
       "\n",
       "    .dataframe thead th {\n",
       "        text-align: right;\n",
       "    }\n",
       "</style>\n",
       "<table border=\"1\" class=\"dataframe\">\n",
       "  <thead>\n",
       "    <tr style=\"text-align: right;\">\n",
       "      <th></th>\n",
       "      <th>age</th>\n",
       "      <th>hr</th>\n",
       "    </tr>\n",
       "  </thead>\n",
       "  <tbody>\n",
       "    <tr>\n",
       "      <th>0</th>\n",
       "      <td>32</td>\n",
       "      <td>17.421543</td>\n",
       "    </tr>\n",
       "    <tr>\n",
       "      <th>1</th>\n",
       "      <td>23</td>\n",
       "      <td>0.000000</td>\n",
       "    </tr>\n",
       "    <tr>\n",
       "      <th>2</th>\n",
       "      <td>22</td>\n",
       "      <td>0.000000</td>\n",
       "    </tr>\n",
       "    <tr>\n",
       "      <th>3</th>\n",
       "      <td>34</td>\n",
       "      <td>0.000000</td>\n",
       "    </tr>\n",
       "    <tr>\n",
       "      <th>4</th>\n",
       "      <td>32</td>\n",
       "      <td>16.340217</td>\n",
       "    </tr>\n",
       "  </tbody>\n",
       "</table>\n",
       "</div>"
      ],
      "text/plain": [
       "   age         hr\n",
       "0   32  17.421543\n",
       "1   23   0.000000\n",
       "2   22   0.000000\n",
       "3   34   0.000000\n",
       "4   32  16.340217"
      ]
     },
     "execution_count": 39,
     "metadata": {},
     "output_type": "execute_result"
    }
   ],
   "source": [
    "df = pd.DataFrame({'age': x, 'hr': y})\n",
    "df.head()"
   ]
  },
  {
   "cell_type": "code",
   "execution_count": 40,
   "metadata": {},
   "outputs": [],
   "source": [
    "from sklearn.model_selection import train_test_split"
   ]
  },
  {
   "cell_type": "code",
   "execution_count": 41,
   "metadata": {},
   "outputs": [],
   "source": [
    "target = 'hr'\n",
    "y = df[target]\n",
    "X = df.drop(target, axis=1)\n",
    "\n",
    "X_train, X_test, y_train, y_test = train_test_split(X, y, random_state=42)"
   ]
  },
  {
   "cell_type": "code",
   "execution_count": 42,
   "metadata": {},
   "outputs": [
    {
     "data": {
      "text/plain": [
       "-0.31463626053684957"
      ]
     },
     "execution_count": 42,
     "metadata": {},
     "output_type": "execute_result"
    }
   ],
   "source": [
    "from sklearn.linear_model import LinearRegression\n",
    "\n",
    "model1 = LinearRegression()\n",
    "model1.fit(X_train, y_train)\n",
    "model1.score(X_test, y_test)"
   ]
  },
  {
   "cell_type": "code",
   "execution_count": 43,
   "metadata": {},
   "outputs": [
    {
     "data": {
      "text/plain": [
       "0.5068588293150396"
      ]
     },
     "execution_count": 43,
     "metadata": {},
     "output_type": "execute_result"
    }
   ],
   "source": [
    "# option A\n",
    "mapper = DataFrameMapper([\n",
    "    (['age'], [PolynomialFeatures(include_bias=False), StandardScaler()])\n",
    "])\n",
    "\n",
    "Z_train = mapper.fit_transform(X_train)\n",
    "Z_test = mapper.transform(X_test)\n",
    "\n",
    "model2 = LinearRegression()\n",
    "model2.fit(Z_train, y_train)\n",
    "model2.score(Z_test, y_test)"
   ]
  },
  {
   "cell_type": "code",
   "execution_count": 44,
   "metadata": {},
   "outputs": [
    {
     "data": {
      "text/plain": [
       "[<matplotlib.lines.Line2D at 0x1a1bea5e80>]"
      ]
     },
     "execution_count": 44,
     "metadata": {},
     "output_type": "execute_result"
    },
    {
     "data": {
      "image/png": "[encoded data removed]",
      "text/plain": [
       "<Figure size 432x288 with 1 Axes>"
      ]
     },
     "metadata": {
      "needs_background": "light"
     },
     "output_type": "display_data"
    }
   ],
   "source": [
    "pred = pd.DataFrame({\n",
    "    'yhat': model2.predict(Z_test),\n",
    "    'ytrue': y_test\n",
    "})\n",
    "\n",
    "plt.scatter(pred.ytrue, pred.yhat)\n",
    "plt.plot([0, 50], [0, 50], c='r')\n"
   ]
  },
  {
   "cell_type": "code",
   "execution_count": 45,
   "metadata": {},
   "outputs": [],
   "source": [
    "# option B\n",
    "\n",
    "from sklearn.pipeline import make_pipeline\n",
    "\n",
    "pipe = make_pipeline(\n",
    "    DataFrameMapper([\n",
    "        (['age'], [PolynomialFeatures(include_bias=False), StandardScaler()])\n",
    "    ]), \n",
    "    LinearRegression()\n",
    ")\n",
    "\n",
    "mapper = DataFrameMapper([\n",
    "    (['age'], [PolynomialFeatures(include_bias=False), StandardScaler()])\n",
    "])\n",
    "\n",
    "model = LinearRegression()\n",
    "\n",
    "pipe = make_pipeline(mapper, model)"
   ]
  },
  {
   "cell_type": "code",
   "execution_count": 46,
   "metadata": {},
   "outputs": [
    {
     "data": {
      "text/plain": [
       "array([11.7905539 , 14.75502469, 17.62922542,  4.57456091, 19.93492493,\n",
       "        8.19780298,  8.19780298, 11.7905539 , -4.01875356, 19.93492493,\n",
       "       22.09057548, 22.09057548, 17.62922542, 14.75502469, 26.16276099,\n",
       "       19.93492493,  8.19780298, 14.75502469,  4.57456091,  4.57456091,\n",
       "       -4.01875356, 26.16276099, 11.7905539 , 14.75502469, 22.09057548])"
      ]
     },
     "execution_count": 46,
     "metadata": {},
     "output_type": "execute_result"
    }
   ],
   "source": [
    "pipe.fit(X_train, y_train)\n",
    "pipe.predict(X_test)"
   ]
  },
  {
   "cell_type": "code",
   "execution_count": 47,
   "metadata": {},
   "outputs": [
    {
     "data": {
      "text/plain": [
       "array([8.19780298])"
      ]
     },
     "execution_count": 47,
     "metadata": {},
     "output_type": "execute_result"
    }
   ],
   "source": [
    "pipe.predict(pd.DataFrame({'age': [34]}))"
   ]
  }
 ],
 "metadata": {
  "kernelspec": {
   "display_name": "Python 3",
   "language": "python",
   "name": "python3"
  },
  "language_info": {
   "codemirror_mode": {
    "name": "ipython",
    "version": 3
   },
   "file_extension": ".py",
   "mimetype": "text/x-python",
   "name": "python",
   "nbconvert_exporter": "python",
   "pygments_lexer": "ipython3",
   "version": "3.6.4"
  }
 },
 "nbformat": 4,
 "nbformat_minor": 2
}
