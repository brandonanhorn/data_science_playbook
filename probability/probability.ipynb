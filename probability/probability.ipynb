{
 "cells": [
  {
   "cell_type": "code",
   "execution_count": 1,
   "metadata": {},
   "outputs": [],
   "source": [
    "import numpy as np"
   ]
  },
  {
   "cell_type": "markdown",
   "metadata": {},
   "source": [
    "### Problem 1: Suppose I roll one die. What is the probability of rolling an odd number?"
   ]
  },
  {
   "cell_type": "markdown",
   "metadata": {},
   "source": [
    "In this case, I want to estimate $P(A)$, where $A$ is rolling an odd number."
   ]
  },
  {
   "cell_type": "code",
   "execution_count": 2,
   "metadata": {},
   "outputs": [
    {
     "data": {
      "text/plain": [
       "2"
      ]
     },
     "execution_count": 2,
     "metadata": {},
     "output_type": "execute_result"
    }
   ],
   "source": [
    "np.random.randint(1,7)"
   ]
  },
  {
   "cell_type": "code",
   "execution_count": 3,
   "metadata": {},
   "outputs": [],
   "source": [
    "np.random.seed(344390) "
   ]
  },
  {
   "cell_type": "code",
   "execution_count": 4,
   "metadata": {},
   "outputs": [
    {
     "data": {
      "text/plain": [
       "6"
      ]
     },
     "execution_count": 4,
     "metadata": {},
     "output_type": "execute_result"
    }
   ],
   "source": [
    "np.random.randint(1,7) "
   ]
  },
  {
   "cell_type": "code",
   "execution_count": 5,
   "metadata": {},
   "outputs": [
    {
     "data": {
      "text/plain": [
       "5"
      ]
     },
     "execution_count": 5,
     "metadata": {},
     "output_type": "execute_result"
    }
   ],
   "source": [
    "def dice():\n",
    "    return np.random.randint(1, 6+1)\n",
    "\n",
    "dice()"
   ]
  },
  {
   "cell_type": "code",
   "execution_count": 6,
   "metadata": {},
   "outputs": [
    {
     "data": {
      "text/plain": [
       "'Tails'"
      ]
     },
     "execution_count": 6,
     "metadata": {},
     "output_type": "execute_result"
    }
   ],
   "source": [
    "def coin():\n",
    "    return np.random.choice(['Heads', 'Tails'])\n",
    "\n",
    "coin()"
   ]
  },
  {
   "cell_type": "code",
   "execution_count": 7,
   "metadata": {},
   "outputs": [
    {
     "data": {
      "text/plain": [
       "0.164"
      ]
     },
     "execution_count": 7,
     "metadata": {},
     "output_type": "execute_result"
    }
   ],
   "source": [
    "N = 1000\n",
    "results = []\n",
    "for _ in range(N):\n",
    "    if dice() == 2:\n",
    "        results.append(True)\n",
    "    else:\n",
    "        results.append(False)\n",
    "    \n",
    "sum(results)/N"
   ]
  },
  {
   "cell_type": "code",
   "execution_count": 8,
   "metadata": {},
   "outputs": [
    {
     "data": {
      "text/plain": [
       "0.161"
      ]
     },
     "execution_count": 8,
     "metadata": {},
     "output_type": "execute_result"
    }
   ],
   "source": [
    "results = [1 if dice() == 2 else 0 for i in range(N)]\n",
    "sum(results)/N"
   ]
  },
  {
   "cell_type": "code",
   "execution_count": 9,
   "metadata": {},
   "outputs": [
    {
     "name": "stdout",
     "output_type": "stream",
     "text": [
      "0.5\n"
     ]
    }
   ],
   "source": [
    "lst = []                                \n",
    "for i in range(1000):                  \n",
    "    if np.random.randint(1,7) % 2 != 0: \n",
    "        lst.append(\"odd\")               \n",
    "\n",
    "print(len(lst)/1000)                   "
   ]
  },
  {
   "cell_type": "code",
   "execution_count": 10,
   "metadata": {},
   "outputs": [
    {
     "name": "stdout",
     "output_type": "stream",
     "text": [
      "0.5006\n"
     ]
    }
   ],
   "source": [
    "count = 0                                \n",
    "for i in range(10000):                   \n",
    "    if np.random.randint(1,7) % 2 != 0: \n",
    "        count += 1                       \n",
    "\n",
    "print(count / 10000)                     "
   ]
  },
  {
   "cell_type": "code",
   "execution_count": 11,
   "metadata": {},
   "outputs": [],
   "source": [
    "def odd_roll(n):                            \n",
    "    count = 0                               \n",
    "    for i in range(n):                      \n",
    "        if np.random.randint(1,7) % 2 != 0: \n",
    "            count += 1                      \n",
    "    return count / n                        "
   ]
  },
  {
   "cell_type": "code",
   "execution_count": 12,
   "metadata": {},
   "outputs": [
    {
     "data": {
      "text/plain": [
       "0.4988"
      ]
     },
     "execution_count": 12,
     "metadata": {},
     "output_type": "execute_result"
    }
   ],
   "source": [
    "odd_roll(10000) "
   ]
  },
  {
   "cell_type": "code",
   "execution_count": 13,
   "metadata": {},
   "outputs": [
    {
     "data": {
      "text/plain": [
       "0.49909"
      ]
     },
     "execution_count": 13,
     "metadata": {},
     "output_type": "execute_result"
    }
   ],
   "source": [
    "odd_roll(100000) "
   ]
  },
  {
   "cell_type": "code",
   "execution_count": 14,
   "metadata": {},
   "outputs": [
    {
     "data": {
      "text/plain": [
       "0.499007"
      ]
     },
     "execution_count": 14,
     "metadata": {},
     "output_type": "execute_result"
    }
   ],
   "source": [
    "odd_roll(1000000)"
   ]
  },
  {
   "cell_type": "markdown",
   "metadata": {},
   "source": [
    "### Problem 2: Suppose I roll two dice. What is the probability that their sum is an odd number?"
   ]
  },
  {
   "cell_type": "code",
   "execution_count": 15,
   "metadata": {},
   "outputs": [],
   "source": [
    "def dice(number=1):\n",
    "    return np.random.randint(1, 6+1, size=number)"
   ]
  },
  {
   "cell_type": "code",
   "execution_count": 16,
   "metadata": {},
   "outputs": [
    {
     "data": {
      "text/plain": [
       "0.527"
      ]
     },
     "execution_count": 16,
     "metadata": {},
     "output_type": "execute_result"
    }
   ],
   "source": [
    "N = 1000\n",
    "results = []\n",
    "for _ in range(N):\n",
    "    if sum(dice(2)) % 2 != 0:\n",
    "        results.append(1)\n",
    "    else:\n",
    "        results.append(0)\n",
    "        \n",
    "sum(results) / N"
   ]
  },
  {
   "cell_type": "markdown",
   "metadata": {},
   "source": [
    "### Problem 3: Suppose I flip three coins. What is the probability that I flip all heads or all tails?"
   ]
  },
  {
   "cell_type": "code",
   "execution_count": 17,
   "metadata": {},
   "outputs": [],
   "source": [
    "def coin():\n",
    "    return np.random.choice(['Heads', 'Tails'])"
   ]
  },
  {
   "cell_type": "code",
   "execution_count": 18,
   "metadata": {},
   "outputs": [
    {
     "data": {
      "text/plain": [
       "0.24"
      ]
     },
     "execution_count": 18,
     "metadata": {},
     "output_type": "execute_result"
    }
   ],
   "source": [
    "N = 1000\n",
    "results = [1 if coin() == coin() == coin() else 0 for _ in range(N)]\n",
    "sum(results)/N"
   ]
  },
  {
   "cell_type": "code",
   "execution_count": 19,
   "metadata": {},
   "outputs": [
    {
     "data": {
      "text/plain": [
       "0.25"
      ]
     },
     "execution_count": 19,
     "metadata": {},
     "output_type": "execute_result"
    }
   ],
   "source": [
    "1/8 * 2"
   ]
  },
  {
   "cell_type": "code",
   "execution_count": 20,
   "metadata": {},
   "outputs": [
    {
     "data": {
      "text/plain": [
       "1"
      ]
     },
     "execution_count": 20,
     "metadata": {},
     "output_type": "execute_result"
    }
   ],
   "source": [
    "np.random.randint(0,2) "
   ]
  },
  {
   "cell_type": "code",
   "execution_count": 21,
   "metadata": {},
   "outputs": [],
   "source": [
    "def flip_same_three(n):         \n",
    "    successes = 0               \n",
    "    for i in range(n):          \n",
    "        heads_tails_count = np.random.randint(0,2) + np.random.randint(0,2) + np.random.randint(0,2) \n",
    "        if heads_tails_count == 0 or heads_tails_count == 3: \n",
    "            successes += 1      \n",
    "    return successes / n        "
   ]
  },
  {
   "cell_type": "code",
   "execution_count": 22,
   "metadata": {},
   "outputs": [
    {
     "data": {
      "text/plain": [
       "0.255"
      ]
     },
     "execution_count": 22,
     "metadata": {},
     "output_type": "execute_result"
    }
   ],
   "source": [
    "flip_same_three(1000) "
   ]
  },
  {
   "cell_type": "markdown",
   "metadata": {},
   "source": [
    "### Problem 4: Suppose I flip one coin. If I flip heads, I roll one die. If I flip tails, I roll two dice and sum their values. What is the probability that my roll values sum to greater than 8?"
   ]
  },
  {
   "cell_type": "code",
   "execution_count": 23,
   "metadata": {},
   "outputs": [
    {
     "data": {
      "text/plain": [
       "0.224"
      ]
     },
     "execution_count": 23,
     "metadata": {},
     "output_type": "execute_result"
    }
   ],
   "source": [
    "N = 1000\n",
    "results = []\n",
    "for _ in range(N):\n",
    "    if coin() == 'Heads':\n",
    "        roll = sum(dice(1))\n",
    "    else:\n",
    "        roll = sum(dice(2))\n",
    "    if roll >= 8:\n",
    "        results.append(1)\n",
    "    else:\n",
    "        results.append(0)\n",
    "\n",
    "sum(results)/N"
   ]
  },
  {
   "cell_type": "code",
   "execution_count": 24,
   "metadata": {},
   "outputs": [
    {
     "data": {
      "text/plain": [
       "0.198"
      ]
     },
     "execution_count": 24,
     "metadata": {},
     "output_type": "execute_result"
    }
   ],
   "source": [
    "N = 1000\n",
    "results = []\n",
    "for _ in range(N):\n",
    "    if coin() == 'Tails':\n",
    "        roll = sum(dice(2))\n",
    "        if roll >= 8:\n",
    "            results.append(1)\n",
    "        else:\n",
    "            results.append(0)\n",
    "    else:\n",
    "        results.append(0)\n",
    "\n",
    "sum(results)/N"
   ]
  },
  {
   "cell_type": "code",
   "execution_count": 25,
   "metadata": {},
   "outputs": [],
   "source": [
    "def greater_than_eight(n):                      \n",
    "    above_eight = 0                              \n",
    "    for i in range(n):                           \n",
    "        coin_flip = np.random.randint(0,2)       \n",
    "        if coin_flip == 1:                      \n",
    "            dice = np.random.randint(1,7)        \n",
    "        else:                                    \n",
    "            dice = np.random.randint(1,7) + np.random.randint(1,7) \n",
    "        if dice > 8:                             \n",
    "            above_eight += 1                     \n",
    "    return above_eight / n                      "
   ]
  },
  {
   "cell_type": "code",
   "execution_count": 26,
   "metadata": {},
   "outputs": [
    {
     "data": {
      "text/plain": [
       "0.143"
      ]
     },
     "execution_count": 26,
     "metadata": {},
     "output_type": "execute_result"
    }
   ],
   "source": [
    "greater_than_eight(1000) "
   ]
  },
  {
   "cell_type": "code",
   "execution_count": 27,
   "metadata": {},
   "outputs": [],
   "source": [
    "results = [] \n",
    "for j in range(100): \n",
    "    results.append(greater_than_eight(1000)) "
   ]
  },
  {
   "cell_type": "code",
   "execution_count": 28,
   "metadata": {},
   "outputs": [
    {
     "data": {
      "text/plain": [
       "0.13827"
      ]
     },
     "execution_count": 28,
     "metadata": {},
     "output_type": "execute_result"
    }
   ],
   "source": [
    "np.mean(results) "
   ]
  },
  {
   "cell_type": "markdown",
   "metadata": {},
   "source": [
    "### Problem 5: I flip my coin until I flip heads. I count up the number of coins I flipped and roll that many dice. What is the probability that the average roll will be between 3 and 4 (inclusive)?\n",
    "- Example 1: If I flip heads on my first coin flip, I roll one die and stop.\n",
    "- Example 2: If I flip tails on my first coin flip and heads on my second, I will roll two dice and average their values.\n",
    "- Example 3: If I flip tails on my first two coin flips and heads on my third, I will roll three dice and average their values."
   ]
  },
  {
   "cell_type": "code",
   "execution_count": 29,
   "metadata": {},
   "outputs": [
    {
     "data": {
      "text/plain": [
       "0.4111"
      ]
     },
     "execution_count": 29,
     "metadata": {},
     "output_type": "execute_result"
    }
   ],
   "source": [
    "results = []\n",
    "N = 10000\n",
    "\n",
    "for _ in range(N):\n",
    "    flip = ''\n",
    "    flips = 0\n",
    "    while flip != 'Heads':\n",
    "        flip = coin()\n",
    "        flips += 1\n",
    "    if 3 <= dice(flips).mean() <= 4:\n",
    "        results.append(1)\n",
    "    else:\n",
    "        results.append(0)\n",
    "        \n",
    "sum(results)/N"
   ]
  },
  {
   "cell_type": "code",
   "execution_count": 30,
   "metadata": {},
   "outputs": [
    {
     "name": "stdout",
     "output_type": "stream",
     "text": [
      "5\n"
     ]
    },
    {
     "data": {
      "text/plain": [
       "False"
      ]
     },
     "execution_count": 30,
     "metadata": {},
     "output_type": "execute_result"
    }
   ],
   "source": [
    "roll_average = 5\n",
    "print(roll_average)\n",
    "3 <= roll_average <= 4"
   ]
  },
  {
   "cell_type": "code",
   "execution_count": 31,
   "metadata": {},
   "outputs": [],
   "source": [
    "def between_three_and_four(n):              \n",
    "    successes = 0                           \n",
    "    for i in range(n):                      \n",
    "        rolls = 1                           \n",
    "        \n",
    "        while np.random.randint(0,2) == 0:     \n",
    "            rolls += 1                      \n",
    "            \n",
    "        values = 0                          \n",
    "        for j in range(rolls):              \n",
    "            values += np.random.randint(1,7)   \n",
    "        if (values / rolls) >= 3 and (values / rolls) <= 4: \n",
    "            successes += 1                  \n",
    "    return successes / n                    "
   ]
  },
  {
   "cell_type": "code",
   "execution_count": 32,
   "metadata": {},
   "outputs": [
    {
     "data": {
      "text/plain": [
       "0.407"
      ]
     },
     "execution_count": 32,
     "metadata": {},
     "output_type": "execute_result"
    }
   ],
   "source": [
    "between_three_and_four(1000) "
   ]
  },
  {
   "cell_type": "markdown",
   "metadata": {},
   "source": [
    "### Problem 6: Repeat problem 5, but find the probability that the average roll will be between 3 and 4, *exclusive*. (That is, we are not including values of 3 or 4 as \"successes,\" but only the numbers in between them.) "
   ]
  },
  {
   "cell_type": "code",
   "execution_count": 33,
   "metadata": {},
   "outputs": [],
   "source": [
    "def between_three_and_four_exclusive(n):    \n",
    "    successes = 0                           \n",
    "    for i in range(n):                      \n",
    "        rolls = 1                           \n",
    "        \n",
    "        while np.random.randint(0,2) == 0:  \n",
    "            rolls += 1                      \n",
    "            \n",
    "        values = 0                          \n",
    "        for j in range(rolls):              \n",
    "            values += np.random.randint(1,7)   \n",
    "        if (values / rolls) > 3 and (values / rolls) < 4: \n",
    "            successes += 1                  \n",
    "    return successes / n                    "
   ]
  },
  {
   "cell_type": "code",
   "execution_count": 34,
   "metadata": {},
   "outputs": [
    {
     "data": {
      "text/plain": [
       "0.131"
      ]
     },
     "execution_count": 34,
     "metadata": {},
     "output_type": "execute_result"
    }
   ],
   "source": [
    "between_three_and_four_exclusive(1000) "
   ]
  },
  {
   "cell_type": "markdown",
   "metadata": {},
   "source": [
    "### Problem 7: Repeat problem 4, but make the probability of flipping heads 20%.\n",
    "- Hint: You could use `np.random.randint(1,11)` and using values of 1 and 2 as \"heads\" and values of 3 through 10 as \"tails.\" Alternatively, you could use [`np.random.choice`](https://docs.scipy.org/doc/numpy-1.15.0/reference/generated/numpy.random.choice.html)."
   ]
  },
  {
   "cell_type": "markdown",
   "metadata": {},
   "source": [
    "Suppose I flip one coin. If I flip heads, I roll one die. If I flip tails, I roll two dice and sum their values. What is the probability that my roll values sum to greater than 8? **Note** that I'm using an unfair coin with probability of heads equal to 20%. I will use `np.random.randint(1,11)` to simulate an unfair coin. Values of 1 and 2 will correspond to \"heads\" and values of 3 or greater will correspond to \"tails.\""
   ]
  },
  {
   "cell_type": "code",
   "execution_count": 35,
   "metadata": {},
   "outputs": [],
   "source": [
    "def greater_than_eight_unfair(n):                \n",
    "    above_eight = 0                              \n",
    "    for i in range(n):                           \n",
    "        coin_flip = np.random.randint(1,11)      \n",
    "        if coin_flip <= 2:                       \n",
    "            dice = np.random.randint(1,7)        \n",
    "        else:                                    \n",
    "            dice = np.random.randint(1,7) + np.random.randint(1,7) \n",
    "        if dice > 8:                             \n",
    "            above_eight += 1                     \n",
    "    return above_eight / n                       "
   ]
  },
  {
   "cell_type": "code",
   "execution_count": 36,
   "metadata": {},
   "outputs": [
    {
     "data": {
      "text/plain": [
       "0.2262"
      ]
     },
     "execution_count": 36,
     "metadata": {},
     "output_type": "execute_result"
    }
   ],
   "source": [
    "greater_than_eight_unfair(10000) # run 10000 times"
   ]
  },
  {
   "cell_type": "markdown",
   "metadata": {},
   "source": [
    "### Problem 8: Repeat problem 7, but build your function out to accept *any* valid probability of flipping heads. (i.e. a user can input 1%, 10%, 35%, 99%, and so on)."
   ]
  },
  {
   "cell_type": "code",
   "execution_count": 37,
   "metadata": {},
   "outputs": [],
   "source": [
    "def greater_than_eight_user_defined(n, p_heads):    \n",
    "    if p_heads < 0 or p_heads > 1:\n",
    "        return \"Error. p_heads should be between 0 and 1.\"\n",
    "    \n",
    "    above_eight = 0                              \n",
    "    \n",
    "    for i in range(n):                           \n",
    "        coin_flip = np.random.choice(['heads','tails'],\n",
    "                                     p = [p_heads, 1 - p_heads])\n",
    "        \n",
    "        if coin_flip == 'heads':                 \n",
    "            dice = np.random.randint(1,7)        \n",
    "        else:                                    \n",
    "            dice = np.random.randint(1,7) + np.random.randint(1,7) \n",
    "        if dice > 8:                             \n",
    "            above_eight += 1                     \n",
    "    return above_eight / n                       "
   ]
  },
  {
   "cell_type": "code",
   "execution_count": 38,
   "metadata": {},
   "outputs": [
    {
     "data": {
      "text/plain": [
       "0.2816"
      ]
     },
     "execution_count": 38,
     "metadata": {},
     "output_type": "execute_result"
    }
   ],
   "source": [
    "greater_than_eight_user_defined(10000, 0)"
   ]
  },
  {
   "cell_type": "code",
   "execution_count": 39,
   "metadata": {},
   "outputs": [
    {
     "data": {
      "text/plain": [
       "0.2761"
      ]
     },
     "execution_count": 39,
     "metadata": {},
     "output_type": "execute_result"
    }
   ],
   "source": [
    "greater_than_eight_user_defined(10000, 0.01)"
   ]
  },
  {
   "cell_type": "code",
   "execution_count": 40,
   "metadata": {},
   "outputs": [
    {
     "data": {
      "text/plain": [
       "0.2422"
      ]
     },
     "execution_count": 40,
     "metadata": {},
     "output_type": "execute_result"
    }
   ],
   "source": [
    "greater_than_eight_user_defined(10000, 0.1)"
   ]
  },
  {
   "cell_type": "code",
   "execution_count": 41,
   "metadata": {},
   "outputs": [
    {
     "data": {
      "text/plain": [
       "0.1412"
      ]
     },
     "execution_count": 41,
     "metadata": {},
     "output_type": "execute_result"
    }
   ],
   "source": [
    "greater_than_eight_user_defined(10000, 0.5)"
   ]
  },
  {
   "cell_type": "code",
   "execution_count": 42,
   "metadata": {},
   "outputs": [
    {
     "data": {
      "text/plain": [
       "0.0281"
      ]
     },
     "execution_count": 42,
     "metadata": {},
     "output_type": "execute_result"
    }
   ],
   "source": [
    "greater_than_eight_user_defined(10000, 0.9)"
   ]
  },
  {
   "cell_type": "code",
   "execution_count": 43,
   "metadata": {},
   "outputs": [
    {
     "data": {
      "text/plain": [
       "0.0"
      ]
     },
     "execution_count": 43,
     "metadata": {},
     "output_type": "execute_result"
    }
   ],
   "source": [
    "greater_than_eight_user_defined(10000, 1)"
   ]
  },
  {
   "cell_type": "markdown",
   "metadata": {},
   "source": [
    "**Summary**: It looks as though, as the probability of heads increases, the probability of getting a sum that is greater than eight decreases."
   ]
  },
  {
   "cell_type": "markdown",
   "metadata": {},
   "source": [
    "### Problem 9: Two players are playing a game. Player A goes first and flips a coin. If the coin is heads, player A wins. If the coin is tails, player B then flips a coin. If the coin is heads, player B wins. Otherwise, the coin goes back to player A. They continue flipping until one person has flipped heads. If the coin is fair, what is the probability of player A winning?\n",
    "\n",
    "(This problem is taken from [_Statistical Inference_ by Casella and Berger](https://fsalamri.files.wordpress.com/2015/02/casella_berger_statistical_inference1.pdf).)"
   ]
  },
  {
   "cell_type": "code",
   "execution_count": 44,
   "metadata": {},
   "outputs": [],
   "source": [
    "def coin_game(n):\n",
    "    a_count = 0        \n",
    "    for i in range(n): \n",
    "        player = 1     \n",
    "        while True:    \n",
    "            coin_flip = np.random.choice(['heads','tails'],\n",
    "                                         p = [0.5, 0.5])\n",
    "            \n",
    "            if coin_flip == 'heads': \n",
    "                if player == 1:     \n",
    "                    a_count += 1    \n",
    "\n",
    "                break               \n",
    "                \n",
    "            else:                   \n",
    "                player *= -1        \n",
    "                                    \n",
    "    return (a_count / n)"
   ]
  },
  {
   "cell_type": "code",
   "execution_count": 45,
   "metadata": {},
   "outputs": [
    {
     "data": {
      "text/plain": [
       "0.667"
      ]
     },
     "execution_count": 45,
     "metadata": {},
     "output_type": "execute_result"
    }
   ],
   "source": [
    "coin_game(10000)"
   ]
  },
  {
   "cell_type": "markdown",
   "metadata": {},
   "source": [
    "### Problem 10: Repeat problem 9, but adapt your function to accept another argument, $p$, where $p$ is the probability of flipping heads.\n",
    "\n",
    "(This problem is adapted from [_Statistical Inference_ by Casella and Berger](https://fsalamri.files.wordpress.com/2015/02/casella_berger_statistical_inference1.pdf).)"
   ]
  },
  {
   "cell_type": "code",
   "execution_count": 46,
   "metadata": {},
   "outputs": [],
   "source": [
    "def coin_game_unfair(n, p_heads):\n",
    "    a_count = 0       \n",
    "    for i in range(n): \n",
    "        player = 1     \n",
    "        while True:    \n",
    "            coin_flip = np.random.choice(['heads','tails'],\n",
    "                                         p = [p_heads, 1 - p_heads])\n",
    "            \n",
    "            if coin_flip == 'heads': \n",
    "                if player == 1:    \n",
    "                    a_count += 1    \n",
    "\n",
    "                break               \n",
    "                \n",
    "            else:                   \n",
    "                player *= -1        \n",
    "\n",
    "    return (a_count / n)"
   ]
  },
  {
   "cell_type": "code",
   "execution_count": 47,
   "metadata": {},
   "outputs": [
    {
     "data": {
      "text/plain": [
       "0.4924"
      ]
     },
     "execution_count": 47,
     "metadata": {},
     "output_type": "execute_result"
    }
   ],
   "source": [
    "coin_game_unfair(10000, 0.01)"
   ]
  },
  {
   "cell_type": "code",
   "execution_count": 48,
   "metadata": {},
   "outputs": [
    {
     "data": {
      "text/plain": [
       "0.5155"
      ]
     },
     "execution_count": 48,
     "metadata": {},
     "output_type": "execute_result"
    }
   ],
   "source": [
    "coin_game_unfair(10000, 0.05)"
   ]
  },
  {
   "cell_type": "code",
   "execution_count": 49,
   "metadata": {},
   "outputs": [
    {
     "data": {
      "text/plain": [
       "0.5218"
      ]
     },
     "execution_count": 49,
     "metadata": {},
     "output_type": "execute_result"
    }
   ],
   "source": [
    "coin_game_unfair(10000, 0.1)"
   ]
  },
  {
   "cell_type": "code",
   "execution_count": 50,
   "metadata": {},
   "outputs": [
    {
     "data": {
      "text/plain": [
       "0.6618"
      ]
     },
     "execution_count": 50,
     "metadata": {},
     "output_type": "execute_result"
    }
   ],
   "source": [
    "coin_game_unfair(10000, 0.5)"
   ]
  },
  {
   "cell_type": "code",
   "execution_count": 51,
   "metadata": {},
   "outputs": [
    {
     "data": {
      "text/plain": [
       "0.9091"
      ]
     },
     "execution_count": 51,
     "metadata": {},
     "output_type": "execute_result"
    }
   ],
   "source": [
    "coin_game_unfair(10000, 0.9)"
   ]
  },
  {
   "cell_type": "code",
   "execution_count": 52,
   "metadata": {},
   "outputs": [
    {
     "data": {
      "text/plain": [
       "0.9897"
      ]
     },
     "execution_count": 52,
     "metadata": {},
     "output_type": "execute_result"
    }
   ],
   "source": [
    "coin_game_unfair(10000, 0.99)"
   ]
  },
  {
   "cell_type": "markdown",
   "metadata": {},
   "source": [
    "### Interview Problem *(basic)*: There are 24 balls in a bucket: 12 red and 12 black. If you draw one ball, then a second ball, what is the probability of drawing two balls of the same color?"
   ]
  },
  {
   "cell_type": "code",
   "execution_count": 53,
   "metadata": {},
   "outputs": [],
   "source": [
    "def same_color(n):\n",
    "    count = 0\n",
    "    bucket = ['R', 'R', 'R', 'R', 'R', 'R', 'R', 'R', 'R', 'R', 'R', 'R', 'B', 'B', 'B', 'B', 'B', 'B', 'B', 'B', 'B', 'B', 'B', 'B']\n",
    "\n",
    "    for i in range(n):\n",
    "        choice = np.random.choice(bucket, size = 2, replace = False)\n",
    "\n",
    "        if choice[0] == choice[1]:\n",
    "            count += 1\n",
    "    \n",
    "    return (count / n)"
   ]
  },
  {
   "cell_type": "code",
   "execution_count": 54,
   "metadata": {},
   "outputs": [
    {
     "data": {
      "text/plain": [
       "0.4766"
      ]
     },
     "execution_count": 54,
     "metadata": {},
     "output_type": "execute_result"
    }
   ],
   "source": [
    "same_color(10000)"
   ]
  },
  {
   "cell_type": "markdown",
   "metadata": {},
   "source": [
    "### Interview Problem *(advanced)*: Suppose I have a stick of length 1. I randomly break this stick in two places. What is the probability that the three pieces can form a triangle? (Note that a triangle can be formed if and only if the length of each side is smaller than the sum of the other two sides.)"
   ]
  },
  {
   "cell_type": "code",
   "execution_count": 55,
   "metadata": {},
   "outputs": [],
   "source": [
    "def triangle_prob(n): \n",
    "    count = 0 \n",
    "    \n",
    "    for i in range(n):\n",
    "        break_1 = np.random.uniform(0,1) \n",
    "        break_2 = np.random.uniform(0,1) \n",
    "        \n",
    "        left_break = min(break_1, break_2) \n",
    "        right_break = max(break_1, break_2) \n",
    "        \n",
    "        if (1 - right_break) < 0.5 and (right_break - left_break) < 0.5 and (left_break - 0) < 0.5:\n",
    "            count += 1 \n",
    "\n",
    "    return count / n"
   ]
  },
  {
   "cell_type": "code",
   "execution_count": 56,
   "metadata": {},
   "outputs": [
    {
     "data": {
      "text/plain": [
       "0.2537"
      ]
     },
     "execution_count": 56,
     "metadata": {},
     "output_type": "execute_result"
    }
   ],
   "source": [
    "triangle_prob(10000)"
   ]
  }
 ],
 "metadata": {
  "kernelspec": {
   "display_name": "Python 3",
   "language": "python",
   "name": "python3"
  },
  "language_info": {
   "codemirror_mode": {
    "name": "ipython",
    "version": 3
   },
   "file_extension": ".py",
   "mimetype": "text/x-python",
   "name": "python",
   "nbconvert_exporter": "python",
   "pygments_lexer": "ipython3",
   "version": "3.6.4"
  }
 },
 "nbformat": 4,
 "nbformat_minor": 2
}
