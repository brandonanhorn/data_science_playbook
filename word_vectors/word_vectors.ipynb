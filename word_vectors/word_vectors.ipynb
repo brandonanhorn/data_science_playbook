{
 "cells": [
  {
   "cell_type": "markdown",
   "metadata": {},
   "source": [
    "## Word Vectors"
   ]
  },
  {
   "cell_type": "code",
   "execution_count": 1,
   "metadata": {},
   "outputs": [],
   "source": [
    "# link: https://cp.sync.com/dl/ac715b810/7qp4nadn-avyhhjun-6saxinp7-2kbbh773"
   ]
  },
  {
   "cell_type": "code",
   "execution_count": 2,
   "metadata": {},
   "outputs": [],
   "source": [
    "import numpy as np\n",
    "import time"
   ]
  },
  {
   "cell_type": "code",
   "execution_count": 3,
   "metadata": {},
   "outputs": [],
   "source": [
    "# Install/upgrade Gensim.\n",
    "# !pip install gensim --upgrade"
   ]
  },
  {
   "cell_type": "code",
   "execution_count": 4,
   "metadata": {},
   "outputs": [],
   "source": [
    "import gensim"
   ]
  },
  {
   "cell_type": "code",
   "execution_count": 5,
   "metadata": {},
   "outputs": [
    {
     "name": "stdout",
     "output_type": "stream",
     "text": [
      "99.1110908985138\n"
     ]
    }
   ],
   "source": [
    "t0 = time.time()\n",
    "\n",
    "model = gensim.models.KeyedVectors.load_word2vec_format('lexvec.enwiki+newscrawl.300d.W.pos.vectors.gz')\n",
    "\n",
    "print(time.time() - t0)"
   ]
  },
  {
   "cell_type": "markdown",
   "metadata": {},
   "source": [
    "### What is a vector?\n",
    "\n",
    "There are lots of ways to think about a vector.\n",
    "\n",
    "In **physics**, vectors are arrows.\n",
    "\n",
    "In **computer science** and **statistics**, vectors are columns of values, like one numeric Series in a DataFrame.\n",
    "\n",
    "[This video](https://www.youtube.com/watch?v=fNk_zzaMoSs) does an exceptional job explaining vectors."
   ]
  },
  {
   "cell_type": "markdown",
   "metadata": {},
   "source": [
    "### So... what is a word vector?\n",
    "\n",
    "A word vector, simply, is a way for us to represent words with vectors."
   ]
  },
  {
   "cell_type": "markdown",
   "metadata": {},
   "source": [
    "How have we technically already done this?\n",
    "    \n",
    "- CountVectorizer and TFIDFVectorizer. By representing each word as a new column in our DataFrame, we have represented words with vectors.\n"
   ]
  },
  {
   "cell_type": "markdown",
   "metadata": {},
   "source": [
    "## A little math: the dot product\n",
    "\n",
    "One thing we have spent lots of time talking about is whether or not two things are dependent or independent.\n",
    "- We assume that our $Y$ variable depends on the $X$ variables in our models.\n",
    "- We assume that our $X$ variables are independent of one another in linear models.\n",
    "- We frequently assume that our observations are independent of one another."
   ]
  },
  {
   "cell_type": "markdown",
   "metadata": {},
   "source": [
    "Thus far, how have we detected if two columns/vectors are dependent or independent?\n",
    "    \n",
    "- The most common way for us to detect for dependence/independence is **correlation**. \n",
    "- If the correlation between two columns is far from zero, we say the two are dependent.\n",
    "- If the correlation between two columns is close to zero, we say that the two are (linearly) independent.    \n"
   ]
  },
  {
   "cell_type": "markdown",
   "metadata": {},
   "source": [
    "Geometrically, we say two vectors are independent if they are [orthogonal](https://en.wikipedia.org/wiki/Orthogonality) (perpendicular) to one another."
   ]
  },
  {
   "cell_type": "markdown",
   "metadata": {},
   "source": [
    "Are the cat and hat vectors independent of one another?\n",
    "    \n",
    "- Yes! \n",
    "    - They are orthogonal to one another.\n",
    "    - They are perpendicular to one another. \n",
    "    - They form right angles. \n",
    "    - The three preceding bullet points are all equivalent: if one of them is true, then they will all be true and if one of them is false, then they will all be false.    "
   ]
  },
  {
   "cell_type": "markdown",
   "metadata": {},
   "source": [
    "How can we detect this mathematically? **The dot product.**\n",
    "\n",
    "The [dot product of two vectors](https://en.wikipedia.org/wiki/Dot_product) $\\mathbf{a} = [a_1, a_2, \\ldots, a_p]$ and $\\mathbf{b} = [b_1, b_2, \\ldots, b_p]$ is given by:\n",
    "\n",
    "$$\n",
    "\\begin{eqnarray*}\n",
    "\\mathbf{a} \\cdot \\mathbf{b} &=& \\sum_{i=1}^p a_i \\times b_i \\\\\n",
    "&=& (a_1 \\times b_1) + (a_2 \\times b_2) + \\cdots + (a_p \\times b_p) \\\\\n",
    "\\end{eqnarray*}\n",
    "$$"
   ]
  },
  {
   "cell_type": "markdown",
   "metadata": {},
   "source": [
    "Calculate the dot product of the vectors cat and hat. What is the value?</summary>\n",
    "    \n",
    "$$\n",
    "\\begin{eqnarray*}\n",
    "\\mathbf{cat} \\cdot \\mathbf{hat} &=& \\sum_{i=1}^2 cat_i \\times hat_i \\\\\n",
    "&=& (cat_1 \\times hat_1) + (cat_2 \\times hat_2) \\\\\n",
    "&=& (1 \\times 0) + (0 \\times 1) \\\\\n",
    "&=& 0\n",
    "\\end{eqnarray*}\n",
    "$$\n",
    "\n",
    "- The dot product of the vectors `cat` and `hat` is 0.\n",
    "- [We could have also written](https://docs.scipy.org/doc/numpy-1.13.0/reference/generated/numpy.dot.html)\n",
    "\n",
    "np.dot([1,0],[0,1])\n"
   ]
  },
  {
   "cell_type": "code",
   "execution_count": 6,
   "metadata": {},
   "outputs": [
    {
     "data": {
      "text/plain": [
       "0"
      ]
     },
     "execution_count": 6,
     "metadata": {},
     "output_type": "execute_result"
    }
   ],
   "source": [
    "np.dot([1,0], [0,1])"
   ]
  },
  {
   "cell_type": "markdown",
   "metadata": {},
   "source": [
    "When the dot product between two vectors is zero, that means the vectors are (linearly) independent of one another!\n",
    "\n",
    "When we say \"geometrically independent\" or \"mathematically independent\" or \"statistically linearly independent,\" these all mean the same thing! We just use different ways to detect them. (For example, if I have 100 vectors, I probably can't visually look at them and conclude independence. I probably have to use the dot product to determine independence.)"
   ]
  },
  {
   "cell_type": "markdown",
   "metadata": {},
   "source": [
    "This type of vectorization of words (turning each word into its own column) is known as \"1-of-N encoding.\"\n",
    "\n",
    "\n",
    "For example:\n",
    "- the vector for the word `king` would be [1, 0, 0, 0, 0].\n",
    "- the vector for the word `queen` would be [0, 1, 0, 0, 0].\n",
    "- the vector for the word `man` would be [0, 0, 1, 0, 0].\n",
    "- the vector for the word `woman` would be [0, 0, 0, 1, 0].\n",
    "- the vector for the word `child` would be [0, 0, 0, 0, 1]."
   ]
  },
  {
   "cell_type": "markdown",
   "metadata": {},
   "source": [
    "Which of pairs of the above words are independent of one another?\n",
    "- They all are! If you calculate the dot product for any of these pairs of words, you will get a value of zero. \n",
    "- When vectorizing words in this way, we treat words as independent of one another."
   ]
  },
  {
   "cell_type": "code",
   "execution_count": 7,
   "metadata": {},
   "outputs": [
    {
     "data": {
      "text/plain": [
       "0.9199999999999999"
      ]
     },
     "execution_count": 7,
     "metadata": {},
     "output_type": "execute_result"
    }
   ],
   "source": [
    "np.dot([0, 0, 0.6, 0.8, 0],\n",
    "       [0, 0, 0.6, 0.7, 0])"
   ]
  },
  {
   "cell_type": "markdown",
   "metadata": {},
   "source": [
    "Rather than creating a whole new dimension each time we encounter a new word and treating it as independent of all other words, can we instead come up with \"new axes\" that allow us to better understand meanings and relationships among words?\n",
    "- YES.\n",
    "\n",
    "**Word embedding** is a term used to describe representing words in mathematical space.\n",
    "- One word embedding technique is CountVectorization.\n",
    "- A more advanced word embedding technique is `Word2Vec`.\n",
    "\n",
    "### Word2Vec\n",
    "- Word2Vec is an approach that takes in observations (sentences, tweets, books) and maps them into some other space using a neural network.\n",
    "\n",
    "\n",
    "In this example, you can \"think\" of a five-dimensional space. \n",
    "- The horizontal axis corresponds to `king`.\n",
    "- The vertical axis corresponds to `queen`.\n",
    "- The axis extending out toward you corresponds to `man`.\n",
    "- Given that we live in 3D space, we can't really visualize higher dimensions.\n",
    "\n",
    "Instead of giving each word its own axis, the `Word2Vec` algorithm will take all of our words and map them to another set of axes that accounts for these relationships.\n"
   ]
  },
  {
   "cell_type": "markdown",
   "metadata": {},
   "source": [
    "How can I tell that these vectors are not independent just by looking at them?\n",
    "    \n",
    "- They are not perpendicular to each other!"
   ]
  },
  {
   "cell_type": "markdown",
   "metadata": {},
   "source": [
    "### Why do we care?\n",
    "The structure of language has a lot of valuable information in it! The way we organize our text/speech tells us a lot about what things mean.\n",
    "\n",
    "By using machine learning to \"learn\" about the structure and content of language, our models can now organize concepts and learn the relationships among them.\n",
    "- Above, we did not explicitly tell the computer what \"king\" or \"queen\" or \"man\" or \"woman\" actually mean. But by learning from the data, our model can quantify the relationship among these entities!\n",
    "\n",
    "If we represent words with vectors, then we can define \"distances\" among words and do operations on them!\n",
    "- For example, if I take the \"king\" vector and subtract the \"man\" vector, what's leftover might be the idea of \"royalty.\"\n",
    "- If I take \"royalty\" and add \"woman\" to it, then I get \"queen!\""
   ]
  },
  {
   "cell_type": "markdown",
   "metadata": {},
   "source": [
    "### How does Word2Vec work?\n",
    "\n",
    "#### Basic Answer:\n",
    "The idea is that we can use the position of words in sentences (i.e. see which words were commonly used together) to understand their relationships.\n",
    "- If \"king\" and \"queen\" are used near one another a lot, then it suggests that there may be some sort of relationship between them.\n",
    "- If \"king\" and \"queen\" are used near similar words a lot (i.e. \"throne,\" \"royal,\" \"princess,\" \"prince,\" \"heir\"), then it suggests that there may be some sort of relationship between them.\n",
    "\n",
    "#### More Advanced Answer:\n",
    "There are two algorithms that use neural networks to learn these relationships: Continuous Bag-of-Words (CBOW) and Continuous Skip-grams.\n",
    "\n",
    "**CBOW (BONUS)**\n",
    "\n",
    "A continuous Bag-of-Words model is a two-layer neural network that:\n",
    "- takes the surrounding \"context words\" as an input.\n",
    "- generates the \"focus word\" as the output.\n",
    "\n",
    "**Skip-Gram (BONUS)**\n",
    "\n",
    "A Continuous Skip-gram model is a two-layer neural network that:\n",
    "- takes the \"focus word\" as an input.\n",
    "- generates the surrounding \"context words\" as the output."
   ]
  },
  {
   "cell_type": "markdown",
   "metadata": {},
   "source": [
    "## Application 1: Which of these is not like the other?"
   ]
  },
  {
   "cell_type": "code",
   "execution_count": 8,
   "metadata": {},
   "outputs": [
    {
     "name": "stderr",
     "output_type": "stream",
     "text": [
      "/Users/max/anaconda3/lib/python3.7/site-packages/gensim/models/keyedvectors.py:877: FutureWarning: arrays to stack must be passed as a \"sequence\" type such as list or tuple. Support for non-sequence iterables such as generators is deprecated as of NumPy 1.16 and will raise an error in the future.\n",
      "  vectors = vstack(self.word_vec(word, use_norm=True) for word in used_words).astype(REAL)\n"
     ]
    },
    {
     "data": {
      "text/plain": [
       "'dog'"
      ]
     },
     "execution_count": 8,
     "metadata": {},
     "output_type": "execute_result"
    }
   ],
   "source": [
    "model.doesnt_match(['man', 'woman', 'king', 'queen', 'dog'])"
   ]
  },
  {
   "cell_type": "code",
   "execution_count": 9,
   "metadata": {},
   "outputs": [
    {
     "data": {
      "text/plain": [
       "'hamburger'"
      ]
     },
     "execution_count": 9,
     "metadata": {},
     "output_type": "execute_result"
    }
   ],
   "source": [
    "model.doesnt_match(['taco', 'burrito', 'quesadilla', 'hamburger'])"
   ]
  },
  {
   "cell_type": "code",
   "execution_count": 10,
   "metadata": {},
   "outputs": [
    {
     "data": {
      "text/plain": [
       "'cannes'"
      ]
     },
     "execution_count": 10,
     "metadata": {},
     "output_type": "execute_result"
    }
   ],
   "source": [
    "model.doesnt_match(['london', 'cannes', 'madrid', 'vienna'])"
   ]
  },
  {
   "cell_type": "code",
   "execution_count": 11,
   "metadata": {},
   "outputs": [
    {
     "data": {
      "text/plain": [
       "'appendectomy'"
      ]
     },
     "execution_count": 11,
     "metadata": {},
     "output_type": "execute_result"
    }
   ],
   "source": [
    "model.doesnt_match(['angioplasty', 'appendectomy', 'cabg', 'bronchoscopy'])"
   ]
  },
  {
   "cell_type": "code",
   "execution_count": 12,
   "metadata": {},
   "outputs": [
    {
     "data": {
      "text/plain": [
       "'popcorn'"
      ]
     },
     "execution_count": 12,
     "metadata": {},
     "output_type": "execute_result"
    }
   ],
   "source": [
    "model.doesnt_match(['python', 'java', 'rubyonrails', 'javascript', 'popcorn'])"
   ]
  },
  {
   "cell_type": "markdown",
   "metadata": {},
   "source": [
    "Try your own and share the most mind-blowing one in a thread."
   ]
  },
  {
   "cell_type": "markdown",
   "metadata": {},
   "source": [
    "**Real-world application of this**: Suppose you're attempting to automatically detect spam emails or detect plagiarism based on words that don't belong."
   ]
  },
  {
   "cell_type": "markdown",
   "metadata": {},
   "source": [
    "## Application 2: What is most alike?"
   ]
  },
  {
   "cell_type": "code",
   "execution_count": 13,
   "metadata": {},
   "outputs": [
    {
     "data": {
      "text/plain": [
       "[('marseille', 0.5858081579208374),\n",
       " ('france', 0.5773839950561523),\n",
       " ('lille', 0.5541191101074219),\n",
       " ('brussels', 0.551851212978363),\n",
       " ('toulouse', 0.5503884553909302),\n",
       " ('sorbonne', 0.5453857779502869),\n",
       " ('strasbourg', 0.5403348207473755),\n",
       " ('rouen', 0.539802074432373),\n",
       " ('parisian', 0.5332733392715454),\n",
       " ('bordeaux', 0.5250508785247803)]"
      ]
     },
     "execution_count": 13,
     "metadata": {},
     "output_type": "execute_result"
    }
   ],
   "source": [
    "model.most_similar(\"paris\")"
   ]
  },
  {
   "cell_type": "code",
   "execution_count": 14,
   "metadata": {},
   "outputs": [
    {
     "data": {
      "text/plain": [
       "[('intestine', 0.7198351621627808),\n",
       " ('esophagus', 0.6702051162719727),\n",
       " ('cecum', 0.6413975954055786),\n",
       " ('intestines', 0.638733983039856),\n",
       " ('jejunum', 0.6369332075119019),\n",
       " ('pancreas', 0.6356386542320251),\n",
       " ('ileum', 0.632261335849762),\n",
       " ('pharynx', 0.6099293231964111),\n",
       " ('oesophagus', 0.6048024296760559),\n",
       " ('mucosa', 0.6029363870620728)]"
      ]
     },
     "execution_count": 14,
     "metadata": {},
     "output_type": "execute_result"
    }
   ],
   "source": [
    "model.most_similar(\"duodenum\")"
   ]
  },
  {
   "cell_type": "code",
   "execution_count": 15,
   "metadata": {},
   "outputs": [
    {
     "data": {
      "text/plain": [
       "[('organelles', 0.7249364256858826),\n",
       " ('chloroplasts', 0.6992194652557373),\n",
       " ('cytosol', 0.6767115592956543),\n",
       " ('mitochondrion', 0.6682264804840088),\n",
       " ('cytoplasm', 0.6609494686126709),\n",
       " ('ribosomes', 0.6398957371711731),\n",
       " ('lysosomes', 0.6285054683685303),\n",
       " ('proteins', 0.6266528367996216),\n",
       " ('peroxisomes', 0.6223989725112915),\n",
       " ('cells', 0.6207883358001709)]"
      ]
     },
     "execution_count": 15,
     "metadata": {},
     "output_type": "execute_result"
    }
   ],
   "source": [
    "model.most_similar(\"mitochondria\")"
   ]
  },
  {
   "cell_type": "code",
   "execution_count": 16,
   "metadata": {},
   "outputs": [
    {
     "data": {
      "text/plain": [
       "[('musk', 0.6108549237251282),\n",
       " ('tesla', 0.4892686605453491),\n",
       " ('spacex', 0.4550260305404663),\n",
       " ('bezos', 0.42561519145965576),\n",
       " ('gigafactory', 0.4195766746997833),\n",
       " ('paypal', 0.4187734127044678),\n",
       " ('thiel', 0.41764241456985474),\n",
       " ('tsla', 0.4114969074726105),\n",
       " ('hyperloop', 0.4006770849227905),\n",
       " ('telsa', 0.3969067335128784)]"
      ]
     },
     "execution_count": 16,
     "metadata": {},
     "output_type": "execute_result"
    }
   ],
   "source": [
    "model.most_similar(\"elon\")"
   ]
  },
  {
   "cell_type": "markdown",
   "metadata": {},
   "source": [
    "**Real-world application of this**: Suppose you're building out a process to detect when people are tweeting about an emergency. They may not just use the word \"emergency.\" Rather than manually creating a list of words people could use, you may want to learn from a much larger corpus of data than just your personal experience!"
   ]
  },
  {
   "cell_type": "markdown",
   "metadata": {},
   "source": [
    "## Application 3: Analogies\n",
    "\n",
    "In physics, we can add/subtract vectors to understand how two forces might act on an object. With word vectors, we can do the same thing!"
   ]
  },
  {
   "cell_type": "markdown",
   "metadata": {},
   "source": [
    "$$\n",
    "\\begin{eqnarray*}\n",
    "\\text{king - man} &=& \\text{queen - woman} \\\\\n",
    "x_1 - x_2 &=& y_1 - y_2 \\\\\n",
    "x_1 - x_2 - y_1 &=& -y_2 \\\\\n",
    "-x_1 + x_2 + y_1 &=& y_2 \\\\\n",
    "\\text{king is to man as queen is to...} &&\n",
    "\\end{eqnarray*}\n",
    "$$"
   ]
  },
  {
   "cell_type": "code",
   "execution_count": 17,
   "metadata": {},
   "outputs": [],
   "source": [
    "def analogy(x1, x2, y1):\n",
    "    \n",
    "    y2 = model.most_similar(positive=[x2, y1], negative=[x1])\n",
    "    \n",
    "    return y2[0][0]"
   ]
  },
  {
   "cell_type": "code",
   "execution_count": 18,
   "metadata": {},
   "outputs": [
    {
     "data": {
      "text/plain": [
       "'woman'"
      ]
     },
     "execution_count": 18,
     "metadata": {},
     "output_type": "execute_result"
    }
   ],
   "source": [
    "analogy('king', 'man', 'queen')"
   ]
  },
  {
   "cell_type": "code",
   "execution_count": 19,
   "metadata": {},
   "outputs": [
    {
     "data": {
      "text/plain": [
       "'montevideo'"
      ]
     },
     "execution_count": 19,
     "metadata": {},
     "output_type": "execute_result"
    }
   ],
   "source": [
    "analogy('france', 'paris', 'uruguay')"
   ]
  },
  {
   "cell_type": "code",
   "execution_count": 20,
   "metadata": {
    "scrolled": true
   },
   "outputs": [
    {
     "data": {
      "text/plain": [
       "'tortillas'"
      ]
     },
     "execution_count": 20,
     "metadata": {},
     "output_type": "execute_result"
    }
   ],
   "source": [
    "analogy('sandwich', 'bread', 'quesadilla')"
   ]
  },
  {
   "cell_type": "code",
   "execution_count": 21,
   "metadata": {},
   "outputs": [
    {
     "data": {
      "text/plain": [
       "array([-0.007082, -0.224132,  0.113433,  0.180896, -0.023069,  0.270709,\n",
       "        0.202951, -0.071824, -0.007716, -0.123191, -0.17092 ,  0.070319,\n",
       "       -0.235904,  0.200163,  0.19655 ,  0.135827, -0.161078,  0.205395,\n",
       "       -0.175066, -0.166536,  0.050431, -0.099167,  0.026799, -0.017283,\n",
       "       -0.345068, -0.062026, -0.067449,  0.168916,  0.147422, -0.388425,\n",
       "       -0.070515,  0.180937, -0.054913, -0.060088,  0.086812, -0.054172,\n",
       "       -0.079991,  0.108315, -0.196539,  0.209353, -0.034917,  0.119228,\n",
       "       -0.142817, -0.252271, -0.115341,  0.126108, -0.228294, -0.216627,\n",
       "       -0.23637 , -0.028997, -0.053062,  0.027535,  0.194372,  0.001432,\n",
       "       -0.01934 , -0.202751, -0.14265 ,  0.132245,  0.088678,  0.22208 ,\n",
       "       -0.186337,  0.031292, -0.197228,  0.02483 , -0.035789, -0.010152,\n",
       "       -0.012079,  0.092172, -0.097343,  0.044197,  0.194976,  0.008937,\n",
       "        0.077772,  0.111006,  0.370217,  0.430829,  0.0151  ,  0.046869,\n",
       "       -0.0959  ,  0.24213 , -0.008131, -0.095851, -0.020584,  0.137648,\n",
       "        0.120843,  0.083791, -0.280082,  0.324676,  0.017657, -0.058605,\n",
       "       -0.138041, -0.067149, -0.197299, -0.087755,  0.400081, -0.133534,\n",
       "        0.258127, -0.227414, -0.069747,  0.030037, -0.251851,  0.023061,\n",
       "       -0.184257,  0.334022,  0.03089 ,  0.14055 ,  0.051027, -0.149076,\n",
       "       -0.087602,  0.028466,  0.138714, -0.185924,  0.077309, -0.120777,\n",
       "        0.203689,  0.025416, -0.011754,  0.149147,  0.009743, -0.026461,\n",
       "        0.00362 ,  0.228711,  0.057816,  0.043027,  0.104981,  0.039201,\n",
       "       -0.144343,  0.062872, -0.108355, -0.084052,  0.080633, -0.257035,\n",
       "        0.385451, -0.008539,  0.222451,  0.13656 , -0.195931,  0.043555,\n",
       "       -0.290396,  0.188464, -0.224306,  0.111314,  0.049761, -0.160042,\n",
       "       -0.205089,  0.2472  , -0.000203,  0.08415 , -0.040174, -0.16469 ,\n",
       "       -0.067452,  0.00078 , -0.31084 ,  0.295488,  0.138587,  0.147407,\n",
       "        0.138336, -0.022854,  0.142624, -0.011108,  0.002195,  0.107248,\n",
       "        0.175052,  0.077477, -0.250697,  0.295322,  0.203582,  0.118134,\n",
       "        0.300114, -0.146724, -0.013913,  0.216211,  0.532213,  0.056715,\n",
       "       -0.079341,  0.045289, -0.26334 ,  0.296221,  0.014838, -0.008471,\n",
       "        0.205858,  0.034417, -0.183014,  0.117846, -0.019483,  0.021212,\n",
       "        0.148278,  0.05604 ,  0.177169, -0.062459,  0.172852,  0.096774,\n",
       "       -0.191191, -0.115659,  0.244954,  0.11159 , -0.1969  ,  0.328896,\n",
       "        0.342238, -0.16126 , -0.162824,  0.208525,  0.414403, -0.184886,\n",
       "        0.234594, -0.039784,  0.163017, -0.410342,  0.02641 ,  0.273648,\n",
       "       -0.100638,  0.210184,  0.076062, -0.355299,  0.348445, -0.05102 ,\n",
       "        0.350785, -0.448583,  0.094596, -0.186623, -0.141863,  0.084759,\n",
       "       -0.098357, -0.058655, -0.127903, -0.000366,  0.145584,  0.10664 ,\n",
       "       -0.035852,  0.109975,  0.046225,  0.013127,  0.056091, -0.086921,\n",
       "        0.077998, -0.078994, -0.221372,  0.319166, -0.07459 ,  0.03034 ,\n",
       "        0.140548, -0.197302, -0.011081,  0.004155,  0.030954,  0.298604,\n",
       "        0.111148,  0.207609,  0.083532,  0.146663, -0.082791, -0.21091 ,\n",
       "        0.040542, -0.038086,  0.226117, -0.162358, -0.035509, -0.174016,\n",
       "        0.033563,  0.078517,  0.012116,  0.341367, -0.210488,  0.021892,\n",
       "       -0.191167, -0.146928,  0.151561,  0.126915, -0.092428,  0.04641 ,\n",
       "        0.330706, -0.038061,  0.032858, -0.268146,  0.32858 , -0.240035,\n",
       "        0.072745, -0.008384, -0.362867, -0.119194,  0.14375 , -0.091655,\n",
       "        0.016261,  0.06048 , -0.095108, -0.008497,  0.253157,  0.035396,\n",
       "       -0.157423, -0.358482,  0.052831, -0.189873,  0.28549 , -0.032597,\n",
       "       -0.234556,  0.159678,  0.051342, -0.134284,  0.030778, -0.081287],\n",
       "      dtype=float32)"
      ]
     },
     "execution_count": 21,
     "metadata": {},
     "output_type": "execute_result"
    }
   ],
   "source": [
    "import numpy as np \n",
    "np.set_printoptions(suppress=True)\n",
    "\n",
    "model.get_vector('banana')"
   ]
  },
  {
   "cell_type": "code",
   "execution_count": 22,
   "metadata": {},
   "outputs": [
    {
     "data": {
      "text/plain": [
       "[('cellphone', 0.8212180137634277),\n",
       " ('phones', 0.7717820405960083),\n",
       " ('telephone', 0.737821638584137),\n",
       " ('landline', 0.6464314460754395),\n",
       " ('cellphones', 0.6346505880355835),\n",
       " ('telephones', 0.631047248840332),\n",
       " ('voicemail', 0.621681809425354),\n",
       " ('handset', 0.6167632341384888),\n",
       " ('smartphone', 0.6084407567977905),\n",
       " ('mobile', 0.6023054122924805)]"
      ]
     },
     "execution_count": 22,
     "metadata": {},
     "output_type": "execute_result"
    }
   ],
   "source": [
    "model.most_similar('phone')"
   ]
  },
  {
   "cell_type": "code",
   "execution_count": 23,
   "metadata": {},
   "outputs": [
    {
     "data": {
      "text/plain": [
       "<matplotlib.image.AxesImage at 0x1a392f3310>"
      ]
     },
     "execution_count": 23,
     "metadata": {},
     "output_type": "execute_result"
    }
   ],
   "source": [
    "import matplotlib.pyplot as plt\n",
    "\n",
    "plt.figure(figsize=(10, 10))\n",
    "plt.matshow(model.get_vector('phones').reshape(6, 50), cmap='Greys')"
   ]
  },
  {
   "cell_type": "code",
   "execution_count": 24,
   "metadata": {},
   "outputs": [
    {
     "data": {
      "text/plain": [
       "<matplotlib.image.AxesImage at 0x1a39c25490>"
      ]
     },
     "execution_count": 24,
     "metadata": {},
     "output_type": "execute_result"
    },
    {
     "data": {
      "image/png": "[encoded data removed]",
      "text/plain": [
       "<Figure size 1152x144 with 1 Axes>"
      ]
     },
     "metadata": {
      "needs_background": "light"
     },
     "output_type": "display_data"
    }
   ],
   "source": [
    "plt.matshow(model.get_vector('cellphones').reshape(6, 50), cmap='Greys')"
   ]
  },
  {
   "cell_type": "code",
   "execution_count": 25,
   "metadata": {},
   "outputs": [
    {
     "data": {
      "text/plain": [
       "<matplotlib.image.AxesImage at 0x1a329d45d0>"
      ]
     },
     "execution_count": 25,
     "metadata": {},
     "output_type": "execute_result"
    },
    {
     "data": {
      "image/png": "[encoded data removed]",
      "text/plain": [
       "<Figure size 1152x144 with 1 Axes>"
      ]
     },
     "metadata": {
      "needs_background": "light"
     },
     "output_type": "display_data"
    },
    {
     "data": {
      "image/png": "[encoded data removed]",
      "text/plain": [
       "<Figure size 1152x144 with 1 Axes>"
      ]
     },
     "metadata": {
      "needs_background": "light"
     },
     "output_type": "display_data"
    }
   ],
   "source": [
    "plt.matshow(model.get_vector('facebook').reshape(6, 50), cmap='Greys')\n",
    "plt.matshow(model.get_vector('twitter').reshape(6, 50), cmap='Greys')"
   ]
  },
  {
   "cell_type": "markdown",
   "metadata": {},
   "source": [
    "Many of the images in this lesson were pulled from [this amazing resource](https://blog.acolyer.org/2016/04/21/the-amazing-power-of-word-vectors/)."
   ]
  },
  {
   "cell_type": "markdown",
   "metadata": {},
   "source": [
    "## Create word vectors from your own corpus!\n",
    "\n",
    "### NOTE: This will usually take a *long* time!"
   ]
  },
  {
   "cell_type": "code",
   "execution_count": 26,
   "metadata": {},
   "outputs": [],
   "source": [
    "with open('alice.txt', 'r') as f:\n",
    "    txt = f.read()"
   ]
  },
  {
   "cell_type": "code",
   "execution_count": 27,
   "metadata": {},
   "outputs": [],
   "source": [
    "tokens = txt.lower().split(' ')"
   ]
  },
  {
   "cell_type": "code",
   "execution_count": 28,
   "metadata": {},
   "outputs": [],
   "source": [
    "ltokens = [tokens]"
   ]
  },
  {
   "cell_type": "code",
   "execution_count": 29,
   "metadata": {},
   "outputs": [
    {
     "data": {
      "text/plain": [
       "[('my', 0.9857677221298218),\n",
       " ('about', 0.9846367239952087),\n",
       " ('if', 0.9845852255821228),\n",
       " ('a', 0.9845364093780518),\n",
       " ('electronic', 0.9844448566436768),\n",
       " ('that', 0.9844133257865906),\n",
       " ('for', 0.9843364953994751),\n",
       " ('the', 0.9843310117721558),\n",
       " ('works', 0.9843294024467468),\n",
       " ('alice,', 0.9842633605003357)]"
      ]
     },
     "execution_count": 29,
     "metadata": {},
     "output_type": "execute_result"
    }
   ],
   "source": [
    "from gensim.models.word2vec import Word2Vec\n",
    "\n",
    "model = Word2Vec(ltokens,   \n",
    "                 size=100,    \n",
    "                 window=5,    \n",
    "                 min_count=1, \n",
    "                 sg=0,        \n",
    "                 workers=4)   \n",
    "\n",
    "model.wv.most_similar(\"cat\")"
   ]
  },
  {
   "cell_type": "code",
   "execution_count": 30,
   "metadata": {},
   "outputs": [
    {
     "data": {
      "text/plain": [
       "<gensim.models.word2vec.Word2VecVocab at 0x1a32c40c50>"
      ]
     },
     "execution_count": 30,
     "metadata": {},
     "output_type": "execute_result"
    }
   ],
   "source": [
    "model.vocabulary"
   ]
  },
  {
   "cell_type": "markdown",
   "metadata": {},
   "source": [
    "Check out the documentation for Gensim's implementation of [Word2Vec here](https://radimrehurek.com/gensim/models/word2vec.html#gensim.models.word2vec.Word2Vec)."
   ]
  }
 ],
 "metadata": {
  "kernelspec": {
   "display_name": "Python 3",
   "language": "python",
   "name": "python3"
  },
  "language_info": {
   "codemirror_mode": {
    "name": "ipython",
    "version": 3
   },
   "file_extension": ".py",
   "mimetype": "text/x-python",
   "name": "python",
   "nbconvert_exporter": "python",
   "pygments_lexer": "ipython3",
   "version": "3.7.4"
  }
 },
 "nbformat": 4,
 "nbformat_minor": 2
}
