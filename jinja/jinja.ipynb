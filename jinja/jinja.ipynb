{
 "cells": [
  {
   "cell_type": "markdown",
   "metadata": {},
   "source": [
    "# jinja"
   ]
  },
  {
   "cell_type": "code",
   "execution_count": 1,
   "metadata": {},
   "outputs": [],
   "source": [
    "from IPython.core.display import HTML"
   ]
  },
  {
   "cell_type": "code",
   "execution_count": 2,
   "metadata": {},
   "outputs": [],
   "source": [
    "import pathlib \n",
    "\n",
    "p = pathlib.Path(\"templates/\")\n",
    "p.mkdir(parents=True, exist_ok=True)"
   ]
  },
  {
   "cell_type": "code",
   "execution_count": 3,
   "metadata": {},
   "outputs": [
    {
     "name": "stdout",
     "output_type": "stream",
     "text": [
      "mkdir: templates: File exists\r\n"
     ]
    }
   ],
   "source": [
    "!mkdir templates"
   ]
  },
  {
   "cell_type": "markdown",
   "metadata": {},
   "source": [
    "# Useful Jupyter Magics"
   ]
  },
  {
   "cell_type": "markdown",
   "metadata": {},
   "source": [
    "#### To write/save\n",
    "`%%writefile myfile.py`\n",
    "\n",
    "write/save cell contents into myfile.py (use -a to append).\n",
    "\n",
    "#### To run\n",
    "`%run myfile.py`\n",
    "\n",
    "run `myfile.py` and output results in the current cell\n",
    "\n",
    "#### To load/import\n",
    "`%load myfile.py`\n",
    "\n",
    "load \"import\" `myfile.py` into the current cell"
   ]
  },
  {
   "cell_type": "code",
   "execution_count": 4,
   "metadata": {},
   "outputs": [
    {
     "name": "stdout",
     "output_type": "stream",
     "text": [
      "Overwriting templates/lol.html\n"
     ]
    }
   ],
   "source": [
    "%%writefile templates/lol.html\n",
    "\n",
    "<h1>Hello world!</h1>"
   ]
  },
  {
   "cell_type": "code",
   "execution_count": 5,
   "metadata": {},
   "outputs": [
    {
     "data": {
      "text/html": [
       "\n",
       "<h1>Hello world!</h1>"
      ],
      "text/plain": [
       "<IPython.core.display.HTML object>"
      ]
     },
     "execution_count": 5,
     "metadata": {},
     "output_type": "execute_result"
    }
   ],
   "source": [
    "with open('templates/lol.html', 'r') as f:\n",
    "    stuff = f.read()\n",
    "    \n",
    "HTML(stuff)"
   ]
  },
  {
   "cell_type": "code",
   "execution_count": 6,
   "metadata": {},
   "outputs": [
    {
     "name": "stdout",
     "output_type": "stream",
     "text": [
      "0\n",
      "1\n",
      "2\n",
      "3\n",
      "4\n",
      "5\n",
      "6\n",
      "7\n",
      "8\n",
      "9\n"
     ]
    }
   ],
   "source": [
    "for i in range(10):\n",
    "    print(i)"
   ]
  },
  {
   "cell_type": "code",
   "execution_count": 7,
   "metadata": {},
   "outputs": [
    {
     "name": "stdout",
     "output_type": "stream",
     "text": [
      "Overwriting templates/test.py\n"
     ]
    }
   ],
   "source": [
    "%%writefile templates/test.py\n",
    "\n",
    "for i in range(10):\n",
    "    print(i)"
   ]
  },
  {
   "cell_type": "code",
   "execution_count": 8,
   "metadata": {},
   "outputs": [
    {
     "name": "stdout",
     "output_type": "stream",
     "text": [
      "0\n",
      "1\n",
      "2\n",
      "3\n",
      "4\n",
      "5\n",
      "6\n",
      "7\n",
      "8\n",
      "9\n"
     ]
    }
   ],
   "source": [
    "# %load templates/test.py\n",
    "\n",
    "for i in range(10):\n",
    "    print(i)\n"
   ]
  },
  {
   "cell_type": "code",
   "execution_count": 9,
   "metadata": {},
   "outputs": [
    {
     "name": "stdout",
     "output_type": "stream",
     "text": [
      "0\n",
      "1\n",
      "2\n",
      "3\n",
      "4\n",
      "5\n",
      "6\n",
      "7\n",
      "8\n",
      "9\n"
     ]
    }
   ],
   "source": [
    "%run templates/test.py"
   ]
  },
  {
   "cell_type": "markdown",
   "metadata": {},
   "source": [
    "## Template Engines\n",
    "\n",
    "Template engines are kind of like a super charged version of Madlibs.\n",
    "\n",
    "A very short & simple example:\n",
    "\n",
    "`{{name}} had a little {{animal}}`.\n",
    "\n",
    "If `name=’mary’` and `animal=’lamb’`\n",
    "\n",
    "Would be:\n",
    "\n",
    "Mary had a little lamb."
   ]
  },
  {
   "cell_type": "code",
   "execution_count": 10,
   "metadata": {},
   "outputs": [
    {
     "data": {
      "text/plain": [
       "'Lebron is the goat'"
      ]
     },
     "execution_count": 10,
     "metadata": {},
     "output_type": "execute_result"
    }
   ],
   "source": [
    "name = 'Lebron'\n",
    "animal = 'goat'\n",
    "\n",
    "f'{name} is the {animal}'"
   ]
  },
  {
   "cell_type": "markdown",
   "metadata": {},
   "source": [
    "## Jinja2"
   ]
  },
  {
   "cell_type": "code",
   "execution_count": 11,
   "metadata": {},
   "outputs": [
    {
     "data": {
      "text/plain": [
       "'Michael had a little goat'"
      ]
     },
     "execution_count": 11,
     "metadata": {},
     "output_type": "execute_result"
    }
   ],
   "source": [
    "from jinja2 import Template\n",
    "\n",
    "t = Template(\"{{ name }} had a little {{ animal }}\")\n",
    "t.render(name='Michael', animal='goat')"
   ]
  },
  {
   "cell_type": "code",
   "execution_count": 12,
   "metadata": {},
   "outputs": [
    {
     "data": {
      "text/plain": [
       "'My favorite numbers: 1 2 3 4 5 6 7 8 9 '"
      ]
     },
     "execution_count": 12,
     "metadata": {},
     "output_type": "execute_result"
    }
   ],
   "source": [
    "t = Template(\"My favorite numbers: {% for n in range(1,10) %}{{n}} \" \"{% endfor %}\")\n",
    "t.render()"
   ]
  },
  {
   "cell_type": "markdown",
   "metadata": {},
   "source": [
    "#### Getting ahead of ourselves, though..."
   ]
  },
  {
   "cell_type": "code",
   "execution_count": 13,
   "metadata": {},
   "outputs": [],
   "source": [
    "from jinja2 import Environment, FileSystemLoader"
   ]
  },
  {
   "cell_type": "code",
   "execution_count": 14,
   "metadata": {},
   "outputs": [],
   "source": [
    "file_loader = FileSystemLoader('templates')\n",
    "env = Environment(loader=file_loader)"
   ]
  },
  {
   "cell_type": "code",
   "execution_count": 15,
   "metadata": {},
   "outputs": [
    {
     "name": "stdout",
     "output_type": "stream",
     "text": [
      "Overwriting templates/hello.txt\n"
     ]
    }
   ],
   "source": [
    "%%writefile templates/hello.txt\n",
    "Hello, World!"
   ]
  },
  {
   "cell_type": "code",
   "execution_count": 16,
   "metadata": {},
   "outputs": [],
   "source": [
    "template = env.get_template('hello.txt')"
   ]
  },
  {
   "cell_type": "code",
   "execution_count": 17,
   "metadata": {},
   "outputs": [
    {
     "name": "stdout",
     "output_type": "stream",
     "text": [
      "Hello, World!\n"
     ]
    }
   ],
   "source": [
    "output = template.render()\n",
    "print(output)"
   ]
  },
  {
   "cell_type": "markdown",
   "metadata": {},
   "source": [
    "### Template Variables"
   ]
  },
  {
   "cell_type": "code",
   "execution_count": 18,
   "metadata": {},
   "outputs": [
    {
     "name": "stdout",
     "output_type": "stream",
     "text": [
      "Overwriting templates/lamb.txt\n"
     ]
    }
   ],
   "source": [
    "%%writefile templates/lamb.txt\n",
    "\n",
    "{{ name }} had a little lamb."
   ]
  },
  {
   "cell_type": "code",
   "execution_count": 19,
   "metadata": {},
   "outputs": [],
   "source": [
    "template = env.get_template('lamb.txt')"
   ]
  },
  {
   "cell_type": "code",
   "execution_count": 20,
   "metadata": {},
   "outputs": [
    {
     "data": {
      "text/plain": [
       "<Template 'lamb.txt'>"
      ]
     },
     "execution_count": 20,
     "metadata": {},
     "output_type": "execute_result"
    }
   ],
   "source": [
    "template"
   ]
  },
  {
   "cell_type": "code",
   "execution_count": 21,
   "metadata": {},
   "outputs": [
    {
     "name": "stdout",
     "output_type": "stream",
     "text": [
      "\n",
      "Kareem had a little lamb.\n"
     ]
    }
   ],
   "source": [
    "output = template.render(name='Kareem')\n",
    "print(output)"
   ]
  },
  {
   "cell_type": "code",
   "execution_count": 22,
   "metadata": {},
   "outputs": [
    {
     "name": "stdout",
     "output_type": "stream",
     "text": [
      "\n",
      "Hoodie Melo had a little lamb.\n"
     ]
    }
   ],
   "source": [
    "output = template.render(name='Hoodie Melo')\n",
    "print(output)"
   ]
  },
  {
   "cell_type": "code",
   "execution_count": 23,
   "metadata": {},
   "outputs": [
    {
     "name": "stdout",
     "output_type": "stream",
     "text": [
      "Overwriting templates/animal.txt\n"
     ]
    }
   ],
   "source": [
    "%%writefile templates/animal.txt\n",
    "\n",
    "{{ name }} had a little {{ animal }}."
   ]
  },
  {
   "cell_type": "code",
   "execution_count": 24,
   "metadata": {},
   "outputs": [
    {
     "name": "stdout",
     "output_type": "stream",
     "text": [
      "\n",
      "Russel had a little opposite of the goat .\n"
     ]
    }
   ],
   "source": [
    "template = env.get_template('animal.txt')\n",
    "output = template.render(name='Russel', animal='opposite of the goat ')\n",
    "print(output)"
   ]
  },
  {
   "cell_type": "code",
   "execution_count": 25,
   "metadata": {},
   "outputs": [
    {
     "name": "stdout",
     "output_type": "stream",
     "text": [
      "Overwriting templates/complex_animal.txt\n"
     ]
    }
   ],
   "source": [
    "%%writefile templates/complex_animal.txt\n",
    "\n",
    "{{ x.name }} had a little {{ x.animal }}."
   ]
  },
  {
   "cell_type": "code",
   "execution_count": 26,
   "metadata": {},
   "outputs": [
    {
     "name": "stdout",
     "output_type": "stream",
     "text": [
      "\n",
      "Shaq had a little dog.\n"
     ]
    }
   ],
   "source": [
    "x = {'name': 'Shaq', 'animal': 'dog'}\n",
    "\n",
    "template = env.get_template('complex_animal.txt')\n",
    "\n",
    "output = template.render(x=x)\n",
    "print(output)"
   ]
  },
  {
   "cell_type": "markdown",
   "metadata": {},
   "source": [
    "### Conditionals"
   ]
  },
  {
   "cell_type": "code",
   "execution_count": 27,
   "metadata": {},
   "outputs": [
    {
     "name": "stdout",
     "output_type": "stream",
     "text": [
      "Writing templates/truth.txt\n"
     ]
    }
   ],
   "source": [
    "%%writefile templates/truth.txt\n",
    "\n",
    "{% if rain %}\n",
    "Bring an umbrella\n",
    "{% else %}\n",
    "Sun's out guns out\n",
    "{% endif %}"
   ]
  },
  {
   "cell_type": "code",
   "execution_count": 28,
   "metadata": {},
   "outputs": [
    {
     "name": "stdout",
     "output_type": "stream",
     "text": [
      "\n",
      "\n",
      "Sun's out guns out\n",
      "\n"
     ]
    }
   ],
   "source": [
    "template = env.get_template('truth.txt')\n",
    "\n",
    "\n",
    "output = template.render(rain=False)\n",
    "\n",
    "print(output)"
   ]
  },
  {
   "cell_type": "markdown",
   "metadata": {},
   "source": [
    "### Loops"
   ]
  },
  {
   "cell_type": "code",
   "execution_count": 29,
   "metadata": {},
   "outputs": [],
   "source": [
    "nba_teams = ['Raptors', 'Lakers', 'Cavs', 'Hornets']"
   ]
  },
  {
   "cell_type": "code",
   "execution_count": 30,
   "metadata": {},
   "outputs": [
    {
     "name": "stdout",
     "output_type": "stream",
     "text": [
      "Writing templates/team.txt\n"
     ]
    }
   ],
   "source": [
    "%%writefile templates/team.txt\n",
    "\n",
    "{% for team in teams %}\n",
    "   -> {{ team }}\n",
    "{% endfor %}"
   ]
  },
  {
   "cell_type": "code",
   "execution_count": 31,
   "metadata": {},
   "outputs": [
    {
     "name": "stdout",
     "output_type": "stream",
     "text": [
      "\n",
      "\n",
      "   -> Raptors\n",
      "\n",
      "   -> Lakers\n",
      "\n",
      "   -> Cavs\n",
      "\n",
      "   -> Hornets\n",
      "\n"
     ]
    }
   ],
   "source": [
    "template = env.get_template('team.txt')\n",
    "\n",
    "output = template.render(teams=nba_teams)\n",
    "print(output)"
   ]
  },
  {
   "cell_type": "markdown",
   "metadata": {},
   "source": [
    "### Inheritance "
   ]
  },
  {
   "cell_type": "code",
   "execution_count": 32,
   "metadata": {},
   "outputs": [
    {
     "name": "stdout",
     "output_type": "stream",
     "text": [
      "Writing templates/header.html\n"
     ]
    }
   ],
   "source": [
    "%%writefile templates/header.html\n",
    "\n",
    "<HEAD>\n",
    "  <TITLE>{{ title }}</TITLE>\n",
    "</HEAD>"
   ]
  },
  {
   "cell_type": "code",
   "execution_count": 33,
   "metadata": {},
   "outputs": [
    {
     "name": "stdout",
     "output_type": "stream",
     "text": [
      "Writing templates/base.html\n"
     ]
    }
   ],
   "source": [
    "%%writefile templates/base.html\n",
    "\n",
    "<HTML>\n",
    "    {% include 'header.html' %}\n",
    "  <BODY>\n",
    "  </BODY>\n",
    "</HTML>"
   ]
  },
  {
   "cell_type": "code",
   "execution_count": 34,
   "metadata": {},
   "outputs": [
    {
     "name": "stdout",
     "output_type": "stream",
     "text": [
      "\n",
      "<HTML>\n",
      "    \n",
      "<HEAD>\n",
      "  <TITLE>Hyperion Blog</TITLE>\n",
      "</HEAD>\n",
      "  <BODY>\n",
      "  </BODY>\n",
      "</HTML>\n"
     ]
    }
   ],
   "source": [
    "template = env.get_template('base.html')\n",
    "\n",
    "output = template.render(title='Hyperion Blog')\n",
    "print(output)"
   ]
  },
  {
   "cell_type": "code",
   "execution_count": 35,
   "metadata": {},
   "outputs": [
    {
     "name": "stdout",
     "output_type": "stream",
     "text": [
      "Writing templates/simple.html\n"
     ]
    }
   ],
   "source": [
    "%%writefile templates/simple.html\n",
    "\n",
    "<html>\n",
    "<head>\n",
    " <title>{{title}}</title>\n",
    "</head\n",
    "<body>\n",
    " <h1>{{header}}</h1>\n",
    " <p>{{body}}</p>\n",
    "</body>\n",
    "</html>"
   ]
  },
  {
   "cell_type": "code",
   "execution_count": 36,
   "metadata": {},
   "outputs": [],
   "source": [
    "## Blocks"
   ]
  },
  {
   "cell_type": "code",
   "execution_count": 37,
   "metadata": {},
   "outputs": [
    {
     "name": "stdout",
     "output_type": "stream",
     "text": [
      "Overwriting templates/base.html\n"
     ]
    }
   ],
   "source": [
    "%%writefile templates/base.html\n",
    "\n",
    "<HTML>\n",
    "    {% include 'header.html' %}\n",
    "  <BODY>\n",
    "    {% block finn %}{% endblock %}\n",
    "  </BODY>\n",
    "</HTML>"
   ]
  },
  {
   "cell_type": "code",
   "execution_count": 38,
   "metadata": {},
   "outputs": [
    {
     "name": "stdout",
     "output_type": "stream",
     "text": [
      "Writing templates/child.html\n"
     ]
    }
   ],
   "source": [
    "%%writefile templates/child.html\n",
    "\n",
    "{% extends \"base.html\" %}\n",
    "\n",
    "{% block finn %}\n",
    "  <p>\n",
    "  {{ body }}\n",
    "  </p>\n",
    "{% endblock %}"
   ]
  },
  {
   "cell_type": "code",
   "execution_count": 39,
   "metadata": {
    "scrolled": true
   },
   "outputs": [
    {
     "name": "stdout",
     "output_type": "stream",
     "text": [
      "\n",
      "\n",
      "<HTML>\n",
      "    \n",
      "<HEAD>\n",
      "  <TITLE>Hyperion</TITLE>\n",
      "</HEAD>\n",
      "  <BODY>\n",
      "    \n",
      "  <p>\n",
      "  This is maybe a little clunky, but youll get used to it\n",
      "  </p>\n",
      "\n",
      "  </BODY>\n",
      "</HTML>\n"
     ]
    }
   ],
   "source": [
    "template = env.get_template('child.html')\n",
    "output = template.render(title='Hyperion', body='This is maybe a little clunky, but youll get used to it')\n",
    "print(output)"
   ]
  },
  {
   "cell_type": "markdown",
   "metadata": {},
   "source": [
    "## Flask + Jinja2"
   ]
  },
  {
   "cell_type": "code",
   "execution_count": 40,
   "metadata": {},
   "outputs": [
    {
     "name": "stdout",
     "output_type": "stream",
     "text": [
      "Writing templates/index.html\n"
     ]
    }
   ],
   "source": [
    "%%writefile templates/index.html\n",
    "\n",
    "<!DOCTYPE html>\n",
    "<html>\n",
    "  <body>\n",
    "    <p>Hello {{ username }}</p>\n",
    "  </body>\n",
    "</html>"
   ]
  },
  {
   "cell_type": "code",
   "execution_count": 41,
   "metadata": {},
   "outputs": [
    {
     "name": "stdout",
     "output_type": "stream",
     "text": [
      "Writing username.py\n"
     ]
    }
   ],
   "source": [
    "%%writefile username.py\n",
    "\n",
    "from flask import Flask, render_template\n",
    "\n",
    "app = Flask(__name__, template_folder='templates')\n",
    "\n",
    "@app.route('/u/<username>')\n",
    "def index(username):\n",
    "    return render_template('index.html', username=username)\n",
    "\n",
    "if __name__ == '__main__':\n",
    "    app.run(debug=True)"
   ]
  },
  {
   "cell_type": "code",
   "execution_count": 42,
   "metadata": {},
   "outputs": [
    {
     "name": "stderr",
     "output_type": "stream",
     "text": [
      " * Running on http://127.0.0.1:5000/ (Press CTRL+C to quit)\n",
      " * Restarting with stat\n"
     ]
    }
   ],
   "source": [
    "%run username.py"
   ]
  },
  {
   "cell_type": "code",
   "execution_count": 43,
   "metadata": {},
   "outputs": [
    {
     "name": "stdout",
     "output_type": "stream",
     "text": [
      "Writing templates/index2.html\n"
     ]
    }
   ],
   "source": [
    "%%writefile templates/index2.html\n",
    "\n",
    "<!DOCTYPE html>\n",
    "<html>\n",
    "<head>\n",
    " <title>Hyperion</title>\n",
    "</head>\n",
    "<body>\n",
    "<ul>\n",
    " {% for kid in kids %}\n",
    " <li>{{ kid }}</li>\n",
    " {% endfor %}\n",
    "</ul>\n",
    " \n",
    "<ol>\n",
    " {% for sibling in siblings %}\n",
    " <li>{{ sibling }}</li>\n",
    " {% endfor %}\n",
    "</ol>\n",
    " \n",
    "</body>\n",
    "</html>"
   ]
  },
  {
   "cell_type": "code",
   "execution_count": 44,
   "metadata": {},
   "outputs": [],
   "source": [
    "kids = ['Selene', \"Eos\", \"Helios\"]"
   ]
  },
  {
   "cell_type": "code",
   "execution_count": 45,
   "metadata": {},
   "outputs": [],
   "source": [
    "siblings = ['Zeus', 'Posiedon', 'Ares']"
   ]
  },
  {
   "cell_type": "code",
   "execution_count": 46,
   "metadata": {},
   "outputs": [
    {
     "name": "stdout",
     "output_type": "stream",
     "text": [
      "Writing flask2.py\n"
     ]
    }
   ],
   "source": [
    "%%writefile flask2.py\n",
    "\n",
    "from flask import Flask, render_template\n",
    " \n",
    "app = Flask(__name__, template_folder='templates')\n",
    "\n",
    "@app.route('/')\n",
    "def index():\n",
    "    kids = ['Selene', \"Eos\", \"Helios\"]\n",
    "    siblings = ['Zeus', 'Posiedon', 'Ares']\n",
    "    return render_template('index2.html', kids=kids, siblings=siblings)\n",
    " \n",
    "if __name__ == '__main__':\n",
    "    app.run(debug=True, port=5001)"
   ]
  },
  {
   "cell_type": "code",
   "execution_count": 47,
   "metadata": {},
   "outputs": [
    {
     "name": "stderr",
     "output_type": "stream",
     "text": [
      " * Running on http://127.0.0.1:5001/ (Press CTRL+C to quit)\n",
      " * Restarting with stat\n"
     ]
    }
   ],
   "source": [
    "%run flask2.py"
   ]
  },
  {
   "cell_type": "code",
   "execution_count": 48,
   "metadata": {},
   "outputs": [
    {
     "ename": "SyntaxError",
     "evalue": "invalid syntax (<ipython-input-48-2e5eb5d91782>, line 2)",
     "output_type": "error",
     "traceback": [
      "\u001b[0;36m  File \u001b[0;32m\"<ipython-input-48-2e5eb5d91782>\"\u001b[0;36m, line \u001b[0;32m2\u001b[0m\n\u001b[0;31m    {'price': 3000, bedrooms=2},\u001b[0m\n\u001b[0m                            ^\u001b[0m\n\u001b[0;31mSyntaxError\u001b[0m\u001b[0;31m:\u001b[0m invalid syntax\n"
     ]
    }
   ],
   "source": [
    "listings = [\n",
    "    {'price': 3000, bedrooms=2},\n",
    "    {'price': 1500, bedrooms=0}\n",
    "    \n",
    "]"
   ]
  }
 ],
 "metadata": {
  "kernelspec": {
   "display_name": "Python 3",
   "language": "python",
   "name": "python3"
  },
  "language_info": {
   "codemirror_mode": {
    "name": "ipython",
    "version": 3
   },
   "file_extension": ".py",
   "mimetype": "text/x-python",
   "name": "python",
   "nbconvert_exporter": "python",
   "pygments_lexer": "ipython3",
   "version": "3.6.4"
  }
 },
 "nbformat": 4,
 "nbformat_minor": 2
}
