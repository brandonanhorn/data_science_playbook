{
 "cells": [
  {
   "cell_type": "markdown",
   "metadata": {},
   "source": [
    "# Introduction to Logistic Regression\n",
    "\n",
    "---\n",
    "\n",
    "### Learning Objectives\n",
    "- Distinguish between regression and classification problems.\n",
    "- Understand how logistic regression is similar to and different from linear regression.\n",
    "- Understand the math behind the logit link function (and logistic function).\n",
    "- Plot the logistic regression for predicting admittance from GPA.\n",
    "- Understand how to interpret the coefficients of logistic regression.\n",
    "- Know the benefits of logistic regression as a classifier."
   ]
  },
  {
   "cell_type": "markdown",
   "metadata": {},
   "source": [
    "<a id='introduction'></a>\n",
    "\n",
    "## Introduction\n",
    "\n",
    "---\n",
    "\n",
    "Logistic regression is a natural bridge to connect regression and classification.\n",
    "- Logistic regression is the most common binary classification algorithm.\n",
    "- Because it is a regression model, logistic regression will predict continuous values.\n",
    "    - Logistic regression will predict continuous probabilities between 0 and 1.\n",
    "    - Example: What is the probability that someone shows up to vote?\n",
    "- However, logistic regression almost always operates as a classification model.\n",
    "    - Logistic regression will use these continuous predictions to classify something as 0 or 1.\n",
    "    - Example: Based on the predicted probability, do we predict that someone votes?\n",
    "\n",
    "**Some examples of when logistic regression could be used:**\n",
    "- Will a user will purchase a product, given characteristics like income, age, and number of family members?\n",
    "- Does this patient have a specific disease based on their symptoms?\n",
    "- Will a person default on their loan?\n",
    "- Is the iris flower in front of me an \"_Iris versicolor_?\"\n",
    "- Given one's GPA and the prestige of a college, will a student be admitted to a specific graduate program?\n",
    "\n",
    "And many more."
   ]
  },
  {
   "cell_type": "code",
   "execution_count": 1,
   "metadata": {},
   "outputs": [],
   "source": [
    "import matplotlib.pyplot as plt\n",
    "import numpy as np\n",
    "import pandas as pd\n",
    "import seaborn as sns\n",
    "plt.style.use('fivethirtyeight')\n",
    "\n",
    "%matplotlib inline\n",
    "%config InlineBackend.figure_format = 'retina'\n",
    "\n",
    "from sklearn.linear_model import LogisticRegression, LinearRegression"
   ]
  },
  {
   "cell_type": "markdown",
   "metadata": {},
   "source": [
    "<a id='load-data'></a>\n",
    "\n",
    "## Graduate School Admissions\n",
    "\n",
    "---\n",
    "\n",
    "Today, we'll be applying logistic regression to solve the following problem: \"Given one's GPA and the prestige of a college, will a student be admitted to a specific graduate program?\""
   ]
  },
  {
   "cell_type": "code",
   "execution_count": 2,
   "metadata": {},
   "outputs": [],
   "source": [
    "# Read in the data.\n",
    "admissions = pd.read_csv('data/admissions.csv')"
   ]
  },
  {
   "cell_type": "code",
   "execution_count": 3,
   "metadata": {},
   "outputs": [
    {
     "data": {
      "text/html": [
       "<div>\n",
       "<style scoped>\n",
       "    .dataframe tbody tr th:only-of-type {\n",
       "        vertical-align: middle;\n",
       "    }\n",
       "\n",
       "    .dataframe tbody tr th {\n",
       "        vertical-align: top;\n",
       "    }\n",
       "\n",
       "    .dataframe thead th {\n",
       "        text-align: right;\n",
       "    }\n",
       "</style>\n",
       "<table border=\"1\" class=\"dataframe\">\n",
       "  <thead>\n",
       "    <tr style=\"text-align: right;\">\n",
       "      <th></th>\n",
       "      <th>admit</th>\n",
       "      <th>gre</th>\n",
       "      <th>gpa</th>\n",
       "      <th>prestige</th>\n",
       "    </tr>\n",
       "  </thead>\n",
       "  <tbody>\n",
       "    <tr>\n",
       "      <th>0</th>\n",
       "      <td>0</td>\n",
       "      <td>380.0</td>\n",
       "      <td>3.61</td>\n",
       "      <td>3.0</td>\n",
       "    </tr>\n",
       "    <tr>\n",
       "      <th>1</th>\n",
       "      <td>1</td>\n",
       "      <td>660.0</td>\n",
       "      <td>3.67</td>\n",
       "      <td>3.0</td>\n",
       "    </tr>\n",
       "    <tr>\n",
       "      <th>2</th>\n",
       "      <td>1</td>\n",
       "      <td>800.0</td>\n",
       "      <td>4.00</td>\n",
       "      <td>1.0</td>\n",
       "    </tr>\n",
       "    <tr>\n",
       "      <th>3</th>\n",
       "      <td>1</td>\n",
       "      <td>640.0</td>\n",
       "      <td>3.19</td>\n",
       "      <td>4.0</td>\n",
       "    </tr>\n",
       "    <tr>\n",
       "      <th>4</th>\n",
       "      <td>0</td>\n",
       "      <td>520.0</td>\n",
       "      <td>2.93</td>\n",
       "      <td>4.0</td>\n",
       "    </tr>\n",
       "  </tbody>\n",
       "</table>\n",
       "</div>"
      ],
      "text/plain": [
       "   admit    gre   gpa  prestige\n",
       "0      0  380.0  3.61       3.0\n",
       "1      1  660.0  3.67       3.0\n",
       "2      1  800.0  4.00       1.0\n",
       "3      1  640.0  3.19       4.0\n",
       "4      0  520.0  2.93       4.0"
      ]
     },
     "execution_count": 3,
     "metadata": {},
     "output_type": "execute_result"
    }
   ],
   "source": [
    "# Check first five rows.\n",
    "admissions.head()"
   ]
  },
  {
   "cell_type": "markdown",
   "metadata": {},
   "source": [
    "The four columns are:\n",
    "- `admit`: A binary 0/1 variable indicating whether or not a student was admitted, where 1 means admitted and 0 means not admitted.\n",
    "- `gre`: The student's [GRE (Graduate Record Exam)](https://en.wikipedia.org/wiki/Graduate_Record_Examinations) score.\n",
    "- `gpa`: The student's GPA.\n",
    "- `prestige`: A 1-4 rating for the college's \"prestige.\""
   ]
  },
  {
   "cell_type": "code",
   "execution_count": 4,
   "metadata": {},
   "outputs": [
    {
     "data": {
      "text/plain": [
       "admit       0\n",
       "gre         2\n",
       "gpa         2\n",
       "prestige    1\n",
       "dtype: int64"
      ]
     },
     "execution_count": 4,
     "metadata": {},
     "output_type": "execute_result"
    }
   ],
   "source": [
    "# Check for missing values.\n",
    "admissions.isnull().sum()"
   ]
  },
  {
   "cell_type": "code",
   "execution_count": 5,
   "metadata": {},
   "outputs": [
    {
     "data": {
      "text/plain": [
       "(400, 4)"
      ]
     },
     "execution_count": 5,
     "metadata": {},
     "output_type": "execute_result"
    }
   ],
   "source": [
    "admissions.shape"
   ]
  },
  {
   "cell_type": "code",
   "execution_count": 6,
   "metadata": {},
   "outputs": [],
   "source": [
    "# Drop every row that has an NA.\n",
    "admissions = admissions.dropna()"
   ]
  },
  {
   "cell_type": "markdown",
   "metadata": {},
   "source": [
    "<details><summary>What assumption are we making when we drop rows that have at least one NA in it?</summary>\n",
    "    \n",
    "- We assume that what we drop looks like what we have observed. That is, there's nothing special about the rows we happened to drop.\n",
    "- We might say that what we dropped is a random sample of our whole data.\n",
    "- It's not important to know this now, but the formal term is that our data is missing completely at random.\n",
    "</details>"
   ]
  },
  {
   "cell_type": "markdown",
   "metadata": {},
   "source": [
    "<details><summary>Suppose I want to check if a value of 1 for prestige means \"most prestigious\" or \"least prestigious.\" How might I find this out?</summary>\n",
    "    \n",
    "- Check a data dictionary to see if the answer exists.\n",
    "- If a data dictionary doesn't exist, compare prestige to admit. You could use [groupby](https://pandas.pydata.org/pandas-docs/version/0.22/generated/pandas.DataFrame.groupby.html) to make a table or you could use a plot.\n",
    "</details>"
   ]
  },
  {
   "cell_type": "code",
   "execution_count": 7,
   "metadata": {},
   "outputs": [
    {
     "data": {
      "text/plain": [
       "admit\n",
       "0    2.645756\n",
       "1    2.150794\n",
       "Name: prestige, dtype: float64"
      ]
     },
     "execution_count": 7,
     "metadata": {},
     "output_type": "execute_result"
    }
   ],
   "source": [
    "# Compare prestige to admit using groupby.\n",
    "# Find the mean prestige score of people who were and weren't admitted.\n",
    "\n",
    "admissions.groupby(by='admit')['prestige'].mean()"
   ]
  },
  {
   "cell_type": "code",
   "execution_count": 8,
   "metadata": {},
   "outputs": [
    {
     "data": {
      "text/plain": [
       "admit\n",
       "0    573.579336\n",
       "1    618.571429\n",
       "Name: gre, dtype: float64"
      ]
     },
     "execution_count": 8,
     "metadata": {},
     "output_type": "execute_result"
    }
   ],
   "source": [
    "admissions.groupby('admit')['gre'].mean()"
   ]
  },
  {
   "cell_type": "markdown",
   "metadata": {},
   "source": [
    "## Recap of Notation\n",
    "\n",
    "You're quite familiar with **linear** regression:\n",
    "\n",
    "### $$\n",
    "\\begin{eqnarray*}\n",
    "\\hat{Y} &=& \\hat{\\beta}_0 + \\hat{\\beta}_1X_1 + \\hat{\\beta}_2X_2 + \\cdots + \\hat{\\beta}_pX_p \\\\\n",
    "&=& \\hat{\\beta}_0 + \\sum_{j=1}^p\\hat{\\beta}_jX_j\n",
    "\\end{eqnarray*}\n",
    "$$\n",
    "\n",
    "Where:\n",
    "- $\\hat{Y}$ is the predicted value of $Y$ based on all of the inputs $X_j$.\n",
    "- $X_1$, $X_2$, $\\ldots$, $X_p$ are the predictors.\n",
    "- $\\hat{\\beta}_0$ is the estimated intercept.\n",
    "- $\\hat{\\beta}_j$ is the estimated coefficient for the predictor $X_j$, the $j$th column in variable matrix $\\mathbf{X}$.\n"
   ]
  },
  {
   "cell_type": "markdown",
   "metadata": {},
   "source": [
    "<a id='pred-admit'></a>\n",
    "\n",
    "## What If We Predicted `admit` With `gpa` Using Linear Regression?\n",
    "\n",
    "---\n",
    "\n",
    "Let's try predicting the `admit` binary indicator using just `gpa` with a linear regression to see what goes wrong."
   ]
  },
  {
   "cell_type": "code",
   "execution_count": 9,
   "metadata": {},
   "outputs": [],
   "source": [
    "admit = admissions"
   ]
  },
  {
   "cell_type": "code",
   "execution_count": 10,
   "metadata": {},
   "outputs": [
    {
     "name": "stdout",
     "output_type": "stream",
     "text": [
      "Intercept: -0.7247420986411002\n",
      "Coefficient: [0.29798918]\n"
     ]
    }
   ],
   "source": [
    "y = admit['admit']\n",
    "X = admit[['gpa']]\n",
    "\n",
    "from sklearn.model_selection import train_test_split\n",
    "\n",
    "X_train, X_test, y_train, y_test = train_test_split(X, y, test_size=0.33, random_state=42)\n",
    "\n",
    "\n",
    "linmod = LinearRegression()\n",
    "linmod.fit(X_train, y_train)\n",
    "\n",
    "print(f'Intercept: {linmod.intercept_}')\n",
    "print(f'Coefficient: {linmod.coef_}')"
   ]
  },
  {
   "cell_type": "markdown",
   "metadata": {},
   "source": [
    "<a id='plot-reg'></a>\n",
    "### What do those coefficients mean?  Plot `admit` (our $Y$) against `gpa` (our $X$).\n",
    "\n",
    "Looking at the plot below, what are problems with using a regression?"
   ]
  },
  {
   "cell_type": "code",
   "execution_count": 11,
   "metadata": {},
   "outputs": [
    {
     "data": {
      "image/png": "[encoded data removed]",
      "text/plain": [
       "<matplotlib.figure.Figure at 0x7f805a81b240>"
      ]
     },
     "metadata": {
      "image/png": {
       "height": 394,
       "width": 696
      }
     },
     "output_type": "display_data"
    }
   ],
   "source": [
    "fig, ax = plt.subplots(figsize=(10,6))\n",
    "\n",
    "x_vals = np.linspace(1, 5, 300)\n",
    "\n",
    "ax.plot(x_vals,\n",
    "        linmod.predict(x_vals[:, np.newaxis]),\n",
    "        color='black', alpha=0.7, lw=4)\n",
    "\n",
    "ax.scatter(admit['gpa'][admit['admit'] == 0],\n",
    "           admit['admit'][admit['admit'] == 0],\n",
    "           c='orange',\n",
    "           s=100,\n",
    "           alpha=0.1,\n",
    "           label='rejected')\n",
    "\n",
    "ax.scatter(admit['gpa'][admit['admit'] == 1],\n",
    "           admit['admit'][admit['admit'] == 1],\n",
    "           c='blue',\n",
    "           s=100,\n",
    "           alpha=0.1,\n",
    "           label='admitted')\n",
    "\n",
    "ax.set_ylabel('admitted', fontsize=16)\n",
    "ax.set_xlabel('gpa', fontsize=16)\n",
    "ax.set_title('Predicting Admission from GPA (Prestige = 1)', fontsize=20)\n",
    "\n",
    "ax.set_xlim(1.5, 5)\n",
    "ax.set_ylim(-0.25, 1.25)\n",
    "\n",
    "plt.legend(loc='upper left')\n",
    "plt.show()"
   ]
  },
  {
   "cell_type": "markdown",
   "metadata": {},
   "source": [
    "#### **Note:** Unless we predict exactly one value, linear regression will always predict values between $-\\infty$ and $+\\infty$. There are real-world cases when this is inappropriate... because we may want to just make predictions on a smaller set or range of values."
   ]
  },
  {
   "cell_type": "markdown",
   "metadata": {},
   "source": [
    "<a id='pred-binary'></a>\n",
    "\n",
    "## Predicting a Binary Class\n",
    "\n",
    "---\n",
    "\n",
    "In our case we have two classes: `1=admitted` and `0=rejected`.\n",
    "\n",
    "The logistic regression is still solving for $\\hat{Y}$. However, in our binary classification case, $\\hat{Y}$ will be the probability of `y` being one of the classes.\n",
    "\n",
    "### $$\\hat{Y} = P(Y = 1)$$\n",
    "\n",
    "We'll still try to fit a \"line\" of best fit to this... except it won't be perfectly linear. We need to *guarantee* that the right-hand side of the regression equation will evaluate to a probability estimate."
   ]
  },
  {
   "cell_type": "markdown",
   "metadata": {},
   "source": [
    "## The Logit Link Function (advanced)\n",
    "\n",
    "---\n",
    "\n",
    "We will use something called a **link function** to effectively \"bend\" our line of best fit so that it is a curve of best fit that matches the range or set of values in which we're interested.\n",
    "\n",
    "For logistic regression, that specific link function that transforms (\"bends\") our line is known as the **logit** link.\n",
    "\n",
    "### $$\\text{logit}\\left(P(y = 1)\\right) = \\beta_0 + \\beta_1x_1 + \\beta_2x_2 + \\cdots + \\beta_px_p$$\n",
    "\n",
    "### $$\\ln\\left(\\frac{P(y = 1)}{1 - P(y = 1)}\\right) = \\beta_0 + \\beta_1x_1 + \\beta_2x_2 + \\cdots + \\beta_px_p$$\n",
    "\n",
    "Equivalently, we assume that each independent variable $X_i$ is linearly related to the **log of the odds of success**.\n",
    "\n",
    "Remember, the purpose of the link function is to bend our line of best fit.\n",
    "- This is convenient because we can have any values of $X$ inputs that we want, and we'll only ever predict between 0 and 1!\n",
    "- However, interpreting a one-unit change gets a little harder. (More on this later.)"
   ]
  },
  {
   "cell_type": "markdown",
   "metadata": {},
   "source": [
    "<a id='logistic-viz'></a>\n",
    "\n",
    "## Fitting and making predictions with the logistic regression model.\n",
    "\n",
    "---"
   ]
  },
  {
   "cell_type": "code",
   "execution_count": 12,
   "metadata": {
    "scrolled": true
   },
   "outputs": [
    {
     "name": "stdout",
     "output_type": "stream",
     "text": [
      "Logistic Regression Intercept: [-5.67106435]\n",
      "Logistic Regression Coefficient: [[1.38460676]]\n"
     ]
    }
   ],
   "source": [
    "logreg = LogisticRegression(solver='lbfgs')\n",
    "logreg.fit(X_train, y_train)\n",
    "\n",
    "print(f'Logistic Regression Intercept: {logreg.intercept_}')\n",
    "print(f'Logistic Regression Coefficient: {logreg.coef_}')"
   ]
  },
  {
   "cell_type": "markdown",
   "metadata": {},
   "source": [
    "There are two methods in `sklearn` we will use **a lot** for the rest of this course and beyond:\n",
    "- `.predict()`\n",
    "- `.predict_proba()`"
   ]
  },
  {
   "cell_type": "code",
   "execution_count": 13,
   "metadata": {},
   "outputs": [
    {
     "data": {
      "text/html": [
       "<div>\n",
       "<style scoped>\n",
       "    .dataframe tbody tr th:only-of-type {\n",
       "        vertical-align: middle;\n",
       "    }\n",
       "\n",
       "    .dataframe tbody tr th {\n",
       "        vertical-align: top;\n",
       "    }\n",
       "\n",
       "    .dataframe thead th {\n",
       "        text-align: right;\n",
       "    }\n",
       "</style>\n",
       "<table border=\"1\" class=\"dataframe\">\n",
       "  <thead>\n",
       "    <tr style=\"text-align: right;\">\n",
       "      <th></th>\n",
       "      <th>gpa</th>\n",
       "    </tr>\n",
       "  </thead>\n",
       "  <tbody>\n",
       "    <tr>\n",
       "      <th>175</th>\n",
       "      <td>3.37</td>\n",
       "    </tr>\n",
       "    <tr>\n",
       "      <th>119</th>\n",
       "      <td>2.92</td>\n",
       "    </tr>\n",
       "    <tr>\n",
       "      <th>377</th>\n",
       "      <td>4.00</td>\n",
       "    </tr>\n",
       "    <tr>\n",
       "      <th>329</th>\n",
       "      <td>2.93</td>\n",
       "    </tr>\n",
       "    <tr>\n",
       "      <th>141</th>\n",
       "      <td>3.52</td>\n",
       "    </tr>\n",
       "  </tbody>\n",
       "</table>\n",
       "</div>"
      ],
      "text/plain": [
       "      gpa\n",
       "175  3.37\n",
       "119  2.92\n",
       "377  4.00\n",
       "329  2.93\n",
       "141  3.52"
      ]
     },
     "execution_count": 13,
     "metadata": {},
     "output_type": "execute_result"
    }
   ],
   "source": [
    "X_train.head()"
   ]
  },
  {
   "cell_type": "code",
   "execution_count": 14,
   "metadata": {},
   "outputs": [
    {
     "data": {
      "text/plain": [
       "0.6826196473551638"
      ]
     },
     "execution_count": 14,
     "metadata": {},
     "output_type": "execute_result"
    }
   ],
   "source": [
    "admit['admit'].value_counts()\n",
    "\n",
    "1-admit['admit'].mean()"
   ]
  },
  {
   "cell_type": "code",
   "execution_count": 15,
   "metadata": {},
   "outputs": [
    {
     "data": {
      "text/html": [
       "<div>\n",
       "<style scoped>\n",
       "    .dataframe tbody tr th:only-of-type {\n",
       "        vertical-align: middle;\n",
       "    }\n",
       "\n",
       "    .dataframe tbody tr th {\n",
       "        vertical-align: top;\n",
       "    }\n",
       "\n",
       "    .dataframe thead th {\n",
       "        text-align: right;\n",
       "    }\n",
       "</style>\n",
       "<table border=\"1\" class=\"dataframe\">\n",
       "  <thead>\n",
       "    <tr style=\"text-align: right;\">\n",
       "      <th></th>\n",
       "      <th>gpa</th>\n",
       "    </tr>\n",
       "  </thead>\n",
       "  <tbody>\n",
       "    <tr>\n",
       "      <th>175</th>\n",
       "      <td>3.37</td>\n",
       "    </tr>\n",
       "    <tr>\n",
       "      <th>119</th>\n",
       "      <td>2.92</td>\n",
       "    </tr>\n",
       "    <tr>\n",
       "      <th>377</th>\n",
       "      <td>4.00</td>\n",
       "    </tr>\n",
       "    <tr>\n",
       "      <th>329</th>\n",
       "      <td>2.93</td>\n",
       "    </tr>\n",
       "    <tr>\n",
       "      <th>141</th>\n",
       "      <td>3.52</td>\n",
       "    </tr>\n",
       "  </tbody>\n",
       "</table>\n",
       "</div>"
      ],
      "text/plain": [
       "      gpa\n",
       "175  3.37\n",
       "119  2.92\n",
       "377  4.00\n",
       "329  2.93\n",
       "141  3.52"
      ]
     },
     "execution_count": 15,
     "metadata": {},
     "output_type": "execute_result"
    }
   ],
   "source": [
    "X_train.head()"
   ]
  },
  {
   "cell_type": "code",
   "execution_count": 16,
   "metadata": {},
   "outputs": [
    {
     "name": "stdout",
     "output_type": "stream",
     "text": [
      "Logreg predicted values: [0 0 0 0 0]\n"
     ]
    }
   ],
   "source": [
    "print(f'Logreg predicted values: {logreg.predict(X_train.head())}')"
   ]
  },
  {
   "cell_type": "code",
   "execution_count": 17,
   "metadata": {},
   "outputs": [
    {
     "data": {
      "text/plain": [
       "array([0, 0, 0, 0, 0, 0, 0, 0, 0, 0, 0, 0, 0, 0, 0, 0, 0, 0, 0, 0, 0, 0,\n",
       "       0, 0, 0, 0, 0, 0, 0, 0, 0, 0, 0, 0, 0, 0, 0, 0, 0, 0, 0, 0, 0, 0,\n",
       "       0, 0, 0, 0, 0, 0, 0, 0, 0, 0, 0, 0, 0, 0, 0, 0, 0, 0, 0, 0, 0, 0,\n",
       "       0, 0, 0, 0, 0, 0, 0, 0, 0, 0, 0, 0, 0, 0, 0, 0, 0, 0, 0, 0, 0, 0,\n",
       "       0, 0, 0, 0, 0, 0, 0, 0, 0, 0, 0, 0, 0, 0, 0, 0, 0, 0, 0, 0, 0, 0,\n",
       "       0, 0, 0, 0, 0, 0, 0, 0, 0, 0, 0, 0, 0, 0, 0, 0, 0, 0, 0, 0, 0, 0,\n",
       "       0, 0, 0, 0, 0, 0, 0, 0, 0, 0, 0, 0, 0, 0, 0, 0, 0, 0, 0, 0, 0, 0,\n",
       "       0, 0, 0, 0, 0, 0, 0, 0, 0, 0, 0, 0, 0, 0, 0, 0, 0, 0, 0, 0, 0, 0,\n",
       "       0, 0, 0, 0, 0, 0, 0, 0, 0, 0, 0, 0, 0, 0, 0, 0, 0, 0, 0, 0, 0, 0,\n",
       "       0, 0, 0, 0, 0, 0, 0, 0, 0, 0, 0, 0, 0, 0, 0, 0, 0, 0, 0, 0, 0, 0,\n",
       "       0, 0, 0, 0, 0, 0, 0, 0, 0, 0, 0, 0, 0, 0, 0, 0, 0, 0, 0, 0, 0, 0,\n",
       "       0, 0, 0, 0, 0, 0, 0, 0, 0, 0, 0, 0, 0, 0, 0, 0, 0, 0, 0, 0, 0, 0,\n",
       "       0])"
      ]
     },
     "execution_count": 17,
     "metadata": {},
     "output_type": "execute_result"
    }
   ],
   "source": [
    "logreg.predict(X_train)"
   ]
  },
  {
   "cell_type": "code",
   "execution_count": 18,
   "metadata": {},
   "outputs": [
    {
     "name": "stdout",
     "output_type": "stream",
     "text": [
      "Logreg predicted probabilities: [[0.73202865 0.26797135]\n",
      " [0.8358972  0.1641028 ]\n",
      " [0.5331108  0.4668892 ]\n",
      " [0.83398905 0.16601095]\n",
      " [0.68938561 0.31061439]]\n"
     ]
    }
   ],
   "source": [
    "print(f'Logreg predicted probabilities: {logreg.predict_proba(X_train.head())}')"
   ]
  },
  {
   "cell_type": "code",
   "execution_count": 19,
   "metadata": {},
   "outputs": [
    {
     "data": {
      "text/plain": [
       "array([[0.73202865, 0.26797135],\n",
       "       [0.8358972 , 0.1641028 ],\n",
       "       [0.5331108 , 0.4668892 ],\n",
       "       [0.83398905, 0.16601095],\n",
       "       [0.68938561, 0.31061439],\n",
       "       [0.55372028, 0.44627972],\n",
       "       [0.79203655, 0.20796345],\n",
       "       [0.76334241, 0.23665759],\n",
       "       [0.67132239, 0.32867761],\n",
       "       [0.63367594, 0.36632406],\n",
       "       [0.85573629, 0.14426371],\n",
       "       [0.7040125 , 0.2959875 ],\n",
       "       [0.66826006, 0.33173994],\n",
       "       [0.85401854, 0.14598146],\n",
       "       [0.72102574, 0.27897426],\n",
       "       [0.5331108 , 0.4668892 ],\n",
       "       [0.70111914, 0.29888086],\n",
       "       [0.82418116, 0.17581884],\n",
       "       [0.92702429, 0.07297571],\n",
       "       [0.79430798, 0.20569202],\n",
       "       [0.62072699, 0.37927301],\n",
       "       [0.5331108 , 0.4668892 ],\n",
       "       [0.75575661, 0.24424339],\n",
       "       [0.55372028, 0.44627972],\n",
       "       [0.80538883, 0.19461117],\n",
       "       [0.5707579 , 0.4292421 ],\n",
       "       [0.59765713, 0.40234287],\n",
       "       [0.88099185, 0.11900815],\n",
       "       [0.81601101, 0.18398899],\n",
       "       [0.68938561, 0.31061439],\n",
       "       [0.75575661, 0.24424339],\n",
       "       [0.5331108 , 0.4668892 ],\n",
       "       [0.5365555 , 0.4634445 ],\n",
       "       [0.86887952, 0.13112048],\n",
       "       [0.87200233, 0.12799767],\n",
       "       [0.81601101, 0.18398899],\n",
       "       [0.56736244, 0.43263756],\n",
       "       [0.62398121, 0.37601879],\n",
       "       [0.82418116, 0.17581884],\n",
       "       [0.68938561, 0.31061439],\n",
       "       [0.7238023 , 0.2761977 ],\n",
       "       [0.85228386, 0.14771614],\n",
       "       [0.67437023, 0.32562977],\n",
       "       [0.71823213, 0.28176787],\n",
       "       [0.63688405, 0.36311595],\n",
       "       [0.77802066, 0.22197934],\n",
       "       [0.83966057, 0.16033943],\n",
       "       [0.7238023 , 0.2761977 ],\n",
       "       [0.84876341, 0.15123659],\n",
       "       [0.75060883, 0.24939117],\n",
       "       [0.6952841 , 0.3047159 ],\n",
       "       [0.72930385, 0.27069615],\n",
       "       [0.61089999, 0.38910001],\n",
       "       [0.5331108 , 0.4668892 ],\n",
       "       [0.66826006, 0.33173994],\n",
       "       [0.72930385, 0.27069615],\n",
       "       [0.7238023 , 0.2761977 ],\n",
       "       [0.68641296, 0.31358704],\n",
       "       [0.74538911, 0.25461089],\n",
       "       [0.80101169, 0.19898831],\n",
       "       [0.56055279, 0.43944721],\n",
       "       [0.77562018, 0.22437982],\n",
       "       [0.61089999, 0.38910001],\n",
       "       [0.64959277, 0.35040723],\n",
       "       [0.5331108 , 0.4668892 ],\n",
       "       [0.58762949, 0.41237051],\n",
       "       [0.76334241, 0.23665759],\n",
       "       [0.7265617 , 0.2734383 ],\n",
       "       [0.6952841 , 0.3047159 ],\n",
       "       [0.79879554, 0.20120446],\n",
       "       [0.78743836, 0.21256164],\n",
       "       [0.79203655, 0.20796345],\n",
       "       [0.77076407, 0.22923593],\n",
       "       [0.74275243, 0.25724757],\n",
       "       [0.66518343, 0.33481657],\n",
       "       [0.5365555 , 0.4634445 ],\n",
       "       [0.8201323 , 0.1798677 ],\n",
       "       [0.81808073, 0.18191927],\n",
       "       [0.89476047, 0.10523953],\n",
       "       [0.78743836, 0.21256164],\n",
       "       [0.62722427, 0.37277573],\n",
       "       [0.5331108 , 0.4668892 ],\n",
       "       [0.8201323 , 0.1798677 ],\n",
       "       [0.88527848, 0.11472152],\n",
       "       [0.78743836, 0.21256164],\n",
       "       [0.81601101, 0.18398899],\n",
       "       [0.75060883, 0.24939117],\n",
       "       [0.68042168, 0.31957832],\n",
       "       [0.74275243, 0.25724757],\n",
       "       [0.63688405, 0.36311595],\n",
       "       [0.74800793, 0.25199207],\n",
       "       [0.65586971, 0.34413029],\n",
       "       [0.72930385, 0.27069615],\n",
       "       [0.5331108 , 0.4668892 ],\n",
       "       [0.60098205, 0.39901795],\n",
       "       [0.5365555 , 0.4634445 ],\n",
       "       [0.8780577 , 0.1219423 ],\n",
       "       [0.5331108 , 0.4668892 ],\n",
       "       [0.66209269, 0.33790731],\n",
       "       [0.62072699, 0.37927301],\n",
       "       [0.69234271, 0.30765729],\n",
       "       [0.67132239, 0.32867761],\n",
       "       [0.74009796, 0.25990204],\n",
       "       [0.70688956, 0.29311044],\n",
       "       [0.60760375, 0.39239625],\n",
       "       [0.73742579, 0.26257421],\n",
       "       [0.62072699, 0.37927301],\n",
       "       [0.70975017, 0.29024983],\n",
       "       [0.87506146, 0.12493854],\n",
       "       [0.75319175, 0.24680825],\n",
       "       [0.83778769, 0.16221231],\n",
       "       [0.60760375, 0.39239625],\n",
       "       [0.79203655, 0.20796345],\n",
       "       [0.62398121, 0.37601879],\n",
       "       [0.65586971, 0.34413029],\n",
       "       [0.80320945, 0.19679055],\n",
       "       [0.78276638, 0.21723362],\n",
       "       [0.85912137, 0.14087863],\n",
       "       [0.66518343, 0.33481657],\n",
       "       [0.83206317, 0.16793683],\n",
       "       [0.65586971, 0.34413029],\n",
       "       [0.66826006, 0.33173994],\n",
       "       [0.80538883, 0.19461117],\n",
       "       [0.82418116, 0.17581884],\n",
       "       [0.56396063, 0.43603937],\n",
       "       [0.66209269, 0.33790731],\n",
       "       [0.59432321, 0.40567679],\n",
       "       [0.5331108 , 0.4668892 ],\n",
       "       [0.80969256, 0.19030744],\n",
       "       [0.77076407, 0.22923593],\n",
       "       [0.69234271, 0.30765729],\n",
       "       [0.55372028, 0.44627972],\n",
       "       [0.75575661, 0.24424339],\n",
       "       [0.74800793, 0.25199207],\n",
       "       [0.7040125 , 0.2959875 ],\n",
       "       [0.74275243, 0.25724757],\n",
       "       [0.79203655, 0.20796345],\n",
       "       [0.77076407, 0.22923593],\n",
       "       [0.7238023 , 0.2761977 ],\n",
       "       [0.70688956, 0.29311044],\n",
       "       [0.74275243, 0.25724757],\n",
       "       [0.74538911, 0.25461089],\n",
       "       [0.69820963, 0.30179037],\n",
       "       [0.65586971, 0.34413029],\n",
       "       [0.55029623, 0.44970377],\n",
       "       [0.82815798, 0.17184202],\n",
       "       [0.83398905, 0.16601095],\n",
       "       [0.59765713, 0.40234287],\n",
       "       [0.63688405, 0.36311595],\n",
       "       [0.78743836, 0.21256164],\n",
       "       [0.71542158, 0.28457842],\n",
       "       [0.8139231 , 0.1860769 ],\n",
       "       [0.83778769, 0.16221231],\n",
       "       [0.85573629, 0.14426371],\n",
       "       [0.84335381, 0.15664619],\n",
       "       [0.65273788, 0.34726212],\n",
       "       [0.74538911, 0.25461089],\n",
       "       [0.82617855, 0.17382145],\n",
       "       [0.7238023 , 0.2761977 ],\n",
       "       [0.55029623, 0.44970377],\n",
       "       [0.77562018, 0.22437982],\n",
       "       [0.75830338, 0.24169662],\n",
       "       [0.62072699, 0.37927301],\n",
       "       [0.64959277, 0.35040723],\n",
       "       [0.72930385, 0.27069615],\n",
       "       [0.55029623, 0.44970377],\n",
       "       [0.86078887, 0.13921113],\n",
       "       [0.67740339, 0.32259661],\n",
       "       [0.76830848, 0.23169152],\n",
       "       [0.7238023 , 0.2761977 ],\n",
       "       [0.64326362, 0.35673638],\n",
       "       [0.67437023, 0.32562977],\n",
       "       [0.77802066, 0.22197934],\n",
       "       [0.7265617 , 0.2734383 ],\n",
       "       [0.5331108 , 0.4668892 ],\n",
       "       [0.53999672, 0.46000328],\n",
       "       [0.5331108 , 0.4668892 ],\n",
       "       [0.89860824, 0.10139176],\n",
       "       [0.91054568, 0.08945432],\n",
       "       [0.83398905, 0.16601095],\n",
       "       [0.8735398 , 0.1264602 ],\n",
       "       [0.82418116, 0.17581884],\n",
       "       [0.70975017, 0.29024983],\n",
       "       [0.8735398 , 0.1264602 ],\n",
       "       [0.70975017, 0.29024983],\n",
       "       [0.78511159, 0.21488841],\n",
       "       [0.67740339, 0.32259661],\n",
       "       [0.6952841 , 0.3047159 ],\n",
       "       [0.73473599, 0.26526401],\n",
       "       [0.68938561, 0.31061439],\n",
       "       [0.80969256, 0.19030744],\n",
       "       [0.86078887, 0.13921113],\n",
       "       [0.78276638, 0.21723362],\n",
       "       [0.64326362, 0.35673638],\n",
       "       [0.5331108 , 0.4668892 ],\n",
       "       [0.6952841 , 0.3047159 ],\n",
       "       [0.74800793, 0.25199207],\n",
       "       [0.66826006, 0.33173994],\n",
       "       [0.68342493, 0.31657507],\n",
       "       [0.61089999, 0.38910001],\n",
       "       [0.77802066, 0.22197934],\n",
       "       [0.82617855, 0.17382145],\n",
       "       [0.75830338, 0.24169662],\n",
       "       [0.64326362, 0.35673638],\n",
       "       [0.73742579, 0.26257421],\n",
       "       [0.83966057, 0.16033943],\n",
       "       [0.68342493, 0.31657507],\n",
       "       [0.78974668, 0.21025332],\n",
       "       [0.76583459, 0.23416541],\n",
       "       [0.65273788, 0.34726212],\n",
       "       [0.55029623, 0.44970377],\n",
       "       [0.73202865, 0.26797135],\n",
       "       [0.65273788, 0.34726212],\n",
       "       [0.81181696, 0.18818304],\n",
       "       [0.80320945, 0.19679055],\n",
       "       [0.63045593, 0.36954407],\n",
       "       [0.75575661, 0.24424339],\n",
       "       [0.61089999, 0.38910001],\n",
       "       [0.76583459, 0.23416541],\n",
       "       [0.66826006, 0.33173994],\n",
       "       [0.61746187, 0.38253813],\n",
       "       [0.8301195 , 0.1698805 ],\n",
       "       [0.82418116, 0.17581884],\n",
       "       [0.5331108 , 0.4668892 ],\n",
       "       [0.81808073, 0.18191927],\n",
       "       [0.74009796, 0.25990204],\n",
       "       [0.74009796, 0.25990204],\n",
       "       [0.58090321, 0.41909679],\n",
       "       [0.68641296, 0.31358704],\n",
       "       [0.83206317, 0.16793683],\n",
       "       [0.88386475, 0.11613525],\n",
       "       [0.80538883, 0.19461117],\n",
       "       [0.65898805, 0.34101195],\n",
       "       [0.64959277, 0.35040723],\n",
       "       [0.90354415, 0.09645585],\n",
       "       [0.60098205, 0.39901795],\n",
       "       [0.84697748, 0.15302252],\n",
       "       [0.73742579, 0.26257421],\n",
       "       [0.65586971, 0.34413029],\n",
       "       [0.8201323 , 0.1798677 ],\n",
       "       [0.79203655, 0.20796345],\n",
       "       [0.78974668, 0.21025332],\n",
       "       [0.61418612, 0.38581388],\n",
       "       [0.78511159, 0.21488841],\n",
       "       [0.73742579, 0.26257421],\n",
       "       [0.79656097, 0.20343903],\n",
       "       [0.64326362, 0.35673638],\n",
       "       [0.74800793, 0.25199207],\n",
       "       [0.78276638, 0.21723362],\n",
       "       [0.72930385, 0.27069615],\n",
       "       [0.78974668, 0.21025332],\n",
       "       [0.74800793, 0.25199207],\n",
       "       [0.69820963, 0.30179037],\n",
       "       [0.70111914, 0.29888086],\n",
       "       [0.71542158, 0.28457842],\n",
       "       [0.83966057, 0.16033943],\n",
       "       [0.8780577 , 0.1219423 ],\n",
       "       [0.5707579 , 0.4292421 ],\n",
       "       [0.78276638, 0.21723362],\n",
       "       [0.73742579, 0.26257421],\n",
       "       [0.8358972 , 0.1641028 ],\n",
       "       [0.67740339, 0.32259661],\n",
       "       [0.74538911, 0.25461089],\n",
       "       [0.71542158, 0.28457842],\n",
       "       [0.74275243, 0.25724757]])"
      ]
     },
     "execution_count": 19,
     "metadata": {},
     "output_type": "execute_result"
    }
   ],
   "source": [
    "logreg.predict_proba(X_train)"
   ]
  },
  {
   "cell_type": "code",
   "execution_count": 20,
   "metadata": {},
   "outputs": [],
   "source": [
    "yhats = logreg.predict_proba(X_train)[:,1]"
   ]
  },
  {
   "cell_type": "code",
   "execution_count": 21,
   "metadata": {},
   "outputs": [
    {
     "data": {
      "text/plain": [
       "array([0, 0, 1, 0, 0, 1, 0, 0, 0, 0, 0, 0, 0, 0, 0, 1, 0, 0, 0, 0, 0, 1,\n",
       "       0, 1, 0, 1, 1, 0, 0, 0, 0, 1, 1, 0, 0, 0, 1, 0, 0, 0, 0, 0, 0, 0,\n",
       "       0, 0, 0, 0, 0, 0, 0, 0, 0, 1, 0, 0, 0, 0, 0, 0, 1, 0, 0, 0, 1, 1,\n",
       "       0, 0, 0, 0, 0, 0, 0, 0, 0, 1, 0, 0, 0, 0, 0, 1, 0, 0, 0, 0, 0, 0,\n",
       "       0, 0, 0, 0, 0, 1, 0, 1, 0, 1, 0, 0, 0, 0, 0, 0, 0, 0, 0, 0, 0, 0,\n",
       "       0, 0, 0, 0, 0, 0, 0, 0, 0, 0, 0, 0, 0, 0, 1, 0, 1, 1, 0, 0, 0, 1,\n",
       "       0, 0, 0, 0, 0, 0, 0, 0, 0, 0, 0, 0, 1, 0, 0, 1, 0, 0, 0, 0, 0, 0,\n",
       "       0, 0, 0, 0, 0, 1, 0, 0, 0, 0, 0, 1, 0, 0, 0, 0, 0, 0, 0, 0, 1, 1,\n",
       "       1, 0, 0, 0, 0, 0, 0, 0, 0, 0, 0, 0, 0, 0, 0, 0, 0, 0, 1, 0, 0, 0,\n",
       "       0, 0, 0, 0, 0, 0, 0, 0, 0, 0, 0, 0, 1, 0, 0, 0, 0, 0, 0, 0, 0, 0,\n",
       "       0, 0, 0, 1, 0, 0, 0, 1, 0, 0, 0, 0, 0, 0, 0, 0, 0, 0, 0, 0, 0, 0,\n",
       "       0, 0, 0, 0, 0, 0, 0, 0, 0, 0, 0, 0, 0, 0, 0, 1, 0, 0, 0, 0, 0, 0,\n",
       "       0])"
      ]
     },
     "execution_count": 21,
     "metadata": {},
     "output_type": "execute_result"
    }
   ],
   "source": [
    "np.where(yhats > 0.4, 1, 0)"
   ]
  },
  {
   "cell_type": "markdown",
   "metadata": {},
   "source": [
    "<a id='log-odds'></a>\n",
    "\n",
    "### Using the log-odds —the natural logarithm of the odds.\n",
    "\n",
    "The combination of converting the \"probability of success\" to \"odds of success,\" then taking the logarithm of that is called the **logit link function**.\n",
    "\n",
    "### $$\\text{logit}\\big(P(Y=1)\\big) = ln\\bigg(\\frac{P(Y=1)}{1-P(Y=1)}\\bigg) = \\beta_0 + \\beta_1X_1 + \\beta_2X_2 + \\cdots + \\beta_pX_p$$\n",
    "\n",
    "We've bent our line how we want... but how do we interpret our coefficients?"
   ]
  },
  {
   "cell_type": "markdown",
   "metadata": {},
   "source": [
    "---\n",
    "<a id='odds-ratios'></a>\n",
    "### Odds\n",
    "\n",
    "Probabilities and odds represent the same thing in different ways. The odds for probability **p** is defined as:\n",
    "\n",
    "### $$\\text{odds}(p) = \\frac{p}{1-p}$$\n",
    "\n",
    "The odds of a probability is a measure of how many times more likely it is than the inverse case.\n",
    "\n",
    "For example, suppose I'm looking at the probability and odds of a specific horse, \"Secretariat,\" winning a race.\n",
    "\n",
    "- When **`p = 0.5`**: **`odds = 1`**\n",
    "    - The horse Secretariat is as likely to win as it is to lose.\n",
    "- When **`p = 0.75`**: **`odds = 3`**\n",
    "    - The horse Secretariat is three times as likely to win as it is to lose.\n",
    "- When **`p = 0.40`**: **`odds = 0.666..`**\n",
    "   - The horse Secretariat is two-thirds as likely to win as it is to lose."
   ]
  },
  {
   "cell_type": "code",
   "execution_count": 22,
   "metadata": {},
   "outputs": [],
   "source": [
    "def odds(p):\n",
    "    return (p / (1 - p))"
   ]
  },
  {
   "cell_type": "code",
   "execution_count": 23,
   "metadata": {},
   "outputs": [
    {
     "ename": "SyntaxError",
     "evalue": "invalid syntax (<ipython-input-23-ba6c320c6223>, line 1)",
     "output_type": "error",
     "traceback": [
      "\u001b[0;36m  File \u001b[0;32m\"<ipython-input-23-ba6c320c6223>\"\u001b[0;36m, line \u001b[0;32m1\u001b[0m\n\u001b[0;31m    odds(0.75) -> 3/4 ... 3 thing happens ... 1 time the thing doesn't\u001b[0m\n\u001b[0m                ^\u001b[0m\n\u001b[0;31mSyntaxError\u001b[0m\u001b[0;31m:\u001b[0m invalid syntax\n"
     ]
    }
   ],
   "source": [
    "#odds(0.75) -> 3/4 ... 3 thing happens ... 1 time the thing doesn't"
   ]
  },
  {
   "cell_type": "code",
   "execution_count": 24,
   "metadata": {},
   "outputs": [
    {
     "data": {
      "text/plain": [
       "0.11111111111111112"
      ]
     },
     "execution_count": 24,
     "metadata": {},
     "output_type": "execute_result"
    }
   ],
   "source": [
    "odds(0.10)"
   ]
  },
  {
   "cell_type": "code",
   "execution_count": 25,
   "metadata": {},
   "outputs": [
    {
     "data": {
      "image/png": "[encoded data removed]",
      "text/plain": [
       "<matplotlib.figure.Figure at 0x7f805adb1208>"
      ]
     },
     "metadata": {
      "image/png": {
       "height": 390,
       "width": 792
      }
     },
     "output_type": "display_data"
    }
   ],
   "source": [
    "probabilities = np.linspace(0.005, .99, 200)\n",
    "\n",
    "odds_list = [odds(proba) for proba in probabilities]\n",
    "\n",
    "plt.figure(figsize=(11,6))\n",
    "\n",
    "plt.plot(probabilities,odds_list)\n",
    "\n",
    "plt.vlines(.5, 0, 100, linestyles=\"dashed\", color='red')\n",
    "plt.text(.33, 50, \"odds(.5) = 1\", fontsize=15, color = 'red')\n",
    "\n",
    "plt.vlines(.6667, 0, 100, linestyles=\"dotted\", color='orange')\n",
    "plt.text(.68, 50, \"odds(2/3) = 2\", fontsize=15, color='orange')\n",
    "\n",
    "plt.text(1, 100, \"odds(1) = $\\infty$\", fontsize=15, color='blue')\n",
    "\n",
    "plt.title(\"If the probability of success is 50%, then the odds of success are 1.\\nIf the probability of success is 100%, then the odds of success are $\\infty$.\",\n",
    "          ha = 'left',\n",
    "          position = (0,1),\n",
    "          fontsize=16);"
   ]
  },
  {
   "cell_type": "markdown",
   "metadata": {},
   "source": [
    "## Interpreting a one-unit change in $X_i$.\n",
    "\n",
    "$$ln\\bigg(\\frac{P(y=1)}{1-P(y=1)}\\bigg) = \\beta_0 + \\beta_1x_1 + \\beta_2x_2 + \\cdots + \\beta_px_p$$\n",
    "\n",
    "Given this model, a one-unit change in $X_i$ implies a $\\beta_i$ unit change in the log odds of success.\n",
    "\n",
    "**This is annoying**.\n",
    "\n",
    "We often convert log-odds back to \"regular odds\" when interpreting our coefficient... our mind understands odds better than the log of odds.\n",
    "\n",
    "So, let's get rid of the log on the left-hand side. Mathematically, we do this by \"exponentiating\" each side.\n",
    "\n",
    "$$\n",
    "\\begin{eqnarray*}\n",
    "ln\\bigg(\\frac{P(Y=1)}{1-P(Y=1)}\\bigg) &=& \\beta_0 + \\beta_1X_1 + \\beta_2X_2 + \\cdots + \\beta_pX_p \\\\\n",
    "\\Rightarrow e^{\\Bigg\\{ln\\bigg(\\frac{P(Y=1)}{1-P(Y=1)}\\bigg)\\Bigg\\}} &=& e^{\\Bigg\\{\\beta_0 + \\beta_1X_1 + \\beta_2X_2 + \\cdots + \\beta_pX_p\\Bigg\\}} \\\\\n",
    "\\Rightarrow \\exp{\\Bigg\\{ln\\bigg(\\frac{P(Y=1)}{1-P(Y=1)}\\bigg)\\Bigg\\}} &=& \\exp{\\Bigg\\{\\beta_0 + \\beta_1X_1 + \\beta_2X_2 + \\cdots + \\beta_pX_p\\Bigg\\}} \\\\\n",
    "\\Rightarrow \\frac{P(Y=1)}{1-P(Y=1)} &=& \\exp{\\Bigg\\{\\beta_0 + \\beta_1X_1 + \\beta_2X_2 + \\cdots + \\beta_pX_p\\Bigg\\}} \\\\\n",
    "\\end{eqnarray*}\n",
    "$$\n",
    "\n",
    "**Interpretation**: A one-unit change in $X_i$ means that success is $e^{\\beta_i}$ times as likely."
   ]
  },
  {
   "cell_type": "markdown",
   "metadata": {},
   "source": [
    "<details><summary> I want to interpret the coefficient $\\hat{\\beta}_1$ for my logistic regression model. How would I interpret this coefficient?</summary>\n",
    "    \n",
    "- Our model is that $ln\\bigg(\\frac{P(admit=1)}{1-P(admit=1)}\\bigg) = \\beta_0 + \\beta_1\\text{GPA}$.\n",
    "- As GPA increases by 1, the log-odds of someone being admitted increases by 2.20.\n",
    "- As GPA increases by 1, someone is $e^{2.20}$ times as likely to be admitted.\n",
    "- As GPA increases by 1, someone is about 9.04 times as likely to be admitted to grad school.\n",
    "</details>\n",
    "\n",
    "> Hint: Use the [np.exp](https://docs.scipy.org/doc/numpy/reference/generated/numpy.exp.html) function."
   ]
  },
  {
   "cell_type": "code",
   "execution_count": 26,
   "metadata": {},
   "outputs": [
    {
     "name": "stdout",
     "output_type": "stream",
     "text": [
      "Logistic Regression Coefficient: [[1.38460676]]\n"
     ]
    }
   ],
   "source": [
    "print(f'Logistic Regression Coefficient: {logreg.coef_}')"
   ]
  },
  {
   "cell_type": "code",
   "execution_count": 27,
   "metadata": {},
   "outputs": [
    {
     "data": {
      "text/plain": [
       "array([[3.99325529]])"
      ]
     },
     "execution_count": 27,
     "metadata": {},
     "output_type": "execute_result"
    }
   ],
   "source": [
    "np.exp(logreg.coef_)"
   ]
  },
  {
   "cell_type": "code",
   "execution_count": 28,
   "metadata": {},
   "outputs": [
    {
     "data": {
      "text/plain": [
       "array([[1.3562396 , 1.28235601, 0.57616046]])"
      ]
     },
     "execution_count": 28,
     "metadata": {},
     "output_type": "execute_result"
    }
   ],
   "source": [
    "from sklearn.preprocessing import StandardScaler\n",
    "\n",
    "df = pd.read_csv('data/admissions.csv')\n",
    "df = df.dropna()\n",
    "\n",
    "y = df['admit']\n",
    "X = df[['gre', 'gpa', 'prestige']]\n",
    "\n",
    "X_train, X_test, y_train, y_test = train_test_split(X, y)\n",
    "\n",
    "ss = StandardScaler()\n",
    "Z_train = ss.fit_transform(X_train)\n",
    "Z_test = ss.transform(X_test)\n",
    "\n",
    "model = LogisticRegression(solver='lbfgs')\n",
    "model.fit(Z_train, y_train)\n",
    "model.predict_proba(Z_test)\n",
    "\n",
    "np.exp(model.coef_)"
   ]
  },
  {
   "cell_type": "code",
   "execution_count": 29,
   "metadata": {},
   "outputs": [
    {
     "data": {
      "text/plain": [
       "array([-0.87062038])"
      ]
     },
     "execution_count": 29,
     "metadata": {},
     "output_type": "execute_result"
    }
   ],
   "source": [
    "model.intercept_"
   ]
  },
  {
   "cell_type": "code",
   "execution_count": 30,
   "metadata": {},
   "outputs": [
    {
     "data": {
      "text/plain": [
       "array([1., 1., 1., 1., 1., 1., 1., 1., 1., 1., 1., 1., 1., 1., 1., 1., 1.,\n",
       "       1., 1., 1., 1., 1., 1., 1., 1., 1., 1., 1., 1., 1., 1., 1., 1., 1.,\n",
       "       1., 1., 1., 1., 1., 1., 1., 1., 1., 1., 1., 1., 1., 1., 1., 1., 1.,\n",
       "       1., 1., 1., 1., 1., 1., 1., 1., 1., 1., 1., 1., 1., 1., 1., 1., 1.,\n",
       "       1., 1., 1., 1., 1., 1., 1., 1., 1., 1., 1., 1., 1., 1., 1., 1., 1.,\n",
       "       1., 1., 1., 1., 1., 1., 1., 1., 1., 1., 1., 1., 1., 1., 1.])"
      ]
     },
     "execution_count": 30,
     "metadata": {},
     "output_type": "execute_result"
    }
   ],
   "source": [
    "model.predict_proba(X_test)[:, 1]"
   ]
  },
  {
   "cell_type": "code",
   "execution_count": 31,
   "metadata": {},
   "outputs": [
    {
     "ename": "SyntaxError",
     "evalue": "invalid syntax (<ipython-input-31-8fe57db66f02>, line 1)",
     "output_type": "error",
     "traceback": [
      "\u001b[0;36m  File \u001b[0;32m\"<ipython-input-31-8fe57db66f02>\"\u001b[0;36m, line \u001b[0;32m1\u001b[0m\n\u001b[0;31m    1 (Yale) to 2 (Michigan State)\u001b[0m\n\u001b[0m              ^\u001b[0m\n\u001b[0;31mSyntaxError\u001b[0m\u001b[0;31m:\u001b[0m invalid syntax\n"
     ]
    }
   ],
   "source": [
    "1 (Yale) to 2 (Michigan State)"
   ]
  },
  {
   "cell_type": "markdown",
   "metadata": {},
   "source": [
    "## Beyond binary classification problems.\n",
    "\n",
    "Today, we looked at a binary classification problem: was somebody admitted, or not? Many of our classification problems will be binary. Even if the problem isn't binary, we can always force it to be binary. (i.e. Did the stock price increase or decrease?)\n",
    "\n",
    "However, some of our classification problems won't be binary. You'll see an example of this in a later lesson!"
   ]
  },
  {
   "cell_type": "markdown",
   "metadata": {},
   "source": [
    "The goal of logistic regression is to find the best-fitting model to describe the relationship between a binary outcome and a set of independent variables.\n",
    "\n",
    "Logistic regression generates the coefficients of a formula to predict a logit transformation of the probability that the characteristic of interest is present.\n",
    "\n",
    "**Benefits of logistic regression include:**\n",
    "- It's a classification algorithm that shares similar properties to linear regression.\n",
    "- It's efficient.\n",
    "- It is by far the most common classification algorithm.\n",
    "- The coefficients in a logistic regression model are interpretable (albeit somewhat complex); they represent the change in log-odds caused by the input variables."
   ]
  },
  {
   "cell_type": "markdown",
   "metadata": {},
   "source": [
    "<a id='solving-beta'></a>\n",
    "## Solving For the Beta Coefficients (bonus)\n",
    "\n",
    "---\n",
    "\n",
    "Logistic regression minimizes the \"deviance,\" which is similar to the residual sum of squares in linear regression, but is a more general form. \n",
    "\n",
    "**There's no closed-form solution to the beta coefficients like in linear regression, and the betas are found through optimization procedures.**\n",
    "- We can't just do $\\hat{\\beta} = (X^TX)^{-1}X^Ty$ like we can in linear regression!\n",
    "\n",
    "If you're particularly interested in the math, here are two helpful resources:\n",
    "- [A good blog post](http://www.win-vector.com/blog/2011/09/the-simpler-derivation-of-logistic-regression/) on the logistic regression beta coefficient derivation.\n",
    "- [This paper](https://www.stat.cmu.edu/~cshalizi/402/lectures/14-logistic-regression/lecture-14.pdf) is also a good reference."
   ]
  },
  {
   "cell_type": "markdown",
   "metadata": {},
   "source": [
    "<a id='logistic'></a>\n",
    "## The Logistic Function (bonus)\n",
    "\n",
    "---\n",
    "\n",
    "The inverse function of the logit is called the **logistic function**. \n",
    "\n",
    "By inverting the logit, we can have the right side of our regression equation solve explicitly for $P(y = 1)$:\n",
    "\n",
    "### $$P(y=1) = logit^{-1}\\left(\\beta_0 + \\sum_{j}^p\\beta_jx_j\\right)$$\n",
    "\n",
    "Where:\n",
    "\n",
    "### $$logit^{-1}(a) = logistic(a) = \\frac{e^{a}}{e^{a} + 1}$$ \n",
    "\n",
    "Giving us:\n",
    "\n",
    "### $$P(y=1) = \\frac{e^{\\left(\\beta_0 + \\beta_1x_1 + \\beta_2x_2 + \\cdots + \\beta_px_p\\right)}}{e^{\\left(\\beta_0 + \\beta_1x_1 + \\beta_2x_2 + \\cdots + \\beta_px_p\\right)}+1}$$"
   ]
  }
 ],
 "metadata": {
  "kernelspec": {
   "display_name": "Python 3",
   "language": "python",
   "name": "python3"
  },
  "language_info": {
   "codemirror_mode": {
    "name": "ipython",
    "version": 3
   },
   "file_extension": ".py",
   "mimetype": "text/x-python",
   "name": "python",
   "nbconvert_exporter": "python",
   "pygments_lexer": "ipython3",
   "version": "3.6.4"
  }
 },
 "nbformat": 4,
 "nbformat_minor": 1
}
